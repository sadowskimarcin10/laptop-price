{
 "cells": [
  {
   "cell_type": "code",
   "execution_count": 2,
   "metadata": {},
   "outputs": [],
   "source": [
    "from laptoppriceworkflow.data import get_json_data \n",
    "from laptoppriceworkflow.functions import clean_col_meta\n",
    "from laptoppriceworkflow.functions import simplify_gwarancja\n",
    "from laptoppriceworkflow.functions import simplify_komunikacja\n",
    "\n",
    "import pandas as pd\n",
    "\n",
    "import numpy as np\n",
    "\n",
    "import seaborn as sns \n",
    "\n",
    "import matplotlib.pyplot as plt\n",
    "\n",
    "from sklearn.impute import SimpleImputer \n",
    "\n",
    "from sklearn.preprocessing import LabelEncoder\n",
    "from sklearn.preprocessing import OneHotEncoder\n",
    "from sklearn.preprocessing import LabelBinarizer\n",
    "\n",
    "from sklearn.base import BaseEstimator, TransformerMixin\n",
    "\n",
    "from sklearn.pipeline import Pipeline\n",
    "from sklearn.pipeline import FeatureUnion\n",
    "\n",
    "from sklearn.preprocessing import StandardScaler\n",
    "\n",
    "from sklearn.linear_model import LinearRegression\n",
    "\n",
    "from sklearn.metrics import mean_squared_error\n",
    "\n",
    "from sklearn.pipeline import make_pipeline\n",
    "from sklearn.compose import ColumnTransformer\n",
    "\n",
    "from sklearn.feature_extraction.text import CountVectorizer\n",
    "from sklearn.feature_extraction import DictVectorizer\n",
    "from sklearn.pipeline import Pipeline, make_pipeline, make_union\n",
    "\n",
    "from sklearn.preprocessing import MultiLabelBinarizer"
   ]
  },
  {
   "cell_type": "code",
   "execution_count": 3,
   "metadata": {},
   "outputs": [],
   "source": [
    "pd.set_option('display.max_columns', 500)\n",
    "pd.set_option('display.width', 1000)\n",
    "pd.set_option('display.max_colwidth', -1)"
   ]
  },
  {
   "cell_type": "code",
   "execution_count": 4,
   "metadata": {},
   "outputs": [],
   "source": [
    "df = get_json_data()"
   ]
  },
  {
   "cell_type": "code",
   "execution_count": 5,
   "metadata": {},
   "outputs": [],
   "source": [
    "msk = np.random.rand(len(df)) < 0.75\n",
    "train = df[msk]\n",
    "test = df[~msk]"
   ]
  },
  {
   "cell_type": "code",
   "execution_count": 6,
   "metadata": {
    "scrolled": false
   },
   "outputs": [
    {
     "data": {
      "text/html": [
       "<div>\n",
       "<style scoped>\n",
       "    .dataframe tbody tr th:only-of-type {\n",
       "        vertical-align: middle;\n",
       "    }\n",
       "\n",
       "    .dataframe tbody tr th {\n",
       "        vertical-align: top;\n",
       "    }\n",
       "\n",
       "    .dataframe thead th {\n",
       "        text-align: right;\n",
       "    }\n",
       "</style>\n",
       "<table border=\"1\" class=\"dataframe\">\n",
       "  <thead>\n",
       "    <tr style=\"text-align: right;\">\n",
       "      <th></th>\n",
       "      <th>buynow_price</th>\n",
       "      <th>rodzaj karty graficznej</th>\n",
       "      <th>komunikacja</th>\n",
       "      <th>rozdzielczość (piksele)</th>\n",
       "      <th>liczba rdzeni procesora</th>\n",
       "      <th>wielkość pamięci ram</th>\n",
       "      <th>system operacyjny</th>\n",
       "      <th>typ dysku twardego</th>\n",
       "      <th>sterowanie</th>\n",
       "      <th>multimedia</th>\n",
       "      <th>typ pamięci ram</th>\n",
       "      <th>taktowanie bazowe procesora (ghz)</th>\n",
       "      <th>seria procesora</th>\n",
       "      <th>stan</th>\n",
       "      <th>pojemność dysku (gb)</th>\n",
       "      <th>gwarancja</th>\n",
       "      <th>wielkość matrycy</th>\n",
       "    </tr>\n",
       "  </thead>\n",
       "  <tbody>\n",
       "    <tr>\n",
       "      <th>70</th>\n",
       "      <td>1599.0</td>\n",
       "      <td>grafika zintegrowana</td>\n",
       "      <td>[wi-fi, bluetooth, lan 10/100/1000 mbps]</td>\n",
       "      <td>1366 x 768</td>\n",
       "      <td>2</td>\n",
       "      <td>8 gb</td>\n",
       "      <td>[windows 10 home]</td>\n",
       "      <td>hdd</td>\n",
       "      <td>[klawiatura, touchpad]</td>\n",
       "      <td>[czytnik kart pamięci, kamera, głośniki, mikrofon]</td>\n",
       "      <td>ddr3</td>\n",
       "      <td>1.9</td>\n",
       "      <td>intel core i3</td>\n",
       "      <td>nowy</td>\n",
       "      <td>500.0</td>\n",
       "      <td>sprzedawcy</td>\n",
       "      <td>13\" - 13.9\"</td>\n",
       "    </tr>\n",
       "    <tr>\n",
       "      <th>407</th>\n",
       "      <td>2999.0</td>\n",
       "      <td>grafika zintegrowana</td>\n",
       "      <td>[wi-fi, bluetooth, lan 10/100/1000 mbps]</td>\n",
       "      <td>1366 x 768</td>\n",
       "      <td>2</td>\n",
       "      <td>16 gb</td>\n",
       "      <td>[windows 7 professional 64-bit]</td>\n",
       "      <td>ssd</td>\n",
       "      <td>[klawiatura, touchpad, klawiatura numeryczna]</td>\n",
       "      <td>[czytnik kart pamięci, kamera, głośniki, mikrofon]</td>\n",
       "      <td>ddr3l</td>\n",
       "      <td>2.1</td>\n",
       "      <td>intel pentium dual-core</td>\n",
       "      <td>nowy</td>\n",
       "      <td>480.0</td>\n",
       "      <td>producenta</td>\n",
       "      <td>15\" - 15.9\"</td>\n",
       "    </tr>\n",
       "  </tbody>\n",
       "</table>\n",
       "</div>"
      ],
      "text/plain": [
       "     buynow_price rodzaj karty graficznej                               komunikacja rozdzielczość (piksele) liczba rdzeni procesora wielkość pamięci ram                system operacyjny typ dysku twardego                                     sterowanie                                          multimedia typ pamięci ram  taktowanie bazowe procesora (ghz)          seria procesora  stan  pojemność dysku (gb)   gwarancja wielkość matrycy \n",
       "70   1599.0        grafika zintegrowana    [wi-fi, bluetooth, lan 10/100/1000 mbps]  1366 x 768              2                       8 gb                 [windows 10 home]                hdd                [klawiatura, touchpad]                         [czytnik kart pamięci, kamera, głośniki, mikrofon]  ddr3            1.9                                intel core i3            nowy  500.0                 sprzedawcy  13\" - 13.9\"     \n",
       "407  2999.0        grafika zintegrowana    [wi-fi, bluetooth, lan 10/100/1000 mbps]  1366 x 768              2                       16 gb                [windows 7 professional 64-bit]  ssd                [klawiatura, touchpad, klawiatura numeryczna]  [czytnik kart pamięci, kamera, głośniki, mikrofon]  ddr3l           2.1                                intel pentium dual-core  nowy  480.0                 producenta  15\" - 15.9\"     "
      ]
     },
     "execution_count": 6,
     "metadata": {},
     "output_type": "execute_result"
    }
   ],
   "source": [
    "train.head(2)"
   ]
  },
  {
   "cell_type": "code",
   "execution_count": 7,
   "metadata": {},
   "outputs": [
    {
     "name": "stdout",
     "output_type": "stream",
     "text": [
      "<class 'pandas.core.frame.DataFrame'>\n",
      "Int64Index: 5854 entries, 70 to 5978\n",
      "Data columns (total 17 columns):\n",
      "buynow_price                         5854 non-null float64\n",
      "rodzaj karty graficznej              5488 non-null object\n",
      "komunikacja                          5262 non-null object\n",
      "rozdzielczość (piksele)              5398 non-null object\n",
      "liczba rdzeni procesora              5854 non-null object\n",
      "wielkość pamięci ram                 5515 non-null object\n",
      "system operacyjny                    5367 non-null object\n",
      "typ dysku twardego                   5530 non-null object\n",
      "sterowanie                           5347 non-null object\n",
      "multimedia                           5322 non-null object\n",
      "typ pamięci ram                      5194 non-null object\n",
      "taktowanie bazowe procesora (ghz)    5136 non-null float64\n",
      "seria procesora                      5455 non-null object\n",
      "stan                                 5854 non-null object\n",
      "pojemność dysku (gb)                 5497 non-null float64\n",
      "gwarancja                            5854 non-null object\n",
      "wielkość matrycy                     5598 non-null object\n",
      "dtypes: float64(3), object(14)\n",
      "memory usage: 823.2+ KB\n"
     ]
    }
   ],
   "source": [
    "train.info()"
   ]
  },
  {
   "cell_type": "code",
   "execution_count": 8,
   "metadata": {
    "scrolled": true
   },
   "outputs": [
    {
     "data": {
      "text/html": [
       "<div>\n",
       "<style scoped>\n",
       "    .dataframe tbody tr th:only-of-type {\n",
       "        vertical-align: middle;\n",
       "    }\n",
       "\n",
       "    .dataframe tbody tr th {\n",
       "        vertical-align: top;\n",
       "    }\n",
       "\n",
       "    .dataframe thead th {\n",
       "        text-align: right;\n",
       "    }\n",
       "</style>\n",
       "<table border=\"1\" class=\"dataframe\">\n",
       "  <thead>\n",
       "    <tr style=\"text-align: right;\">\n",
       "      <th></th>\n",
       "      <th>buynow_price</th>\n",
       "      <th>rodzaj karty graficznej</th>\n",
       "      <th>komunikacja</th>\n",
       "      <th>rozdzielczość (piksele)</th>\n",
       "      <th>liczba rdzeni procesora</th>\n",
       "      <th>wielkość pamięci ram</th>\n",
       "      <th>system operacyjny</th>\n",
       "      <th>typ dysku twardego</th>\n",
       "      <th>sterowanie</th>\n",
       "      <th>multimedia</th>\n",
       "      <th>typ pamięci ram</th>\n",
       "      <th>taktowanie bazowe procesora (ghz)</th>\n",
       "      <th>seria procesora</th>\n",
       "      <th>stan</th>\n",
       "      <th>pojemność dysku (gb)</th>\n",
       "      <th>gwarancja</th>\n",
       "      <th>wielkość matrycy</th>\n",
       "    </tr>\n",
       "  </thead>\n",
       "  <tbody>\n",
       "    <tr>\n",
       "      <th>count</th>\n",
       "      <td>5854.000000</td>\n",
       "      <td>5488</td>\n",
       "      <td>5262</td>\n",
       "      <td>5398</td>\n",
       "      <td>5854</td>\n",
       "      <td>5515</td>\n",
       "      <td>5367</td>\n",
       "      <td>5530</td>\n",
       "      <td>5347</td>\n",
       "      <td>5322</td>\n",
       "      <td>5194</td>\n",
       "      <td>5136.000000</td>\n",
       "      <td>5455</td>\n",
       "      <td>5854</td>\n",
       "      <td>5497.000000</td>\n",
       "      <td>5854</td>\n",
       "      <td>5598</td>\n",
       "    </tr>\n",
       "    <tr>\n",
       "      <th>unique</th>\n",
       "      <td>NaN</td>\n",
       "      <td>2</td>\n",
       "      <td>100</td>\n",
       "      <td>12</td>\n",
       "      <td>6</td>\n",
       "      <td>11</td>\n",
       "      <td>21</td>\n",
       "      <td>5</td>\n",
       "      <td>11</td>\n",
       "      <td>15</td>\n",
       "      <td>3</td>\n",
       "      <td>NaN</td>\n",
       "      <td>18</td>\n",
       "      <td>1</td>\n",
       "      <td>NaN</td>\n",
       "      <td>3</td>\n",
       "      <td>6</td>\n",
       "    </tr>\n",
       "    <tr>\n",
       "      <th>top</th>\n",
       "      <td>NaN</td>\n",
       "      <td>grafika dedykowana</td>\n",
       "      <td>[wi-fi, bluetooth, lan 10/100/1000 mbps]</td>\n",
       "      <td>1920 x 1080</td>\n",
       "      <td>2</td>\n",
       "      <td>8 gb</td>\n",
       "      <td>[windows 10 home]</td>\n",
       "      <td>ssd</td>\n",
       "      <td>[klawiatura, touchpad, klawiatura numeryczna]</td>\n",
       "      <td>[czytnik kart pamięci, kamera, głośniki, mikrofon]</td>\n",
       "      <td>ddr4</td>\n",
       "      <td>NaN</td>\n",
       "      <td>intel core i5</td>\n",
       "      <td>nowy</td>\n",
       "      <td>NaN</td>\n",
       "      <td>producenta</td>\n",
       "      <td>15\" - 15.9\"</td>\n",
       "    </tr>\n",
       "    <tr>\n",
       "      <th>freq</th>\n",
       "      <td>NaN</td>\n",
       "      <td>3242</td>\n",
       "      <td>1424</td>\n",
       "      <td>3378</td>\n",
       "      <td>3573</td>\n",
       "      <td>2316</td>\n",
       "      <td>2847</td>\n",
       "      <td>2829</td>\n",
       "      <td>1725</td>\n",
       "      <td>4312</td>\n",
       "      <td>3355</td>\n",
       "      <td>NaN</td>\n",
       "      <td>1908</td>\n",
       "      <td>5854</td>\n",
       "      <td>NaN</td>\n",
       "      <td>4965</td>\n",
       "      <td>3961</td>\n",
       "    </tr>\n",
       "    <tr>\n",
       "      <th>mean</th>\n",
       "      <td>3472.822094</td>\n",
       "      <td>NaN</td>\n",
       "      <td>NaN</td>\n",
       "      <td>NaN</td>\n",
       "      <td>NaN</td>\n",
       "      <td>NaN</td>\n",
       "      <td>NaN</td>\n",
       "      <td>NaN</td>\n",
       "      <td>NaN</td>\n",
       "      <td>NaN</td>\n",
       "      <td>NaN</td>\n",
       "      <td>2.334801</td>\n",
       "      <td>NaN</td>\n",
       "      <td>NaN</td>\n",
       "      <td>647.354193</td>\n",
       "      <td>NaN</td>\n",
       "      <td>NaN</td>\n",
       "    </tr>\n",
       "    <tr>\n",
       "      <th>std</th>\n",
       "      <td>1740.534096</td>\n",
       "      <td>NaN</td>\n",
       "      <td>NaN</td>\n",
       "      <td>NaN</td>\n",
       "      <td>NaN</td>\n",
       "      <td>NaN</td>\n",
       "      <td>NaN</td>\n",
       "      <td>NaN</td>\n",
       "      <td>NaN</td>\n",
       "      <td>NaN</td>\n",
       "      <td>NaN</td>\n",
       "      <td>0.393378</td>\n",
       "      <td>NaN</td>\n",
       "      <td>NaN</td>\n",
       "      <td>476.000079</td>\n",
       "      <td>NaN</td>\n",
       "      <td>NaN</td>\n",
       "    </tr>\n",
       "    <tr>\n",
       "      <th>min</th>\n",
       "      <td>429.000000</td>\n",
       "      <td>NaN</td>\n",
       "      <td>NaN</td>\n",
       "      <td>NaN</td>\n",
       "      <td>NaN</td>\n",
       "      <td>NaN</td>\n",
       "      <td>NaN</td>\n",
       "      <td>NaN</td>\n",
       "      <td>NaN</td>\n",
       "      <td>NaN</td>\n",
       "      <td>NaN</td>\n",
       "      <td>0.000000</td>\n",
       "      <td>NaN</td>\n",
       "      <td>NaN</td>\n",
       "      <td>0.000000</td>\n",
       "      <td>NaN</td>\n",
       "      <td>NaN</td>\n",
       "    </tr>\n",
       "    <tr>\n",
       "      <th>25%</th>\n",
       "      <td>2199.000000</td>\n",
       "      <td>NaN</td>\n",
       "      <td>NaN</td>\n",
       "      <td>NaN</td>\n",
       "      <td>NaN</td>\n",
       "      <td>NaN</td>\n",
       "      <td>NaN</td>\n",
       "      <td>NaN</td>\n",
       "      <td>NaN</td>\n",
       "      <td>NaN</td>\n",
       "      <td>NaN</td>\n",
       "      <td>2.000000</td>\n",
       "      <td>NaN</td>\n",
       "      <td>NaN</td>\n",
       "      <td>256.000000</td>\n",
       "      <td>NaN</td>\n",
       "      <td>NaN</td>\n",
       "    </tr>\n",
       "    <tr>\n",
       "      <th>50%</th>\n",
       "      <td>3149.000000</td>\n",
       "      <td>NaN</td>\n",
       "      <td>NaN</td>\n",
       "      <td>NaN</td>\n",
       "      <td>NaN</td>\n",
       "      <td>NaN</td>\n",
       "      <td>NaN</td>\n",
       "      <td>NaN</td>\n",
       "      <td>NaN</td>\n",
       "      <td>NaN</td>\n",
       "      <td>NaN</td>\n",
       "      <td>2.500000</td>\n",
       "      <td>NaN</td>\n",
       "      <td>NaN</td>\n",
       "      <td>500.000000</td>\n",
       "      <td>NaN</td>\n",
       "      <td>NaN</td>\n",
       "    </tr>\n",
       "    <tr>\n",
       "      <th>75%</th>\n",
       "      <td>4388.500000</td>\n",
       "      <td>NaN</td>\n",
       "      <td>NaN</td>\n",
       "      <td>NaN</td>\n",
       "      <td>NaN</td>\n",
       "      <td>NaN</td>\n",
       "      <td>NaN</td>\n",
       "      <td>NaN</td>\n",
       "      <td>NaN</td>\n",
       "      <td>NaN</td>\n",
       "      <td>NaN</td>\n",
       "      <td>2.600000</td>\n",
       "      <td>NaN</td>\n",
       "      <td>NaN</td>\n",
       "      <td>1000.000000</td>\n",
       "      <td>NaN</td>\n",
       "      <td>NaN</td>\n",
       "    </tr>\n",
       "    <tr>\n",
       "      <th>max</th>\n",
       "      <td>15472.650000</td>\n",
       "      <td>NaN</td>\n",
       "      <td>NaN</td>\n",
       "      <td>NaN</td>\n",
       "      <td>NaN</td>\n",
       "      <td>NaN</td>\n",
       "      <td>NaN</td>\n",
       "      <td>NaN</td>\n",
       "      <td>NaN</td>\n",
       "      <td>NaN</td>\n",
       "      <td>NaN</td>\n",
       "      <td>3.900000</td>\n",
       "      <td>NaN</td>\n",
       "      <td>NaN</td>\n",
       "      <td>10000.000000</td>\n",
       "      <td>NaN</td>\n",
       "      <td>NaN</td>\n",
       "    </tr>\n",
       "  </tbody>\n",
       "</table>\n",
       "</div>"
      ],
      "text/plain": [
       "        buynow_price rodzaj karty graficznej                               komunikacja rozdzielczość (piksele) liczba rdzeni procesora wielkość pamięci ram  system operacyjny typ dysku twardego                                     sterowanie                                          multimedia typ pamięci ram  taktowanie bazowe procesora (ghz) seria procesora  stan  pojemność dysku (gb)   gwarancja wielkość matrycy \n",
       "count   5854.000000   5488                    5262                                      5398                    5854                    5515                 5367               5530               5347                                           5322                                                5194            5136.000000                        5455            5854  5497.000000           5854        5598            \n",
       "unique NaN            2                       100                                       12                      6                       11                   21                 5                  11                                             15                                                  3              NaN                                 18              1    NaN                    3           6               \n",
       "top    NaN            grafika dedykowana      [wi-fi, bluetooth, lan 10/100/1000 mbps]  1920 x 1080             2                       8 gb                 [windows 10 home]  ssd                [klawiatura, touchpad, klawiatura numeryczna]  [czytnik kart pamięci, kamera, głośniki, mikrofon]  ddr4           NaN                                 intel core i5   nowy NaN                    producenta  15\" - 15.9\"     \n",
       "freq   NaN            3242                    1424                                      3378                    3573                    2316                 2847               2829               1725                                           4312                                                3355           NaN                                 1908            5854 NaN                    4965        3961            \n",
       "mean    3472.822094   NaN                     NaN                                       NaN                     NaN                     NaN                  NaN                NaN                NaN                                            NaN                                                 NaN             2.334801                           NaN             NaN   647.354193            NaN         NaN             \n",
       "std     1740.534096   NaN                     NaN                                       NaN                     NaN                     NaN                  NaN                NaN                NaN                                            NaN                                                 NaN             0.393378                           NaN             NaN   476.000079            NaN         NaN             \n",
       "min     429.000000    NaN                     NaN                                       NaN                     NaN                     NaN                  NaN                NaN                NaN                                            NaN                                                 NaN             0.000000                           NaN             NaN   0.000000              NaN         NaN             \n",
       "25%     2199.000000   NaN                     NaN                                       NaN                     NaN                     NaN                  NaN                NaN                NaN                                            NaN                                                 NaN             2.000000                           NaN             NaN   256.000000            NaN         NaN             \n",
       "50%     3149.000000   NaN                     NaN                                       NaN                     NaN                     NaN                  NaN                NaN                NaN                                            NaN                                                 NaN             2.500000                           NaN             NaN   500.000000            NaN         NaN             \n",
       "75%     4388.500000   NaN                     NaN                                       NaN                     NaN                     NaN                  NaN                NaN                NaN                                            NaN                                                 NaN             2.600000                           NaN             NaN   1000.000000           NaN         NaN             \n",
       "max     15472.650000  NaN                     NaN                                       NaN                     NaN                     NaN                  NaN                NaN                NaN                                            NaN                                                 NaN             3.900000                           NaN             NaN   10000.000000          NaN         NaN             "
      ]
     },
     "execution_count": 8,
     "metadata": {},
     "output_type": "execute_result"
    }
   ],
   "source": [
    "train.describe(include = 'all')"
   ]
  },
  {
   "cell_type": "code",
   "execution_count": 10,
   "metadata": {},
   "outputs": [
    {
     "data": {
      "text/plain": [
       "buynow_price                         0.000000\n",
       "rodzaj karty graficznej              0.062521\n",
       "komunikacja                          0.101127\n",
       "rozdzielczość (piksele)              0.077895\n",
       "liczba rdzeni procesora              0.000000\n",
       "wielkość pamięci ram                 0.057909\n",
       "system operacyjny                    0.083191\n",
       "typ dysku twardego                   0.055347\n",
       "sterowanie                           0.086607\n",
       "multimedia                           0.090878\n",
       "typ pamięci ram                      0.112743\n",
       "taktowanie bazowe procesora (ghz)    0.122651\n",
       "seria procesora                      0.068159\n",
       "stan                                 0.000000\n",
       "pojemność dysku (gb)                 0.060984\n",
       "gwarancja                            0.000000\n",
       "wielkość matrycy                     0.043731\n",
       "dtype: float64"
      ]
     },
     "execution_count": 10,
     "metadata": {},
     "output_type": "execute_result"
    }
   ],
   "source": [
    "train.isnull().sum()/train.shape[0]"
   ]
  },
  {
   "cell_type": "code",
   "execution_count": 11,
   "metadata": {},
   "outputs": [
    {
     "data": {
      "text/html": [
       "<div>\n",
       "<style scoped>\n",
       "    .dataframe tbody tr th:only-of-type {\n",
       "        vertical-align: middle;\n",
       "    }\n",
       "\n",
       "    .dataframe tbody tr th {\n",
       "        vertical-align: top;\n",
       "    }\n",
       "\n",
       "    .dataframe thead th {\n",
       "        text-align: right;\n",
       "    }\n",
       "</style>\n",
       "<table border=\"1\" class=\"dataframe\">\n",
       "  <thead>\n",
       "    <tr style=\"text-align: right;\">\n",
       "      <th></th>\n",
       "      <th>buynow_price</th>\n",
       "      <th>taktowanie bazowe procesora (ghz)</th>\n",
       "      <th>pojemność dysku (gb)</th>\n",
       "    </tr>\n",
       "  </thead>\n",
       "  <tbody>\n",
       "    <tr>\n",
       "      <th>buynow_price</th>\n",
       "      <td>1.000000</td>\n",
       "      <td>0.590060</td>\n",
       "      <td>0.259655</td>\n",
       "    </tr>\n",
       "    <tr>\n",
       "      <th>taktowanie bazowe procesora (ghz)</th>\n",
       "      <td>0.590060</td>\n",
       "      <td>1.000000</td>\n",
       "      <td>0.286529</td>\n",
       "    </tr>\n",
       "    <tr>\n",
       "      <th>pojemność dysku (gb)</th>\n",
       "      <td>0.259655</td>\n",
       "      <td>0.286529</td>\n",
       "      <td>1.000000</td>\n",
       "    </tr>\n",
       "  </tbody>\n",
       "</table>\n",
       "</div>"
      ],
      "text/plain": [
       "                                   buynow_price  taktowanie bazowe procesora (ghz)  pojemność dysku (gb)\n",
       "buynow_price                       1.000000      0.590060                           0.259655            \n",
       "taktowanie bazowe procesora (ghz)  0.590060      1.000000                           0.286529            \n",
       "pojemność dysku (gb)               0.259655      0.286529                           1.000000            "
      ]
     },
     "execution_count": 11,
     "metadata": {},
     "output_type": "execute_result"
    }
   ],
   "source": [
    "train.corr()"
   ]
  },
  {
   "cell_type": "code",
   "execution_count": 12,
   "metadata": {},
   "outputs": [
    {
     "data": {
      "image/png": "[encoded data removed]",
      "text/plain": [
       "<Figure size 432x288 with 1 Axes>"
      ]
     },
     "metadata": {
      "needs_background": "light"
     },
     "output_type": "display_data"
    }
   ],
   "source": [
    "sns.distplot(train[\"buynow_price\"])\n",
    "plt.show()"
   ]
  },
  {
   "cell_type": "code",
   "execution_count": 13,
   "metadata": {},
   "outputs": [
    {
     "data": {
      "text/plain": [
       "<matplotlib.axes._subplots.AxesSubplot at 0x1aa8b786588>"
      ]
     },
     "execution_count": 13,
     "metadata": {},
     "output_type": "execute_result"
    },
    {
     "data": {
      "image/png": "[encoded data removed]",
      "text/plain": [
       "<Figure size 432x288 with 1 Axes>"
      ]
     },
     "metadata": {
      "needs_background": "light"
     },
     "output_type": "display_data"
    }
   ],
   "source": [
    "train.boxplot(\"buynow_price\")"
   ]
  },
  {
   "cell_type": "code",
   "execution_count": 16,
   "metadata": {
    "scrolled": true
   },
   "outputs": [
    {
     "data": {
      "image/png": "[encoded data removed]",
      "text/plain": [
       "<Figure size 1440x1080 with 4 Axes>"
      ]
     },
     "metadata": {
      "needs_background": "light"
     },
     "output_type": "display_data"
    }
   ],
   "source": [
    "train.hist(bins=50, figsize=(20,15))\n",
    "plt.show()"
   ]
  },
  {
   "cell_type": "code",
   "execution_count": 49,
   "metadata": {},
   "outputs": [],
   "source": [
    "class FeatureEng(BaseEstimator, TransformerMixin):\n",
    "    def __init__(self):\n",
    "        pass\n",
    "\n",
    "    def fit(self, X, y=None):\n",
    "        return self\n",
    "\n",
    "    def transform(self, X):\n",
    "        #imm = joblib.load(PATH_TO_IMM)\n",
    "        #metadata_dense = reduce_mem_usage(pd.read_csv(METADATA_DENSE).fillna(0))\n",
    "        #X[\"country\"] = X[\"city\"].map(lambda x: x.split(\",\")[-1].strip())\n",
    "        X[\"rodzaj karty graficznej\"].fillna(\"\", inplace=True)\n",
    "        X[\"komunikacja\"].fillna(\"\", inplace=True)\n",
    "        X[\"rozdzielczość (piksele)\"].fillna(\"\", inplace=True)\n",
    "        \n",
    "        X['rozdzielczosc_piksele'] = X[\"rozdzielczość (piksele)\"].map(lambda x: 1 if x == '1920 x 1080' else 0)\n",
    "        X.drop('rozdzielczość (piksele)', axis = 1)\n",
    "        \n",
    "        #X['liczba_rdzeni_proc_trans'] = ['2' if x == '2' else '' for x in X.loc[:,\"liczba rdzeni procesora\"]]\n",
    "        X['liczba_rdzeni_proc_trans'] = X['liczba rdzeni procesora'].map(lambda x: '2' if x == '2' else '')\n",
    "        \n",
    "        X.drop('liczba rdzeni procesora', axis = 1)\n",
    "        \n",
    "        X[\"wielkość pamięci ram\"].fillna('0', inplace=True)\n",
    "        \n",
    "        #X[\"wielkosc_pamieci_ram_trans\"] = [0 if \"mb\" in x else int(x.strip('gb')) for x in X.loc[:, \"wielkość pamięci ram\"]]\n",
    "        X[\"wielkosc_pamieci_ram_trans\"] = X[\"wielkość pamięci ram\"].map(lambda x: 0 if \"mb\" in x else int(x.strip('gb')))\n",
    "        \n",
    "        X.drop(\"wielkość pamięci ram\", axis = 1)\n",
    "        \n",
    "        X[\"system operacyjny\"].fillna('', inplace=True)\n",
    "        X[\"typ dysku twardego\"].fillna('', inplace=True)\n",
    "        X[\"lan\"] = X['komunikacja'].map(lambda x: 1 if any(\"lan\" in i for i in x) else 0)\n",
    "        X[\"wi-fi\"] = X['komunikacja'].map(lambda x: 1 if any(\"wi-fi\" in i for i in x) else 0)\n",
    "        X[\"nfc\"] = X['komunikacja'].map(lambda x: 1 if any(\"nfc\" in i for i in x) else 0)\n",
    "        \n",
    "        X.drop(\"komunikacja\", axis = 1)\n",
    "        \n",
    "        X['windows'] = X['system operacyjny'].map(lambda x: 1 if any(\"windows\" in i for i in x) else 0)\n",
    "        X.drop(\"system operacyjny\", axis = 1)\n",
    "        \n",
    "        return X"
   ]
  },
  {
   "cell_type": "code",
   "execution_count": 17,
   "metadata": {},
   "outputs": [],
   "source": [
    "laps = train.copy()"
   ]
  },
  {
   "cell_type": "markdown",
   "metadata": {},
   "source": [
    "### duże zagęszczenie punktów danych"
   ]
  },
  {
   "cell_type": "code",
   "execution_count": 21,
   "metadata": {
    "scrolled": false
   },
   "outputs": [
    {
     "data": {
      "text/plain": [
       "<matplotlib.axes._subplots.AxesSubplot at 0x1aa8b1506c8>"
      ]
     },
     "execution_count": 21,
     "metadata": {},
     "output_type": "execute_result"
    },
    {
     "data": {
      "image/png": "[encoded data removed]",
      "text/plain": [
       "<Figure size 432x288 with 1 Axes>"
      ]
     },
     "metadata": {
      "needs_background": "light"
     },
     "output_type": "display_data"
    }
   ],
   "source": [
    "laps.plot(kind=\"scatter\", x=\"taktowanie bazowe procesora (ghz)\", y=\"pojemność dysku (gb)\", alpha=0.1)\n",
    "\n"
   ]
  },
  {
   "cell_type": "code",
   "execution_count": 29,
   "metadata": {},
   "outputs": [
    {
     "name": "stderr",
     "output_type": "stream",
     "text": [
      "No handles with labels found to put in legend.\n"
     ]
    },
    {
     "data": {
      "text/plain": [
       "<matplotlib.legend.Legend at 0x1aa8b46f908>"
      ]
     },
     "execution_count": 29,
     "metadata": {},
     "output_type": "execute_result"
    },
    {
     "data": {
      "image/png": "[encoded data removed]",
      "text/plain": [
       "<Figure size 432x288 with 2 Axes>"
      ]
     },
     "metadata": {
      "needs_background": "light"
     },
     "output_type": "display_data"
    }
   ],
   "source": [
    "train.plot(kind=\"scatter\", x=\"taktowanie bazowe procesora (ghz)\", y=\"pojemność dysku (gb)\", alpha=0.4,\n",
    "    #s=train[\"buynow_price\"]/100, label=\"Cena\", figsize=(10,7),\n",
    "    c=\"buynow_price\", cmap=plt.get_cmap(\"jet\"), colorbar=True,\n",
    ")\n",
    "plt.legend()"
   ]
  },
  {
   "cell_type": "code",
   "execution_count": 42,
   "metadata": {},
   "outputs": [
    {
     "data": {
      "text/plain": [
       "buynow_price                         1.000000\n",
       "taktowanie bazowe procesora (ghz)    0.590060\n",
       "pojemność dysku (gb)                 0.259655\n",
       "Name: buynow_price, dtype: float64"
      ]
     },
     "execution_count": 42,
     "metadata": {},
     "output_type": "execute_result"
    }
   ],
   "source": [
    "corr_matrix = train.corr()\n",
    "corr_matrix['buynow_price'] "
   ]
  },
  {
   "cell_type": "code",
   "execution_count": 44,
   "metadata": {},
   "outputs": [
    {
     "ename": "ModuleNotFoundError",
     "evalue": "No module named 'pandas.tools'",
     "output_type": "error",
     "traceback": [
      "\u001b[1;31m---------------------------------------------------------------------------\u001b[0m",
      "\u001b[1;31mModuleNotFoundError\u001b[0m                       Traceback (most recent call last)",
      "\u001b[1;32m<ipython-input-44-e4029dadd7cd>\u001b[0m in \u001b[0;36m<module>\u001b[1;34m\u001b[0m\n\u001b[1;32m----> 1\u001b[1;33m \u001b[1;32mfrom\u001b[0m \u001b[0mpandas\u001b[0m\u001b[1;33m.\u001b[0m\u001b[0mtools\u001b[0m\u001b[1;33m.\u001b[0m\u001b[0mplotting\u001b[0m \u001b[1;32mimport\u001b[0m \u001b[0mscatter_matrix\u001b[0m\u001b[1;33m\u001b[0m\u001b[1;33m\u001b[0m\u001b[0m\n\u001b[0m\u001b[0;32m      2\u001b[0m \u001b[1;33m\u001b[0m\u001b[0m\n\u001b[0;32m      3\u001b[0m \u001b[1;31m#attributes = [\"median_house_value\", \"median_income\", \"total_rooms\", \"housing_median_age\"]\u001b[0m\u001b[1;33m\u001b[0m\u001b[1;33m\u001b[0m\u001b[1;33m\u001b[0m\u001b[0m\n\u001b[0;32m      4\u001b[0m \u001b[0mscatter_matrix\u001b[0m\u001b[1;33m(\u001b[0m\u001b[0mtrain\u001b[0m\u001b[1;33m,\u001b[0m \u001b[0mfigsize\u001b[0m\u001b[1;33m=\u001b[0m\u001b[1;33m(\u001b[0m\u001b[1;36m12\u001b[0m\u001b[1;33m,\u001b[0m \u001b[1;36m8\u001b[0m\u001b[1;33m)\u001b[0m\u001b[1;33m)\u001b[0m\u001b[1;33m\u001b[0m\u001b[1;33m\u001b[0m\u001b[0m\n",
      "\u001b[1;31mModuleNotFoundError\u001b[0m: No module named 'pandas.tools'"
     ]
    }
   ],
   "source": [
    "from pandas.tools.plotting import scatter_matrix\n",
    "\n",
    "#attributes = [\"median_house_value\", \"median_income\", \"total_rooms\", \"housing_median_age\"]\n",
    "scatter_matrix(train, figsize=(12, 8))"
   ]
  },
  {
   "cell_type": "code",
   "execution_count": 46,
   "metadata": {},
   "outputs": [
    {
     "data": {
      "text/plain": [
       "<matplotlib.axes._subplots.AxesSubplot at 0x1aa8b4969c8>"
      ]
     },
     "execution_count": 46,
     "metadata": {},
     "output_type": "execute_result"
    },
    {
     "data": {
      "image/png": "[encoded data removed]",
      "text/plain": [
       "<Figure size 432x288 with 1 Axes>"
      ]
     },
     "metadata": {
      "needs_background": "light"
     },
     "output_type": "display_data"
    }
   ],
   "source": [
    "laps.plot(kind=\"scatter\", x=\"taktowanie bazowe procesora (ghz)\", y=\"buynow_price\", alpha=0.1)"
   ]
  },
  {
   "cell_type": "code",
   "execution_count": 47,
   "metadata": {},
   "outputs": [],
   "source": [
    "laps = train.drop(\"buynow_price\", axis=1)\n",
    "laps_labels = train[\"buynow_price\"].copy()"
   ]
  },
  {
   "cell_type": "code",
   "execution_count": null,
   "metadata": {},
   "outputs": [],
   "source": []
  },
  {
   "cell_type": "code",
   "execution_count": 21,
   "metadata": {
    "scrolled": true
   },
   "outputs": [
    {
     "name": "stderr",
     "output_type": "stream",
     "text": [
      "C:\\Users\\marcin\\Miniconda3\\lib\\site-packages\\ipykernel_launcher.py:17: SettingWithCopyWarning: \n",
      "A value is trying to be set on a copy of a slice from a DataFrame.\n",
      "Try using .loc[row_indexer,col_indexer] = value instead\n",
      "\n",
      "See the caveats in the documentation: http://pandas.pydata.org/pandas-docs/stable/user_guide/indexing.html#returning-a-view-versus-a-copy\n",
      "C:\\Users\\marcin\\Miniconda3\\lib\\site-packages\\ipykernel_launcher.py:24: SettingWithCopyWarning: \n",
      "A value is trying to be set on a copy of a slice from a DataFrame.\n",
      "Try using .loc[row_indexer,col_indexer] = value instead\n",
      "\n",
      "See the caveats in the documentation: http://pandas.pydata.org/pandas-docs/stable/user_guide/indexing.html#returning-a-view-versus-a-copy\n",
      "C:\\Users\\marcin\\Miniconda3\\lib\\site-packages\\ipykernel_launcher.py:30: SettingWithCopyWarning: \n",
      "A value is trying to be set on a copy of a slice from a DataFrame.\n",
      "Try using .loc[row_indexer,col_indexer] = value instead\n",
      "\n",
      "See the caveats in the documentation: http://pandas.pydata.org/pandas-docs/stable/user_guide/indexing.html#returning-a-view-versus-a-copy\n",
      "C:\\Users\\marcin\\Miniconda3\\lib\\site-packages\\ipykernel_launcher.py:31: SettingWithCopyWarning: \n",
      "A value is trying to be set on a copy of a slice from a DataFrame.\n",
      "Try using .loc[row_indexer,col_indexer] = value instead\n",
      "\n",
      "See the caveats in the documentation: http://pandas.pydata.org/pandas-docs/stable/user_guide/indexing.html#returning-a-view-versus-a-copy\n",
      "C:\\Users\\marcin\\Miniconda3\\lib\\site-packages\\ipykernel_launcher.py:32: SettingWithCopyWarning: \n",
      "A value is trying to be set on a copy of a slice from a DataFrame.\n",
      "Try using .loc[row_indexer,col_indexer] = value instead\n",
      "\n",
      "See the caveats in the documentation: http://pandas.pydata.org/pandas-docs/stable/user_guide/indexing.html#returning-a-view-versus-a-copy\n",
      "C:\\Users\\marcin\\Miniconda3\\lib\\site-packages\\ipykernel_launcher.py:36: SettingWithCopyWarning: \n",
      "A value is trying to be set on a copy of a slice from a DataFrame.\n",
      "Try using .loc[row_indexer,col_indexer] = value instead\n",
      "\n",
      "See the caveats in the documentation: http://pandas.pydata.org/pandas-docs/stable/user_guide/indexing.html#returning-a-view-versus-a-copy\n"
     ]
    },
    {
     "data": {
      "text/html": [
       "<div>\n",
       "<style scoped>\n",
       "    .dataframe tbody tr th:only-of-type {\n",
       "        vertical-align: middle;\n",
       "    }\n",
       "\n",
       "    .dataframe tbody tr th {\n",
       "        vertical-align: top;\n",
       "    }\n",
       "\n",
       "    .dataframe thead th {\n",
       "        text-align: right;\n",
       "    }\n",
       "</style>\n",
       "<table border=\"1\" class=\"dataframe\">\n",
       "  <thead>\n",
       "    <tr style=\"text-align: right;\">\n",
       "      <th></th>\n",
       "      <th>buynow_price</th>\n",
       "      <th>rodzaj karty graficznej</th>\n",
       "      <th>komunikacja</th>\n",
       "      <th>rozdzielczość (piksele)</th>\n",
       "      <th>liczba rdzeni procesora</th>\n",
       "      <th>wielkość pamięci ram</th>\n",
       "      <th>system operacyjny</th>\n",
       "      <th>typ dysku twardego</th>\n",
       "      <th>sterowanie</th>\n",
       "      <th>multimedia</th>\n",
       "      <th>typ pamięci ram</th>\n",
       "      <th>taktowanie bazowe procesora (ghz)</th>\n",
       "      <th>seria procesora</th>\n",
       "      <th>stan</th>\n",
       "      <th>pojemność dysku (gb)</th>\n",
       "      <th>gwarancja</th>\n",
       "      <th>wielkość matrycy</th>\n",
       "      <th>liczba_rdzeni_proc_trans</th>\n",
       "      <th>wielkosc_pamieci_ram_trans</th>\n",
       "      <th>lan</th>\n",
       "      <th>wi-fi</th>\n",
       "      <th>nfc</th>\n",
       "      <th>windows</th>\n",
       "    </tr>\n",
       "  </thead>\n",
       "  <tbody>\n",
       "    <tr>\n",
       "      <th>4586</th>\n",
       "      <td>1769.00</td>\n",
       "      <td>grafika zintegrowana</td>\n",
       "      <td>[wi-fi, bluetooth, lan 10/100/1000 mbps]</td>\n",
       "      <td>1366 x 768</td>\n",
       "      <td>2</td>\n",
       "      <td>8 gb</td>\n",
       "      <td>[windows 10 home]</td>\n",
       "      <td>ssd</td>\n",
       "      <td>[klawiatura, touchpad, klawiatura numeryczna]</td>\n",
       "      <td>[czytnik kart pamięci, kamera, głośniki, mikrofon]</td>\n",
       "      <td>ddr3</td>\n",
       "      <td>1.7</td>\n",
       "      <td>intel core i3</td>\n",
       "      <td>nowy</td>\n",
       "      <td>256.0</td>\n",
       "      <td>sprzedawcy</td>\n",
       "      <td>15\" - 15.9\"</td>\n",
       "      <td>2</td>\n",
       "      <td>8</td>\n",
       "      <td>1</td>\n",
       "      <td>1</td>\n",
       "      <td>0</td>\n",
       "      <td>1</td>\n",
       "    </tr>\n",
       "    <tr>\n",
       "      <th>7524</th>\n",
       "      <td>5043.00</td>\n",
       "      <td>grafika dedykowana</td>\n",
       "      <td>[bluetooth, lan 10/100 mbps]</td>\n",
       "      <td>1366 x 768</td>\n",
       "      <td>2</td>\n",
       "      <td>8 gb</td>\n",
       "      <td>[windows 10 home]</td>\n",
       "      <td>ssd</td>\n",
       "      <td>[klawiatura, touchpad]</td>\n",
       "      <td>[czytnik kart pamięci, kamera, głośniki]</td>\n",
       "      <td>ddr3</td>\n",
       "      <td>2.6</td>\n",
       "      <td>intel core i5</td>\n",
       "      <td>nowy</td>\n",
       "      <td>1000.0</td>\n",
       "      <td>producenta</td>\n",
       "      <td>15\" - 15.9\"</td>\n",
       "      <td>2</td>\n",
       "      <td>8</td>\n",
       "      <td>1</td>\n",
       "      <td>0</td>\n",
       "      <td>0</td>\n",
       "      <td>1</td>\n",
       "    </tr>\n",
       "    <tr>\n",
       "      <th>1817</th>\n",
       "      <td>4299.00</td>\n",
       "      <td>grafika dedykowana</td>\n",
       "      <td></td>\n",
       "      <td>1920 x 1080</td>\n",
       "      <td>4</td>\n",
       "      <td>0</td>\n",
       "      <td></td>\n",
       "      <td>ssd + hdd</td>\n",
       "      <td>None</td>\n",
       "      <td>None</td>\n",
       "      <td>None</td>\n",
       "      <td>NaN</td>\n",
       "      <td>intel core i5</td>\n",
       "      <td>nowy</td>\n",
       "      <td>NaN</td>\n",
       "      <td>producenta</td>\n",
       "      <td>15\" - 15.9\"</td>\n",
       "      <td></td>\n",
       "      <td>0</td>\n",
       "      <td>0</td>\n",
       "      <td>0</td>\n",
       "      <td>0</td>\n",
       "      <td>0</td>\n",
       "    </tr>\n",
       "    <tr>\n",
       "      <th>5561</th>\n",
       "      <td>899.00</td>\n",
       "      <td></td>\n",
       "      <td></td>\n",
       "      <td></td>\n",
       "      <td>2</td>\n",
       "      <td>0</td>\n",
       "      <td></td>\n",
       "      <td></td>\n",
       "      <td>None</td>\n",
       "      <td>None</td>\n",
       "      <td>None</td>\n",
       "      <td>NaN</td>\n",
       "      <td>None</td>\n",
       "      <td>nowy</td>\n",
       "      <td>NaN</td>\n",
       "      <td>producenta</td>\n",
       "      <td>None</td>\n",
       "      <td>2</td>\n",
       "      <td>0</td>\n",
       "      <td>0</td>\n",
       "      <td>0</td>\n",
       "      <td>0</td>\n",
       "      <td>0</td>\n",
       "    </tr>\n",
       "    <tr>\n",
       "      <th>5801</th>\n",
       "      <td>1877.00</td>\n",
       "      <td>grafika zintegrowana</td>\n",
       "      <td>[bluetooth, nfc (near field communication), modem 3g (wwan)]</td>\n",
       "      <td>1600 x 900</td>\n",
       "      <td>4</td>\n",
       "      <td>8 gb</td>\n",
       "      <td>[windows 10 home]</td>\n",
       "      <td>ssd</td>\n",
       "      <td>[klawiatura, touchpad, klawiatura numeryczna]</td>\n",
       "      <td>[czytnik kart pamięci, kamera, głośniki, mikrofon]</td>\n",
       "      <td>ddr3l</td>\n",
       "      <td>2.0</td>\n",
       "      <td>amd a6</td>\n",
       "      <td>nowy</td>\n",
       "      <td>128.0</td>\n",
       "      <td>producenta</td>\n",
       "      <td>17\" - 17.9\"</td>\n",
       "      <td></td>\n",
       "      <td>8</td>\n",
       "      <td>0</td>\n",
       "      <td>0</td>\n",
       "      <td>1</td>\n",
       "      <td>1</td>\n",
       "    </tr>\n",
       "    <tr>\n",
       "      <th>...</th>\n",
       "      <td>...</td>\n",
       "      <td>...</td>\n",
       "      <td>...</td>\n",
       "      <td>...</td>\n",
       "      <td>...</td>\n",
       "      <td>...</td>\n",
       "      <td>...</td>\n",
       "      <td>...</td>\n",
       "      <td>...</td>\n",
       "      <td>...</td>\n",
       "      <td>...</td>\n",
       "      <td>...</td>\n",
       "      <td>...</td>\n",
       "      <td>...</td>\n",
       "      <td>...</td>\n",
       "      <td>...</td>\n",
       "      <td>...</td>\n",
       "      <td>...</td>\n",
       "      <td>...</td>\n",
       "      <td>...</td>\n",
       "      <td>...</td>\n",
       "      <td>...</td>\n",
       "      <td>...</td>\n",
       "    </tr>\n",
       "    <tr>\n",
       "      <th>11455</th>\n",
       "      <td>4849.00</td>\n",
       "      <td>grafika dedykowana</td>\n",
       "      <td>[wi-fi, bluetooth, lan 10/100/1000 mbps]</td>\n",
       "      <td>1920 x 1080</td>\n",
       "      <td>4</td>\n",
       "      <td>16 gb</td>\n",
       "      <td>[windows 10 home]</td>\n",
       "      <td>ssd + hdd</td>\n",
       "      <td>[klawiatura, touchpad, klawiatura podświetlana, klawiatura numeryczna]</td>\n",
       "      <td>[czytnik kart pamięci, kamera, głośniki, mikrofon]</td>\n",
       "      <td>ddr4</td>\n",
       "      <td>2.8</td>\n",
       "      <td>intel core i7</td>\n",
       "      <td>nowy</td>\n",
       "      <td>1250.0</td>\n",
       "      <td>producenta</td>\n",
       "      <td>15\" - 15.9\"</td>\n",
       "      <td></td>\n",
       "      <td>16</td>\n",
       "      <td>1</td>\n",
       "      <td>1</td>\n",
       "      <td>0</td>\n",
       "      <td>1</td>\n",
       "    </tr>\n",
       "    <tr>\n",
       "      <th>6115</th>\n",
       "      <td>4296.55</td>\n",
       "      <td>grafika dedykowana</td>\n",
       "      <td>[bluetooth]</td>\n",
       "      <td>1920 x 1080</td>\n",
       "      <td>2</td>\n",
       "      <td>8 gb</td>\n",
       "      <td>[windows 10 professional]</td>\n",
       "      <td>ssd</td>\n",
       "      <td>[klawiatura, touchpad, klawiatura numeryczna]</td>\n",
       "      <td>[czytnik kart pamięci, kamera, głośniki, mikrofon]</td>\n",
       "      <td>ddr3</td>\n",
       "      <td>2.4</td>\n",
       "      <td>intel core i7</td>\n",
       "      <td>nowy</td>\n",
       "      <td>256.0</td>\n",
       "      <td>sprzedawcy</td>\n",
       "      <td>15\" - 15.9\"</td>\n",
       "      <td>2</td>\n",
       "      <td>8</td>\n",
       "      <td>0</td>\n",
       "      <td>0</td>\n",
       "      <td>0</td>\n",
       "      <td>1</td>\n",
       "    </tr>\n",
       "    <tr>\n",
       "      <th>6423</th>\n",
       "      <td>4599.00</td>\n",
       "      <td>grafika dedykowana</td>\n",
       "      <td>[bluetooth, lan 10/100/1000 mbps]</td>\n",
       "      <td>1920 x 1080</td>\n",
       "      <td>4</td>\n",
       "      <td>32 gb</td>\n",
       "      <td>[brak systemu]</td>\n",
       "      <td>hdd</td>\n",
       "      <td>[klawiatura, touchpad, klawiatura podświetlana, klawiatura numeryczna]</td>\n",
       "      <td>[czytnik kart pamięci, kamera, głośniki, mikrofon]</td>\n",
       "      <td>ddr4</td>\n",
       "      <td>2.6</td>\n",
       "      <td>intel core i7</td>\n",
       "      <td>nowy</td>\n",
       "      <td>1000.0</td>\n",
       "      <td>producenta</td>\n",
       "      <td>17\" - 17.9\"</td>\n",
       "      <td></td>\n",
       "      <td>32</td>\n",
       "      <td>1</td>\n",
       "      <td>0</td>\n",
       "      <td>0</td>\n",
       "      <td>0</td>\n",
       "    </tr>\n",
       "    <tr>\n",
       "      <th>10541</th>\n",
       "      <td>1329.00</td>\n",
       "      <td>grafika zintegrowana</td>\n",
       "      <td>[wi-fi, bluetooth, lan 10/100/1000 mbps]</td>\n",
       "      <td>1366 x 768</td>\n",
       "      <td>2</td>\n",
       "      <td>4 gb</td>\n",
       "      <td>[windows 10 home]</td>\n",
       "      <td>ssd</td>\n",
       "      <td>[klawiatura, touchpad, klawiatura numeryczna]</td>\n",
       "      <td>[czytnik kart pamięci, kamera, głośniki, mikrofon]</td>\n",
       "      <td>ddr3</td>\n",
       "      <td>1.6</td>\n",
       "      <td>intel celeron dual-core</td>\n",
       "      <td>nowy</td>\n",
       "      <td>128.0</td>\n",
       "      <td>sprzedawcy</td>\n",
       "      <td>15\" - 15.9\"</td>\n",
       "      <td>2</td>\n",
       "      <td>4</td>\n",
       "      <td>1</td>\n",
       "      <td>1</td>\n",
       "      <td>0</td>\n",
       "      <td>1</td>\n",
       "    </tr>\n",
       "    <tr>\n",
       "      <th>8727</th>\n",
       "      <td>4079.00</td>\n",
       "      <td>grafika dedykowana</td>\n",
       "      <td>[bluetooth, lan 10/100/1000 mbps, lan 10/100 mbps, intel wireless display (widi), nfc (near field communication), modem 3g (wwan)]</td>\n",
       "      <td>1920 x 1080</td>\n",
       "      <td>4</td>\n",
       "      <td>16 gb</td>\n",
       "      <td>[windows 10 home]</td>\n",
       "      <td>ssd + hdd</td>\n",
       "      <td>[klawiatura, touchpad, klawiatura podświetlana]</td>\n",
       "      <td>[czytnik kart pamięci, kamera, głośniki, mikrofon]</td>\n",
       "      <td>ddr4</td>\n",
       "      <td>2.5</td>\n",
       "      <td>intel core i5</td>\n",
       "      <td>nowy</td>\n",
       "      <td>1128.0</td>\n",
       "      <td>producenta</td>\n",
       "      <td>15\" - 15.9\"</td>\n",
       "      <td></td>\n",
       "      <td>16</td>\n",
       "      <td>1</td>\n",
       "      <td>0</td>\n",
       "      <td>1</td>\n",
       "      <td>1</td>\n",
       "    </tr>\n",
       "  </tbody>\n",
       "</table>\n",
       "<p>1930 rows × 23 columns</p>\n",
       "</div>"
      ],
      "text/plain": [
       "       buynow_price rodzaj karty graficznej                                                                                                                         komunikacja rozdzielczość (piksele) liczba rdzeni procesora wielkość pamięci ram          system operacyjny typ dysku twardego                                                              sterowanie                                          multimedia typ pamięci ram  taktowanie bazowe procesora (ghz)          seria procesora  stan  pojemność dysku (gb)   gwarancja wielkość matrycy  liczba_rdzeni_proc_trans  wielkosc_pamieci_ram_trans  lan  wi-fi  nfc  windows\n",
       "4586   1769.00       grafika zintegrowana    [wi-fi, bluetooth, lan 10/100/1000 mbps]                                                                                            1366 x 768              2                       8 gb                 [windows 10 home]          ssd                [klawiatura, touchpad, klawiatura numeryczna]                           [czytnik kart pamięci, kamera, głośniki, mikrofon]  ddr3            1.7                                intel core i3            nowy  256.0                 sprzedawcy  15\" - 15.9\"       2                        8                           1    1      0    1      \n",
       "7524   5043.00       grafika dedykowana      [bluetooth, lan 10/100 mbps]                                                                                                        1366 x 768              2                       8 gb                 [windows 10 home]          ssd                [klawiatura, touchpad]                                                  [czytnik kart pamięci, kamera, głośniki]            ddr3            2.6                                intel core i5            nowy  1000.0                producenta  15\" - 15.9\"       2                        8                           1    0      0    1      \n",
       "1817   4299.00       grafika dedykowana                                                                                                                                          1920 x 1080             4                       0                                               ssd + hdd          None                                                                    None                                                None           NaN                                 intel core i5            nowy NaN                    producenta  15\" - 15.9\"                                0                           0    0      0    0      \n",
       "5561   899.00                                                                                                                                                                                            2                       0                                                                  None                                                                    None                                                None           NaN                                 None                     nowy NaN                    producenta  None              2                        0                           0    0      0    0      \n",
       "5801   1877.00       grafika zintegrowana    [bluetooth, nfc (near field communication), modem 3g (wwan)]                                                                        1600 x 900              4                       8 gb                 [windows 10 home]          ssd                [klawiatura, touchpad, klawiatura numeryczna]                           [czytnik kart pamięci, kamera, głośniki, mikrofon]  ddr3l           2.0                                amd a6                   nowy  128.0                 producenta  17\" - 17.9\"                                8                           0    0      1    1      \n",
       "...        ...                        ...                                                             ...                                                                               ...             ..                        ...                               ...          ...                                                          ...                                                                          ...    ...           ...                                   ...                    ...    ...                        ...          ...      ..                       ..                          ..   ..     ..   ..      \n",
       "11455  4849.00       grafika dedykowana      [wi-fi, bluetooth, lan 10/100/1000 mbps]                                                                                            1920 x 1080             4                       16 gb                [windows 10 home]          ssd + hdd          [klawiatura, touchpad, klawiatura podświetlana, klawiatura numeryczna]  [czytnik kart pamięci, kamera, głośniki, mikrofon]  ddr4            2.8                                intel core i7            nowy  1250.0                producenta  15\" - 15.9\"                                16                          1    1      0    1      \n",
       "6115   4296.55       grafika dedykowana      [bluetooth]                                                                                                                         1920 x 1080             2                       8 gb                 [windows 10 professional]  ssd                [klawiatura, touchpad, klawiatura numeryczna]                           [czytnik kart pamięci, kamera, głośniki, mikrofon]  ddr3            2.4                                intel core i7            nowy  256.0                 sprzedawcy  15\" - 15.9\"       2                        8                           0    0      0    1      \n",
       "6423   4599.00       grafika dedykowana      [bluetooth, lan 10/100/1000 mbps]                                                                                                   1920 x 1080             4                       32 gb                [brak systemu]             hdd                [klawiatura, touchpad, klawiatura podświetlana, klawiatura numeryczna]  [czytnik kart pamięci, kamera, głośniki, mikrofon]  ddr4            2.6                                intel core i7            nowy  1000.0                producenta  17\" - 17.9\"                                32                          1    0      0    0      \n",
       "10541  1329.00       grafika zintegrowana    [wi-fi, bluetooth, lan 10/100/1000 mbps]                                                                                            1366 x 768              2                       4 gb                 [windows 10 home]          ssd                [klawiatura, touchpad, klawiatura numeryczna]                           [czytnik kart pamięci, kamera, głośniki, mikrofon]  ddr3            1.6                                intel celeron dual-core  nowy  128.0                 sprzedawcy  15\" - 15.9\"       2                        4                           1    1      0    1      \n",
       "8727   4079.00       grafika dedykowana      [bluetooth, lan 10/100/1000 mbps, lan 10/100 mbps, intel wireless display (widi), nfc (near field communication), modem 3g (wwan)]  1920 x 1080             4                       16 gb                [windows 10 home]          ssd + hdd          [klawiatura, touchpad, klawiatura podświetlana]                         [czytnik kart pamięci, kamera, głośniki, mikrofon]  ddr4            2.5                                intel core i5            nowy  1128.0                producenta  15\" - 15.9\"                                16                          1    0      1    1      \n",
       "\n",
       "[1930 rows x 23 columns]"
      ]
     },
     "execution_count": 21,
     "metadata": {},
     "output_type": "execute_result"
    }
   ],
   "source": [
    "vectorizer = FeatureEng()\n",
    "ddd = vectorizer.fit_transform(test)\n",
    "ddd\n",
    "#ddd  = FeatureEng.fit_transform(train)"
   ]
  },
  {
   "cell_type": "code",
   "execution_count": 51,
   "metadata": {},
   "outputs": [],
   "source": [
    "class PandasToNpArray(BaseEstimator, TransformerMixin):\n",
    "    def fit(self, X, *arg):\n",
    "        return self\n",
    "\n",
    "    def transform(self, X):\n",
    "        return X.values.astype(np.float)"
   ]
  },
  {
   "cell_type": "code",
   "execution_count": 58,
   "metadata": {},
   "outputs": [],
   "source": [
    "preprocessor = make_pipeline(\n",
    "        FeatureEng(),\n",
    "            ColumnTransformer(\n",
    "            [\n",
    "                (\n",
    "                    \"cat_vars\",\n",
    "                    make_pipeline(OneHotEncoder(sparse=False)),\n",
    "                    #list(['gwarancja']),\n",
    "                    ['rodzaj karty graficznej','gwarancja','rozdzielczosc_piksele','liczba_rdzeni_proc_trans'],\n",
    "                ),\n",
    "               (\n",
    "                    \"ram\",\n",
    "                    #make_pipeline(PandasToNpArray(), SimpleImputer(strategy=\"constant\", fill_value=-9999)),\n",
    "                    make_pipeline(SimpleImputer(strategy=\"constant\", fill_value=-9999)),\n",
    "                    ['wielkosc_pamieci_ram_trans'],\n",
    "                ),\n",
    "              (\n",
    "                    \"other_vars\",\n",
    "                    #make_pipeline(PandasToNpArray(),StandardScaler()),\n",
    "                    make_pipeline(StandardScaler()),\n",
    "                    ['lan','wi-fi', 'nfc', 'windows','rozdzielczosc_piksele'],\n",
    "                ),\n",
    "                \n",
    "                \n",
    "                \n",
    "            ]\n",
    "        )\n",
    ")"
   ]
  },
  {
   "cell_type": "code",
   "execution_count": 57,
   "metadata": {
    "scrolled": true
   },
   "outputs": [
    {
     "name": "stderr",
     "output_type": "stream",
     "text": [
      "C:\\Users\\marcin.sadowski\\Miniconda3\\lib\\site-packages\\pandas\\core\\generic.py:6287: SettingWithCopyWarning: \n",
      "A value is trying to be set on a copy of a slice from a DataFrame\n",
      "\n",
      "See the caveats in the documentation: http://pandas.pydata.org/pandas-docs/stable/user_guide/indexing.html#returning-a-view-versus-a-copy\n",
      "  self._update_inplace(new_data)\n",
      "C:\\Users\\marcin.sadowski\\Miniconda3\\lib\\site-packages\\ipykernel_launcher.py:16: SettingWithCopyWarning: \n",
      "A value is trying to be set on a copy of a slice from a DataFrame.\n",
      "Try using .loc[row_indexer,col_indexer] = value instead\n",
      "\n",
      "See the caveats in the documentation: http://pandas.pydata.org/pandas-docs/stable/user_guide/indexing.html#returning-a-view-versus-a-copy\n",
      "  app.launch_new_instance()\n",
      "C:\\Users\\marcin.sadowski\\Miniconda3\\lib\\site-packages\\ipykernel_launcher.py:20: SettingWithCopyWarning: \n",
      "A value is trying to be set on a copy of a slice from a DataFrame.\n",
      "Try using .loc[row_indexer,col_indexer] = value instead\n",
      "\n",
      "See the caveats in the documentation: http://pandas.pydata.org/pandas-docs/stable/user_guide/indexing.html#returning-a-view-versus-a-copy\n",
      "C:\\Users\\marcin.sadowski\\Miniconda3\\lib\\site-packages\\ipykernel_launcher.py:27: SettingWithCopyWarning: \n",
      "A value is trying to be set on a copy of a slice from a DataFrame.\n",
      "Try using .loc[row_indexer,col_indexer] = value instead\n",
      "\n",
      "See the caveats in the documentation: http://pandas.pydata.org/pandas-docs/stable/user_guide/indexing.html#returning-a-view-versus-a-copy\n",
      "C:\\Users\\marcin.sadowski\\Miniconda3\\lib\\site-packages\\ipykernel_launcher.py:33: SettingWithCopyWarning: \n",
      "A value is trying to be set on a copy of a slice from a DataFrame.\n",
      "Try using .loc[row_indexer,col_indexer] = value instead\n",
      "\n",
      "See the caveats in the documentation: http://pandas.pydata.org/pandas-docs/stable/user_guide/indexing.html#returning-a-view-versus-a-copy\n",
      "C:\\Users\\marcin.sadowski\\Miniconda3\\lib\\site-packages\\ipykernel_launcher.py:34: SettingWithCopyWarning: \n",
      "A value is trying to be set on a copy of a slice from a DataFrame.\n",
      "Try using .loc[row_indexer,col_indexer] = value instead\n",
      "\n",
      "See the caveats in the documentation: http://pandas.pydata.org/pandas-docs/stable/user_guide/indexing.html#returning-a-view-versus-a-copy\n",
      "C:\\Users\\marcin.sadowski\\Miniconda3\\lib\\site-packages\\ipykernel_launcher.py:35: SettingWithCopyWarning: \n",
      "A value is trying to be set on a copy of a slice from a DataFrame.\n",
      "Try using .loc[row_indexer,col_indexer] = value instead\n",
      "\n",
      "See the caveats in the documentation: http://pandas.pydata.org/pandas-docs/stable/user_guide/indexing.html#returning-a-view-versus-a-copy\n",
      "C:\\Users\\marcin.sadowski\\Miniconda3\\lib\\site-packages\\ipykernel_launcher.py:39: SettingWithCopyWarning: \n",
      "A value is trying to be set on a copy of a slice from a DataFrame.\n",
      "Try using .loc[row_indexer,col_indexer] = value instead\n",
      "\n",
      "See the caveats in the documentation: http://pandas.pydata.org/pandas-docs/stable/user_guide/indexing.html#returning-a-view-versus-a-copy\n"
     ]
    },
    {
     "data": {
      "text/plain": [
       "array([ 0.        ,  0.        ,  1.        ,  0.        ,  1.        ,\n",
       "        0.        ,  1.        ,  0.        ,  0.        ,  1.        ,\n",
       "       16.        ,  0.5809008 ,  1.14502994, -0.47238846,  0.58589823,\n",
       "       -1.16803136])"
      ]
     },
     "execution_count": 57,
     "metadata": {},
     "output_type": "execute_result"
    }
   ],
   "source": [
    "preprocessor.fit_transform(train)[1]"
   ]
  },
  {
   "cell_type": "code",
   "execution_count": 59,
   "metadata": {},
   "outputs": [],
   "source": [
    "from sklearn.linear_model import Ridge"
   ]
  },
  {
   "cell_type": "code",
   "execution_count": 67,
   "metadata": {},
   "outputs": [],
   "source": [
    "ridge_model = Ridge(\n",
    "    solver='auto', fit_intercept=True, alpha=1.0,\n",
    "    max_iter=100, normalize=False, tol=0.05, random_state = 1,\n",
    ")"
   ]
  },
  {
   "cell_type": "code",
   "execution_count": 64,
   "metadata": {},
   "outputs": [],
   "source": [
    "linear_model = LinearRegression(\n",
    "\n",
    ")"
   ]
  },
  {
   "cell_type": "code",
   "execution_count": 70,
   "metadata": {},
   "outputs": [],
   "source": [
    "from sklearn.tree import DecisionTreeRegressor\n",
    "tree_reg = DecisionTreeRegressor()"
   ]
  },
  {
   "cell_type": "code",
   "execution_count": 71,
   "metadata": {},
   "outputs": [],
   "source": [
    "pipeline = make_pipeline(\n",
    "    preprocessor,\n",
    "    tree_reg\n",
    ")"
   ]
  },
  {
   "cell_type": "code",
   "execution_count": 72,
   "metadata": {
    "scrolled": true
   },
   "outputs": [
    {
     "name": "stderr",
     "output_type": "stream",
     "text": [
      "C:\\Users\\marcin.sadowski\\Miniconda3\\lib\\site-packages\\pandas\\core\\generic.py:6287: SettingWithCopyWarning: \n",
      "A value is trying to be set on a copy of a slice from a DataFrame\n",
      "\n",
      "See the caveats in the documentation: http://pandas.pydata.org/pandas-docs/stable/user_guide/indexing.html#returning-a-view-versus-a-copy\n",
      "  self._update_inplace(new_data)\n",
      "C:\\Users\\marcin.sadowski\\Miniconda3\\lib\\site-packages\\ipykernel_launcher.py:16: SettingWithCopyWarning: \n",
      "A value is trying to be set on a copy of a slice from a DataFrame.\n",
      "Try using .loc[row_indexer,col_indexer] = value instead\n",
      "\n",
      "See the caveats in the documentation: http://pandas.pydata.org/pandas-docs/stable/user_guide/indexing.html#returning-a-view-versus-a-copy\n",
      "  app.launch_new_instance()\n",
      "C:\\Users\\marcin.sadowski\\Miniconda3\\lib\\site-packages\\ipykernel_launcher.py:20: SettingWithCopyWarning: \n",
      "A value is trying to be set on a copy of a slice from a DataFrame.\n",
      "Try using .loc[row_indexer,col_indexer] = value instead\n",
      "\n",
      "See the caveats in the documentation: http://pandas.pydata.org/pandas-docs/stable/user_guide/indexing.html#returning-a-view-versus-a-copy\n",
      "C:\\Users\\marcin.sadowski\\Miniconda3\\lib\\site-packages\\ipykernel_launcher.py:27: SettingWithCopyWarning: \n",
      "A value is trying to be set on a copy of a slice from a DataFrame.\n",
      "Try using .loc[row_indexer,col_indexer] = value instead\n",
      "\n",
      "See the caveats in the documentation: http://pandas.pydata.org/pandas-docs/stable/user_guide/indexing.html#returning-a-view-versus-a-copy\n",
      "C:\\Users\\marcin.sadowski\\Miniconda3\\lib\\site-packages\\ipykernel_launcher.py:33: SettingWithCopyWarning: \n",
      "A value is trying to be set on a copy of a slice from a DataFrame.\n",
      "Try using .loc[row_indexer,col_indexer] = value instead\n",
      "\n",
      "See the caveats in the documentation: http://pandas.pydata.org/pandas-docs/stable/user_guide/indexing.html#returning-a-view-versus-a-copy\n",
      "C:\\Users\\marcin.sadowski\\Miniconda3\\lib\\site-packages\\ipykernel_launcher.py:34: SettingWithCopyWarning: \n",
      "A value is trying to be set on a copy of a slice from a DataFrame.\n",
      "Try using .loc[row_indexer,col_indexer] = value instead\n",
      "\n",
      "See the caveats in the documentation: http://pandas.pydata.org/pandas-docs/stable/user_guide/indexing.html#returning-a-view-versus-a-copy\n",
      "C:\\Users\\marcin.sadowski\\Miniconda3\\lib\\site-packages\\ipykernel_launcher.py:35: SettingWithCopyWarning: \n",
      "A value is trying to be set on a copy of a slice from a DataFrame.\n",
      "Try using .loc[row_indexer,col_indexer] = value instead\n",
      "\n",
      "See the caveats in the documentation: http://pandas.pydata.org/pandas-docs/stable/user_guide/indexing.html#returning-a-view-versus-a-copy\n",
      "C:\\Users\\marcin.sadowski\\Miniconda3\\lib\\site-packages\\ipykernel_launcher.py:39: SettingWithCopyWarning: \n",
      "A value is trying to be set on a copy of a slice from a DataFrame.\n",
      "Try using .loc[row_indexer,col_indexer] = value instead\n",
      "\n",
      "See the caveats in the documentation: http://pandas.pydata.org/pandas-docs/stable/user_guide/indexing.html#returning-a-view-versus-a-copy\n",
      "C:\\Users\\marcin.sadowski\\Miniconda3\\lib\\site-packages\\pandas\\core\\generic.py:6287: SettingWithCopyWarning: \n",
      "A value is trying to be set on a copy of a slice from a DataFrame\n",
      "\n",
      "See the caveats in the documentation: http://pandas.pydata.org/pandas-docs/stable/user_guide/indexing.html#returning-a-view-versus-a-copy\n",
      "  self._update_inplace(new_data)\n",
      "C:\\Users\\marcin.sadowski\\Miniconda3\\lib\\site-packages\\ipykernel_launcher.py:16: SettingWithCopyWarning: \n",
      "A value is trying to be set on a copy of a slice from a DataFrame.\n",
      "Try using .loc[row_indexer,col_indexer] = value instead\n",
      "\n",
      "See the caveats in the documentation: http://pandas.pydata.org/pandas-docs/stable/user_guide/indexing.html#returning-a-view-versus-a-copy\n",
      "  app.launch_new_instance()\n",
      "C:\\Users\\marcin.sadowski\\Miniconda3\\lib\\site-packages\\ipykernel_launcher.py:20: SettingWithCopyWarning: \n",
      "A value is trying to be set on a copy of a slice from a DataFrame.\n",
      "Try using .loc[row_indexer,col_indexer] = value instead\n",
      "\n",
      "See the caveats in the documentation: http://pandas.pydata.org/pandas-docs/stable/user_guide/indexing.html#returning-a-view-versus-a-copy\n",
      "C:\\Users\\marcin.sadowski\\Miniconda3\\lib\\site-packages\\ipykernel_launcher.py:27: SettingWithCopyWarning: \n",
      "A value is trying to be set on a copy of a slice from a DataFrame.\n",
      "Try using .loc[row_indexer,col_indexer] = value instead\n",
      "\n",
      "See the caveats in the documentation: http://pandas.pydata.org/pandas-docs/stable/user_guide/indexing.html#returning-a-view-versus-a-copy\n",
      "C:\\Users\\marcin.sadowski\\Miniconda3\\lib\\site-packages\\ipykernel_launcher.py:33: SettingWithCopyWarning: \n",
      "A value is trying to be set on a copy of a slice from a DataFrame.\n",
      "Try using .loc[row_indexer,col_indexer] = value instead\n",
      "\n",
      "See the caveats in the documentation: http://pandas.pydata.org/pandas-docs/stable/user_guide/indexing.html#returning-a-view-versus-a-copy\n",
      "C:\\Users\\marcin.sadowski\\Miniconda3\\lib\\site-packages\\ipykernel_launcher.py:34: SettingWithCopyWarning: \n",
      "A value is trying to be set on a copy of a slice from a DataFrame.\n",
      "Try using .loc[row_indexer,col_indexer] = value instead\n",
      "\n",
      "See the caveats in the documentation: http://pandas.pydata.org/pandas-docs/stable/user_guide/indexing.html#returning-a-view-versus-a-copy\n",
      "C:\\Users\\marcin.sadowski\\Miniconda3\\lib\\site-packages\\ipykernel_launcher.py:35: SettingWithCopyWarning: \n",
      "A value is trying to be set on a copy of a slice from a DataFrame.\n",
      "Try using .loc[row_indexer,col_indexer] = value instead\n",
      "\n",
      "See the caveats in the documentation: http://pandas.pydata.org/pandas-docs/stable/user_guide/indexing.html#returning-a-view-versus-a-copy\n",
      "C:\\Users\\marcin.sadowski\\Miniconda3\\lib\\site-packages\\ipykernel_launcher.py:39: SettingWithCopyWarning: \n",
      "A value is trying to be set on a copy of a slice from a DataFrame.\n",
      "Try using .loc[row_indexer,col_indexer] = value instead\n",
      "\n",
      "See the caveats in the documentation: http://pandas.pydata.org/pandas-docs/stable/user_guide/indexing.html#returning-a-view-versus-a-copy\n"
     ]
    },
    {
     "data": {
      "text/plain": [
       "1044.492794049366"
      ]
     },
     "execution_count": 72,
     "metadata": {},
     "output_type": "execute_result"
    }
   ],
   "source": [
    "pipeline.fit(train, train['buynow_price'])\n",
    "preds = pipeline.predict(test)\n",
    "\n",
    "lin_mse = mean_squared_error(preds, test['buynow_price'])\n",
    "lin_rmse = np.sqrt(lin_mse)\n",
    "lin_rmse"
   ]
  },
  {
   "cell_type": "code",
   "execution_count": null,
   "metadata": {},
   "outputs": [],
   "source": [
    "R: 1232.76761173908 \n",
    "LR: 1232.757251272387 \n",
    "DT: 1044.492794049366   "
   ]
  },
  {
   "cell_type": "code",
   "execution_count": 63,
   "metadata": {},
   "outputs": [
    {
     "data": {
      "text/plain": [
       "array([4257.73620057, 1862.40586638, 1672.5522976 , ..., 2507.48731624,\n",
       "       1935.87798639, 2809.82973551])"
      ]
     },
     "execution_count": 63,
     "metadata": {},
     "output_type": "execute_result"
    }
   ],
   "source": [
    "preds"
   ]
  }
 ],
 "metadata": {
  "kernelspec": {
   "display_name": "Python 3",
   "language": "python",
   "name": "python3"
  },
  "language_info": {
   "codemirror_mode": {
    "name": "ipython",
    "version": 3
   },
   "file_extension": ".py",
   "mimetype": "text/x-python",
   "name": "python",
   "nbconvert_exporter": "python",
   "pygments_lexer": "ipython3",
   "version": "3.7.4"
  }
 },
 "nbformat": 4,
 "nbformat_minor": 2
}
