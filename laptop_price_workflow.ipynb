{
 "cells": [
  {
   "cell_type": "markdown",
   "metadata": {},
   "source": [
    "## Inicjalizacja\n"
   ]
  },
  {
   "cell_type": "code",
   "execution_count": 1,
   "metadata": {},
   "outputs": [],
   "source": [
    "from laptoppriceworkflow.data import get_json_data \n",
    "from laptoppriceworkflow.functions import clean_col_meta\n",
    "from laptoppriceworkflow.functions import simplify_gwarancja\n",
    "from laptoppriceworkflow.functions import simplify_komunikacja\n",
    "\n",
    "import pandas as pd\n",
    "import numpy as np\n",
    "import seaborn as sns \n",
    "import matplotlib.pyplot as plt\n",
    "\n",
    "df = get_json_data()"
   ]
  },
  {
   "cell_type": "markdown",
   "metadata": {},
   "source": [
    "# Partycjonowanie\n",
    "Preprocessing przygotowania modelu bedzie przeprowadzany tylko na czesci treningowej \n",
    "Pozniej przepuszcze przez niego czesc testowa, ktora swtorzylem oraz dodtkowy plik bez zmiennej celu"
   ]
  },
  {
   "cell_type": "code",
   "execution_count": 2,
   "metadata": {},
   "outputs": [],
   "source": [
    "msk = np.random.rand(len(df)) < 0.75\n",
    "train = df[msk]\n",
    "test = df[~msk]"
   ]
  },
  {
   "cell_type": "markdown",
   "metadata": {},
   "source": [
    "# Wstępna Analiza"
   ]
  },
  {
   "cell_type": "code",
   "execution_count": 3,
   "metadata": {},
   "outputs": [
    {
     "name": "stdout",
     "output_type": "stream",
     "text": [
      "<class 'pandas.core.frame.DataFrame'>\n",
      "Int64Index: 5954 entries, 70 to 8727\n",
      "Data columns (total 17 columns):\n",
      "buynow_price                         5954 non-null float64\n",
      "rodzaj karty graficznej              5582 non-null object\n",
      "komunikacja                          5374 non-null object\n",
      "rozdzielczość (piksele)              5504 non-null object\n",
      "liczba rdzeni procesora              5954 non-null object\n",
      "wielkość pamięci ram                 5620 non-null object\n",
      "system operacyjny                    5468 non-null object\n",
      "typ dysku twardego                   5631 non-null object\n",
      "sterowanie                           5443 non-null object\n",
      "multimedia                           5420 non-null object\n",
      "typ pamięci ram                      5309 non-null object\n",
      "taktowanie bazowe procesora (ghz)    5252 non-null float64\n",
      "seria procesora                      5563 non-null object\n",
      "stan                                 5954 non-null object\n",
      "pojemność dysku (gb)                 5596 non-null float64\n",
      "gwarancja                            5954 non-null object\n",
      "wielkość matrycy                     5694 non-null object\n",
      "dtypes: float64(3), object(14)\n",
      "memory usage: 837.3+ KB\n"
     ]
    }
   ],
   "source": [
    "train.info()"
   ]
  },
  {
   "cell_type": "code",
   "execution_count": 4,
   "metadata": {
    "scrolled": false
   },
   "outputs": [
    {
     "data": {
      "text/plain": [
       "buynow_price                         0.000000\n",
       "rodzaj karty graficznej              0.062479\n",
       "komunikacja                          0.097414\n",
       "rozdzielczość (piksele)              0.075579\n",
       "liczba rdzeni procesora              0.000000\n",
       "wielkość pamięci ram                 0.056097\n",
       "system operacyjny                    0.081626\n",
       "typ dysku twardego                   0.054249\n",
       "sterowanie                           0.085825\n",
       "multimedia                           0.089688\n",
       "typ pamięci ram                      0.108331\n",
       "taktowanie bazowe procesora (ghz)    0.117904\n",
       "seria procesora                      0.065670\n",
       "stan                                 0.000000\n",
       "pojemność dysku (gb)                 0.060128\n",
       "gwarancja                            0.000000\n",
       "wielkość matrycy                     0.043668\n",
       "dtype: float64"
      ]
     },
     "execution_count": 4,
     "metadata": {},
     "output_type": "execute_result"
    }
   ],
   "source": [
    "train.isnull().sum()/train.shape[0]"
   ]
  },
  {
   "cell_type": "code",
   "execution_count": 17,
   "metadata": {},
   "outputs": [
    {
     "data": {
      "text/plain": [
       "<matplotlib.axes._subplots.AxesSubplot at 0x1f041a58948>"
      ]
     },
     "execution_count": 17,
     "metadata": {},
     "output_type": "execute_result"
    },
    {
     "data": {
      "image/png": "[encoded data removed]",
      "text/plain": [
       "<Figure size 432x288 with 1 Axes>"
      ]
     },
     "metadata": {
      "needs_background": "light"
     },
     "output_type": "display_data"
    }
   ],
   "source": [
    "train.boxplot(\"buynow_price\")"
   ]
  },
  {
   "cell_type": "code",
   "execution_count": 18,
   "metadata": {},
   "outputs": [
    {
     "data": {
      "image/png": "[encoded data removed]",
      "text/plain": [
       "<Figure size 432x288 with 1 Axes>"
      ]
     },
     "metadata": {
      "needs_background": "light"
     },
     "output_type": "display_data"
    }
   ],
   "source": [
    "sns.distplot(train[\"buynow_price\"])\n",
    "plt.show()"
   ]
  },
  {
   "cell_type": "markdown",
   "metadata": {},
   "source": [
    "# Budowa Preprocesingu"
   ]
  },
  {
   "cell_type": "code",
   "execution_count": 5,
   "metadata": {},
   "outputs": [],
   "source": [
    "train = clean_col_meta(train)"
   ]
  },
  {
   "cell_type": "code",
   "execution_count": 6,
   "metadata": {},
   "outputs": [
    {
     "data": {
      "text/html": [
       "<div>\n",
       "<style scoped>\n",
       "    .dataframe tbody tr th:only-of-type {\n",
       "        vertical-align: middle;\n",
       "    }\n",
       "\n",
       "    .dataframe tbody tr th {\n",
       "        vertical-align: top;\n",
       "    }\n",
       "\n",
       "    .dataframe thead th {\n",
       "        text-align: right;\n",
       "    }\n",
       "</style>\n",
       "<table border=\"1\" class=\"dataframe\">\n",
       "  <thead>\n",
       "    <tr style=\"text-align: right;\">\n",
       "      <th></th>\n",
       "      <th>buynow_price</th>\n",
       "      <th>rodzaj_karty_graficznej</th>\n",
       "      <th>komunikacja</th>\n",
       "      <th>rozdzielczość_piksele</th>\n",
       "      <th>liczba_rdzeni_procesora</th>\n",
       "      <th>wielkość_pamięci_ram</th>\n",
       "      <th>system_operacyjny</th>\n",
       "      <th>typ_dysku_twardego</th>\n",
       "      <th>sterowanie</th>\n",
       "      <th>multimedia</th>\n",
       "      <th>typ_pamięci_ram</th>\n",
       "      <th>taktowanie_bazowe_procesora_ghz</th>\n",
       "      <th>seria_procesora</th>\n",
       "      <th>stan</th>\n",
       "      <th>pojemność_dysku_gb</th>\n",
       "      <th>gwarancja</th>\n",
       "      <th>wielkość_matrycy</th>\n",
       "    </tr>\n",
       "  </thead>\n",
       "  <tbody>\n",
       "    <tr>\n",
       "      <th>70</th>\n",
       "      <td>1599.00</td>\n",
       "      <td>grafika zintegrowana</td>\n",
       "      <td>[wi-fi, bluetooth, lan 10/100/1000 mbps]</td>\n",
       "      <td>1366 x 768</td>\n",
       "      <td>2</td>\n",
       "      <td>8 gb</td>\n",
       "      <td>[windows 10 home]</td>\n",
       "      <td>hdd</td>\n",
       "      <td>[klawiatura, touchpad]</td>\n",
       "      <td>[czytnik kart pamięci, kamera, głośniki, mikro...</td>\n",
       "      <td>ddr3</td>\n",
       "      <td>1.9</td>\n",
       "      <td>intel core i3</td>\n",
       "      <td>nowy</td>\n",
       "      <td>500.0</td>\n",
       "      <td>sprzedawcy</td>\n",
       "      <td>13\" - 13.9\"</td>\n",
       "    </tr>\n",
       "    <tr>\n",
       "      <th>1359</th>\n",
       "      <td>2849.00</td>\n",
       "      <td>grafika zintegrowana</td>\n",
       "      <td>[wi-fi, bluetooth, lan 10/100/1000 mbps]</td>\n",
       "      <td>1920 x 1080</td>\n",
       "      <td>2</td>\n",
       "      <td>8 gb</td>\n",
       "      <td>[windows 10 professional]</td>\n",
       "      <td>ssd</td>\n",
       "      <td>[klawiatura, touchpad, klawiatura numeryczna]</td>\n",
       "      <td>[czytnik kart pamięci, kamera, głośniki, mikro...</td>\n",
       "      <td>ddr4</td>\n",
       "      <td>2.0</td>\n",
       "      <td>intel core i3</td>\n",
       "      <td>nowy</td>\n",
       "      <td>480.0</td>\n",
       "      <td>producenta</td>\n",
       "      <td>15\" - 15.9\"</td>\n",
       "    </tr>\n",
       "    <tr>\n",
       "      <th>10567</th>\n",
       "      <td>2319.00</td>\n",
       "      <td>None</td>\n",
       "      <td>None</td>\n",
       "      <td>None</td>\n",
       "      <td>2</td>\n",
       "      <td>None</td>\n",
       "      <td>None</td>\n",
       "      <td>None</td>\n",
       "      <td>None</td>\n",
       "      <td>None</td>\n",
       "      <td>None</td>\n",
       "      <td>NaN</td>\n",
       "      <td>None</td>\n",
       "      <td>nowy</td>\n",
       "      <td>NaN</td>\n",
       "      <td>producenta</td>\n",
       "      <td>None</td>\n",
       "    </tr>\n",
       "    <tr>\n",
       "      <th>3203</th>\n",
       "      <td>1302.91</td>\n",
       "      <td>grafika zintegrowana</td>\n",
       "      <td>[bluetooth, lan 10/100 mbps]</td>\n",
       "      <td>1366 x 768</td>\n",
       "      <td>2</td>\n",
       "      <td>8 gb</td>\n",
       "      <td>[windows 10 home]</td>\n",
       "      <td>ssd</td>\n",
       "      <td>[klawiatura, touchpad, klawiatura numeryczna]</td>\n",
       "      <td>[czytnik kart pamięci, kamera, głośniki, mikro...</td>\n",
       "      <td>ddr3</td>\n",
       "      <td>1.5</td>\n",
       "      <td>intel celeron dual-core</td>\n",
       "      <td>nowy</td>\n",
       "      <td>128.0</td>\n",
       "      <td>sprzedawcy</td>\n",
       "      <td>15\" - 15.9\"</td>\n",
       "    </tr>\n",
       "    <tr>\n",
       "      <th>7831</th>\n",
       "      <td>1699.00</td>\n",
       "      <td>grafika zintegrowana</td>\n",
       "      <td>[wi-fi, bluetooth, lan 10/100 mbps]</td>\n",
       "      <td>1366 x 768</td>\n",
       "      <td>4</td>\n",
       "      <td>4 gb</td>\n",
       "      <td>[windows 10 home]</td>\n",
       "      <td>ssd</td>\n",
       "      <td>[klawiatura, touchpad, klawiatura numeryczna]</td>\n",
       "      <td>[czytnik kart pamięci, kamera, głośniki, mikro...</td>\n",
       "      <td>ddr3l</td>\n",
       "      <td>1.6</td>\n",
       "      <td>intel pentium quad-core</td>\n",
       "      <td>nowy</td>\n",
       "      <td>120.0</td>\n",
       "      <td>producenta</td>\n",
       "      <td>15\" - 15.9\"</td>\n",
       "    </tr>\n",
       "  </tbody>\n",
       "</table>\n",
       "</div>"
      ],
      "text/plain": [
       "       buynow_price rodzaj_karty_graficznej  \\\n",
       "70          1599.00    grafika zintegrowana   \n",
       "1359        2849.00    grafika zintegrowana   \n",
       "10567       2319.00                    None   \n",
       "3203        1302.91    grafika zintegrowana   \n",
       "7831        1699.00    grafika zintegrowana   \n",
       "\n",
       "                                    komunikacja rozdzielczość_piksele  \\\n",
       "70     [wi-fi, bluetooth, lan 10/100/1000 mbps]            1366 x 768   \n",
       "1359   [wi-fi, bluetooth, lan 10/100/1000 mbps]           1920 x 1080   \n",
       "10567                                      None                  None   \n",
       "3203               [bluetooth, lan 10/100 mbps]            1366 x 768   \n",
       "7831        [wi-fi, bluetooth, lan 10/100 mbps]            1366 x 768   \n",
       "\n",
       "      liczba_rdzeni_procesora wielkość_pamięci_ram          system_operacyjny  \\\n",
       "70                          2                 8 gb          [windows 10 home]   \n",
       "1359                        2                 8 gb  [windows 10 professional]   \n",
       "10567                       2                 None                       None   \n",
       "3203                        2                 8 gb          [windows 10 home]   \n",
       "7831                        4                 4 gb          [windows 10 home]   \n",
       "\n",
       "      typ_dysku_twardego                                     sterowanie  \\\n",
       "70                   hdd                         [klawiatura, touchpad]   \n",
       "1359                 ssd  [klawiatura, touchpad, klawiatura numeryczna]   \n",
       "10567               None                                           None   \n",
       "3203                 ssd  [klawiatura, touchpad, klawiatura numeryczna]   \n",
       "7831                 ssd  [klawiatura, touchpad, klawiatura numeryczna]   \n",
       "\n",
       "                                              multimedia typ_pamięci_ram  \\\n",
       "70     [czytnik kart pamięci, kamera, głośniki, mikro...            ddr3   \n",
       "1359   [czytnik kart pamięci, kamera, głośniki, mikro...            ddr4   \n",
       "10567                                               None            None   \n",
       "3203   [czytnik kart pamięci, kamera, głośniki, mikro...            ddr3   \n",
       "7831   [czytnik kart pamięci, kamera, głośniki, mikro...           ddr3l   \n",
       "\n",
       "       taktowanie_bazowe_procesora_ghz           seria_procesora  stan  \\\n",
       "70                                 1.9             intel core i3  nowy   \n",
       "1359                               2.0             intel core i3  nowy   \n",
       "10567                              NaN                      None  nowy   \n",
       "3203                               1.5   intel celeron dual-core  nowy   \n",
       "7831                               1.6  intel pentium quad-core   nowy   \n",
       "\n",
       "       pojemność_dysku_gb   gwarancja wielkość_matrycy  \n",
       "70                  500.0  sprzedawcy      13\" - 13.9\"  \n",
       "1359                480.0  producenta      15\" - 15.9\"  \n",
       "10567                 NaN  producenta             None  \n",
       "3203                128.0  sprzedawcy      15\" - 15.9\"  \n",
       "7831                120.0  producenta      15\" - 15.9\"  "
      ]
     },
     "execution_count": 6,
     "metadata": {},
     "output_type": "execute_result"
    }
   ],
   "source": [
    "train.head()"
   ]
  },
  {
   "cell_type": "code",
   "execution_count": 7,
   "metadata": {
    "scrolled": false
   },
   "outputs": [
    {
     "data": {
      "text/plain": [
       "gwarancja\n",
       "brak          1988.857143\n",
       "producenta    3718.407693\n",
       "sprzedawcy    2179.113718\n",
       "Name: buynow_price, dtype: float64"
      ]
     },
     "execution_count": 7,
     "metadata": {},
     "output_type": "execute_result"
    }
   ],
   "source": [
    "train[\"gwarancja\"].value_counts()\n",
    "grouped_gwarancja = train['buynow_price'].groupby(train[\"gwarancja\"])\n",
    "grouped_gwarancja.mean()"
   ]
  },
  {
   "cell_type": "code",
   "execution_count": 26,
   "metadata": {},
   "outputs": [],
   "source": [
    "df.loc[df.gwarancja == 'brak', 'gwarancja'] = 'sprzedawcy'"
   ]
  },
  {
   "cell_type": "code",
   "execution_count": 19,
   "metadata": {
    "scrolled": true
   },
   "outputs": [
    {
     "data": {
      "text/plain": [
       "Series([], Name: gwarancja, dtype: object)"
      ]
     },
     "execution_count": 19,
     "metadata": {},
     "output_type": "execute_result"
    }
   ],
   "source": [
    "df[df.gwarancja == 'brak']['gwarancja']"
   ]
  },
  {
   "cell_type": "code",
   "execution_count": 14,
   "metadata": {
    "scrolled": true
   },
   "outputs": [],
   "source": [
    "train =  simplify_gwarancja(train)"
   ]
  },
  {
   "cell_type": "code",
   "execution_count": 18,
   "metadata": {
    "scrolled": true
   },
   "outputs": [
    {
     "data": {
      "text/html": [
       "<div>\n",
       "<style scoped>\n",
       "    .dataframe tbody tr th:only-of-type {\n",
       "        vertical-align: middle;\n",
       "    }\n",
       "\n",
       "    .dataframe tbody tr th {\n",
       "        vertical-align: top;\n",
       "    }\n",
       "\n",
       "    .dataframe thead th {\n",
       "        text-align: right;\n",
       "    }\n",
       "</style>\n",
       "<table border=\"1\" class=\"dataframe\">\n",
       "  <thead>\n",
       "    <tr style=\"text-align: right;\">\n",
       "      <th></th>\n",
       "      <th>buynow_price</th>\n",
       "      <th>rodzaj_karty_graficznej</th>\n",
       "      <th>komunikacja</th>\n",
       "      <th>rozdzielczość_piksele</th>\n",
       "      <th>liczba_rdzeni_procesora</th>\n",
       "      <th>wielkość_pamięci_ram</th>\n",
       "      <th>system_operacyjny</th>\n",
       "      <th>typ_dysku_twardego</th>\n",
       "      <th>sterowanie</th>\n",
       "      <th>multimedia</th>\n",
       "      <th>typ_pamięci_ram</th>\n",
       "      <th>taktowanie_bazowe_procesora_ghz</th>\n",
       "      <th>seria_procesora</th>\n",
       "      <th>stan</th>\n",
       "      <th>pojemność_dysku_gb</th>\n",
       "      <th>gwarancja</th>\n",
       "      <th>wielkość_matrycy</th>\n",
       "    </tr>\n",
       "  </thead>\n",
       "  <tbody>\n",
       "    <tr>\n",
       "      <th>70</th>\n",
       "      <td>1599.00</td>\n",
       "      <td>grafika zintegrowana</td>\n",
       "      <td>[wi-fi, bluetooth, lan 10/100/1000 mbps]</td>\n",
       "      <td>1366 x 768</td>\n",
       "      <td>2</td>\n",
       "      <td>8 gb</td>\n",
       "      <td>[windows 10 home]</td>\n",
       "      <td>hdd</td>\n",
       "      <td>[klawiatura, touchpad]</td>\n",
       "      <td>[czytnik kart pamięci, kamera, głośniki, mikro...</td>\n",
       "      <td>ddr3</td>\n",
       "      <td>1.9</td>\n",
       "      <td>intel core i3</td>\n",
       "      <td>nowy</td>\n",
       "      <td>500.0</td>\n",
       "      <td>sprzedawcy</td>\n",
       "      <td>13\" - 13.9\"</td>\n",
       "    </tr>\n",
       "    <tr>\n",
       "      <th>1359</th>\n",
       "      <td>2849.00</td>\n",
       "      <td>grafika zintegrowana</td>\n",
       "      <td>[wi-fi, bluetooth, lan 10/100/1000 mbps]</td>\n",
       "      <td>1920 x 1080</td>\n",
       "      <td>2</td>\n",
       "      <td>8 gb</td>\n",
       "      <td>[windows 10 professional]</td>\n",
       "      <td>ssd</td>\n",
       "      <td>[klawiatura, touchpad, klawiatura numeryczna]</td>\n",
       "      <td>[czytnik kart pamięci, kamera, głośniki, mikro...</td>\n",
       "      <td>ddr4</td>\n",
       "      <td>2.0</td>\n",
       "      <td>intel core i3</td>\n",
       "      <td>nowy</td>\n",
       "      <td>480.0</td>\n",
       "      <td>producenta</td>\n",
       "      <td>15\" - 15.9\"</td>\n",
       "    </tr>\n",
       "    <tr>\n",
       "      <th>10567</th>\n",
       "      <td>2319.00</td>\n",
       "      <td>None</td>\n",
       "      <td>None</td>\n",
       "      <td>None</td>\n",
       "      <td>2</td>\n",
       "      <td>None</td>\n",
       "      <td>None</td>\n",
       "      <td>None</td>\n",
       "      <td>None</td>\n",
       "      <td>None</td>\n",
       "      <td>None</td>\n",
       "      <td>NaN</td>\n",
       "      <td>None</td>\n",
       "      <td>nowy</td>\n",
       "      <td>NaN</td>\n",
       "      <td>producenta</td>\n",
       "      <td>None</td>\n",
       "    </tr>\n",
       "    <tr>\n",
       "      <th>3203</th>\n",
       "      <td>1302.91</td>\n",
       "      <td>grafika zintegrowana</td>\n",
       "      <td>[bluetooth, lan 10/100 mbps]</td>\n",
       "      <td>1366 x 768</td>\n",
       "      <td>2</td>\n",
       "      <td>8 gb</td>\n",
       "      <td>[windows 10 home]</td>\n",
       "      <td>ssd</td>\n",
       "      <td>[klawiatura, touchpad, klawiatura numeryczna]</td>\n",
       "      <td>[czytnik kart pamięci, kamera, głośniki, mikro...</td>\n",
       "      <td>ddr3</td>\n",
       "      <td>1.5</td>\n",
       "      <td>intel celeron dual-core</td>\n",
       "      <td>nowy</td>\n",
       "      <td>128.0</td>\n",
       "      <td>sprzedawcy</td>\n",
       "      <td>15\" - 15.9\"</td>\n",
       "    </tr>\n",
       "    <tr>\n",
       "      <th>7831</th>\n",
       "      <td>1699.00</td>\n",
       "      <td>grafika zintegrowana</td>\n",
       "      <td>[wi-fi, bluetooth, lan 10/100 mbps]</td>\n",
       "      <td>1366 x 768</td>\n",
       "      <td>4</td>\n",
       "      <td>4 gb</td>\n",
       "      <td>[windows 10 home]</td>\n",
       "      <td>ssd</td>\n",
       "      <td>[klawiatura, touchpad, klawiatura numeryczna]</td>\n",
       "      <td>[czytnik kart pamięci, kamera, głośniki, mikro...</td>\n",
       "      <td>ddr3l</td>\n",
       "      <td>1.6</td>\n",
       "      <td>intel pentium quad-core</td>\n",
       "      <td>nowy</td>\n",
       "      <td>120.0</td>\n",
       "      <td>producenta</td>\n",
       "      <td>15\" - 15.9\"</td>\n",
       "    </tr>\n",
       "    <tr>\n",
       "      <th>7524</th>\n",
       "      <td>5043.00</td>\n",
       "      <td>grafika dedykowana</td>\n",
       "      <td>[bluetooth, lan 10/100 mbps]</td>\n",
       "      <td>1366 x 768</td>\n",
       "      <td>2</td>\n",
       "      <td>8 gb</td>\n",
       "      <td>[windows 10 home]</td>\n",
       "      <td>ssd</td>\n",
       "      <td>[klawiatura, touchpad]</td>\n",
       "      <td>[czytnik kart pamięci, kamera, głośniki]</td>\n",
       "      <td>ddr3</td>\n",
       "      <td>2.6</td>\n",
       "      <td>intel core i5</td>\n",
       "      <td>nowy</td>\n",
       "      <td>1000.0</td>\n",
       "      <td>producenta</td>\n",
       "      <td>15\" - 15.9\"</td>\n",
       "    </tr>\n",
       "    <tr>\n",
       "      <th>10973</th>\n",
       "      <td>6519.00</td>\n",
       "      <td>grafika dedykowana</td>\n",
       "      <td>[bluetooth, lan 10/100/1000 mbps, lan 10/100 m...</td>\n",
       "      <td>3840 x 2160</td>\n",
       "      <td>4</td>\n",
       "      <td>16 gb</td>\n",
       "      <td>[windows 10 home]</td>\n",
       "      <td>hdd</td>\n",
       "      <td>[klawiatura, touchpad, klawiatura podświetlana]</td>\n",
       "      <td>[kamera, głośniki, mikrofon]</td>\n",
       "      <td>ddr4</td>\n",
       "      <td>2.8</td>\n",
       "      <td>intel core i7</td>\n",
       "      <td>nowy</td>\n",
       "      <td>240.0</td>\n",
       "      <td>producenta</td>\n",
       "      <td>15\" - 15.9\"</td>\n",
       "    </tr>\n",
       "    <tr>\n",
       "      <th>1510</th>\n",
       "      <td>2677.00</td>\n",
       "      <td>grafika dedykowana</td>\n",
       "      <td>[wi-fi 802.11 a/b/g/n/ac, bluetooth, lan 10/10...</td>\n",
       "      <td>1920 x 1080</td>\n",
       "      <td>2</td>\n",
       "      <td>12 gb</td>\n",
       "      <td>[brak systemu]</td>\n",
       "      <td>ssd</td>\n",
       "      <td>[klawiatura, touchpad, klawiatura podświetlana...</td>\n",
       "      <td>[czytnik kart pamięci, kamera, głośniki, mikro...</td>\n",
       "      <td>ddr4</td>\n",
       "      <td>2.4</td>\n",
       "      <td>intel core i3</td>\n",
       "      <td>nowy</td>\n",
       "      <td>240.0</td>\n",
       "      <td>producenta</td>\n",
       "      <td>15\" - 15.9\"</td>\n",
       "    </tr>\n",
       "    <tr>\n",
       "      <th>8158</th>\n",
       "      <td>2669.00</td>\n",
       "      <td>grafika dedykowana</td>\n",
       "      <td>[bluetooth, lan 10/100 mbps]</td>\n",
       "      <td>1366 x 768</td>\n",
       "      <td>2</td>\n",
       "      <td>8 gb</td>\n",
       "      <td>[brak systemu]</td>\n",
       "      <td>ssd</td>\n",
       "      <td>[klawiatura, touchpad]</td>\n",
       "      <td>[czytnik kart pamięci, kamera, głośniki]</td>\n",
       "      <td>ddr3</td>\n",
       "      <td>2.6</td>\n",
       "      <td>intel core i5</td>\n",
       "      <td>nowy</td>\n",
       "      <td>480.0</td>\n",
       "      <td>producenta</td>\n",
       "      <td>15\" - 15.9\"</td>\n",
       "    </tr>\n",
       "    <tr>\n",
       "      <th>11252</th>\n",
       "      <td>2799.00</td>\n",
       "      <td>grafika dedykowana</td>\n",
       "      <td>[wi-fi, bluetooth, lan 10/100/1000 mbps]</td>\n",
       "      <td>1920 x 1080</td>\n",
       "      <td>2</td>\n",
       "      <td>8 gb</td>\n",
       "      <td>[brak systemu]</td>\n",
       "      <td>ssd</td>\n",
       "      <td>[klawiatura, touchpad]</td>\n",
       "      <td>[czytnik kart pamięci, kamera, głośniki, mikro...</td>\n",
       "      <td>ddr4</td>\n",
       "      <td>2.5</td>\n",
       "      <td>intel core i5</td>\n",
       "      <td>nowy</td>\n",
       "      <td>256.0</td>\n",
       "      <td>producenta</td>\n",
       "      <td>14\" - 14.9\"</td>\n",
       "    </tr>\n",
       "  </tbody>\n",
       "</table>\n",
       "</div>"
      ],
      "text/plain": [
       "       buynow_price rodzaj_karty_graficznej  \\\n",
       "70          1599.00    grafika zintegrowana   \n",
       "1359        2849.00    grafika zintegrowana   \n",
       "10567       2319.00                    None   \n",
       "3203        1302.91    grafika zintegrowana   \n",
       "7831        1699.00    grafika zintegrowana   \n",
       "7524        5043.00      grafika dedykowana   \n",
       "10973       6519.00      grafika dedykowana   \n",
       "1510        2677.00      grafika dedykowana   \n",
       "8158        2669.00      grafika dedykowana   \n",
       "11252       2799.00      grafika dedykowana   \n",
       "\n",
       "                                             komunikacja  \\\n",
       "70              [wi-fi, bluetooth, lan 10/100/1000 mbps]   \n",
       "1359            [wi-fi, bluetooth, lan 10/100/1000 mbps]   \n",
       "10567                                               None   \n",
       "3203                        [bluetooth, lan 10/100 mbps]   \n",
       "7831                 [wi-fi, bluetooth, lan 10/100 mbps]   \n",
       "7524                        [bluetooth, lan 10/100 mbps]   \n",
       "10973  [bluetooth, lan 10/100/1000 mbps, lan 10/100 m...   \n",
       "1510   [wi-fi 802.11 a/b/g/n/ac, bluetooth, lan 10/10...   \n",
       "8158                        [bluetooth, lan 10/100 mbps]   \n",
       "11252           [wi-fi, bluetooth, lan 10/100/1000 mbps]   \n",
       "\n",
       "      rozdzielczość_piksele liczba_rdzeni_procesora wielkość_pamięci_ram  \\\n",
       "70               1366 x 768                       2                 8 gb   \n",
       "1359            1920 x 1080                       2                 8 gb   \n",
       "10567                  None                       2                 None   \n",
       "3203             1366 x 768                       2                 8 gb   \n",
       "7831             1366 x 768                       4                 4 gb   \n",
       "7524             1366 x 768                       2                 8 gb   \n",
       "10973           3840 x 2160                       4                16 gb   \n",
       "1510            1920 x 1080                       2                12 gb   \n",
       "8158             1366 x 768                       2                 8 gb   \n",
       "11252           1920 x 1080                       2                 8 gb   \n",
       "\n",
       "               system_operacyjny typ_dysku_twardego  \\\n",
       "70             [windows 10 home]                hdd   \n",
       "1359   [windows 10 professional]                ssd   \n",
       "10567                       None               None   \n",
       "3203           [windows 10 home]                ssd   \n",
       "7831           [windows 10 home]                ssd   \n",
       "7524           [windows 10 home]                ssd   \n",
       "10973          [windows 10 home]                hdd   \n",
       "1510              [brak systemu]                ssd   \n",
       "8158              [brak systemu]                ssd   \n",
       "11252             [brak systemu]                ssd   \n",
       "\n",
       "                                              sterowanie  \\\n",
       "70                                [klawiatura, touchpad]   \n",
       "1359       [klawiatura, touchpad, klawiatura numeryczna]   \n",
       "10567                                               None   \n",
       "3203       [klawiatura, touchpad, klawiatura numeryczna]   \n",
       "7831       [klawiatura, touchpad, klawiatura numeryczna]   \n",
       "7524                              [klawiatura, touchpad]   \n",
       "10973    [klawiatura, touchpad, klawiatura podświetlana]   \n",
       "1510   [klawiatura, touchpad, klawiatura podświetlana...   \n",
       "8158                              [klawiatura, touchpad]   \n",
       "11252                             [klawiatura, touchpad]   \n",
       "\n",
       "                                              multimedia typ_pamięci_ram  \\\n",
       "70     [czytnik kart pamięci, kamera, głośniki, mikro...            ddr3   \n",
       "1359   [czytnik kart pamięci, kamera, głośniki, mikro...            ddr4   \n",
       "10567                                               None            None   \n",
       "3203   [czytnik kart pamięci, kamera, głośniki, mikro...            ddr3   \n",
       "7831   [czytnik kart pamięci, kamera, głośniki, mikro...           ddr3l   \n",
       "7524            [czytnik kart pamięci, kamera, głośniki]            ddr3   \n",
       "10973                       [kamera, głośniki, mikrofon]            ddr4   \n",
       "1510   [czytnik kart pamięci, kamera, głośniki, mikro...            ddr4   \n",
       "8158            [czytnik kart pamięci, kamera, głośniki]            ddr3   \n",
       "11252  [czytnik kart pamięci, kamera, głośniki, mikro...            ddr4   \n",
       "\n",
       "       taktowanie_bazowe_procesora_ghz           seria_procesora  stan  \\\n",
       "70                                 1.9             intel core i3  nowy   \n",
       "1359                               2.0             intel core i3  nowy   \n",
       "10567                              NaN                      None  nowy   \n",
       "3203                               1.5   intel celeron dual-core  nowy   \n",
       "7831                               1.6  intel pentium quad-core   nowy   \n",
       "7524                               2.6             intel core i5  nowy   \n",
       "10973                              2.8             intel core i7  nowy   \n",
       "1510                               2.4             intel core i3  nowy   \n",
       "8158                               2.6             intel core i5  nowy   \n",
       "11252                              2.5             intel core i5  nowy   \n",
       "\n",
       "       pojemność_dysku_gb   gwarancja wielkość_matrycy  \n",
       "70                  500.0  sprzedawcy      13\" - 13.9\"  \n",
       "1359                480.0  producenta      15\" - 15.9\"  \n",
       "10567                 NaN  producenta             None  \n",
       "3203                128.0  sprzedawcy      15\" - 15.9\"  \n",
       "7831                120.0  producenta      15\" - 15.9\"  \n",
       "7524               1000.0  producenta      15\" - 15.9\"  \n",
       "10973               240.0  producenta      15\" - 15.9\"  \n",
       "1510                240.0  producenta      15\" - 15.9\"  \n",
       "8158                480.0  producenta      15\" - 15.9\"  \n",
       "11252               256.0  producenta      14\" - 14.9\"  "
      ]
     },
     "execution_count": 18,
     "metadata": {},
     "output_type": "execute_result"
    }
   ],
   "source": [
    "df.head(10)"
   ]
  },
  {
   "cell_type": "code",
   "execution_count": null,
   "metadata": {},
   "outputs": [],
   "source": [
    "g = sns.FacetGrid(train, col=\"gwarancja_t\", height=6)\n",
    "g.map(sns.kdeplot, \"buynow_price\", shade=True)\n",
    "sns.despine(left = True, bottom =True )\n",
    "plt.show()"
   ]
  },
  {
   "cell_type": "code",
   "execution_count": null,
   "metadata": {},
   "outputs": [],
   "source": [
    "##############################################################################\n",
    "#### Komunikacja\n",
    "\n",
    "train[\"komunikacja\"].astype(str).value_counts()"
   ]
  },
  {
   "cell_type": "code",
   "execution_count": null,
   "metadata": {},
   "outputs": [],
   "source": [
    "train[\"komunikacja\"].isna().sum()"
   ]
  },
  {
   "cell_type": "code",
   "execution_count": null,
   "metadata": {},
   "outputs": [],
   "source": [
    "train = simplify_komunikacja(train)"
   ]
  },
  {
   "cell_type": "code",
   "execution_count": 11,
   "metadata": {},
   "outputs": [],
   "source": [
    "df[\"lan 10/100 mbps\"] = (df[\"komunikacja\"].str.contains('lan 10/100 mbps', regex=False)*1).sum()"
   ]
  },
  {
   "cell_type": "code",
   "execution_count": 12,
   "metadata": {},
   "outputs": [],
   "source": [
    "df[\"lan 10/100/1000 mbps\"] = (df[\"komunikacja\"].str.contains('lan 10/100/1000 mbps', regex=False)*1).sum()"
   ]
  },
  {
   "cell_type": "code",
   "execution_count": 13,
   "metadata": {},
   "outputs": [
    {
     "data": {
      "text/plain": [
       "1454"
      ]
     },
     "execution_count": 13,
     "metadata": {},
     "output_type": "execute_result"
    }
   ],
   "source": [
    "(df[\"komunikacja\"].str.contains('nfc (near field communication)', regex=False)*1).sum()"
   ]
  },
  {
   "cell_type": "code",
   "execution_count": 14,
   "metadata": {},
   "outputs": [
    {
     "data": {
      "text/plain": [
       "1009"
      ]
     },
     "execution_count": 14,
     "metadata": {},
     "output_type": "execute_result"
    }
   ],
   "source": [
    "(df[\"komunikacja\"].str.contains('modem 3g (wwan)', regex=False)*1).sum()"
   ]
  },
  {
   "cell_type": "code",
   "execution_count": 15,
   "metadata": {},
   "outputs": [
    {
     "data": {
      "text/plain": [
       "269"
      ]
     },
     "execution_count": 15,
     "metadata": {},
     "output_type": "execute_result"
    }
   ],
   "source": [
    "(df[\"komunikacja\"].str.contains('gps', regex=False)*1).sum()"
   ]
  },
  {
   "cell_type": "code",
   "execution_count": 16,
   "metadata": {},
   "outputs": [
    {
     "data": {
      "text/plain": [
       "1004"
      ]
     },
     "execution_count": 16,
     "metadata": {},
     "output_type": "execute_result"
    }
   ],
   "source": [
    "(df[\"komunikacja\"].str.contains('intel wireless display (widi)', regex=False)*1).sum()"
   ]
  },
  {
   "cell_type": "code",
   "execution_count": 17,
   "metadata": {},
   "outputs": [
    {
     "data": {
      "text/plain": [
       "267"
      ]
     },
     "execution_count": 17,
     "metadata": {},
     "output_type": "execute_result"
    }
   ],
   "source": [
    "(df[\"komunikacja\"].str.contains('modem 4g (lte)', regex=False)*1).sum()"
   ]
  },
  {
   "cell_type": "code",
   "execution_count": 18,
   "metadata": {},
   "outputs": [
    {
     "data": {
      "text/plain": [
       "73"
      ]
     },
     "execution_count": 18,
     "metadata": {},
     "output_type": "execute_result"
    }
   ],
   "source": [
    "(df[\"komunikacja\"].str.contains('wi-fi 802.11 b/g/n', regex=False)*1).sum()"
   ]
  },
  {
   "cell_type": "code",
   "execution_count": 19,
   "metadata": {},
   "outputs": [
    {
     "data": {
      "text/plain": [
       "166"
      ]
     },
     "execution_count": 19,
     "metadata": {},
     "output_type": "execute_result"
    }
   ],
   "source": [
    "(df[\"komunikacja\"].str.contains('wi-fi 802.11 b/g/n/ac', regex=False)*1).sum()"
   ]
  },
  {
   "cell_type": "code",
   "execution_count": 20,
   "metadata": {},
   "outputs": [
    {
     "data": {
      "text/plain": [
       "143"
      ]
     },
     "execution_count": 20,
     "metadata": {},
     "output_type": "execute_result"
    }
   ],
   "source": [
    "(df[\"komunikacja\"].str.contains('wi-fi 802.11 a/b/g/n/ac', regex=False)*1).sum()"
   ]
  },
  {
   "cell_type": "code",
   "execution_count": 21,
   "metadata": {},
   "outputs": [
    {
     "data": {
      "text/plain": [
       "17"
      ]
     },
     "execution_count": 21,
     "metadata": {},
     "output_type": "execute_result"
    }
   ],
   "source": [
    "(df[\"komunikacja\"].str.contains('wi-fi 802.11 a/b/g/n', regex=False)*1).sum()"
   ]
  },
  {
   "cell_type": "code",
   "execution_count": 22,
   "metadata": {},
   "outputs": [
    {
     "data": {
      "text/plain": [
       "(7853, 20)"
      ]
     },
     "execution_count": 22,
     "metadata": {},
     "output_type": "execute_result"
    }
   ],
   "source": [
    "df.shape"
   ]
  },
  {
   "cell_type": "code",
   "execution_count": 23,
   "metadata": {},
   "outputs": [
    {
     "data": {
      "text/plain": [
       "0.020374379218133197"
      ]
     },
     "execution_count": 23,
     "metadata": {},
     "output_type": "execute_result"
    }
   ],
   "source": [
    "160/7853"
   ]
  },
  {
   "cell_type": "code",
   "execution_count": 24,
   "metadata": {},
   "outputs": [
    {
     "data": {
      "text/plain": [
       "Index(['buynow_price', 'rodzaj karty graficznej', 'komunikacja',\n",
       "       'rozdzielczość (piksele)', 'liczba rdzeni procesora',\n",
       "       'wielkość pamięci ram', 'system operacyjny', 'typ dysku twardego',\n",
       "       'sterowanie', 'multimedia', 'typ pamięci ram',\n",
       "       'taktowanie bazowe procesora (ghz)', 'seria procesora',\n",
       "       'pojemność dysku (gb)', 'gwarancja', 'wielkość matrycy ', 'bluetooth',\n",
       "       'wi-fi', 'lan 10/100 mbps', 'lan 10/100/1000 mbps'],\n",
       "      dtype='object')"
      ]
     },
     "execution_count": 24,
     "metadata": {},
     "output_type": "execute_result"
    }
   ],
   "source": [
    "df.columns"
   ]
  },
  {
   "cell_type": "code",
   "execution_count": 25,
   "metadata": {},
   "outputs": [
    {
     "data": {
      "text/plain": [
       "Int64Index([   70,  1489,   407,  1359, 10567,  3203,  7831,  4586,  7524,\n",
       "            10973,\n",
       "            ...\n",
       "             6423,  7596, 11321, 11695,  6406, 10541,  8281,  8053,  8727,\n",
       "             5978],\n",
       "           dtype='int64', length=7853)"
      ]
     },
     "execution_count": 25,
     "metadata": {},
     "output_type": "execute_result"
    }
   ],
   "source": [
    "df.index"
   ]
  },
  {
   "cell_type": "code",
   "execution_count": 26,
   "metadata": {},
   "outputs": [],
   "source": [
    "assert all(df.columns == ['buynow_price', 'rodzaj karty graficznej', 'komunikacja','rozdzielczość (piksele)', 'liczba rdzeni procesora',\n",
    "        'wielkość pamięci ram', 'system operacyjny', 'typ dysku twardego',\n",
    "        'sterowanie', 'multimedia', 'typ pamięci ram',\n",
    "        'taktowanie bazowe procesora (ghz)', 'seria procesora',\n",
    "        'pojemność dysku (gb)', 'gwarancja', 'wielkość matrycy ', 'bluetooth',\n",
    "        'wi-fi', 'lan 10/100 mbps', 'lan 10/100/1000 mbps'])"
   ]
  }
 ],
 "metadata": {
  "kernelspec": {
   "display_name": "Python 3",
   "language": "python",
   "name": "python3"
  },
  "language_info": {
   "codemirror_mode": {
    "name": "ipython",
    "version": 3
   },
   "file_extension": ".py",
   "mimetype": "text/x-python",
   "name": "python",
   "nbconvert_exporter": "python",
   "pygments_lexer": "ipython3",
   "version": "3.7.4"
  }
 },
 "nbformat": 4,
 "nbformat_minor": 2
}
