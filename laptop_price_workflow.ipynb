{
 "cells": [
  {
   "cell_type": "markdown",
   "metadata": {},
   "source": [
    "## Inicjalizacja\n"
   ]
  },
  {
   "cell_type": "code",
   "execution_count": 359,
   "metadata": {},
   "outputs": [],
   "source": [
    "from laptoppriceworkflow.data import get_json_data \n",
    "from laptoppriceworkflow.functions import clean_col_meta\n",
    "from laptoppriceworkflow.functions import simplify_gwarancja\n",
    "from laptoppriceworkflow.functions import simplify_komunikacja\n",
    "\n",
    "import pandas as pd\n",
    "\n",
    "import numpy as np\n",
    "\n",
    "import seaborn as sns \n",
    "\n",
    "import matplotlib.pyplot as plt\n",
    "\n",
    "from sklearn.impute import SimpleImputer \n",
    "\n",
    "from sklearn.preprocessing import LabelEncoder\n",
    "from sklearn.preprocessing import OneHotEncoder\n",
    "from sklearn.preprocessing import LabelBinarizer\n",
    "\n",
    "from sklearn.base import BaseEstimator, TransformerMixin\n",
    "\n",
    "from sklearn.pipeline import Pipeline\n",
    "from sklearn.pipeline import FeatureUnion\n",
    "\n",
    "from sklearn.preprocessing import StandardScaler\n"
   ]
  },
  {
   "cell_type": "code",
   "execution_count": 360,
   "metadata": {},
   "outputs": [],
   "source": [
    "df = get_json_data()"
   ]
  },
  {
   "cell_type": "markdown",
   "metadata": {},
   "source": [
    "# Partycjonowanie\n",
    "Preprocessing przygotowania modelu bedzie przeprowadzany tylko na czesci treningowej \n",
    "Pozniej przepuszcze przez niego czesc testowa, ktora swtorzylem oraz dodtkowy plik bez zmiennej celu"
   ]
  },
  {
   "cell_type": "code",
   "execution_count": 361,
   "metadata": {},
   "outputs": [],
   "source": [
    "msk = np.random.rand(len(df)) < 0.75\n",
    "train = df[msk]\n",
    "test = df[~msk]"
   ]
  },
  {
   "cell_type": "markdown",
   "metadata": {},
   "source": [
    "# Wstępna Analiza"
   ]
  },
  {
   "cell_type": "code",
   "execution_count": 362,
   "metadata": {},
   "outputs": [
    {
     "name": "stdout",
     "output_type": "stream",
     "text": [
      "<class 'pandas.core.frame.DataFrame'>\n",
      "Int64Index: 5923 entries, 70 to 5978\n",
      "Data columns (total 17 columns):\n",
      "buynow_price                         5923 non-null float64\n",
      "rodzaj karty graficznej              5545 non-null object\n",
      "komunikacja                          5325 non-null object\n",
      "rozdzielczość (piksele)              5464 non-null object\n",
      "liczba rdzeni procesora              5923 non-null object\n",
      "wielkość pamięci ram                 5583 non-null object\n",
      "system operacyjny                    5435 non-null object\n",
      "typ dysku twardego                   5594 non-null object\n",
      "sterowanie                           5413 non-null object\n",
      "multimedia                           5386 non-null object\n",
      "typ pamięci ram                      5265 non-null object\n",
      "taktowanie bazowe procesora (ghz)    5215 non-null float64\n",
      "seria procesora                      5519 non-null object\n",
      "stan                                 5923 non-null object\n",
      "pojemność dysku (gb)                 5553 non-null float64\n",
      "gwarancja                            5923 non-null object\n",
      "wielkość matrycy                     5665 non-null object\n",
      "dtypes: float64(3), object(14)\n",
      "memory usage: 832.9+ KB\n"
     ]
    }
   ],
   "source": [
    "train.info()"
   ]
  },
  {
   "cell_type": "code",
   "execution_count": 363,
   "metadata": {
    "scrolled": true
   },
   "outputs": [
    {
     "data": {
      "text/plain": [
       "buynow_price                         0.000000\n",
       "rodzaj karty graficznej              0.063819\n",
       "komunikacja                          0.100962\n",
       "rozdzielczość (piksele)              0.077495\n",
       "liczba rdzeni procesora              0.000000\n",
       "wielkość pamięci ram                 0.057403\n",
       "system operacyjny                    0.082391\n",
       "typ dysku twardego                   0.055546\n",
       "sterowanie                           0.086105\n",
       "multimedia                           0.090664\n",
       "typ pamięci ram                      0.111092\n",
       "taktowanie bazowe procesora (ghz)    0.119534\n",
       "seria procesora                      0.068209\n",
       "stan                                 0.000000\n",
       "pojemność dysku (gb)                 0.062468\n",
       "gwarancja                            0.000000\n",
       "wielkość matrycy                     0.043559\n",
       "dtype: float64"
      ]
     },
     "execution_count": 363,
     "metadata": {},
     "output_type": "execute_result"
    }
   ],
   "source": [
    "train.isnull().sum()/train.shape[0]"
   ]
  },
  {
   "cell_type": "code",
   "execution_count": 28,
   "metadata": {
    "collapsed": true
   },
   "outputs": [
    {
     "name": "stdout",
     "output_type": "stream",
     "text": [
      "Feature 'rodzaj karty graficznej' has 3 unique categories\n"
     ]
    },
    {
     "ename": "TypeError",
     "evalue": "unhashable type: 'list'",
     "output_type": "error",
     "traceback": [
      "\u001b[1;31m---------------------------------------------------------------------------\u001b[0m",
      "\u001b[1;31mTypeError\u001b[0m                                 Traceback (most recent call last)",
      "\u001b[1;32m<ipython-input-28-55471cecd996>\u001b[0m in \u001b[0;36m<module>\u001b[1;34m\u001b[0m\n\u001b[0;32m      1\u001b[0m \u001b[1;32mfor\u001b[0m \u001b[0mcol_name\u001b[0m \u001b[1;32min\u001b[0m \u001b[0mtrain\u001b[0m\u001b[1;33m.\u001b[0m\u001b[0mcolumns\u001b[0m\u001b[1;33m:\u001b[0m\u001b[1;33m\u001b[0m\u001b[1;33m\u001b[0m\u001b[0m\n\u001b[0;32m      2\u001b[0m     \u001b[1;32mif\u001b[0m \u001b[0mtrain\u001b[0m\u001b[1;33m[\u001b[0m\u001b[0mcol_name\u001b[0m\u001b[1;33m]\u001b[0m\u001b[1;33m.\u001b[0m\u001b[0mdtypes\u001b[0m \u001b[1;33m==\u001b[0m \u001b[1;34m'object'\u001b[0m\u001b[1;33m:\u001b[0m\u001b[1;33m\u001b[0m\u001b[1;33m\u001b[0m\u001b[0m\n\u001b[1;32m----> 3\u001b[1;33m         \u001b[0munique_cat\u001b[0m \u001b[1;33m=\u001b[0m \u001b[0mlen\u001b[0m\u001b[1;33m(\u001b[0m\u001b[0mtrain\u001b[0m\u001b[1;33m[\u001b[0m\u001b[0mcol_name\u001b[0m\u001b[1;33m]\u001b[0m\u001b[1;33m.\u001b[0m\u001b[0munique\u001b[0m\u001b[1;33m(\u001b[0m\u001b[1;33m)\u001b[0m\u001b[1;33m)\u001b[0m\u001b[1;33m\u001b[0m\u001b[1;33m\u001b[0m\u001b[0m\n\u001b[0m\u001b[0;32m      4\u001b[0m         print(\"Feature '{col_name}' has {unique_cat} unique categories\" .format(\n\u001b[0;32m      5\u001b[0m             col_name =col_name, unique_cat = unique_cat))\n",
      "\u001b[1;32m~\\Miniconda3\\lib\\site-packages\\pandas\\core\\series.py\u001b[0m in \u001b[0;36munique\u001b[1;34m(self)\u001b[0m\n\u001b[0;32m   1989\u001b[0m         \u001b[0mCategories\u001b[0m \u001b[1;33m(\u001b[0m\u001b[1;36m3\u001b[0m\u001b[1;33m,\u001b[0m \u001b[0mobject\u001b[0m\u001b[1;33m)\u001b[0m\u001b[1;33m:\u001b[0m \u001b[1;33m[\u001b[0m\u001b[0ma\u001b[0m \u001b[1;33m<\u001b[0m \u001b[0mb\u001b[0m \u001b[1;33m<\u001b[0m \u001b[0mc\u001b[0m\u001b[1;33m]\u001b[0m\u001b[1;33m\u001b[0m\u001b[1;33m\u001b[0m\u001b[0m\n\u001b[0;32m   1990\u001b[0m         \"\"\"\n\u001b[1;32m-> 1991\u001b[1;33m         \u001b[0mresult\u001b[0m \u001b[1;33m=\u001b[0m \u001b[0msuper\u001b[0m\u001b[1;33m(\u001b[0m\u001b[1;33m)\u001b[0m\u001b[1;33m.\u001b[0m\u001b[0munique\u001b[0m\u001b[1;33m(\u001b[0m\u001b[1;33m)\u001b[0m\u001b[1;33m\u001b[0m\u001b[1;33m\u001b[0m\u001b[0m\n\u001b[0m\u001b[0;32m   1992\u001b[0m         \u001b[1;32mreturn\u001b[0m \u001b[0mresult\u001b[0m\u001b[1;33m\u001b[0m\u001b[1;33m\u001b[0m\u001b[0m\n\u001b[0;32m   1993\u001b[0m \u001b[1;33m\u001b[0m\u001b[0m\n",
      "\u001b[1;32m~\\Miniconda3\\lib\\site-packages\\pandas\\core\\base.py\u001b[0m in \u001b[0;36munique\u001b[1;34m(self)\u001b[0m\n\u001b[0;32m   1403\u001b[0m             \u001b[1;32mfrom\u001b[0m \u001b[0mpandas\u001b[0m\u001b[1;33m.\u001b[0m\u001b[0mcore\u001b[0m\u001b[1;33m.\u001b[0m\u001b[0malgorithms\u001b[0m \u001b[1;32mimport\u001b[0m \u001b[0munique1d\u001b[0m\u001b[1;33m\u001b[0m\u001b[1;33m\u001b[0m\u001b[0m\n\u001b[0;32m   1404\u001b[0m \u001b[1;33m\u001b[0m\u001b[0m\n\u001b[1;32m-> 1405\u001b[1;33m             \u001b[0mresult\u001b[0m \u001b[1;33m=\u001b[0m \u001b[0munique1d\u001b[0m\u001b[1;33m(\u001b[0m\u001b[0mvalues\u001b[0m\u001b[1;33m)\u001b[0m\u001b[1;33m\u001b[0m\u001b[1;33m\u001b[0m\u001b[0m\n\u001b[0m\u001b[0;32m   1406\u001b[0m \u001b[1;33m\u001b[0m\u001b[0m\n\u001b[0;32m   1407\u001b[0m         \u001b[1;32mreturn\u001b[0m \u001b[0mresult\u001b[0m\u001b[1;33m\u001b[0m\u001b[1;33m\u001b[0m\u001b[0m\n",
      "\u001b[1;32m~\\Miniconda3\\lib\\site-packages\\pandas\\core\\algorithms.py\u001b[0m in \u001b[0;36munique\u001b[1;34m(values)\u001b[0m\n\u001b[0;32m    403\u001b[0m \u001b[1;33m\u001b[0m\u001b[0m\n\u001b[0;32m    404\u001b[0m     \u001b[0mtable\u001b[0m \u001b[1;33m=\u001b[0m \u001b[0mhtable\u001b[0m\u001b[1;33m(\u001b[0m\u001b[0mlen\u001b[0m\u001b[1;33m(\u001b[0m\u001b[0mvalues\u001b[0m\u001b[1;33m)\u001b[0m\u001b[1;33m)\u001b[0m\u001b[1;33m\u001b[0m\u001b[1;33m\u001b[0m\u001b[0m\n\u001b[1;32m--> 405\u001b[1;33m     \u001b[0muniques\u001b[0m \u001b[1;33m=\u001b[0m \u001b[0mtable\u001b[0m\u001b[1;33m.\u001b[0m\u001b[0munique\u001b[0m\u001b[1;33m(\u001b[0m\u001b[0mvalues\u001b[0m\u001b[1;33m)\u001b[0m\u001b[1;33m\u001b[0m\u001b[1;33m\u001b[0m\u001b[0m\n\u001b[0m\u001b[0;32m    406\u001b[0m     \u001b[0muniques\u001b[0m \u001b[1;33m=\u001b[0m \u001b[0m_reconstruct_data\u001b[0m\u001b[1;33m(\u001b[0m\u001b[0muniques\u001b[0m\u001b[1;33m,\u001b[0m \u001b[0mdtype\u001b[0m\u001b[1;33m,\u001b[0m \u001b[0moriginal\u001b[0m\u001b[1;33m)\u001b[0m\u001b[1;33m\u001b[0m\u001b[1;33m\u001b[0m\u001b[0m\n\u001b[0;32m    407\u001b[0m     \u001b[1;32mreturn\u001b[0m \u001b[0muniques\u001b[0m\u001b[1;33m\u001b[0m\u001b[1;33m\u001b[0m\u001b[0m\n",
      "\u001b[1;32mpandas/_libs/hashtable_class_helper.pxi\u001b[0m in \u001b[0;36mpandas._libs.hashtable.PyObjectHashTable.unique\u001b[1;34m()\u001b[0m\n",
      "\u001b[1;32mpandas/_libs/hashtable_class_helper.pxi\u001b[0m in \u001b[0;36mpandas._libs.hashtable.PyObjectHashTable._unique\u001b[1;34m()\u001b[0m\n",
      "\u001b[1;31mTypeError\u001b[0m: unhashable type: 'list'"
     ]
    }
   ],
   "source": [
    "# Funkcja sprawdzajaca liczbe kategorii w kolumnie\n",
    "\n",
    "for col_name in train.columns:\n",
    "    if train[col_name].dtypes == 'object':\n",
    "        unique_cat = len(train[col_name].unique())\n",
    "        print(\"Feature '{col_name}' has {unique_cat} unique categories\" .format(\n",
    "            col_name =col_name, unique_cat = unique_cat))"
   ]
  },
  {
   "cell_type": "code",
   "execution_count": 364,
   "metadata": {},
   "outputs": [
    {
     "data": {
      "text/plain": [
       "<matplotlib.axes._subplots.AxesSubplot at 0x1d83bc4c848>"
      ]
     },
     "execution_count": 364,
     "metadata": {},
     "output_type": "execute_result"
    },
    {
     "data": {
      "image/png": "[encoded data removed]",
      "text/plain": [
       "<Figure size 432x288 with 1 Axes>"
      ]
     },
     "metadata": {
      "needs_background": "light"
     },
     "output_type": "display_data"
    }
   ],
   "source": [
    "train.boxplot(\"buynow_price\")"
   ]
  },
  {
   "cell_type": "code",
   "execution_count": 7,
   "metadata": {},
   "outputs": [
    {
     "data": {
      "image/png": "[encoded data removed]",
      "text/plain": [
       "<Figure size 432x288 with 1 Axes>"
      ]
     },
     "metadata": {
      "needs_background": "light"
     },
     "output_type": "display_data"
    }
   ],
   "source": [
    "sns.distplot(train[\"buynow_price\"])\n",
    "plt.show()"
   ]
  },
  {
   "cell_type": "markdown",
   "metadata": {},
   "source": [
    "# Budowa Preprocesingu"
   ]
  },
  {
   "cell_type": "code",
   "execution_count": 365,
   "metadata": {},
   "outputs": [],
   "source": [
    "train_num = train[['buynow_price', 'taktowanie bazowe procesora (ghz)', 'pojemność dysku (gb)']]"
   ]
  },
  {
   "cell_type": "markdown",
   "metadata": {},
   "source": [
    "imputer = SimpleImputer(strategy = 'median')\n",
    "imputer.fit(df_num)\n",
    "imputer.statistics_"
   ]
  },
  {
   "cell_type": "markdown",
   "metadata": {},
   "source": [
    "X = imputer.transform(df_num)\n",
    "df_num_imp = pd.DataFrame(X, columns=df_num.columns)\n"
   ]
  },
  {
   "cell_type": "markdown",
   "metadata": {
    "scrolled": true
   },
   "source": [
    "encoder = LabelEncoder()\n",
    "#df_cat = df[[\"rodzaj karty graficznej\", \"komunikacja\",\"rozdzielczość (piksele)\"]]\n",
    "df_cat = df[\"liczba rdzeni procesora\"]\n",
    "df_cat_encoded = encoder.fit_transform(df_cat)\n",
    "df_cat_encoded"
   ]
  },
  {
   "cell_type": "code",
   "execution_count": 89,
   "metadata": {},
   "outputs": [
    {
     "name": "stdout",
     "output_type": "stream",
     "text": [
      "['1' '2' '3' '4' '6' '8' 'nie dotyczy']\n"
     ]
    }
   ],
   "source": [
    "print(encoder.classes_)"
   ]
  },
  {
   "cell_type": "code",
   "execution_count": 451,
   "metadata": {
    "scrolled": true
   },
   "outputs": [
    {
     "ename": "TypeError",
     "evalue": "argument must be a string or number",
     "output_type": "error",
     "traceback": [
      "\u001b[1;31m---------------------------------------------------------------------------\u001b[0m",
      "\u001b[1;31mTypeError\u001b[0m                                 Traceback (most recent call last)",
      "\u001b[1;32m~\\Miniconda3\\lib\\site-packages\\sklearn\\preprocessing\\_label.py\u001b[0m in \u001b[0;36m_encode\u001b[1;34m(values, uniques, encode, check_unknown)\u001b[0m\n\u001b[0;32m    111\u001b[0m         \u001b[1;32mtry\u001b[0m\u001b[1;33m:\u001b[0m\u001b[1;33m\u001b[0m\u001b[1;33m\u001b[0m\u001b[0m\n\u001b[1;32m--> 112\u001b[1;33m             \u001b[0mres\u001b[0m \u001b[1;33m=\u001b[0m \u001b[0m_encode_python\u001b[0m\u001b[1;33m(\u001b[0m\u001b[0mvalues\u001b[0m\u001b[1;33m,\u001b[0m \u001b[0muniques\u001b[0m\u001b[1;33m,\u001b[0m \u001b[0mencode\u001b[0m\u001b[1;33m)\u001b[0m\u001b[1;33m\u001b[0m\u001b[1;33m\u001b[0m\u001b[0m\n\u001b[0m\u001b[0;32m    113\u001b[0m         \u001b[1;32mexcept\u001b[0m \u001b[0mTypeError\u001b[0m\u001b[1;33m:\u001b[0m\u001b[1;33m\u001b[0m\u001b[1;33m\u001b[0m\u001b[0m\n",
      "\u001b[1;32m~\\Miniconda3\\lib\\site-packages\\sklearn\\preprocessing\\_label.py\u001b[0m in \u001b[0;36m_encode_python\u001b[1;34m(values, uniques, encode)\u001b[0m\n\u001b[0;32m     59\u001b[0m     \u001b[1;32mif\u001b[0m \u001b[0muniques\u001b[0m \u001b[1;32mis\u001b[0m \u001b[1;32mNone\u001b[0m\u001b[1;33m:\u001b[0m\u001b[1;33m\u001b[0m\u001b[1;33m\u001b[0m\u001b[0m\n\u001b[1;32m---> 60\u001b[1;33m         \u001b[0muniques\u001b[0m \u001b[1;33m=\u001b[0m \u001b[0msorted\u001b[0m\u001b[1;33m(\u001b[0m\u001b[0mset\u001b[0m\u001b[1;33m(\u001b[0m\u001b[0mvalues\u001b[0m\u001b[1;33m)\u001b[0m\u001b[1;33m)\u001b[0m\u001b[1;33m\u001b[0m\u001b[1;33m\u001b[0m\u001b[0m\n\u001b[0m\u001b[0;32m     61\u001b[0m         \u001b[0muniques\u001b[0m \u001b[1;33m=\u001b[0m \u001b[0mnp\u001b[0m\u001b[1;33m.\u001b[0m\u001b[0marray\u001b[0m\u001b[1;33m(\u001b[0m\u001b[0muniques\u001b[0m\u001b[1;33m,\u001b[0m \u001b[0mdtype\u001b[0m\u001b[1;33m=\u001b[0m\u001b[0mvalues\u001b[0m\u001b[1;33m.\u001b[0m\u001b[0mdtype\u001b[0m\u001b[1;33m)\u001b[0m\u001b[1;33m\u001b[0m\u001b[1;33m\u001b[0m\u001b[0m\n",
      "\u001b[1;31mTypeError\u001b[0m: '<' not supported between instances of 'NoneType' and 'str'",
      "\nDuring handling of the above exception, another exception occurred:\n",
      "\u001b[1;31mTypeError\u001b[0m                                 Traceback (most recent call last)",
      "\u001b[1;32m<ipython-input-451-854879722511>\u001b[0m in \u001b[0;36m<module>\u001b[1;34m\u001b[0m\n\u001b[0;32m      1\u001b[0m \u001b[0mencoder\u001b[0m \u001b[1;33m=\u001b[0m \u001b[0mOneHotEncoder\u001b[0m\u001b[1;33m(\u001b[0m\u001b[1;33m)\u001b[0m\u001b[1;33m\u001b[0m\u001b[1;33m\u001b[0m\u001b[0m\n\u001b[0;32m      2\u001b[0m \u001b[1;31m#df_cat_1hot = encoder.fit_transform(df_cat_encoded.reshape(-1,1))\u001b[0m\u001b[1;33m\u001b[0m\u001b[1;33m\u001b[0m\u001b[1;33m\u001b[0m\u001b[0m\n\u001b[1;32m----> 3\u001b[1;33m \u001b[0mdf_cat_1hot\u001b[0m \u001b[1;33m=\u001b[0m \u001b[0mencoder\u001b[0m\u001b[1;33m.\u001b[0m\u001b[0mfit_transform\u001b[0m\u001b[1;33m(\u001b[0m\u001b[0mtrain\u001b[0m\u001b[1;33m[\u001b[0m\u001b[1;33m[\u001b[0m\u001b[1;34m'gwarancja'\u001b[0m\u001b[1;33m,\u001b[0m \u001b[1;34m'rodzaj karty graficznej'\u001b[0m\u001b[1;33m]\u001b[0m\u001b[1;33m]\u001b[0m\u001b[1;33m)\u001b[0m\u001b[1;33m\u001b[0m\u001b[1;33m\u001b[0m\u001b[0m\n\u001b[0m\u001b[0;32m      4\u001b[0m \u001b[0mdf_cat_1hot\u001b[0m\u001b[1;33m\u001b[0m\u001b[1;33m\u001b[0m\u001b[0m\n",
      "\u001b[1;32m~\\Miniconda3\\lib\\site-packages\\sklearn\\preprocessing\\_encoders.py\u001b[0m in \u001b[0;36mfit_transform\u001b[1;34m(self, X, y)\u001b[0m\n\u001b[0;32m    370\u001b[0m         \"\"\"\n\u001b[0;32m    371\u001b[0m         \u001b[0mself\u001b[0m\u001b[1;33m.\u001b[0m\u001b[0m_validate_keywords\u001b[0m\u001b[1;33m(\u001b[0m\u001b[1;33m)\u001b[0m\u001b[1;33m\u001b[0m\u001b[1;33m\u001b[0m\u001b[0m\n\u001b[1;32m--> 372\u001b[1;33m         \u001b[1;32mreturn\u001b[0m \u001b[0msuper\u001b[0m\u001b[1;33m(\u001b[0m\u001b[1;33m)\u001b[0m\u001b[1;33m.\u001b[0m\u001b[0mfit_transform\u001b[0m\u001b[1;33m(\u001b[0m\u001b[0mX\u001b[0m\u001b[1;33m,\u001b[0m \u001b[0my\u001b[0m\u001b[1;33m)\u001b[0m\u001b[1;33m\u001b[0m\u001b[1;33m\u001b[0m\u001b[0m\n\u001b[0m\u001b[0;32m    373\u001b[0m \u001b[1;33m\u001b[0m\u001b[0m\n\u001b[0;32m    374\u001b[0m     \u001b[1;32mdef\u001b[0m \u001b[0mtransform\u001b[0m\u001b[1;33m(\u001b[0m\u001b[0mself\u001b[0m\u001b[1;33m,\u001b[0m \u001b[0mX\u001b[0m\u001b[1;33m)\u001b[0m\u001b[1;33m:\u001b[0m\u001b[1;33m\u001b[0m\u001b[1;33m\u001b[0m\u001b[0m\n",
      "\u001b[1;32m~\\Miniconda3\\lib\\site-packages\\sklearn\\base.py\u001b[0m in \u001b[0;36mfit_transform\u001b[1;34m(self, X, y, **fit_params)\u001b[0m\n\u001b[0;32m    569\u001b[0m         \u001b[1;32mif\u001b[0m \u001b[0my\u001b[0m \u001b[1;32mis\u001b[0m \u001b[1;32mNone\u001b[0m\u001b[1;33m:\u001b[0m\u001b[1;33m\u001b[0m\u001b[1;33m\u001b[0m\u001b[0m\n\u001b[0;32m    570\u001b[0m             \u001b[1;31m# fit method of arity 1 (unsupervised transformation)\u001b[0m\u001b[1;33m\u001b[0m\u001b[1;33m\u001b[0m\u001b[1;33m\u001b[0m\u001b[0m\n\u001b[1;32m--> 571\u001b[1;33m             \u001b[1;32mreturn\u001b[0m \u001b[0mself\u001b[0m\u001b[1;33m.\u001b[0m\u001b[0mfit\u001b[0m\u001b[1;33m(\u001b[0m\u001b[0mX\u001b[0m\u001b[1;33m,\u001b[0m \u001b[1;33m**\u001b[0m\u001b[0mfit_params\u001b[0m\u001b[1;33m)\u001b[0m\u001b[1;33m.\u001b[0m\u001b[0mtransform\u001b[0m\u001b[1;33m(\u001b[0m\u001b[0mX\u001b[0m\u001b[1;33m)\u001b[0m\u001b[1;33m\u001b[0m\u001b[1;33m\u001b[0m\u001b[0m\n\u001b[0m\u001b[0;32m    572\u001b[0m         \u001b[1;32melse\u001b[0m\u001b[1;33m:\u001b[0m\u001b[1;33m\u001b[0m\u001b[1;33m\u001b[0m\u001b[0m\n\u001b[0;32m    573\u001b[0m             \u001b[1;31m# fit method of arity 2 (supervised transformation)\u001b[0m\u001b[1;33m\u001b[0m\u001b[1;33m\u001b[0m\u001b[1;33m\u001b[0m\u001b[0m\n",
      "\u001b[1;32m~\\Miniconda3\\lib\\site-packages\\sklearn\\preprocessing\\_encoders.py\u001b[0m in \u001b[0;36mfit\u001b[1;34m(self, X, y)\u001b[0m\n\u001b[0;32m    345\u001b[0m         \"\"\"\n\u001b[0;32m    346\u001b[0m         \u001b[0mself\u001b[0m\u001b[1;33m.\u001b[0m\u001b[0m_validate_keywords\u001b[0m\u001b[1;33m(\u001b[0m\u001b[1;33m)\u001b[0m\u001b[1;33m\u001b[0m\u001b[1;33m\u001b[0m\u001b[0m\n\u001b[1;32m--> 347\u001b[1;33m         \u001b[0mself\u001b[0m\u001b[1;33m.\u001b[0m\u001b[0m_fit\u001b[0m\u001b[1;33m(\u001b[0m\u001b[0mX\u001b[0m\u001b[1;33m,\u001b[0m \u001b[0mhandle_unknown\u001b[0m\u001b[1;33m=\u001b[0m\u001b[0mself\u001b[0m\u001b[1;33m.\u001b[0m\u001b[0mhandle_unknown\u001b[0m\u001b[1;33m)\u001b[0m\u001b[1;33m\u001b[0m\u001b[1;33m\u001b[0m\u001b[0m\n\u001b[0m\u001b[0;32m    348\u001b[0m         \u001b[0mself\u001b[0m\u001b[1;33m.\u001b[0m\u001b[0mdrop_idx_\u001b[0m \u001b[1;33m=\u001b[0m \u001b[0mself\u001b[0m\u001b[1;33m.\u001b[0m\u001b[0m_compute_drop_idx\u001b[0m\u001b[1;33m(\u001b[0m\u001b[1;33m)\u001b[0m\u001b[1;33m\u001b[0m\u001b[1;33m\u001b[0m\u001b[0m\n\u001b[0;32m    349\u001b[0m         \u001b[1;32mreturn\u001b[0m \u001b[0mself\u001b[0m\u001b[1;33m\u001b[0m\u001b[1;33m\u001b[0m\u001b[0m\n",
      "\u001b[1;32m~\\Miniconda3\\lib\\site-packages\\sklearn\\preprocessing\\_encoders.py\u001b[0m in \u001b[0;36m_fit\u001b[1;34m(self, X, handle_unknown)\u001b[0m\n\u001b[0;32m     84\u001b[0m             \u001b[0mXi\u001b[0m \u001b[1;33m=\u001b[0m \u001b[0mX_list\u001b[0m\u001b[1;33m[\u001b[0m\u001b[0mi\u001b[0m\u001b[1;33m]\u001b[0m\u001b[1;33m\u001b[0m\u001b[1;33m\u001b[0m\u001b[0m\n\u001b[0;32m     85\u001b[0m             \u001b[1;32mif\u001b[0m \u001b[0mself\u001b[0m\u001b[1;33m.\u001b[0m\u001b[0mcategories\u001b[0m \u001b[1;33m==\u001b[0m \u001b[1;34m'auto'\u001b[0m\u001b[1;33m:\u001b[0m\u001b[1;33m\u001b[0m\u001b[1;33m\u001b[0m\u001b[0m\n\u001b[1;32m---> 86\u001b[1;33m                 \u001b[0mcats\u001b[0m \u001b[1;33m=\u001b[0m \u001b[0m_encode\u001b[0m\u001b[1;33m(\u001b[0m\u001b[0mXi\u001b[0m\u001b[1;33m)\u001b[0m\u001b[1;33m\u001b[0m\u001b[1;33m\u001b[0m\u001b[0m\n\u001b[0m\u001b[0;32m     87\u001b[0m             \u001b[1;32melse\u001b[0m\u001b[1;33m:\u001b[0m\u001b[1;33m\u001b[0m\u001b[1;33m\u001b[0m\u001b[0m\n\u001b[0;32m     88\u001b[0m                 \u001b[0mcats\u001b[0m \u001b[1;33m=\u001b[0m \u001b[0mnp\u001b[0m\u001b[1;33m.\u001b[0m\u001b[0marray\u001b[0m\u001b[1;33m(\u001b[0m\u001b[0mself\u001b[0m\u001b[1;33m.\u001b[0m\u001b[0mcategories\u001b[0m\u001b[1;33m[\u001b[0m\u001b[0mi\u001b[0m\u001b[1;33m]\u001b[0m\u001b[1;33m,\u001b[0m \u001b[0mdtype\u001b[0m\u001b[1;33m=\u001b[0m\u001b[0mXi\u001b[0m\u001b[1;33m.\u001b[0m\u001b[0mdtype\u001b[0m\u001b[1;33m)\u001b[0m\u001b[1;33m\u001b[0m\u001b[1;33m\u001b[0m\u001b[0m\n",
      "\u001b[1;32m~\\Miniconda3\\lib\\site-packages\\sklearn\\preprocessing\\_label.py\u001b[0m in \u001b[0;36m_encode\u001b[1;34m(values, uniques, encode, check_unknown)\u001b[0m\n\u001b[0;32m    112\u001b[0m             \u001b[0mres\u001b[0m \u001b[1;33m=\u001b[0m \u001b[0m_encode_python\u001b[0m\u001b[1;33m(\u001b[0m\u001b[0mvalues\u001b[0m\u001b[1;33m,\u001b[0m \u001b[0muniques\u001b[0m\u001b[1;33m,\u001b[0m \u001b[0mencode\u001b[0m\u001b[1;33m)\u001b[0m\u001b[1;33m\u001b[0m\u001b[1;33m\u001b[0m\u001b[0m\n\u001b[0;32m    113\u001b[0m         \u001b[1;32mexcept\u001b[0m \u001b[0mTypeError\u001b[0m\u001b[1;33m:\u001b[0m\u001b[1;33m\u001b[0m\u001b[1;33m\u001b[0m\u001b[0m\n\u001b[1;32m--> 114\u001b[1;33m             \u001b[1;32mraise\u001b[0m \u001b[0mTypeError\u001b[0m\u001b[1;33m(\u001b[0m\u001b[1;34m\"argument must be a string or number\"\u001b[0m\u001b[1;33m)\u001b[0m\u001b[1;33m\u001b[0m\u001b[1;33m\u001b[0m\u001b[0m\n\u001b[0m\u001b[0;32m    115\u001b[0m         \u001b[1;32mreturn\u001b[0m \u001b[0mres\u001b[0m\u001b[1;33m\u001b[0m\u001b[1;33m\u001b[0m\u001b[0m\n\u001b[0;32m    116\u001b[0m     \u001b[1;32melse\u001b[0m\u001b[1;33m:\u001b[0m\u001b[1;33m\u001b[0m\u001b[1;33m\u001b[0m\u001b[0m\n",
      "\u001b[1;31mTypeError\u001b[0m: argument must be a string or number"
     ]
    }
   ],
   "source": [
    "encoder = OneHotEncoder()\n",
    "#df_cat_1hot = encoder.fit_transform(df_cat_encoded.reshape(-1,1))\n",
    "df_cat_1hot = encoder.fit_transform(train[['gwarancja', 'rodzaj karty graficznej']])\n",
    "df_cat_1hot"
   ]
  },
  {
   "cell_type": "markdown",
   "metadata": {},
   "source": [
    "Lepsze gdy w kolumnie masz bardzo dużo kategorii i powstaje macierz rzadka (sparse matrix)\n",
    "W innym przypadku lepiej LabelBinarizer() :)"
   ]
  },
  {
   "cell_type": "code",
   "execution_count": 243,
   "metadata": {},
   "outputs": [
    {
     "data": {
      "text/plain": [
       "scipy.sparse.csr.csr_matrix"
      ]
     },
     "execution_count": 243,
     "metadata": {},
     "output_type": "execute_result"
    }
   ],
   "source": [
    "type(df_cat_1hot)"
   ]
  },
  {
   "cell_type": "code",
   "execution_count": 180,
   "metadata": {},
   "outputs": [],
   "source": [
    "#rooms_ix, bedrooms_ix, population_ix, household_ix = 3, 4, 5, 6\n",
    "\n",
    "buynow_price_ix, taktowanie_bazowe_procesora_ghz_ix, pojemność_dysku_gb_ix = 0, 1, 2\n",
    "\n",
    "class CombinedAttributesAdder(BaseEstimator, TransformerMixin):\n",
    "    \n",
    "    def __init__(self, add_price_per_gb = True): # żadnych zmiennych *args ani **kargs\n",
    "        self.add_price_per_gb = add_price_per_gb\n",
    "    \n",
    "    def fit(self, X, y=None):\n",
    "        return self # nie robi nic innego\n",
    "    \n",
    "    def transform(self, X, y=None):\n",
    "        price_per_ghz = X[:, taktowanie_bazowe_procesora_ghz_ix] / X[:, buynow_price_ix]\n",
    "        #Populacja_na_rodzinę = X[:, population_ix] / X[:, household_ix]\n",
    "        if self.add_price_per_gb:\n",
    "            price_per_gb = X[:, pojemność_dysku_gb_ix] / X[:, buynow_price_ix]\n",
    "            return np.c_[X, price_per_ghz, price_per_gb]\n",
    "        else:\n",
    "            return np.c_[X, price_per_ghz]"
   ]
  },
  {
   "cell_type": "code",
   "execution_count": 171,
   "metadata": {},
   "outputs": [],
   "source": [
    "attr_adder = CombinedAttributesAdder(add_price_per_gb=True)\n",
    "df_extra_attribs = attr_adder.transform(df.values)"
   ]
  },
  {
   "cell_type": "code",
   "execution_count": 206,
   "metadata": {
    "scrolled": true
   },
   "outputs": [
    {
     "data": {
      "text/plain": [
       "numpy.ndarray"
      ]
     },
     "execution_count": 206,
     "metadata": {},
     "output_type": "execute_result"
    }
   ],
   "source": [
    "type(df_extra_attribs)"
   ]
  },
  {
   "cell_type": "code",
   "execution_count": 499,
   "metadata": {},
   "outputs": [],
   "source": [
    "gwarancja_ix = 0\n",
    "\n",
    "class CombinedAttributesAdder_cat(BaseEstimator, TransformerMixin):\n",
    "                 \n",
    "    def __init__(self, trans_gwarancja = True):\n",
    "        self._trans_gwrancja = trans_gwarancja\n",
    "    \n",
    "    def fit(self, X, y = None):\n",
    "        return self # nie robi nic innego\n",
    "    \n",
    "    def transform(self, X, y = None):\n",
    "        if self._trans_gwrancja:\n",
    "            gwarancja_trans = ['producenta' if x == 'producenta' else 'other' for x in X[:, gwarancja_ix]]\n",
    "            X = np.delete(X, gwarancja_ix, 1)\n",
    "            return np.c_[X, np.asarray(gwarancja_trans).reshape(-1,1)]\n",
    "        else:\n",
    "            return X"
   ]
  },
  {
   "cell_type": "code",
   "execution_count": 490,
   "metadata": {
    "scrolled": true
   },
   "outputs": [],
   "source": [
    "attr_adder_cat = CombinedAttributesAdder_cat()\n",
    "df_extra_attribs_cat = attr_adder_cat.transform(train.values)"
   ]
  },
  {
   "cell_type": "code",
   "execution_count": 450,
   "metadata": {},
   "outputs": [
    {
     "data": {
      "text/plain": [
       "array([['sprzedawcy', 'grafika zintegrowana'],\n",
       "       ['producenta', 'grafika dedykowana'],\n",
       "       ['producenta', 'grafika zintegrowana'],\n",
       "       ...,\n",
       "       ['sprzedawcy', 'grafika dedykowana'],\n",
       "       ['producenta', 'grafika dedykowana'],\n",
       "       ['producenta', 'grafika dedykowana']], dtype=object)"
      ]
     },
     "execution_count": 450,
     "metadata": {},
     "output_type": "execute_result"
    }
   ],
   "source": [
    "train[['gwarancja', 'rodzaj karty graficznej']].values"
   ]
  },
  {
   "cell_type": "code",
   "execution_count": 410,
   "metadata": {},
   "outputs": [
    {
     "data": {
      "text/plain": [
       "(5923, 18)"
      ]
     },
     "execution_count": 410,
     "metadata": {},
     "output_type": "execute_result"
    }
   ],
   "source": [
    "df_extra_attribs_cat.shape"
   ]
  },
  {
   "cell_type": "code",
   "execution_count": 400,
   "metadata": {},
   "outputs": [
    {
     "data": {
      "text/plain": [
       "array([['other'],\n",
       "       ['producenta'],\n",
       "       ['producenta'],\n",
       "       ...,\n",
       "       ['other'],\n",
       "       ['producenta'],\n",
       "       ['producenta']], dtype='<U10')"
      ]
     },
     "execution_count": 400,
     "metadata": {},
     "output_type": "execute_result"
    }
   ],
   "source": [
    "df_extra_attribs_cat"
   ]
  },
  {
   "cell_type": "code",
   "execution_count": 389,
   "metadata": {},
   "outputs": [
    {
     "data": {
      "text/plain": [
       "numpy.ndarray"
      ]
     },
     "execution_count": 389,
     "metadata": {},
     "output_type": "execute_result"
    }
   ],
   "source": [
    "type(df_extra_attribs_cat)"
   ]
  },
  {
   "cell_type": "code",
   "execution_count": 381,
   "metadata": {},
   "outputs": [],
   "source": [
    "class DataFrameSelector(BaseEstimator, TransformerMixin):\n",
    "    def __init__(self, attribute_names):\n",
    "        self.attribute_names = attribute_names\n",
    "    def fit(self, X, y=None):\n",
    "        return self\n",
    "    def transform(self, X):\n",
    "        return X[self.attribute_names].values"
   ]
  },
  {
   "cell_type": "code",
   "execution_count": 503,
   "metadata": {},
   "outputs": [],
   "source": [
    "num_attribs = list(train_num)\n",
    "cat_attribs = list([\"gwarancja\",\"typ dysku twardego\"])\n",
    "\n",
    "num_pipeline = Pipeline([\n",
    "    ('selector', DataFrameSelector(num_attribs)),\n",
    "    ('imputer', SimpleImputer(strategy=\"median\")),\n",
    "    ('attribs_adder', CombinedAttributesAdder()),\n",
    "    ('std_scaler', StandardScaler()),\n",
    "    ])\n",
    "\n",
    "cat_pipeline = Pipeline([\n",
    "    ('selector', DataFrameSelector(cat_attribs)),\n",
    "    ('imputerr', SimpleImputer(missing_values=None, strategy=\"most_frequent\")),\n",
    "    ('cat_encoderr',CombinedAttributesAdder_cat()),\n",
    "    ('cat_encoder', OneHotEncoder(sparse=False)),\n",
    "    ])"
   ]
  },
  {
   "cell_type": "code",
   "execution_count": 470,
   "metadata": {
    "scrolled": true
   },
   "outputs": [],
   "source": [
    "tt = num_pipeline.fit_transform(train)\n",
    "ttt = cat_pipeline.fit_transform(train)"
   ]
  },
  {
   "cell_type": "code",
   "execution_count": 395,
   "metadata": {},
   "outputs": [
    {
     "name": "stdout",
     "output_type": "stream",
     "text": [
      "<class 'numpy.ndarray'>\n",
      "<class 'numpy.ndarray'>\n"
     ]
    }
   ],
   "source": [
    "print(type(tt))\n",
    "print(type(ttt))\n"
   ]
  },
  {
   "cell_type": "code",
   "execution_count": 396,
   "metadata": {},
   "outputs": [
    {
     "name": "stdout",
     "output_type": "stream",
     "text": [
      "(5923, 5)\n",
      "(5923, 1)\n"
     ]
    }
   ],
   "source": [
    "print(tt.shape)\n",
    "print(ttt.shape)\n"
   ]
  },
  {
   "cell_type": "code",
   "execution_count": 293,
   "metadata": {},
   "outputs": [
    {
     "name": "stdout",
     "output_type": "stream",
     "text": [
      "[[-1.09861644 -1.24356384 -0.30878236  0.91743709  0.5912995 ]\n",
      " [-0.28558046 -0.97262095 -0.35190072 -0.39807241 -0.31369476]\n",
      " [-0.28558046 -0.70167807 -0.35190072 -0.31393579 -0.31369476]\n",
      " ...\n",
      " [-1.45867523  0.38209347 -1.31775218  4.36265098 -1.0688361 ]\n",
      " [-0.53762161 -0.1597923  -1.11078401  0.18176505 -0.96676405]\n",
      " [-0.31461746  0.11115059 -1.11078401 -0.02728925 -1.00528976]]\n"
     ]
    }
   ],
   "source": [
    "print(tt)"
   ]
  },
  {
   "cell_type": "code",
   "execution_count": 397,
   "metadata": {},
   "outputs": [
    {
     "name": "stdout",
     "output_type": "stream",
     "text": [
      "[[1.]\n",
      " [1.]\n",
      " [1.]\n",
      " ...\n",
      " [1.]\n",
      " [1.]\n",
      " [1.]]\n"
     ]
    }
   ],
   "source": [
    "print(ttt)"
   ]
  },
  {
   "cell_type": "code",
   "execution_count": 504,
   "metadata": {
    "scrolled": true
   },
   "outputs": [],
   "source": [
    "full_pipeline = FeatureUnion(transformer_list=[\n",
    "    (\"num_pipeline\", num_pipeline),\n",
    "    (\"cat_pipeline\", cat_pipeline),\n",
    "])"
   ]
  },
  {
   "cell_type": "code",
   "execution_count": 510,
   "metadata": {},
   "outputs": [
    {
     "data": {
      "text/plain": [
       "array([-0.36691824, -0.96263086, -0.34443422, -0.31375416, -0.25835376,\n",
       "        0.        ,  0.        ,  0.        ,  1.        ,  0.        ,\n",
       "        0.        ,  1.        ])"
      ]
     },
     "execution_count": 510,
     "metadata": {},
     "output_type": "execute_result"
    }
   ],
   "source": [
    "housing_prepared = full_pipeline.fit_transform(train)\n",
    "housing_prepared[3]"
   ]
  },
  {
   "cell_type": "code",
   "execution_count": 452,
   "metadata": {},
   "outputs": [
    {
     "data": {
      "text/plain": [
       "(5923, 11)"
      ]
     },
     "execution_count": 452,
     "metadata": {},
     "output_type": "execute_result"
    }
   ],
   "source": [
    "housing_prepared.shape"
   ]
  },
  {
   "cell_type": "code",
   "execution_count": null,
   "metadata": {},
   "outputs": [],
   "source": []
  },
  {
   "cell_type": "code",
   "execution_count": 55,
   "metadata": {
    "scrolled": true
   },
   "outputs": [
    {
     "data": {
      "text/html": [
       "<div>\n",
       "<style scoped>\n",
       "    .dataframe tbody tr th:only-of-type {\n",
       "        vertical-align: middle;\n",
       "    }\n",
       "\n",
       "    .dataframe tbody tr th {\n",
       "        vertical-align: top;\n",
       "    }\n",
       "\n",
       "    .dataframe thead th {\n",
       "        text-align: right;\n",
       "    }\n",
       "</style>\n",
       "<table border=\"1\" class=\"dataframe\">\n",
       "  <thead>\n",
       "    <tr style=\"text-align: right;\">\n",
       "      <th></th>\n",
       "      <th>buynow_price</th>\n",
       "      <th>taktowanie bazowe procesora (ghz)</th>\n",
       "      <th>pojemność dysku (gb)</th>\n",
       "      <th>price_per_ghz</th>\n",
       "      <th>4242</th>\n",
       "    </tr>\n",
       "  </thead>\n",
       "  <tbody>\n",
       "    <tr>\n",
       "      <th>0</th>\n",
       "      <td>1599.0</td>\n",
       "      <td>1.9</td>\n",
       "      <td>500.0</td>\n",
       "      <td>0.001188</td>\n",
       "      <td>0.312695</td>\n",
       "    </tr>\n",
       "    <tr>\n",
       "      <th>1</th>\n",
       "      <td>2999.0</td>\n",
       "      <td>2.0</td>\n",
       "      <td>480.0</td>\n",
       "      <td>0.000667</td>\n",
       "      <td>0.160053</td>\n",
       "    </tr>\n",
       "    <tr>\n",
       "      <th>2</th>\n",
       "      <td>2999.0</td>\n",
       "      <td>2.1</td>\n",
       "      <td>480.0</td>\n",
       "      <td>0.000700</td>\n",
       "      <td>0.160053</td>\n",
       "    </tr>\n",
       "    <tr>\n",
       "      <th>3</th>\n",
       "      <td>2849.0</td>\n",
       "      <td>2.0</td>\n",
       "      <td>480.0</td>\n",
       "      <td>0.000702</td>\n",
       "      <td>0.168480</td>\n",
       "    </tr>\n",
       "    <tr>\n",
       "      <th>4</th>\n",
       "      <td>2319.0</td>\n",
       "      <td>NaN</td>\n",
       "      <td>NaN</td>\n",
       "      <td>NaN</td>\n",
       "      <td>NaN</td>\n",
       "    </tr>\n",
       "    <tr>\n",
       "      <th>...</th>\n",
       "      <td>...</td>\n",
       "      <td>...</td>\n",
       "      <td>...</td>\n",
       "      <td>...</td>\n",
       "      <td>...</td>\n",
       "    </tr>\n",
       "    <tr>\n",
       "      <th>7848</th>\n",
       "      <td>1329.0</td>\n",
       "      <td>1.6</td>\n",
       "      <td>128.0</td>\n",
       "      <td>0.001204</td>\n",
       "      <td>0.096313</td>\n",
       "    </tr>\n",
       "    <tr>\n",
       "      <th>7849</th>\n",
       "      <td>979.0</td>\n",
       "      <td>NaN</td>\n",
       "      <td>32.0</td>\n",
       "      <td>NaN</td>\n",
       "      <td>0.032686</td>\n",
       "    </tr>\n",
       "    <tr>\n",
       "      <th>7850</th>\n",
       "      <td>2565.0</td>\n",
       "      <td>2.3</td>\n",
       "      <td>128.0</td>\n",
       "      <td>0.000897</td>\n",
       "      <td>0.049903</td>\n",
       "    </tr>\n",
       "    <tr>\n",
       "      <th>7851</th>\n",
       "      <td>4079.0</td>\n",
       "      <td>2.5</td>\n",
       "      <td>1128.0</td>\n",
       "      <td>0.000613</td>\n",
       "      <td>0.276538</td>\n",
       "    </tr>\n",
       "    <tr>\n",
       "      <th>7852</th>\n",
       "      <td>2949.0</td>\n",
       "      <td>2.4</td>\n",
       "      <td>128.0</td>\n",
       "      <td>0.000814</td>\n",
       "      <td>0.043405</td>\n",
       "    </tr>\n",
       "  </tbody>\n",
       "</table>\n",
       "<p>7853 rows × 5 columns</p>\n",
       "</div>"
      ],
      "text/plain": [
       "      buynow_price  taktowanie bazowe procesora (ghz)  pojemność dysku (gb)  \\\n",
       "0           1599.0                                1.9                 500.0   \n",
       "1           2999.0                                2.0                 480.0   \n",
       "2           2999.0                                2.1                 480.0   \n",
       "3           2849.0                                2.0                 480.0   \n",
       "4           2319.0                                NaN                   NaN   \n",
       "...            ...                                ...                   ...   \n",
       "7848        1329.0                                1.6                 128.0   \n",
       "7849         979.0                                NaN                  32.0   \n",
       "7850        2565.0                                2.3                 128.0   \n",
       "7851        4079.0                                2.5                1128.0   \n",
       "7852        2949.0                                2.4                 128.0   \n",
       "\n",
       "      price_per_ghz      4242  \n",
       "0          0.001188  0.312695  \n",
       "1          0.000667  0.160053  \n",
       "2          0.000700  0.160053  \n",
       "3          0.000702  0.168480  \n",
       "4               NaN       NaN  \n",
       "...             ...       ...  \n",
       "7848       0.001204  0.096313  \n",
       "7849            NaN  0.032686  \n",
       "7850       0.000897  0.049903  \n",
       "7851       0.000613  0.276538  \n",
       "7852       0.000814  0.043405  \n",
       "\n",
       "[7853 rows x 5 columns]"
      ]
     },
     "execution_count": 55,
     "metadata": {},
     "output_type": "execute_result"
    }
   ],
   "source": [
    "#pd.DataFrame(df_extra_attribs, columns=df_num.columns)\n",
    "pd.DataFrame(df_extra_attribs, columns = df_num.columns.append(pd.Index(['price_per_ghz','4242'])))\n"
   ]
  },
  {
   "cell_type": "code",
   "execution_count": null,
   "metadata": {},
   "outputs": [],
   "source": []
  },
  {
   "cell_type": "code",
   "execution_count": null,
   "metadata": {},
   "outputs": [],
   "source": []
  },
  {
   "cell_type": "code",
   "execution_count": null,
   "metadata": {},
   "outputs": [],
   "source": []
  },
  {
   "cell_type": "code",
   "execution_count": null,
   "metadata": {},
   "outputs": [],
   "source": []
  },
  {
   "cell_type": "code",
   "execution_count": 5,
   "metadata": {},
   "outputs": [],
   "source": [
    "train = clean_col_meta(train)"
   ]
  },
  {
   "cell_type": "code",
   "execution_count": 444,
   "metadata": {
    "scrolled": true
   },
   "outputs": [
    {
     "data": {
      "text/html": [
       "<div>\n",
       "<style scoped>\n",
       "    .dataframe tbody tr th:only-of-type {\n",
       "        vertical-align: middle;\n",
       "    }\n",
       "\n",
       "    .dataframe tbody tr th {\n",
       "        vertical-align: top;\n",
       "    }\n",
       "\n",
       "    .dataframe thead th {\n",
       "        text-align: right;\n",
       "    }\n",
       "</style>\n",
       "<table border=\"1\" class=\"dataframe\">\n",
       "  <thead>\n",
       "    <tr style=\"text-align: right;\">\n",
       "      <th></th>\n",
       "      <th>buynow_price</th>\n",
       "      <th>rodzaj karty graficznej</th>\n",
       "      <th>komunikacja</th>\n",
       "      <th>rozdzielczość (piksele)</th>\n",
       "      <th>liczba rdzeni procesora</th>\n",
       "      <th>wielkość pamięci ram</th>\n",
       "      <th>system operacyjny</th>\n",
       "      <th>typ dysku twardego</th>\n",
       "      <th>sterowanie</th>\n",
       "      <th>multimedia</th>\n",
       "      <th>typ pamięci ram</th>\n",
       "      <th>taktowanie bazowe procesora (ghz)</th>\n",
       "      <th>seria procesora</th>\n",
       "      <th>stan</th>\n",
       "      <th>pojemność dysku (gb)</th>\n",
       "      <th>gwarancja</th>\n",
       "      <th>wielkość matrycy</th>\n",
       "    </tr>\n",
       "  </thead>\n",
       "  <tbody>\n",
       "    <tr>\n",
       "      <th>70</th>\n",
       "      <td>1599.00</td>\n",
       "      <td>grafika zintegrowana</td>\n",
       "      <td>[wi-fi, bluetooth, lan 10/100/1000 mbps]</td>\n",
       "      <td>1366 x 768</td>\n",
       "      <td>2</td>\n",
       "      <td>8 gb</td>\n",
       "      <td>[windows 10 home]</td>\n",
       "      <td>hdd</td>\n",
       "      <td>[klawiatura, touchpad]</td>\n",
       "      <td>[czytnik kart pamięci, kamera, głośniki, mikro...</td>\n",
       "      <td>ddr3</td>\n",
       "      <td>1.9</td>\n",
       "      <td>intel core i3</td>\n",
       "      <td>nowy</td>\n",
       "      <td>500.0</td>\n",
       "      <td>sprzedawcy</td>\n",
       "      <td>13\" - 13.9\"</td>\n",
       "    </tr>\n",
       "    <tr>\n",
       "      <th>1489</th>\n",
       "      <td>2999.00</td>\n",
       "      <td>grafika dedykowana</td>\n",
       "      <td>[nfc (near field communication), gps]</td>\n",
       "      <td>1920 x 1080</td>\n",
       "      <td>2</td>\n",
       "      <td>12 gb</td>\n",
       "      <td>[windows 10 home]</td>\n",
       "      <td>None</td>\n",
       "      <td>[touchpad]</td>\n",
       "      <td>[czytnik kart pamięci, kamera, głośniki, mikro...</td>\n",
       "      <td>ddr4</td>\n",
       "      <td>2.0</td>\n",
       "      <td>intel core i3</td>\n",
       "      <td>nowy</td>\n",
       "      <td>480.0</td>\n",
       "      <td>producenta</td>\n",
       "      <td>15\" - 15.9\"</td>\n",
       "    </tr>\n",
       "    <tr>\n",
       "      <th>407</th>\n",
       "      <td>2999.00</td>\n",
       "      <td>grafika zintegrowana</td>\n",
       "      <td>[wi-fi, bluetooth, lan 10/100/1000 mbps]</td>\n",
       "      <td>1366 x 768</td>\n",
       "      <td>2</td>\n",
       "      <td>16 gb</td>\n",
       "      <td>[windows 7 professional 64-bit]</td>\n",
       "      <td>ssd</td>\n",
       "      <td>[klawiatura, touchpad, klawiatura numeryczna]</td>\n",
       "      <td>[czytnik kart pamięci, kamera, głośniki, mikro...</td>\n",
       "      <td>ddr3l</td>\n",
       "      <td>2.1</td>\n",
       "      <td>intel pentium dual-core</td>\n",
       "      <td>nowy</td>\n",
       "      <td>480.0</td>\n",
       "      <td>producenta</td>\n",
       "      <td>15\" - 15.9\"</td>\n",
       "    </tr>\n",
       "    <tr>\n",
       "      <th>1359</th>\n",
       "      <td>2849.00</td>\n",
       "      <td>grafika zintegrowana</td>\n",
       "      <td>[wi-fi, bluetooth, lan 10/100/1000 mbps]</td>\n",
       "      <td>1920 x 1080</td>\n",
       "      <td>2</td>\n",
       "      <td>8 gb</td>\n",
       "      <td>[windows 10 professional]</td>\n",
       "      <td>ssd</td>\n",
       "      <td>[klawiatura, touchpad, klawiatura numeryczna]</td>\n",
       "      <td>[czytnik kart pamięci, kamera, głośniki, mikro...</td>\n",
       "      <td>ddr4</td>\n",
       "      <td>2.0</td>\n",
       "      <td>intel core i3</td>\n",
       "      <td>nowy</td>\n",
       "      <td>480.0</td>\n",
       "      <td>producenta</td>\n",
       "      <td>15\" - 15.9\"</td>\n",
       "    </tr>\n",
       "    <tr>\n",
       "      <th>3203</th>\n",
       "      <td>1302.91</td>\n",
       "      <td>grafika zintegrowana</td>\n",
       "      <td>[bluetooth, lan 10/100 mbps]</td>\n",
       "      <td>1366 x 768</td>\n",
       "      <td>2</td>\n",
       "      <td>8 gb</td>\n",
       "      <td>[windows 10 home]</td>\n",
       "      <td>ssd</td>\n",
       "      <td>[klawiatura, touchpad, klawiatura numeryczna]</td>\n",
       "      <td>[czytnik kart pamięci, kamera, głośniki, mikro...</td>\n",
       "      <td>ddr3</td>\n",
       "      <td>1.5</td>\n",
       "      <td>intel celeron dual-core</td>\n",
       "      <td>nowy</td>\n",
       "      <td>128.0</td>\n",
       "      <td>sprzedawcy</td>\n",
       "      <td>15\" - 15.9\"</td>\n",
       "    </tr>\n",
       "    <tr>\n",
       "      <th>7831</th>\n",
       "      <td>1699.00</td>\n",
       "      <td>grafika zintegrowana</td>\n",
       "      <td>[wi-fi, bluetooth, lan 10/100 mbps]</td>\n",
       "      <td>1366 x 768</td>\n",
       "      <td>4</td>\n",
       "      <td>4 gb</td>\n",
       "      <td>[windows 10 home]</td>\n",
       "      <td>ssd</td>\n",
       "      <td>[klawiatura, touchpad, klawiatura numeryczna]</td>\n",
       "      <td>[czytnik kart pamięci, kamera, głośniki, mikro...</td>\n",
       "      <td>ddr3l</td>\n",
       "      <td>1.6</td>\n",
       "      <td>intel pentium quad-core</td>\n",
       "      <td>nowy</td>\n",
       "      <td>120.0</td>\n",
       "      <td>producenta</td>\n",
       "      <td>15\" - 15.9\"</td>\n",
       "    </tr>\n",
       "    <tr>\n",
       "      <th>4586</th>\n",
       "      <td>1769.00</td>\n",
       "      <td>grafika zintegrowana</td>\n",
       "      <td>[wi-fi, bluetooth, lan 10/100/1000 mbps]</td>\n",
       "      <td>1366 x 768</td>\n",
       "      <td>2</td>\n",
       "      <td>8 gb</td>\n",
       "      <td>[windows 10 home]</td>\n",
       "      <td>ssd</td>\n",
       "      <td>[klawiatura, touchpad, klawiatura numeryczna]</td>\n",
       "      <td>[czytnik kart pamięci, kamera, głośniki, mikro...</td>\n",
       "      <td>ddr3</td>\n",
       "      <td>1.7</td>\n",
       "      <td>intel core i3</td>\n",
       "      <td>nowy</td>\n",
       "      <td>256.0</td>\n",
       "      <td>sprzedawcy</td>\n",
       "      <td>15\" - 15.9\"</td>\n",
       "    </tr>\n",
       "    <tr>\n",
       "      <th>7524</th>\n",
       "      <td>5043.00</td>\n",
       "      <td>grafika dedykowana</td>\n",
       "      <td>[bluetooth, lan 10/100 mbps]</td>\n",
       "      <td>1366 x 768</td>\n",
       "      <td>2</td>\n",
       "      <td>8 gb</td>\n",
       "      <td>[windows 10 home]</td>\n",
       "      <td>ssd</td>\n",
       "      <td>[klawiatura, touchpad]</td>\n",
       "      <td>[czytnik kart pamięci, kamera, głośniki]</td>\n",
       "      <td>ddr3</td>\n",
       "      <td>2.6</td>\n",
       "      <td>intel core i5</td>\n",
       "      <td>nowy</td>\n",
       "      <td>1000.0</td>\n",
       "      <td>producenta</td>\n",
       "      <td>15\" - 15.9\"</td>\n",
       "    </tr>\n",
       "    <tr>\n",
       "      <th>10973</th>\n",
       "      <td>6519.00</td>\n",
       "      <td>grafika dedykowana</td>\n",
       "      <td>[bluetooth, lan 10/100/1000 mbps, lan 10/100 m...</td>\n",
       "      <td>3840 x 2160</td>\n",
       "      <td>4</td>\n",
       "      <td>16 gb</td>\n",
       "      <td>[windows 10 home]</td>\n",
       "      <td>hdd</td>\n",
       "      <td>[klawiatura, touchpad, klawiatura podświetlana]</td>\n",
       "      <td>[kamera, głośniki, mikrofon]</td>\n",
       "      <td>ddr4</td>\n",
       "      <td>2.8</td>\n",
       "      <td>intel core i7</td>\n",
       "      <td>nowy</td>\n",
       "      <td>240.0</td>\n",
       "      <td>producenta</td>\n",
       "      <td>15\" - 15.9\"</td>\n",
       "    </tr>\n",
       "    <tr>\n",
       "      <th>1510</th>\n",
       "      <td>2677.00</td>\n",
       "      <td>grafika dedykowana</td>\n",
       "      <td>[wi-fi 802.11 a/b/g/n/ac, bluetooth, lan 10/10...</td>\n",
       "      <td>1920 x 1080</td>\n",
       "      <td>2</td>\n",
       "      <td>12 gb</td>\n",
       "      <td>[brak systemu]</td>\n",
       "      <td>ssd</td>\n",
       "      <td>[klawiatura, touchpad, klawiatura podświetlana...</td>\n",
       "      <td>[czytnik kart pamięci, kamera, głośniki, mikro...</td>\n",
       "      <td>ddr4</td>\n",
       "      <td>2.4</td>\n",
       "      <td>intel core i3</td>\n",
       "      <td>nowy</td>\n",
       "      <td>240.0</td>\n",
       "      <td>producenta</td>\n",
       "      <td>15\" - 15.9\"</td>\n",
       "    </tr>\n",
       "    <tr>\n",
       "      <th>1817</th>\n",
       "      <td>4299.00</td>\n",
       "      <td>grafika dedykowana</td>\n",
       "      <td>None</td>\n",
       "      <td>1920 x 1080</td>\n",
       "      <td>4</td>\n",
       "      <td>None</td>\n",
       "      <td>None</td>\n",
       "      <td>ssd + hdd</td>\n",
       "      <td>None</td>\n",
       "      <td>None</td>\n",
       "      <td>None</td>\n",
       "      <td>NaN</td>\n",
       "      <td>intel core i5</td>\n",
       "      <td>nowy</td>\n",
       "      <td>NaN</td>\n",
       "      <td>producenta</td>\n",
       "      <td>15\" - 15.9\"</td>\n",
       "    </tr>\n",
       "    <tr>\n",
       "      <th>8158</th>\n",
       "      <td>2669.00</td>\n",
       "      <td>grafika dedykowana</td>\n",
       "      <td>[bluetooth, lan 10/100 mbps]</td>\n",
       "      <td>1366 x 768</td>\n",
       "      <td>2</td>\n",
       "      <td>8 gb</td>\n",
       "      <td>[brak systemu]</td>\n",
       "      <td>ssd</td>\n",
       "      <td>[klawiatura, touchpad]</td>\n",
       "      <td>[czytnik kart pamięci, kamera, głośniki]</td>\n",
       "      <td>ddr3</td>\n",
       "      <td>2.6</td>\n",
       "      <td>intel core i5</td>\n",
       "      <td>nowy</td>\n",
       "      <td>480.0</td>\n",
       "      <td>producenta</td>\n",
       "      <td>15\" - 15.9\"</td>\n",
       "    </tr>\n",
       "    <tr>\n",
       "      <th>11252</th>\n",
       "      <td>2799.00</td>\n",
       "      <td>grafika dedykowana</td>\n",
       "      <td>[wi-fi, bluetooth, lan 10/100/1000 mbps]</td>\n",
       "      <td>1920 x 1080</td>\n",
       "      <td>2</td>\n",
       "      <td>8 gb</td>\n",
       "      <td>[brak systemu]</td>\n",
       "      <td>ssd</td>\n",
       "      <td>[klawiatura, touchpad]</td>\n",
       "      <td>[czytnik kart pamięci, kamera, głośniki, mikro...</td>\n",
       "      <td>ddr4</td>\n",
       "      <td>2.5</td>\n",
       "      <td>intel core i5</td>\n",
       "      <td>nowy</td>\n",
       "      <td>256.0</td>\n",
       "      <td>producenta</td>\n",
       "      <td>14\" - 14.9\"</td>\n",
       "    </tr>\n",
       "    <tr>\n",
       "      <th>5561</th>\n",
       "      <td>899.00</td>\n",
       "      <td>None</td>\n",
       "      <td>None</td>\n",
       "      <td>None</td>\n",
       "      <td>2</td>\n",
       "      <td>None</td>\n",
       "      <td>None</td>\n",
       "      <td>None</td>\n",
       "      <td>None</td>\n",
       "      <td>None</td>\n",
       "      <td>None</td>\n",
       "      <td>NaN</td>\n",
       "      <td>None</td>\n",
       "      <td>nowy</td>\n",
       "      <td>NaN</td>\n",
       "      <td>producenta</td>\n",
       "      <td>None</td>\n",
       "    </tr>\n",
       "    <tr>\n",
       "      <th>4717</th>\n",
       "      <td>4349.00</td>\n",
       "      <td>grafika dedykowana</td>\n",
       "      <td>[wi-fi, bluetooth, lan 10/100/1000 mbps]</td>\n",
       "      <td>1920 x 1080</td>\n",
       "      <td>4</td>\n",
       "      <td>16 gb</td>\n",
       "      <td>[windows 10 home]</td>\n",
       "      <td>hdd</td>\n",
       "      <td>[klawiatura, touchpad, klawiatura podświetlana...</td>\n",
       "      <td>[czytnik kart pamięci, kamera, głośniki, mikro...</td>\n",
       "      <td>ddr4</td>\n",
       "      <td>NaN</td>\n",
       "      <td>intel core i7</td>\n",
       "      <td>nowy</td>\n",
       "      <td>1000.0</td>\n",
       "      <td>producenta</td>\n",
       "      <td>15\" - 15.9\"</td>\n",
       "    </tr>\n",
       "    <tr>\n",
       "      <th>7070</th>\n",
       "      <td>6399.00</td>\n",
       "      <td>grafika dedykowana</td>\n",
       "      <td>[bluetooth, nfc (near field communication)]</td>\n",
       "      <td>1920 x 1080</td>\n",
       "      <td>4</td>\n",
       "      <td>8 gb</td>\n",
       "      <td>[windows 10 home]</td>\n",
       "      <td>ssd</td>\n",
       "      <td>[touchpad]</td>\n",
       "      <td>None</td>\n",
       "      <td>ddr4</td>\n",
       "      <td>2.8</td>\n",
       "      <td>intel core i7</td>\n",
       "      <td>nowy</td>\n",
       "      <td>512.0</td>\n",
       "      <td>producenta</td>\n",
       "      <td>15\" - 15.9\"</td>\n",
       "    </tr>\n",
       "    <tr>\n",
       "      <th>2692</th>\n",
       "      <td>6738.00</td>\n",
       "      <td>grafika dedykowana</td>\n",
       "      <td>[bluetooth, lan 10/100/1000 mbps, lan 10/100 m...</td>\n",
       "      <td>1920 x 1080</td>\n",
       "      <td>4</td>\n",
       "      <td>16 gb</td>\n",
       "      <td>[windows 10 professional]</td>\n",
       "      <td>ssd</td>\n",
       "      <td>[klawiatura, touchpad, klawiatura podświetlana]</td>\n",
       "      <td>[czytnik kart pamięci, kamera, głośniki, mikro...</td>\n",
       "      <td>ddr4</td>\n",
       "      <td>2.8</td>\n",
       "      <td>intel core i7</td>\n",
       "      <td>nowy</td>\n",
       "      <td>240.0</td>\n",
       "      <td>producenta</td>\n",
       "      <td>15\" - 15.9\"</td>\n",
       "    </tr>\n",
       "    <tr>\n",
       "      <th>986</th>\n",
       "      <td>3849.00</td>\n",
       "      <td>grafika dedykowana</td>\n",
       "      <td>[lan 10/100 mbps, nfc (near field communicatio...</td>\n",
       "      <td>1920 x 1080</td>\n",
       "      <td>2</td>\n",
       "      <td>8 gb</td>\n",
       "      <td>[windows 10 home]</td>\n",
       "      <td>ssd</td>\n",
       "      <td>[klawiatura, touchpad]</td>\n",
       "      <td>[czytnik kart pamięci, kamera, głośniki, mikro...</td>\n",
       "      <td>ddr4</td>\n",
       "      <td>2.5</td>\n",
       "      <td>intel core i5</td>\n",
       "      <td>nowy</td>\n",
       "      <td>480.0</td>\n",
       "      <td>producenta</td>\n",
       "      <td>15\" - 15.9\"</td>\n",
       "    </tr>\n",
       "    <tr>\n",
       "      <th>4904</th>\n",
       "      <td>1749.00</td>\n",
       "      <td>grafika zintegrowana</td>\n",
       "      <td>[bluetooth, lan 10/100/1000 mbps, lan 10/100 m...</td>\n",
       "      <td>1920 x 1080</td>\n",
       "      <td>2</td>\n",
       "      <td>4 gb</td>\n",
       "      <td>[brak systemu]</td>\n",
       "      <td>hdd</td>\n",
       "      <td>[klawiatura, touchpad]</td>\n",
       "      <td>[czytnik kart pamięci, kamera, mikrofon]</td>\n",
       "      <td>ddr4</td>\n",
       "      <td>2.4</td>\n",
       "      <td>intel core i3</td>\n",
       "      <td>nowy</td>\n",
       "      <td>1000.0</td>\n",
       "      <td>producenta</td>\n",
       "      <td>15\" - 15.9\"</td>\n",
       "    </tr>\n",
       "    <tr>\n",
       "      <th>7893</th>\n",
       "      <td>4099.00</td>\n",
       "      <td>grafika dedykowana</td>\n",
       "      <td>[wi-fi 802.11 b/g/n/ac, bluetooth, lan 10/100/...</td>\n",
       "      <td>1920 x 1080</td>\n",
       "      <td>4</td>\n",
       "      <td>12 gb</td>\n",
       "      <td>[brak systemu]</td>\n",
       "      <td>ssd + hdd</td>\n",
       "      <td>[klawiatura, touchpad, klawiatura podświetlana...</td>\n",
       "      <td>[czytnik kart pamięci, kamera, głośniki, mikro...</td>\n",
       "      <td>ddr4</td>\n",
       "      <td>2.6</td>\n",
       "      <td>intel core i7</td>\n",
       "      <td>nowy</td>\n",
       "      <td>1120.0</td>\n",
       "      <td>producenta</td>\n",
       "      <td>17\" - 17.9\"</td>\n",
       "    </tr>\n",
       "    <tr>\n",
       "      <th>382</th>\n",
       "      <td>3599.00</td>\n",
       "      <td>grafika dedykowana</td>\n",
       "      <td>[lan 10/100 mbps, nfc (near field communicatio...</td>\n",
       "      <td>1920 x 1080</td>\n",
       "      <td>2</td>\n",
       "      <td>8 gb</td>\n",
       "      <td>[windows 10 home]</td>\n",
       "      <td>ssd</td>\n",
       "      <td>[klawiatura, touchpad]</td>\n",
       "      <td>[czytnik kart pamięci, kamera, głośniki, mikro...</td>\n",
       "      <td>ddr4</td>\n",
       "      <td>2.5</td>\n",
       "      <td>intel core i5</td>\n",
       "      <td>nowy</td>\n",
       "      <td>480.0</td>\n",
       "      <td>producenta</td>\n",
       "      <td>15\" - 15.9\"</td>\n",
       "    </tr>\n",
       "    <tr>\n",
       "      <th>10398</th>\n",
       "      <td>3099.00</td>\n",
       "      <td>grafika dedykowana</td>\n",
       "      <td>[wi-fi, bluetooth, lan 10/100/1000 mbps]</td>\n",
       "      <td>1920 x 1080</td>\n",
       "      <td>2</td>\n",
       "      <td>20 gb</td>\n",
       "      <td>[brak systemu]</td>\n",
       "      <td>ssd</td>\n",
       "      <td>[klawiatura, touchpad, klawiatura numeryczna]</td>\n",
       "      <td>[czytnik kart pamięci, kamera, głośniki, mikro...</td>\n",
       "      <td>ddr4</td>\n",
       "      <td>2.3</td>\n",
       "      <td>intel core i5</td>\n",
       "      <td>nowy</td>\n",
       "      <td>250.0</td>\n",
       "      <td>producenta</td>\n",
       "      <td>15\" - 15.9\"</td>\n",
       "    </tr>\n",
       "    <tr>\n",
       "      <th>2360</th>\n",
       "      <td>4687.00</td>\n",
       "      <td>grafika dedykowana</td>\n",
       "      <td>[wi-fi 802.11 b/g/n/ac, bluetooth, lan 10/100/...</td>\n",
       "      <td>1920 x 1080</td>\n",
       "      <td>4</td>\n",
       "      <td>16 gb</td>\n",
       "      <td>[windows 10 home]</td>\n",
       "      <td>ssd</td>\n",
       "      <td>[klawiatura, touchpad, klawiatura podświetlana...</td>\n",
       "      <td>[czytnik kart pamięci, kamera, głośniki, mikro...</td>\n",
       "      <td>ddr4</td>\n",
       "      <td>2.6</td>\n",
       "      <td>intel core i7</td>\n",
       "      <td>nowy</td>\n",
       "      <td>525.0</td>\n",
       "      <td>producenta</td>\n",
       "      <td>17\" - 17.9\"</td>\n",
       "    </tr>\n",
       "    <tr>\n",
       "      <th>11434</th>\n",
       "      <td>4419.00</td>\n",
       "      <td>grafika dedykowana</td>\n",
       "      <td>[wi-fi, bluetooth, lan 10/100/1000 mbps, modem...</td>\n",
       "      <td>1920 x 1080</td>\n",
       "      <td>2</td>\n",
       "      <td>4 gb</td>\n",
       "      <td>[windows 10 professional]</td>\n",
       "      <td>ssd</td>\n",
       "      <td>[klawiatura, touchpad, klawiatura podświetlana]</td>\n",
       "      <td>[czytnik kart pamięci, kamera, głośniki, mikro...</td>\n",
       "      <td>ddr4</td>\n",
       "      <td>2.5</td>\n",
       "      <td>intel core i5</td>\n",
       "      <td>nowy</td>\n",
       "      <td>256.0</td>\n",
       "      <td>producenta</td>\n",
       "      <td>14\" - 14.9\"</td>\n",
       "    </tr>\n",
       "    <tr>\n",
       "      <th>5294</th>\n",
       "      <td>7686.00</td>\n",
       "      <td>grafika dedykowana</td>\n",
       "      <td>[bluetooth, lan 10/100 mbps]</td>\n",
       "      <td>1920 x 1080</td>\n",
       "      <td>4</td>\n",
       "      <td>32 gb</td>\n",
       "      <td>[brak systemu]</td>\n",
       "      <td>ssd + hdd</td>\n",
       "      <td>[klawiatura, touchpad, klawiatura podświetlana]</td>\n",
       "      <td>[kamera, głośniki, mikrofon]</td>\n",
       "      <td>ddr4</td>\n",
       "      <td>2.5</td>\n",
       "      <td>intel core i5</td>\n",
       "      <td>nowy</td>\n",
       "      <td>1256.0</td>\n",
       "      <td>producenta</td>\n",
       "      <td>15\" - 15.9\"</td>\n",
       "    </tr>\n",
       "    <tr>\n",
       "      <th>3254</th>\n",
       "      <td>4699.00</td>\n",
       "      <td>grafika dedykowana</td>\n",
       "      <td>[bluetooth, lan 10/100 mbps]</td>\n",
       "      <td>1920 x 1080</td>\n",
       "      <td>4</td>\n",
       "      <td>16 gb</td>\n",
       "      <td>[windows 10 home]</td>\n",
       "      <td>ssd + hdd</td>\n",
       "      <td>[klawiatura, touchpad, klawiatura podświetlana]</td>\n",
       "      <td>[czytnik kart pamięci, kamera, głośniki, mikro...</td>\n",
       "      <td>ddr4</td>\n",
       "      <td>2.8</td>\n",
       "      <td>intel core i7</td>\n",
       "      <td>nowy</td>\n",
       "      <td>1128.0</td>\n",
       "      <td>producenta</td>\n",
       "      <td>15\" - 15.9\"</td>\n",
       "    </tr>\n",
       "    <tr>\n",
       "      <th>588</th>\n",
       "      <td>3999.00</td>\n",
       "      <td>grafika dedykowana</td>\n",
       "      <td>[wi-fi, bluetooth, lan 10/100/1000 mbps]</td>\n",
       "      <td>1920 x 1080</td>\n",
       "      <td>4</td>\n",
       "      <td>16 gb</td>\n",
       "      <td>[brak systemu]</td>\n",
       "      <td>ssd + hdd</td>\n",
       "      <td>[klawiatura, touchpad, klawiatura podświetlana...</td>\n",
       "      <td>[czytnik kart pamięci, kamera, głośniki, mikro...</td>\n",
       "      <td>ddr4</td>\n",
       "      <td>2.5</td>\n",
       "      <td>intel core i5</td>\n",
       "      <td>nowy</td>\n",
       "      <td>1128.0</td>\n",
       "      <td>producenta</td>\n",
       "      <td>15\" - 15.9\"</td>\n",
       "    </tr>\n",
       "    <tr>\n",
       "      <th>9668</th>\n",
       "      <td>1849.00</td>\n",
       "      <td>grafika dedykowana</td>\n",
       "      <td>[wi-fi, bluetooth]</td>\n",
       "      <td>1366 x 768</td>\n",
       "      <td>2</td>\n",
       "      <td>4 gb</td>\n",
       "      <td>[windows 8.1 professional 64-bit]</td>\n",
       "      <td>hdd</td>\n",
       "      <td>[klawiatura, touchpad]</td>\n",
       "      <td>[czytnik kart pamięci, kamera, głośniki, mikro...</td>\n",
       "      <td>None</td>\n",
       "      <td>2.7</td>\n",
       "      <td>intel core i5</td>\n",
       "      <td>nowy</td>\n",
       "      <td>1000.0</td>\n",
       "      <td>producenta</td>\n",
       "      <td>15\" - 15.9\"</td>\n",
       "    </tr>\n",
       "    <tr>\n",
       "      <th>8468</th>\n",
       "      <td>3849.00</td>\n",
       "      <td>grafika dedykowana</td>\n",
       "      <td>[wi-fi, bluetooth, lan 10/100/1000 mbps]</td>\n",
       "      <td>1920 x 1080</td>\n",
       "      <td>4</td>\n",
       "      <td>8 gb</td>\n",
       "      <td>[windows 10 home]</td>\n",
       "      <td>ssd</td>\n",
       "      <td>[klawiatura, touchpad, klawiatura podświetlana...</td>\n",
       "      <td>[czytnik kart pamięci, kamera, głośniki, mikro...</td>\n",
       "      <td>ddr4</td>\n",
       "      <td>2.3</td>\n",
       "      <td>intel core i5</td>\n",
       "      <td>nowy</td>\n",
       "      <td>250.0</td>\n",
       "      <td>producenta</td>\n",
       "      <td>17\" - 17.9\"</td>\n",
       "    </tr>\n",
       "    <tr>\n",
       "      <th>1912</th>\n",
       "      <td>599.00</td>\n",
       "      <td>grafika zintegrowana</td>\n",
       "      <td>[bluetooth, lan 10/100 mbps]</td>\n",
       "      <td>1366 x 768</td>\n",
       "      <td>2</td>\n",
       "      <td>4 gb</td>\n",
       "      <td>[windows 10 home, inny]</td>\n",
       "      <td>hdd</td>\n",
       "      <td>[klawiatura, touchpad]</td>\n",
       "      <td>[czytnik kart pamięci, kamera, głośniki, mikro...</td>\n",
       "      <td>ddr3</td>\n",
       "      <td>1.0</td>\n",
       "      <td>amd a4</td>\n",
       "      <td>nowy</td>\n",
       "      <td>500.0</td>\n",
       "      <td>producenta</td>\n",
       "      <td>11.9\" i mniej</td>\n",
       "    </tr>\n",
       "    <tr>\n",
       "      <th>9317</th>\n",
       "      <td>4199.00</td>\n",
       "      <td>grafika dedykowana</td>\n",
       "      <td>[wi-fi, bluetooth, lan 10/100/1000 mbps]</td>\n",
       "      <td>1920 x 1080</td>\n",
       "      <td>4</td>\n",
       "      <td>16 gb</td>\n",
       "      <td>[windows 10 home]</td>\n",
       "      <td>ssd</td>\n",
       "      <td>[klawiatura, touchpad, klawiatura podświetlana...</td>\n",
       "      <td>[czytnik kart pamięci, kamera, głośniki, mikro...</td>\n",
       "      <td>ddr4</td>\n",
       "      <td>2.3</td>\n",
       "      <td>intel core i5</td>\n",
       "      <td>nowy</td>\n",
       "      <td>250.0</td>\n",
       "      <td>producenta</td>\n",
       "      <td>17\" - 17.9\"</td>\n",
       "    </tr>\n",
       "    <tr>\n",
       "      <th>3808</th>\n",
       "      <td>3522.00</td>\n",
       "      <td>grafika dedykowana</td>\n",
       "      <td>[bluetooth, lan 10/100 mbps]</td>\n",
       "      <td>1366 x 768</td>\n",
       "      <td>2</td>\n",
       "      <td>8 gb</td>\n",
       "      <td>[brak systemu]</td>\n",
       "      <td>ssd</td>\n",
       "      <td>[klawiatura, touchpad]</td>\n",
       "      <td>[czytnik kart pamięci, kamera, głośniki]</td>\n",
       "      <td>ddr3</td>\n",
       "      <td>2.6</td>\n",
       "      <td>intel core i5</td>\n",
       "      <td>nowy</td>\n",
       "      <td>500.0</td>\n",
       "      <td>producenta</td>\n",
       "      <td>15\" - 15.9\"</td>\n",
       "    </tr>\n",
       "    <tr>\n",
       "      <th>3784</th>\n",
       "      <td>2079.00</td>\n",
       "      <td>grafika zintegrowana</td>\n",
       "      <td>[wi-fi, bluetooth, lan 10/100/1000 mbps]</td>\n",
       "      <td>1600 x 900</td>\n",
       "      <td>2</td>\n",
       "      <td>4 gb</td>\n",
       "      <td>[windows 7 professional 64-bit]</td>\n",
       "      <td>ssd</td>\n",
       "      <td>[klawiatura, touchpad, klawiatura numeryczna]</td>\n",
       "      <td>[czytnik kart pamięci, kamera, głośniki, mikro...</td>\n",
       "      <td>ddr3</td>\n",
       "      <td>2.1</td>\n",
       "      <td>intel pentium dual-core</td>\n",
       "      <td>nowy</td>\n",
       "      <td>120.0</td>\n",
       "      <td>producenta</td>\n",
       "      <td>17\" - 17.9\"</td>\n",
       "    </tr>\n",
       "    <tr>\n",
       "      <th>6590</th>\n",
       "      <td>1599.00</td>\n",
       "      <td>grafika zintegrowana</td>\n",
       "      <td>[wi-fi, bluetooth, lan 10/100/1000 mbps]</td>\n",
       "      <td>1366 x 768</td>\n",
       "      <td>4</td>\n",
       "      <td>8 gb</td>\n",
       "      <td>[windows 10 home]</td>\n",
       "      <td>hdd</td>\n",
       "      <td>[klawiatura, touchpad, klawiatura numeryczna]</td>\n",
       "      <td>[czytnik kart pamięci, kamera, głośniki, mikro...</td>\n",
       "      <td>ddr3</td>\n",
       "      <td>1.1</td>\n",
       "      <td>intel pentium quad-core</td>\n",
       "      <td>nowy</td>\n",
       "      <td>500.0</td>\n",
       "      <td>producenta</td>\n",
       "      <td>15\" - 15.9\"</td>\n",
       "    </tr>\n",
       "    <tr>\n",
       "      <th>3145</th>\n",
       "      <td>5485.00</td>\n",
       "      <td>grafika dedykowana</td>\n",
       "      <td>[bluetooth, lan 10/100 mbps]</td>\n",
       "      <td>1920 x 1080</td>\n",
       "      <td>4</td>\n",
       "      <td>16 gb</td>\n",
       "      <td>[brak systemu]</td>\n",
       "      <td>ssd + hdd</td>\n",
       "      <td>[klawiatura, touchpad, klawiatura podświetlana...</td>\n",
       "      <td>[czytnik kart pamięci, kamera, głośniki, mikro...</td>\n",
       "      <td>ddr4</td>\n",
       "      <td>2.8</td>\n",
       "      <td>intel core i7</td>\n",
       "      <td>nowy</td>\n",
       "      <td>1256.0</td>\n",
       "      <td>producenta</td>\n",
       "      <td>15\" - 15.9\"</td>\n",
       "    </tr>\n",
       "    <tr>\n",
       "      <th>3088</th>\n",
       "      <td>1650.00</td>\n",
       "      <td>None</td>\n",
       "      <td>None</td>\n",
       "      <td>None</td>\n",
       "      <td>2</td>\n",
       "      <td>None</td>\n",
       "      <td>None</td>\n",
       "      <td>None</td>\n",
       "      <td>None</td>\n",
       "      <td>None</td>\n",
       "      <td>None</td>\n",
       "      <td>NaN</td>\n",
       "      <td>None</td>\n",
       "      <td>nowy</td>\n",
       "      <td>160.0</td>\n",
       "      <td>sprzedawcy</td>\n",
       "      <td>None</td>\n",
       "    </tr>\n",
       "    <tr>\n",
       "      <th>6716</th>\n",
       "      <td>1399.00</td>\n",
       "      <td>grafika zintegrowana</td>\n",
       "      <td>[wi-fi, bluetooth, lan 10/100 mbps]</td>\n",
       "      <td>1366 x 768</td>\n",
       "      <td>2</td>\n",
       "      <td>4 gb</td>\n",
       "      <td>[windows 10 home]</td>\n",
       "      <td>hdd</td>\n",
       "      <td>[klawiatura, touchpad, klawiatura numeryczna]</td>\n",
       "      <td>[czytnik kart pamięci, kamera, głośniki, mikro...</td>\n",
       "      <td>ddr3</td>\n",
       "      <td>1.6</td>\n",
       "      <td>intel celeron dual-core</td>\n",
       "      <td>nowy</td>\n",
       "      <td>500.0</td>\n",
       "      <td>producenta</td>\n",
       "      <td>15\" - 15.9\"</td>\n",
       "    </tr>\n",
       "    <tr>\n",
       "      <th>3443</th>\n",
       "      <td>2040.00</td>\n",
       "      <td>grafika zintegrowana</td>\n",
       "      <td>[wi-fi, bluetooth, lan 10/100 mbps]</td>\n",
       "      <td>1366 x 768</td>\n",
       "      <td>2</td>\n",
       "      <td>4 gb</td>\n",
       "      <td>[windows 10 home]</td>\n",
       "      <td>ssd</td>\n",
       "      <td>[klawiatura, touchpad, klawiatura numeryczna]</td>\n",
       "      <td>[czytnik kart pamięci, kamera, głośniki, mikro...</td>\n",
       "      <td>ddr4</td>\n",
       "      <td>2.0</td>\n",
       "      <td>intel core i3</td>\n",
       "      <td>nowy</td>\n",
       "      <td>120.0</td>\n",
       "      <td>producenta</td>\n",
       "      <td>15\" - 15.9\"</td>\n",
       "    </tr>\n",
       "    <tr>\n",
       "      <th>4640</th>\n",
       "      <td>2159.00</td>\n",
       "      <td>grafika zintegrowana</td>\n",
       "      <td>[wi-fi, bluetooth, lan 10/100/1000 mbps]</td>\n",
       "      <td>1600 x 900</td>\n",
       "      <td>2</td>\n",
       "      <td>6 gb</td>\n",
       "      <td>[windows 10 home]</td>\n",
       "      <td>hdd</td>\n",
       "      <td>[klawiatura, touchpad, klawiatura numeryczna]</td>\n",
       "      <td>[czytnik kart pamięci, kamera, głośniki, mikro...</td>\n",
       "      <td>ddr3</td>\n",
       "      <td>2.0</td>\n",
       "      <td>intel core i3</td>\n",
       "      <td>nowy</td>\n",
       "      <td>500.0</td>\n",
       "      <td>sprzedawcy</td>\n",
       "      <td>17\" - 17.9\"</td>\n",
       "    </tr>\n",
       "    <tr>\n",
       "      <th>4233</th>\n",
       "      <td>3499.00</td>\n",
       "      <td>grafika dedykowana</td>\n",
       "      <td>[lan 10/100 mbps, nfc (near field communicatio...</td>\n",
       "      <td>1920 x 1080</td>\n",
       "      <td>2</td>\n",
       "      <td>12 gb</td>\n",
       "      <td>[windows 10 home]</td>\n",
       "      <td>hdd</td>\n",
       "      <td>[klawiatura, touchpad]</td>\n",
       "      <td>[czytnik kart pamięci, kamera, głośniki, mikro...</td>\n",
       "      <td>ddr4</td>\n",
       "      <td>2.5</td>\n",
       "      <td>intel core i5</td>\n",
       "      <td>nowy</td>\n",
       "      <td>1000.0</td>\n",
       "      <td>producenta</td>\n",
       "      <td>15\" - 15.9\"</td>\n",
       "    </tr>\n",
       "    <tr>\n",
       "      <th>8956</th>\n",
       "      <td>8349.00</td>\n",
       "      <td>grafika dedykowana</td>\n",
       "      <td>[bluetooth, lan 10/100 mbps]</td>\n",
       "      <td>1920 x 1080</td>\n",
       "      <td>4</td>\n",
       "      <td>32 gb</td>\n",
       "      <td>[windows 10 home]</td>\n",
       "      <td>hdd</td>\n",
       "      <td>[klawiatura, touchpad, klawiatura podświetlana]</td>\n",
       "      <td>[kamera, głośniki, mikrofon]</td>\n",
       "      <td>ddr4</td>\n",
       "      <td>2.8</td>\n",
       "      <td>intel core i7</td>\n",
       "      <td>nowy</td>\n",
       "      <td>1000.0</td>\n",
       "      <td>producenta</td>\n",
       "      <td>15\" - 15.9\"</td>\n",
       "    </tr>\n",
       "    <tr>\n",
       "      <th>10274</th>\n",
       "      <td>4819.00</td>\n",
       "      <td>grafika dedykowana</td>\n",
       "      <td>[wi-fi, bluetooth, lan 10/100/1000 mbps]</td>\n",
       "      <td>1920 x 1080</td>\n",
       "      <td>4</td>\n",
       "      <td>12 gb</td>\n",
       "      <td>[windows 10 home]</td>\n",
       "      <td>ssd</td>\n",
       "      <td>[klawiatura, touchpad, klawiatura podświetlana...</td>\n",
       "      <td>[czytnik kart pamięci, kamera, głośniki, mikro...</td>\n",
       "      <td>ddr3l</td>\n",
       "      <td>2.6</td>\n",
       "      <td>intel core i7</td>\n",
       "      <td>nowy</td>\n",
       "      <td>960.0</td>\n",
       "      <td>producenta</td>\n",
       "      <td>17\" - 17.9\"</td>\n",
       "    </tr>\n",
       "    <tr>\n",
       "      <th>10551</th>\n",
       "      <td>4509.00</td>\n",
       "      <td>grafika dedykowana</td>\n",
       "      <td>[bluetooth, lan 10/100 mbps]</td>\n",
       "      <td>1920 x 1080</td>\n",
       "      <td>4</td>\n",
       "      <td>16 gb</td>\n",
       "      <td>[windows 10 home]</td>\n",
       "      <td>ssd</td>\n",
       "      <td>[klawiatura, touchpad, klawiatura podświetlana]</td>\n",
       "      <td>[czytnik kart pamięci, kamera, głośniki, mikro...</td>\n",
       "      <td>ddr4</td>\n",
       "      <td>2.8</td>\n",
       "      <td>intel core i7</td>\n",
       "      <td>nowy</td>\n",
       "      <td>240.0</td>\n",
       "      <td>producenta</td>\n",
       "      <td>15\" - 15.9\"</td>\n",
       "    </tr>\n",
       "    <tr>\n",
       "      <th>11680</th>\n",
       "      <td>3199.00</td>\n",
       "      <td>grafika dedykowana</td>\n",
       "      <td>[wi-fi, bluetooth, lan 10/100/1000 mbps]</td>\n",
       "      <td>1920 x 1080</td>\n",
       "      <td>2</td>\n",
       "      <td>20 gb</td>\n",
       "      <td>[windows 10 home]</td>\n",
       "      <td>hdd</td>\n",
       "      <td>[klawiatura, touchpad, klawiatura podświetlana...</td>\n",
       "      <td>[czytnik kart pamięci, kamera, głośniki, mikro...</td>\n",
       "      <td>ddr4</td>\n",
       "      <td>2.3</td>\n",
       "      <td>intel core i3</td>\n",
       "      <td>nowy</td>\n",
       "      <td>1000.0</td>\n",
       "      <td>producenta</td>\n",
       "      <td>15\" - 15.9\"</td>\n",
       "    </tr>\n",
       "    <tr>\n",
       "      <th>6641</th>\n",
       "      <td>6174.00</td>\n",
       "      <td>grafika dedykowana</td>\n",
       "      <td>[bluetooth, lan 10/100 mbps, intel wireless di...</td>\n",
       "      <td>1920 x 1080</td>\n",
       "      <td>4</td>\n",
       "      <td>32 gb</td>\n",
       "      <td>[windows 10 home]</td>\n",
       "      <td>ssd + hdd</td>\n",
       "      <td>[klawiatura, touchpad, klawiatura podświetlana...</td>\n",
       "      <td>[czytnik kart pamięci, kamera, głośniki, mikro...</td>\n",
       "      <td>ddr4</td>\n",
       "      <td>2.3</td>\n",
       "      <td>intel core i5</td>\n",
       "      <td>nowy</td>\n",
       "      <td>1525.0</td>\n",
       "      <td>producenta</td>\n",
       "      <td>17\" - 17.9\"</td>\n",
       "    </tr>\n",
       "    <tr>\n",
       "      <th>4918</th>\n",
       "      <td>4649.00</td>\n",
       "      <td>grafika zintegrowana</td>\n",
       "      <td>[bluetooth, nfc (near field communication)]</td>\n",
       "      <td>1920 x 1080</td>\n",
       "      <td>2</td>\n",
       "      <td>8 gb</td>\n",
       "      <td>[windows 10 home]</td>\n",
       "      <td>ssd</td>\n",
       "      <td>[klawiatura, touchpad]</td>\n",
       "      <td>[kamera, głośniki, mikrofon]</td>\n",
       "      <td>ddr4</td>\n",
       "      <td>2.7</td>\n",
       "      <td>intel core i7</td>\n",
       "      <td>nowy</td>\n",
       "      <td>256.0</td>\n",
       "      <td>producenta</td>\n",
       "      <td>13\" - 13.9\"</td>\n",
       "    </tr>\n",
       "    <tr>\n",
       "      <th>1225</th>\n",
       "      <td>1877.00</td>\n",
       "      <td>grafika dedykowana</td>\n",
       "      <td>[wi-fi, bluetooth, lan 10/100/1000 mbps]</td>\n",
       "      <td>1366 x 768</td>\n",
       "      <td>2</td>\n",
       "      <td>4 gb</td>\n",
       "      <td>[windows 10 home]</td>\n",
       "      <td>ssd</td>\n",
       "      <td>[klawiatura, touchpad, klawiatura numeryczna]</td>\n",
       "      <td>[czytnik kart pamięci, kamera, głośniki, mikro...</td>\n",
       "      <td>ddr4</td>\n",
       "      <td>2.3</td>\n",
       "      <td>intel core i3</td>\n",
       "      <td>nowy</td>\n",
       "      <td>120.0</td>\n",
       "      <td>producenta</td>\n",
       "      <td>15\" - 15.9\"</td>\n",
       "    </tr>\n",
       "    <tr>\n",
       "      <th>3409</th>\n",
       "      <td>3639.00</td>\n",
       "      <td>None</td>\n",
       "      <td>None</td>\n",
       "      <td>None</td>\n",
       "      <td>2</td>\n",
       "      <td>12 gb</td>\n",
       "      <td>None</td>\n",
       "      <td>None</td>\n",
       "      <td>[klawiatura, touchpad]</td>\n",
       "      <td>None</td>\n",
       "      <td>None</td>\n",
       "      <td>NaN</td>\n",
       "      <td>None</td>\n",
       "      <td>nowy</td>\n",
       "      <td>240.0</td>\n",
       "      <td>producenta</td>\n",
       "      <td>15\" - 15.9\"</td>\n",
       "    </tr>\n",
       "    <tr>\n",
       "      <th>1534</th>\n",
       "      <td>2999.00</td>\n",
       "      <td>grafika dedykowana</td>\n",
       "      <td>[wi-fi, bluetooth, lan 10/100/1000 mbps]</td>\n",
       "      <td>1600 x 900</td>\n",
       "      <td>2</td>\n",
       "      <td>6 gb</td>\n",
       "      <td>[windows 10 home]</td>\n",
       "      <td>ssd</td>\n",
       "      <td>[klawiatura, touchpad, klawiatura numeryczna]</td>\n",
       "      <td>[czytnik kart pamięci, kamera, głośniki, mikro...</td>\n",
       "      <td>ddr3</td>\n",
       "      <td>2.5</td>\n",
       "      <td>intel core i7</td>\n",
       "      <td>nowy</td>\n",
       "      <td>256.0</td>\n",
       "      <td>sprzedawcy</td>\n",
       "      <td>17\" - 17.9\"</td>\n",
       "    </tr>\n",
       "    <tr>\n",
       "      <th>975</th>\n",
       "      <td>3769.00</td>\n",
       "      <td>grafika dedykowana</td>\n",
       "      <td>[lan 10/100/1000 mbps, nfc (near field communi...</td>\n",
       "      <td>1920 x 1080</td>\n",
       "      <td>4</td>\n",
       "      <td>12 gb</td>\n",
       "      <td>[brak systemu]</td>\n",
       "      <td>ssd + hdd</td>\n",
       "      <td>[klawiatura, touchpad, klawiatura podświetlana]</td>\n",
       "      <td>[czytnik kart pamięci, kamera, głośniki]</td>\n",
       "      <td>ddr4</td>\n",
       "      <td>2.5</td>\n",
       "      <td>intel core i5</td>\n",
       "      <td>nowy</td>\n",
       "      <td>1256.0</td>\n",
       "      <td>producenta</td>\n",
       "      <td>15\" - 15.9\"</td>\n",
       "    </tr>\n",
       "  </tbody>\n",
       "</table>\n",
       "</div>"
      ],
      "text/plain": [
       "       buynow_price rodzaj karty graficznej  \\\n",
       "70          1599.00    grafika zintegrowana   \n",
       "1489        2999.00      grafika dedykowana   \n",
       "407         2999.00    grafika zintegrowana   \n",
       "1359        2849.00    grafika zintegrowana   \n",
       "3203        1302.91    grafika zintegrowana   \n",
       "7831        1699.00    grafika zintegrowana   \n",
       "4586        1769.00    grafika zintegrowana   \n",
       "7524        5043.00      grafika dedykowana   \n",
       "10973       6519.00      grafika dedykowana   \n",
       "1510        2677.00      grafika dedykowana   \n",
       "1817        4299.00      grafika dedykowana   \n",
       "8158        2669.00      grafika dedykowana   \n",
       "11252       2799.00      grafika dedykowana   \n",
       "5561         899.00                    None   \n",
       "4717        4349.00      grafika dedykowana   \n",
       "7070        6399.00      grafika dedykowana   \n",
       "2692        6738.00      grafika dedykowana   \n",
       "986         3849.00      grafika dedykowana   \n",
       "4904        1749.00    grafika zintegrowana   \n",
       "7893        4099.00      grafika dedykowana   \n",
       "382         3599.00      grafika dedykowana   \n",
       "10398       3099.00      grafika dedykowana   \n",
       "2360        4687.00      grafika dedykowana   \n",
       "11434       4419.00      grafika dedykowana   \n",
       "5294        7686.00      grafika dedykowana   \n",
       "3254        4699.00      grafika dedykowana   \n",
       "588         3999.00      grafika dedykowana   \n",
       "9668        1849.00      grafika dedykowana   \n",
       "8468        3849.00      grafika dedykowana   \n",
       "1912         599.00    grafika zintegrowana   \n",
       "9317        4199.00      grafika dedykowana   \n",
       "3808        3522.00      grafika dedykowana   \n",
       "3784        2079.00    grafika zintegrowana   \n",
       "6590        1599.00    grafika zintegrowana   \n",
       "3145        5485.00      grafika dedykowana   \n",
       "3088        1650.00                    None   \n",
       "6716        1399.00    grafika zintegrowana   \n",
       "3443        2040.00    grafika zintegrowana   \n",
       "4640        2159.00    grafika zintegrowana   \n",
       "4233        3499.00      grafika dedykowana   \n",
       "8956        8349.00      grafika dedykowana   \n",
       "10274       4819.00      grafika dedykowana   \n",
       "10551       4509.00      grafika dedykowana   \n",
       "11680       3199.00      grafika dedykowana   \n",
       "6641        6174.00      grafika dedykowana   \n",
       "4918        4649.00    grafika zintegrowana   \n",
       "1225        1877.00      grafika dedykowana   \n",
       "3409        3639.00                    None   \n",
       "1534        2999.00      grafika dedykowana   \n",
       "975         3769.00      grafika dedykowana   \n",
       "\n",
       "                                             komunikacja  \\\n",
       "70              [wi-fi, bluetooth, lan 10/100/1000 mbps]   \n",
       "1489               [nfc (near field communication), gps]   \n",
       "407             [wi-fi, bluetooth, lan 10/100/1000 mbps]   \n",
       "1359            [wi-fi, bluetooth, lan 10/100/1000 mbps]   \n",
       "3203                        [bluetooth, lan 10/100 mbps]   \n",
       "7831                 [wi-fi, bluetooth, lan 10/100 mbps]   \n",
       "4586            [wi-fi, bluetooth, lan 10/100/1000 mbps]   \n",
       "7524                        [bluetooth, lan 10/100 mbps]   \n",
       "10973  [bluetooth, lan 10/100/1000 mbps, lan 10/100 m...   \n",
       "1510   [wi-fi 802.11 a/b/g/n/ac, bluetooth, lan 10/10...   \n",
       "1817                                                None   \n",
       "8158                        [bluetooth, lan 10/100 mbps]   \n",
       "11252           [wi-fi, bluetooth, lan 10/100/1000 mbps]   \n",
       "5561                                                None   \n",
       "4717            [wi-fi, bluetooth, lan 10/100/1000 mbps]   \n",
       "7070         [bluetooth, nfc (near field communication)]   \n",
       "2692   [bluetooth, lan 10/100/1000 mbps, lan 10/100 m...   \n",
       "986    [lan 10/100 mbps, nfc (near field communicatio...   \n",
       "4904   [bluetooth, lan 10/100/1000 mbps, lan 10/100 m...   \n",
       "7893   [wi-fi 802.11 b/g/n/ac, bluetooth, lan 10/100/...   \n",
       "382    [lan 10/100 mbps, nfc (near field communicatio...   \n",
       "10398           [wi-fi, bluetooth, lan 10/100/1000 mbps]   \n",
       "2360   [wi-fi 802.11 b/g/n/ac, bluetooth, lan 10/100/...   \n",
       "11434  [wi-fi, bluetooth, lan 10/100/1000 mbps, modem...   \n",
       "5294                        [bluetooth, lan 10/100 mbps]   \n",
       "3254                        [bluetooth, lan 10/100 mbps]   \n",
       "588             [wi-fi, bluetooth, lan 10/100/1000 mbps]   \n",
       "9668                                  [wi-fi, bluetooth]   \n",
       "8468            [wi-fi, bluetooth, lan 10/100/1000 mbps]   \n",
       "1912                        [bluetooth, lan 10/100 mbps]   \n",
       "9317            [wi-fi, bluetooth, lan 10/100/1000 mbps]   \n",
       "3808                        [bluetooth, lan 10/100 mbps]   \n",
       "3784            [wi-fi, bluetooth, lan 10/100/1000 mbps]   \n",
       "6590            [wi-fi, bluetooth, lan 10/100/1000 mbps]   \n",
       "3145                        [bluetooth, lan 10/100 mbps]   \n",
       "3088                                                None   \n",
       "6716                 [wi-fi, bluetooth, lan 10/100 mbps]   \n",
       "3443                 [wi-fi, bluetooth, lan 10/100 mbps]   \n",
       "4640            [wi-fi, bluetooth, lan 10/100/1000 mbps]   \n",
       "4233   [lan 10/100 mbps, nfc (near field communicatio...   \n",
       "8956                        [bluetooth, lan 10/100 mbps]   \n",
       "10274           [wi-fi, bluetooth, lan 10/100/1000 mbps]   \n",
       "10551                       [bluetooth, lan 10/100 mbps]   \n",
       "11680           [wi-fi, bluetooth, lan 10/100/1000 mbps]   \n",
       "6641   [bluetooth, lan 10/100 mbps, intel wireless di...   \n",
       "4918         [bluetooth, nfc (near field communication)]   \n",
       "1225            [wi-fi, bluetooth, lan 10/100/1000 mbps]   \n",
       "3409                                                None   \n",
       "1534            [wi-fi, bluetooth, lan 10/100/1000 mbps]   \n",
       "975    [lan 10/100/1000 mbps, nfc (near field communi...   \n",
       "\n",
       "      rozdzielczość (piksele) liczba rdzeni procesora wielkość pamięci ram  \\\n",
       "70                 1366 x 768                       2                 8 gb   \n",
       "1489              1920 x 1080                       2                12 gb   \n",
       "407                1366 x 768                       2                16 gb   \n",
       "1359              1920 x 1080                       2                 8 gb   \n",
       "3203               1366 x 768                       2                 8 gb   \n",
       "7831               1366 x 768                       4                 4 gb   \n",
       "4586               1366 x 768                       2                 8 gb   \n",
       "7524               1366 x 768                       2                 8 gb   \n",
       "10973             3840 x 2160                       4                16 gb   \n",
       "1510              1920 x 1080                       2                12 gb   \n",
       "1817              1920 x 1080                       4                 None   \n",
       "8158               1366 x 768                       2                 8 gb   \n",
       "11252             1920 x 1080                       2                 8 gb   \n",
       "5561                     None                       2                 None   \n",
       "4717              1920 x 1080                       4                16 gb   \n",
       "7070              1920 x 1080                       4                 8 gb   \n",
       "2692              1920 x 1080                       4                16 gb   \n",
       "986               1920 x 1080                       2                 8 gb   \n",
       "4904              1920 x 1080                       2                 4 gb   \n",
       "7893              1920 x 1080                       4                12 gb   \n",
       "382               1920 x 1080                       2                 8 gb   \n",
       "10398             1920 x 1080                       2                20 gb   \n",
       "2360              1920 x 1080                       4                16 gb   \n",
       "11434             1920 x 1080                       2                 4 gb   \n",
       "5294              1920 x 1080                       4                32 gb   \n",
       "3254              1920 x 1080                       4                16 gb   \n",
       "588               1920 x 1080                       4                16 gb   \n",
       "9668               1366 x 768                       2                 4 gb   \n",
       "8468              1920 x 1080                       4                 8 gb   \n",
       "1912               1366 x 768                       2                 4 gb   \n",
       "9317              1920 x 1080                       4                16 gb   \n",
       "3808               1366 x 768                       2                 8 gb   \n",
       "3784               1600 x 900                       2                 4 gb   \n",
       "6590               1366 x 768                       4                 8 gb   \n",
       "3145              1920 x 1080                       4                16 gb   \n",
       "3088                     None                       2                 None   \n",
       "6716               1366 x 768                       2                 4 gb   \n",
       "3443               1366 x 768                       2                 4 gb   \n",
       "4640               1600 x 900                       2                 6 gb   \n",
       "4233              1920 x 1080                       2                12 gb   \n",
       "8956              1920 x 1080                       4                32 gb   \n",
       "10274             1920 x 1080                       4                12 gb   \n",
       "10551             1920 x 1080                       4                16 gb   \n",
       "11680             1920 x 1080                       2                20 gb   \n",
       "6641              1920 x 1080                       4                32 gb   \n",
       "4918              1920 x 1080                       2                 8 gb   \n",
       "1225               1366 x 768                       2                 4 gb   \n",
       "3409                     None                       2                12 gb   \n",
       "1534               1600 x 900                       2                 6 gb   \n",
       "975               1920 x 1080                       4                12 gb   \n",
       "\n",
       "                       system operacyjny typ dysku twardego  \\\n",
       "70                     [windows 10 home]                hdd   \n",
       "1489                   [windows 10 home]               None   \n",
       "407      [windows 7 professional 64-bit]                ssd   \n",
       "1359           [windows 10 professional]                ssd   \n",
       "3203                   [windows 10 home]                ssd   \n",
       "7831                   [windows 10 home]                ssd   \n",
       "4586                   [windows 10 home]                ssd   \n",
       "7524                   [windows 10 home]                ssd   \n",
       "10973                  [windows 10 home]                hdd   \n",
       "1510                      [brak systemu]                ssd   \n",
       "1817                                None          ssd + hdd   \n",
       "8158                      [brak systemu]                ssd   \n",
       "11252                     [brak systemu]                ssd   \n",
       "5561                                None               None   \n",
       "4717                   [windows 10 home]                hdd   \n",
       "7070                   [windows 10 home]                ssd   \n",
       "2692           [windows 10 professional]                ssd   \n",
       "986                    [windows 10 home]                ssd   \n",
       "4904                      [brak systemu]                hdd   \n",
       "7893                      [brak systemu]          ssd + hdd   \n",
       "382                    [windows 10 home]                ssd   \n",
       "10398                     [brak systemu]                ssd   \n",
       "2360                   [windows 10 home]                ssd   \n",
       "11434          [windows 10 professional]                ssd   \n",
       "5294                      [brak systemu]          ssd + hdd   \n",
       "3254                   [windows 10 home]          ssd + hdd   \n",
       "588                       [brak systemu]          ssd + hdd   \n",
       "9668   [windows 8.1 professional 64-bit]                hdd   \n",
       "8468                   [windows 10 home]                ssd   \n",
       "1912             [windows 10 home, inny]                hdd   \n",
       "9317                   [windows 10 home]                ssd   \n",
       "3808                      [brak systemu]                ssd   \n",
       "3784     [windows 7 professional 64-bit]                ssd   \n",
       "6590                   [windows 10 home]                hdd   \n",
       "3145                      [brak systemu]          ssd + hdd   \n",
       "3088                                None               None   \n",
       "6716                   [windows 10 home]                hdd   \n",
       "3443                   [windows 10 home]                ssd   \n",
       "4640                   [windows 10 home]                hdd   \n",
       "4233                   [windows 10 home]                hdd   \n",
       "8956                   [windows 10 home]                hdd   \n",
       "10274                  [windows 10 home]                ssd   \n",
       "10551                  [windows 10 home]                ssd   \n",
       "11680                  [windows 10 home]                hdd   \n",
       "6641                   [windows 10 home]          ssd + hdd   \n",
       "4918                   [windows 10 home]                ssd   \n",
       "1225                   [windows 10 home]                ssd   \n",
       "3409                                None               None   \n",
       "1534                   [windows 10 home]                ssd   \n",
       "975                       [brak systemu]          ssd + hdd   \n",
       "\n",
       "                                              sterowanie  \\\n",
       "70                                [klawiatura, touchpad]   \n",
       "1489                                          [touchpad]   \n",
       "407        [klawiatura, touchpad, klawiatura numeryczna]   \n",
       "1359       [klawiatura, touchpad, klawiatura numeryczna]   \n",
       "3203       [klawiatura, touchpad, klawiatura numeryczna]   \n",
       "7831       [klawiatura, touchpad, klawiatura numeryczna]   \n",
       "4586       [klawiatura, touchpad, klawiatura numeryczna]   \n",
       "7524                              [klawiatura, touchpad]   \n",
       "10973    [klawiatura, touchpad, klawiatura podświetlana]   \n",
       "1510   [klawiatura, touchpad, klawiatura podświetlana...   \n",
       "1817                                                None   \n",
       "8158                              [klawiatura, touchpad]   \n",
       "11252                             [klawiatura, touchpad]   \n",
       "5561                                                None   \n",
       "4717   [klawiatura, touchpad, klawiatura podświetlana...   \n",
       "7070                                          [touchpad]   \n",
       "2692     [klawiatura, touchpad, klawiatura podświetlana]   \n",
       "986                               [klawiatura, touchpad]   \n",
       "4904                              [klawiatura, touchpad]   \n",
       "7893   [klawiatura, touchpad, klawiatura podświetlana...   \n",
       "382                               [klawiatura, touchpad]   \n",
       "10398      [klawiatura, touchpad, klawiatura numeryczna]   \n",
       "2360   [klawiatura, touchpad, klawiatura podświetlana...   \n",
       "11434    [klawiatura, touchpad, klawiatura podświetlana]   \n",
       "5294     [klawiatura, touchpad, klawiatura podświetlana]   \n",
       "3254     [klawiatura, touchpad, klawiatura podświetlana]   \n",
       "588    [klawiatura, touchpad, klawiatura podświetlana...   \n",
       "9668                              [klawiatura, touchpad]   \n",
       "8468   [klawiatura, touchpad, klawiatura podświetlana...   \n",
       "1912                              [klawiatura, touchpad]   \n",
       "9317   [klawiatura, touchpad, klawiatura podświetlana...   \n",
       "3808                              [klawiatura, touchpad]   \n",
       "3784       [klawiatura, touchpad, klawiatura numeryczna]   \n",
       "6590       [klawiatura, touchpad, klawiatura numeryczna]   \n",
       "3145   [klawiatura, touchpad, klawiatura podświetlana...   \n",
       "3088                                                None   \n",
       "6716       [klawiatura, touchpad, klawiatura numeryczna]   \n",
       "3443       [klawiatura, touchpad, klawiatura numeryczna]   \n",
       "4640       [klawiatura, touchpad, klawiatura numeryczna]   \n",
       "4233                              [klawiatura, touchpad]   \n",
       "8956     [klawiatura, touchpad, klawiatura podświetlana]   \n",
       "10274  [klawiatura, touchpad, klawiatura podświetlana...   \n",
       "10551    [klawiatura, touchpad, klawiatura podświetlana]   \n",
       "11680  [klawiatura, touchpad, klawiatura podświetlana...   \n",
       "6641   [klawiatura, touchpad, klawiatura podświetlana...   \n",
       "4918                              [klawiatura, touchpad]   \n",
       "1225       [klawiatura, touchpad, klawiatura numeryczna]   \n",
       "3409                              [klawiatura, touchpad]   \n",
       "1534       [klawiatura, touchpad, klawiatura numeryczna]   \n",
       "975      [klawiatura, touchpad, klawiatura podświetlana]   \n",
       "\n",
       "                                              multimedia typ pamięci ram  \\\n",
       "70     [czytnik kart pamięci, kamera, głośniki, mikro...            ddr3   \n",
       "1489   [czytnik kart pamięci, kamera, głośniki, mikro...            ddr4   \n",
       "407    [czytnik kart pamięci, kamera, głośniki, mikro...           ddr3l   \n",
       "1359   [czytnik kart pamięci, kamera, głośniki, mikro...            ddr4   \n",
       "3203   [czytnik kart pamięci, kamera, głośniki, mikro...            ddr3   \n",
       "7831   [czytnik kart pamięci, kamera, głośniki, mikro...           ddr3l   \n",
       "4586   [czytnik kart pamięci, kamera, głośniki, mikro...            ddr3   \n",
       "7524            [czytnik kart pamięci, kamera, głośniki]            ddr3   \n",
       "10973                       [kamera, głośniki, mikrofon]            ddr4   \n",
       "1510   [czytnik kart pamięci, kamera, głośniki, mikro...            ddr4   \n",
       "1817                                                None            None   \n",
       "8158            [czytnik kart pamięci, kamera, głośniki]            ddr3   \n",
       "11252  [czytnik kart pamięci, kamera, głośniki, mikro...            ddr4   \n",
       "5561                                                None            None   \n",
       "4717   [czytnik kart pamięci, kamera, głośniki, mikro...            ddr4   \n",
       "7070                                                None            ddr4   \n",
       "2692   [czytnik kart pamięci, kamera, głośniki, mikro...            ddr4   \n",
       "986    [czytnik kart pamięci, kamera, głośniki, mikro...            ddr4   \n",
       "4904            [czytnik kart pamięci, kamera, mikrofon]            ddr4   \n",
       "7893   [czytnik kart pamięci, kamera, głośniki, mikro...            ddr4   \n",
       "382    [czytnik kart pamięci, kamera, głośniki, mikro...            ddr4   \n",
       "10398  [czytnik kart pamięci, kamera, głośniki, mikro...            ddr4   \n",
       "2360   [czytnik kart pamięci, kamera, głośniki, mikro...            ddr4   \n",
       "11434  [czytnik kart pamięci, kamera, głośniki, mikro...            ddr4   \n",
       "5294                        [kamera, głośniki, mikrofon]            ddr4   \n",
       "3254   [czytnik kart pamięci, kamera, głośniki, mikro...            ddr4   \n",
       "588    [czytnik kart pamięci, kamera, głośniki, mikro...            ddr4   \n",
       "9668   [czytnik kart pamięci, kamera, głośniki, mikro...            None   \n",
       "8468   [czytnik kart pamięci, kamera, głośniki, mikro...            ddr4   \n",
       "1912   [czytnik kart pamięci, kamera, głośniki, mikro...            ddr3   \n",
       "9317   [czytnik kart pamięci, kamera, głośniki, mikro...            ddr4   \n",
       "3808            [czytnik kart pamięci, kamera, głośniki]            ddr3   \n",
       "3784   [czytnik kart pamięci, kamera, głośniki, mikro...            ddr3   \n",
       "6590   [czytnik kart pamięci, kamera, głośniki, mikro...            ddr3   \n",
       "3145   [czytnik kart pamięci, kamera, głośniki, mikro...            ddr4   \n",
       "3088                                                None            None   \n",
       "6716   [czytnik kart pamięci, kamera, głośniki, mikro...            ddr3   \n",
       "3443   [czytnik kart pamięci, kamera, głośniki, mikro...            ddr4   \n",
       "4640   [czytnik kart pamięci, kamera, głośniki, mikro...            ddr3   \n",
       "4233   [czytnik kart pamięci, kamera, głośniki, mikro...            ddr4   \n",
       "8956                        [kamera, głośniki, mikrofon]            ddr4   \n",
       "10274  [czytnik kart pamięci, kamera, głośniki, mikro...           ddr3l   \n",
       "10551  [czytnik kart pamięci, kamera, głośniki, mikro...            ddr4   \n",
       "11680  [czytnik kart pamięci, kamera, głośniki, mikro...            ddr4   \n",
       "6641   [czytnik kart pamięci, kamera, głośniki, mikro...            ddr4   \n",
       "4918                        [kamera, głośniki, mikrofon]            ddr4   \n",
       "1225   [czytnik kart pamięci, kamera, głośniki, mikro...            ddr4   \n",
       "3409                                                None            None   \n",
       "1534   [czytnik kart pamięci, kamera, głośniki, mikro...            ddr3   \n",
       "975             [czytnik kart pamięci, kamera, głośniki]            ddr4   \n",
       "\n",
       "       taktowanie bazowe procesora (ghz)           seria procesora  stan  \\\n",
       "70                                   1.9             intel core i3  nowy   \n",
       "1489                                 2.0             intel core i3  nowy   \n",
       "407                                  2.1   intel pentium dual-core  nowy   \n",
       "1359                                 2.0             intel core i3  nowy   \n",
       "3203                                 1.5   intel celeron dual-core  nowy   \n",
       "7831                                 1.6  intel pentium quad-core   nowy   \n",
       "4586                                 1.7             intel core i3  nowy   \n",
       "7524                                 2.6             intel core i5  nowy   \n",
       "10973                                2.8             intel core i7  nowy   \n",
       "1510                                 2.4             intel core i3  nowy   \n",
       "1817                                 NaN             intel core i5  nowy   \n",
       "8158                                 2.6             intel core i5  nowy   \n",
       "11252                                2.5             intel core i5  nowy   \n",
       "5561                                 NaN                      None  nowy   \n",
       "4717                                 NaN             intel core i7  nowy   \n",
       "7070                                 2.8             intel core i7  nowy   \n",
       "2692                                 2.8             intel core i7  nowy   \n",
       "986                                  2.5             intel core i5  nowy   \n",
       "4904                                 2.4             intel core i3  nowy   \n",
       "7893                                 2.6             intel core i7  nowy   \n",
       "382                                  2.5             intel core i5  nowy   \n",
       "10398                                2.3             intel core i5  nowy   \n",
       "2360                                 2.6             intel core i7  nowy   \n",
       "11434                                2.5             intel core i5  nowy   \n",
       "5294                                 2.5             intel core i5  nowy   \n",
       "3254                                 2.8             intel core i7  nowy   \n",
       "588                                  2.5             intel core i5  nowy   \n",
       "9668                                 2.7             intel core i5  nowy   \n",
       "8468                                 2.3             intel core i5  nowy   \n",
       "1912                                 1.0                    amd a4  nowy   \n",
       "9317                                 2.3             intel core i5  nowy   \n",
       "3808                                 2.6             intel core i5  nowy   \n",
       "3784                                 2.1   intel pentium dual-core  nowy   \n",
       "6590                                 1.1  intel pentium quad-core   nowy   \n",
       "3145                                 2.8             intel core i7  nowy   \n",
       "3088                                 NaN                      None  nowy   \n",
       "6716                                 1.6   intel celeron dual-core  nowy   \n",
       "3443                                 2.0             intel core i3  nowy   \n",
       "4640                                 2.0             intel core i3  nowy   \n",
       "4233                                 2.5             intel core i5  nowy   \n",
       "8956                                 2.8             intel core i7  nowy   \n",
       "10274                                2.6             intel core i7  nowy   \n",
       "10551                                2.8             intel core i7  nowy   \n",
       "11680                                2.3             intel core i3  nowy   \n",
       "6641                                 2.3             intel core i5  nowy   \n",
       "4918                                 2.7             intel core i7  nowy   \n",
       "1225                                 2.3             intel core i3  nowy   \n",
       "3409                                 NaN                      None  nowy   \n",
       "1534                                 2.5             intel core i7  nowy   \n",
       "975                                  2.5             intel core i5  nowy   \n",
       "\n",
       "       pojemność dysku (gb)   gwarancja wielkość matrycy   \n",
       "70                    500.0  sprzedawcy       13\" - 13.9\"  \n",
       "1489                  480.0  producenta       15\" - 15.9\"  \n",
       "407                   480.0  producenta       15\" - 15.9\"  \n",
       "1359                  480.0  producenta       15\" - 15.9\"  \n",
       "3203                  128.0  sprzedawcy       15\" - 15.9\"  \n",
       "7831                  120.0  producenta       15\" - 15.9\"  \n",
       "4586                  256.0  sprzedawcy       15\" - 15.9\"  \n",
       "7524                 1000.0  producenta       15\" - 15.9\"  \n",
       "10973                 240.0  producenta       15\" - 15.9\"  \n",
       "1510                  240.0  producenta       15\" - 15.9\"  \n",
       "1817                    NaN  producenta       15\" - 15.9\"  \n",
       "8158                  480.0  producenta       15\" - 15.9\"  \n",
       "11252                 256.0  producenta       14\" - 14.9\"  \n",
       "5561                    NaN  producenta              None  \n",
       "4717                 1000.0  producenta       15\" - 15.9\"  \n",
       "7070                  512.0  producenta       15\" - 15.9\"  \n",
       "2692                  240.0  producenta       15\" - 15.9\"  \n",
       "986                   480.0  producenta       15\" - 15.9\"  \n",
       "4904                 1000.0  producenta       15\" - 15.9\"  \n",
       "7893                 1120.0  producenta       17\" - 17.9\"  \n",
       "382                   480.0  producenta       15\" - 15.9\"  \n",
       "10398                 250.0  producenta       15\" - 15.9\"  \n",
       "2360                  525.0  producenta       17\" - 17.9\"  \n",
       "11434                 256.0  producenta       14\" - 14.9\"  \n",
       "5294                 1256.0  producenta       15\" - 15.9\"  \n",
       "3254                 1128.0  producenta       15\" - 15.9\"  \n",
       "588                  1128.0  producenta       15\" - 15.9\"  \n",
       "9668                 1000.0  producenta       15\" - 15.9\"  \n",
       "8468                  250.0  producenta       17\" - 17.9\"  \n",
       "1912                  500.0  producenta     11.9\" i mniej  \n",
       "9317                  250.0  producenta       17\" - 17.9\"  \n",
       "3808                  500.0  producenta       15\" - 15.9\"  \n",
       "3784                  120.0  producenta       17\" - 17.9\"  \n",
       "6590                  500.0  producenta       15\" - 15.9\"  \n",
       "3145                 1256.0  producenta       15\" - 15.9\"  \n",
       "3088                  160.0  sprzedawcy              None  \n",
       "6716                  500.0  producenta       15\" - 15.9\"  \n",
       "3443                  120.0  producenta       15\" - 15.9\"  \n",
       "4640                  500.0  sprzedawcy       17\" - 17.9\"  \n",
       "4233                 1000.0  producenta       15\" - 15.9\"  \n",
       "8956                 1000.0  producenta       15\" - 15.9\"  \n",
       "10274                 960.0  producenta       17\" - 17.9\"  \n",
       "10551                 240.0  producenta       15\" - 15.9\"  \n",
       "11680                1000.0  producenta       15\" - 15.9\"  \n",
       "6641                 1525.0  producenta       17\" - 17.9\"  \n",
       "4918                  256.0  producenta       13\" - 13.9\"  \n",
       "1225                  120.0  producenta       15\" - 15.9\"  \n",
       "3409                  240.0  producenta       15\" - 15.9\"  \n",
       "1534                  256.0  sprzedawcy       17\" - 17.9\"  \n",
       "975                  1256.0  producenta       15\" - 15.9\"  "
      ]
     },
     "execution_count": 444,
     "metadata": {},
     "output_type": "execute_result"
    }
   ],
   "source": [
    "train.head(50)"
   ]
  },
  {
   "cell_type": "code",
   "execution_count": 449,
   "metadata": {},
   "outputs": [
    {
     "data": {
      "text/plain": [
       "grafika dedykowana      3272\n",
       "grafika zintegrowana    2273\n",
       "Name: rodzaj karty graficznej, dtype: int64"
      ]
     },
     "execution_count": 449,
     "metadata": {},
     "output_type": "execute_result"
    }
   ],
   "source": [
    "train['rodzaj karty graficznej'].value_counts()"
   ]
  },
  {
   "cell_type": "code",
   "execution_count": 7,
   "metadata": {
    "scrolled": false
   },
   "outputs": [
    {
     "data": {
      "text/plain": [
       "gwarancja\n",
       "brak          2281.876667\n",
       "producenta    3683.052892\n",
       "sprzedawcy    2176.102213\n",
       "Name: buynow_price, dtype: float64"
      ]
     },
     "execution_count": 7,
     "metadata": {},
     "output_type": "execute_result"
    }
   ],
   "source": [
    "train[\"gwarancja\"].value_counts()\n",
    "grouped_gwarancja = train['buynow_price'].groupby(train[\"gwarancja\"])\n",
    "grouped_gwarancja.mean()"
   ]
  },
  {
   "cell_type": "code",
   "execution_count": 31,
   "metadata": {},
   "outputs": [
    {
     "data": {
      "text/plain": [
       "producenta    4965\n",
       "sprzedawcy     901\n",
       "brak             6\n",
       "Name: gwarancja, dtype: int64"
      ]
     },
     "execution_count": 31,
     "metadata": {},
     "output_type": "execute_result"
    }
   ],
   "source": [
    "train['gwarancja'].value_counts()"
   ]
  },
  {
   "cell_type": "code",
   "execution_count": 34,
   "metadata": {
    "scrolled": true
   },
   "outputs": [
    {
     "ename": "AttributeError",
     "evalue": "'list' object has no attribute 'value_counts'",
     "output_type": "error",
     "traceback": [
      "\u001b[1;31m---------------------------------------------------------------------------\u001b[0m",
      "\u001b[1;31mAttributeError\u001b[0m                            Traceback (most recent call last)",
      "\u001b[1;32m<ipython-input-34-d7d4ace0edd6>\u001b[0m in \u001b[0;36m<module>\u001b[1;34m\u001b[0m\n\u001b[1;32m----> 1\u001b[1;33m \u001b[1;33m[\u001b[0m\u001b[1;34m'producenta'\u001b[0m \u001b[1;32mif\u001b[0m \u001b[0mx\u001b[0m \u001b[1;33m==\u001b[0m \u001b[1;34m'producenta'\u001b[0m \u001b[1;32melse\u001b[0m \u001b[1;34m'other'\u001b[0m \u001b[1;32mfor\u001b[0m \u001b[0mx\u001b[0m \u001b[1;32min\u001b[0m \u001b[0mtrain\u001b[0m\u001b[1;33m[\u001b[0m\u001b[1;34m'gwarancja'\u001b[0m\u001b[1;33m]\u001b[0m\u001b[1;33m]\u001b[0m\u001b[1;33m.\u001b[0m\u001b[0mvalue_counts\u001b[0m\u001b[1;33m(\u001b[0m\u001b[1;33m)\u001b[0m\u001b[1;33m\u001b[0m\u001b[1;33m\u001b[0m\u001b[0m\n\u001b[0m",
      "\u001b[1;31mAttributeError\u001b[0m: 'list' object has no attribute 'value_counts'"
     ]
    }
   ],
   "source": [
    "train['gwarancja'] = ['producenta' if x == 'producenta' else 'other' for x in train['gwarancja']]"
   ]
  },
  {
   "cell_type": "code",
   "execution_count": 455,
   "metadata": {},
   "outputs": [
    {
     "data": {
      "text/plain": [
       "ssd          2832\n",
       "hdd          1754\n",
       "ssd + hdd     870\n",
       "emmc           73\n",
       "hybrydowy      65\n",
       "Name: typ dysku twardego, dtype: int64"
      ]
     },
     "execution_count": 455,
     "metadata": {},
     "output_type": "execute_result"
    }
   ],
   "source": [
    "train['typ dysku twardego'].value_counts()"
   ]
  },
  {
   "cell_type": "code",
   "execution_count": null,
   "metadata": {},
   "outputs": [],
   "source": [
    "['producenta' if x == 'producenta' else 'other' for x in train['gwarancja']]"
   ]
  },
  {
   "cell_type": "code",
   "execution_count": 26,
   "metadata": {},
   "outputs": [],
   "source": [
    "df.loc[df.gwarancja == 'brak', 'gwarancja'] = 'sprzedawcy'"
   ]
  },
  {
   "cell_type": "code",
   "execution_count": 19,
   "metadata": {
    "scrolled": true
   },
   "outputs": [
    {
     "data": {
      "text/plain": [
       "Series([], Name: gwarancja, dtype: object)"
      ]
     },
     "execution_count": 19,
     "metadata": {},
     "output_type": "execute_result"
    }
   ],
   "source": [
    "df[df.gwarancja == 'brak']['gwarancja']"
   ]
  },
  {
   "cell_type": "code",
   "execution_count": 14,
   "metadata": {
    "scrolled": true
   },
   "outputs": [],
   "source": [
    "train =  simplify_gwarancja(train)"
   ]
  },
  {
   "cell_type": "code",
   "execution_count": 18,
   "metadata": {
    "scrolled": true
   },
   "outputs": [
    {
     "data": {
      "text/html": [
       "<div>\n",
       "<style scoped>\n",
       "    .dataframe tbody tr th:only-of-type {\n",
       "        vertical-align: middle;\n",
       "    }\n",
       "\n",
       "    .dataframe tbody tr th {\n",
       "        vertical-align: top;\n",
       "    }\n",
       "\n",
       "    .dataframe thead th {\n",
       "        text-align: right;\n",
       "    }\n",
       "</style>\n",
       "<table border=\"1\" class=\"dataframe\">\n",
       "  <thead>\n",
       "    <tr style=\"text-align: right;\">\n",
       "      <th></th>\n",
       "      <th>buynow_price</th>\n",
       "      <th>rodzaj_karty_graficznej</th>\n",
       "      <th>komunikacja</th>\n",
       "      <th>rozdzielczość_piksele</th>\n",
       "      <th>liczba_rdzeni_procesora</th>\n",
       "      <th>wielkość_pamięci_ram</th>\n",
       "      <th>system_operacyjny</th>\n",
       "      <th>typ_dysku_twardego</th>\n",
       "      <th>sterowanie</th>\n",
       "      <th>multimedia</th>\n",
       "      <th>typ_pamięci_ram</th>\n",
       "      <th>taktowanie_bazowe_procesora_ghz</th>\n",
       "      <th>seria_procesora</th>\n",
       "      <th>stan</th>\n",
       "      <th>pojemność_dysku_gb</th>\n",
       "      <th>gwarancja</th>\n",
       "      <th>wielkość_matrycy</th>\n",
       "    </tr>\n",
       "  </thead>\n",
       "  <tbody>\n",
       "    <tr>\n",
       "      <th>70</th>\n",
       "      <td>1599.00</td>\n",
       "      <td>grafika zintegrowana</td>\n",
       "      <td>[wi-fi, bluetooth, lan 10/100/1000 mbps]</td>\n",
       "      <td>1366 x 768</td>\n",
       "      <td>2</td>\n",
       "      <td>8 gb</td>\n",
       "      <td>[windows 10 home]</td>\n",
       "      <td>hdd</td>\n",
       "      <td>[klawiatura, touchpad]</td>\n",
       "      <td>[czytnik kart pamięci, kamera, głośniki, mikro...</td>\n",
       "      <td>ddr3</td>\n",
       "      <td>1.9</td>\n",
       "      <td>intel core i3</td>\n",
       "      <td>nowy</td>\n",
       "      <td>500.0</td>\n",
       "      <td>sprzedawcy</td>\n",
       "      <td>13\" - 13.9\"</td>\n",
       "    </tr>\n",
       "    <tr>\n",
       "      <th>1359</th>\n",
       "      <td>2849.00</td>\n",
       "      <td>grafika zintegrowana</td>\n",
       "      <td>[wi-fi, bluetooth, lan 10/100/1000 mbps]</td>\n",
       "      <td>1920 x 1080</td>\n",
       "      <td>2</td>\n",
       "      <td>8 gb</td>\n",
       "      <td>[windows 10 professional]</td>\n",
       "      <td>ssd</td>\n",
       "      <td>[klawiatura, touchpad, klawiatura numeryczna]</td>\n",
       "      <td>[czytnik kart pamięci, kamera, głośniki, mikro...</td>\n",
       "      <td>ddr4</td>\n",
       "      <td>2.0</td>\n",
       "      <td>intel core i3</td>\n",
       "      <td>nowy</td>\n",
       "      <td>480.0</td>\n",
       "      <td>producenta</td>\n",
       "      <td>15\" - 15.9\"</td>\n",
       "    </tr>\n",
       "    <tr>\n",
       "      <th>10567</th>\n",
       "      <td>2319.00</td>\n",
       "      <td>None</td>\n",
       "      <td>None</td>\n",
       "      <td>None</td>\n",
       "      <td>2</td>\n",
       "      <td>None</td>\n",
       "      <td>None</td>\n",
       "      <td>None</td>\n",
       "      <td>None</td>\n",
       "      <td>None</td>\n",
       "      <td>None</td>\n",
       "      <td>NaN</td>\n",
       "      <td>None</td>\n",
       "      <td>nowy</td>\n",
       "      <td>NaN</td>\n",
       "      <td>producenta</td>\n",
       "      <td>None</td>\n",
       "    </tr>\n",
       "    <tr>\n",
       "      <th>3203</th>\n",
       "      <td>1302.91</td>\n",
       "      <td>grafika zintegrowana</td>\n",
       "      <td>[bluetooth, lan 10/100 mbps]</td>\n",
       "      <td>1366 x 768</td>\n",
       "      <td>2</td>\n",
       "      <td>8 gb</td>\n",
       "      <td>[windows 10 home]</td>\n",
       "      <td>ssd</td>\n",
       "      <td>[klawiatura, touchpad, klawiatura numeryczna]</td>\n",
       "      <td>[czytnik kart pamięci, kamera, głośniki, mikro...</td>\n",
       "      <td>ddr3</td>\n",
       "      <td>1.5</td>\n",
       "      <td>intel celeron dual-core</td>\n",
       "      <td>nowy</td>\n",
       "      <td>128.0</td>\n",
       "      <td>sprzedawcy</td>\n",
       "      <td>15\" - 15.9\"</td>\n",
       "    </tr>\n",
       "    <tr>\n",
       "      <th>7831</th>\n",
       "      <td>1699.00</td>\n",
       "      <td>grafika zintegrowana</td>\n",
       "      <td>[wi-fi, bluetooth, lan 10/100 mbps]</td>\n",
       "      <td>1366 x 768</td>\n",
       "      <td>4</td>\n",
       "      <td>4 gb</td>\n",
       "      <td>[windows 10 home]</td>\n",
       "      <td>ssd</td>\n",
       "      <td>[klawiatura, touchpad, klawiatura numeryczna]</td>\n",
       "      <td>[czytnik kart pamięci, kamera, głośniki, mikro...</td>\n",
       "      <td>ddr3l</td>\n",
       "      <td>1.6</td>\n",
       "      <td>intel pentium quad-core</td>\n",
       "      <td>nowy</td>\n",
       "      <td>120.0</td>\n",
       "      <td>producenta</td>\n",
       "      <td>15\" - 15.9\"</td>\n",
       "    </tr>\n",
       "    <tr>\n",
       "      <th>7524</th>\n",
       "      <td>5043.00</td>\n",
       "      <td>grafika dedykowana</td>\n",
       "      <td>[bluetooth, lan 10/100 mbps]</td>\n",
       "      <td>1366 x 768</td>\n",
       "      <td>2</td>\n",
       "      <td>8 gb</td>\n",
       "      <td>[windows 10 home]</td>\n",
       "      <td>ssd</td>\n",
       "      <td>[klawiatura, touchpad]</td>\n",
       "      <td>[czytnik kart pamięci, kamera, głośniki]</td>\n",
       "      <td>ddr3</td>\n",
       "      <td>2.6</td>\n",
       "      <td>intel core i5</td>\n",
       "      <td>nowy</td>\n",
       "      <td>1000.0</td>\n",
       "      <td>producenta</td>\n",
       "      <td>15\" - 15.9\"</td>\n",
       "    </tr>\n",
       "    <tr>\n",
       "      <th>10973</th>\n",
       "      <td>6519.00</td>\n",
       "      <td>grafika dedykowana</td>\n",
       "      <td>[bluetooth, lan 10/100/1000 mbps, lan 10/100 m...</td>\n",
       "      <td>3840 x 2160</td>\n",
       "      <td>4</td>\n",
       "      <td>16 gb</td>\n",
       "      <td>[windows 10 home]</td>\n",
       "      <td>hdd</td>\n",
       "      <td>[klawiatura, touchpad, klawiatura podświetlana]</td>\n",
       "      <td>[kamera, głośniki, mikrofon]</td>\n",
       "      <td>ddr4</td>\n",
       "      <td>2.8</td>\n",
       "      <td>intel core i7</td>\n",
       "      <td>nowy</td>\n",
       "      <td>240.0</td>\n",
       "      <td>producenta</td>\n",
       "      <td>15\" - 15.9\"</td>\n",
       "    </tr>\n",
       "    <tr>\n",
       "      <th>1510</th>\n",
       "      <td>2677.00</td>\n",
       "      <td>grafika dedykowana</td>\n",
       "      <td>[wi-fi 802.11 a/b/g/n/ac, bluetooth, lan 10/10...</td>\n",
       "      <td>1920 x 1080</td>\n",
       "      <td>2</td>\n",
       "      <td>12 gb</td>\n",
       "      <td>[brak systemu]</td>\n",
       "      <td>ssd</td>\n",
       "      <td>[klawiatura, touchpad, klawiatura podświetlana...</td>\n",
       "      <td>[czytnik kart pamięci, kamera, głośniki, mikro...</td>\n",
       "      <td>ddr4</td>\n",
       "      <td>2.4</td>\n",
       "      <td>intel core i3</td>\n",
       "      <td>nowy</td>\n",
       "      <td>240.0</td>\n",
       "      <td>producenta</td>\n",
       "      <td>15\" - 15.9\"</td>\n",
       "    </tr>\n",
       "    <tr>\n",
       "      <th>8158</th>\n",
       "      <td>2669.00</td>\n",
       "      <td>grafika dedykowana</td>\n",
       "      <td>[bluetooth, lan 10/100 mbps]</td>\n",
       "      <td>1366 x 768</td>\n",
       "      <td>2</td>\n",
       "      <td>8 gb</td>\n",
       "      <td>[brak systemu]</td>\n",
       "      <td>ssd</td>\n",
       "      <td>[klawiatura, touchpad]</td>\n",
       "      <td>[czytnik kart pamięci, kamera, głośniki]</td>\n",
       "      <td>ddr3</td>\n",
       "      <td>2.6</td>\n",
       "      <td>intel core i5</td>\n",
       "      <td>nowy</td>\n",
       "      <td>480.0</td>\n",
       "      <td>producenta</td>\n",
       "      <td>15\" - 15.9\"</td>\n",
       "    </tr>\n",
       "    <tr>\n",
       "      <th>11252</th>\n",
       "      <td>2799.00</td>\n",
       "      <td>grafika dedykowana</td>\n",
       "      <td>[wi-fi, bluetooth, lan 10/100/1000 mbps]</td>\n",
       "      <td>1920 x 1080</td>\n",
       "      <td>2</td>\n",
       "      <td>8 gb</td>\n",
       "      <td>[brak systemu]</td>\n",
       "      <td>ssd</td>\n",
       "      <td>[klawiatura, touchpad]</td>\n",
       "      <td>[czytnik kart pamięci, kamera, głośniki, mikro...</td>\n",
       "      <td>ddr4</td>\n",
       "      <td>2.5</td>\n",
       "      <td>intel core i5</td>\n",
       "      <td>nowy</td>\n",
       "      <td>256.0</td>\n",
       "      <td>producenta</td>\n",
       "      <td>14\" - 14.9\"</td>\n",
       "    </tr>\n",
       "  </tbody>\n",
       "</table>\n",
       "</div>"
      ],
      "text/plain": [
       "       buynow_price rodzaj_karty_graficznej  \\\n",
       "70          1599.00    grafika zintegrowana   \n",
       "1359        2849.00    grafika zintegrowana   \n",
       "10567       2319.00                    None   \n",
       "3203        1302.91    grafika zintegrowana   \n",
       "7831        1699.00    grafika zintegrowana   \n",
       "7524        5043.00      grafika dedykowana   \n",
       "10973       6519.00      grafika dedykowana   \n",
       "1510        2677.00      grafika dedykowana   \n",
       "8158        2669.00      grafika dedykowana   \n",
       "11252       2799.00      grafika dedykowana   \n",
       "\n",
       "                                             komunikacja  \\\n",
       "70              [wi-fi, bluetooth, lan 10/100/1000 mbps]   \n",
       "1359            [wi-fi, bluetooth, lan 10/100/1000 mbps]   \n",
       "10567                                               None   \n",
       "3203                        [bluetooth, lan 10/100 mbps]   \n",
       "7831                 [wi-fi, bluetooth, lan 10/100 mbps]   \n",
       "7524                        [bluetooth, lan 10/100 mbps]   \n",
       "10973  [bluetooth, lan 10/100/1000 mbps, lan 10/100 m...   \n",
       "1510   [wi-fi 802.11 a/b/g/n/ac, bluetooth, lan 10/10...   \n",
       "8158                        [bluetooth, lan 10/100 mbps]   \n",
       "11252           [wi-fi, bluetooth, lan 10/100/1000 mbps]   \n",
       "\n",
       "      rozdzielczość_piksele liczba_rdzeni_procesora wielkość_pamięci_ram  \\\n",
       "70               1366 x 768                       2                 8 gb   \n",
       "1359            1920 x 1080                       2                 8 gb   \n",
       "10567                  None                       2                 None   \n",
       "3203             1366 x 768                       2                 8 gb   \n",
       "7831             1366 x 768                       4                 4 gb   \n",
       "7524             1366 x 768                       2                 8 gb   \n",
       "10973           3840 x 2160                       4                16 gb   \n",
       "1510            1920 x 1080                       2                12 gb   \n",
       "8158             1366 x 768                       2                 8 gb   \n",
       "11252           1920 x 1080                       2                 8 gb   \n",
       "\n",
       "               system_operacyjny typ_dysku_twardego  \\\n",
       "70             [windows 10 home]                hdd   \n",
       "1359   [windows 10 professional]                ssd   \n",
       "10567                       None               None   \n",
       "3203           [windows 10 home]                ssd   \n",
       "7831           [windows 10 home]                ssd   \n",
       "7524           [windows 10 home]                ssd   \n",
       "10973          [windows 10 home]                hdd   \n",
       "1510              [brak systemu]                ssd   \n",
       "8158              [brak systemu]                ssd   \n",
       "11252             [brak systemu]                ssd   \n",
       "\n",
       "                                              sterowanie  \\\n",
       "70                                [klawiatura, touchpad]   \n",
       "1359       [klawiatura, touchpad, klawiatura numeryczna]   \n",
       "10567                                               None   \n",
       "3203       [klawiatura, touchpad, klawiatura numeryczna]   \n",
       "7831       [klawiatura, touchpad, klawiatura numeryczna]   \n",
       "7524                              [klawiatura, touchpad]   \n",
       "10973    [klawiatura, touchpad, klawiatura podświetlana]   \n",
       "1510   [klawiatura, touchpad, klawiatura podświetlana...   \n",
       "8158                              [klawiatura, touchpad]   \n",
       "11252                             [klawiatura, touchpad]   \n",
       "\n",
       "                                              multimedia typ_pamięci_ram  \\\n",
       "70     [czytnik kart pamięci, kamera, głośniki, mikro...            ddr3   \n",
       "1359   [czytnik kart pamięci, kamera, głośniki, mikro...            ddr4   \n",
       "10567                                               None            None   \n",
       "3203   [czytnik kart pamięci, kamera, głośniki, mikro...            ddr3   \n",
       "7831   [czytnik kart pamięci, kamera, głośniki, mikro...           ddr3l   \n",
       "7524            [czytnik kart pamięci, kamera, głośniki]            ddr3   \n",
       "10973                       [kamera, głośniki, mikrofon]            ddr4   \n",
       "1510   [czytnik kart pamięci, kamera, głośniki, mikro...            ddr4   \n",
       "8158            [czytnik kart pamięci, kamera, głośniki]            ddr3   \n",
       "11252  [czytnik kart pamięci, kamera, głośniki, mikro...            ddr4   \n",
       "\n",
       "       taktowanie_bazowe_procesora_ghz           seria_procesora  stan  \\\n",
       "70                                 1.9             intel core i3  nowy   \n",
       "1359                               2.0             intel core i3  nowy   \n",
       "10567                              NaN                      None  nowy   \n",
       "3203                               1.5   intel celeron dual-core  nowy   \n",
       "7831                               1.6  intel pentium quad-core   nowy   \n",
       "7524                               2.6             intel core i5  nowy   \n",
       "10973                              2.8             intel core i7  nowy   \n",
       "1510                               2.4             intel core i3  nowy   \n",
       "8158                               2.6             intel core i5  nowy   \n",
       "11252                              2.5             intel core i5  nowy   \n",
       "\n",
       "       pojemność_dysku_gb   gwarancja wielkość_matrycy  \n",
       "70                  500.0  sprzedawcy      13\" - 13.9\"  \n",
       "1359                480.0  producenta      15\" - 15.9\"  \n",
       "10567                 NaN  producenta             None  \n",
       "3203                128.0  sprzedawcy      15\" - 15.9\"  \n",
       "7831                120.0  producenta      15\" - 15.9\"  \n",
       "7524               1000.0  producenta      15\" - 15.9\"  \n",
       "10973               240.0  producenta      15\" - 15.9\"  \n",
       "1510                240.0  producenta      15\" - 15.9\"  \n",
       "8158                480.0  producenta      15\" - 15.9\"  \n",
       "11252               256.0  producenta      14\" - 14.9\"  "
      ]
     },
     "execution_count": 18,
     "metadata": {},
     "output_type": "execute_result"
    }
   ],
   "source": [
    "df.head(10)"
   ]
  },
  {
   "cell_type": "code",
   "execution_count": null,
   "metadata": {},
   "outputs": [],
   "source": [
    "g = sns.FacetGrid(train, col=\"gwarancja_t\", height=6)\n",
    "g.map(sns.kdeplot, \"buynow_price\", shade=True)\n",
    "sns.despine(left = True, bottom =True )\n",
    "plt.show()"
   ]
  },
  {
   "cell_type": "code",
   "execution_count": null,
   "metadata": {},
   "outputs": [],
   "source": [
    "##############################################################################\n",
    "#### Komunikacja\n",
    "\n",
    "train[\"komunikacja\"].astype(str).value_counts()"
   ]
  },
  {
   "cell_type": "code",
   "execution_count": null,
   "metadata": {},
   "outputs": [],
   "source": [
    "train[\"komunikacja\"].isna().sum()"
   ]
  },
  {
   "cell_type": "code",
   "execution_count": null,
   "metadata": {},
   "outputs": [],
   "source": [
    "train = simplify_komunikacja(train)"
   ]
  },
  {
   "cell_type": "code",
   "execution_count": 11,
   "metadata": {},
   "outputs": [],
   "source": [
    "df[\"lan 10/100 mbps\"] = (df[\"komunikacja\"].str.contains('lan 10/100 mbps', regex=False)*1).sum()"
   ]
  },
  {
   "cell_type": "code",
   "execution_count": 12,
   "metadata": {},
   "outputs": [],
   "source": [
    "df[\"lan 10/100/1000 mbps\"] = (df[\"komunikacja\"].str.contains('lan 10/100/1000 mbps', regex=False)*1).sum()"
   ]
  },
  {
   "cell_type": "code",
   "execution_count": 13,
   "metadata": {},
   "outputs": [
    {
     "data": {
      "text/plain": [
       "1454"
      ]
     },
     "execution_count": 13,
     "metadata": {},
     "output_type": "execute_result"
    }
   ],
   "source": [
    "(df[\"komunikacja\"].str.contains('nfc (near field communication)', regex=False)*1).sum()"
   ]
  },
  {
   "cell_type": "code",
   "execution_count": 14,
   "metadata": {},
   "outputs": [
    {
     "data": {
      "text/plain": [
       "1009"
      ]
     },
     "execution_count": 14,
     "metadata": {},
     "output_type": "execute_result"
    }
   ],
   "source": [
    "(df[\"komunikacja\"].str.contains('modem 3g (wwan)', regex=False)*1).sum()"
   ]
  },
  {
   "cell_type": "code",
   "execution_count": 15,
   "metadata": {},
   "outputs": [
    {
     "data": {
      "text/plain": [
       "269"
      ]
     },
     "execution_count": 15,
     "metadata": {},
     "output_type": "execute_result"
    }
   ],
   "source": [
    "(df[\"komunikacja\"].str.contains('gps', regex=False)*1).sum()"
   ]
  },
  {
   "cell_type": "code",
   "execution_count": 16,
   "metadata": {},
   "outputs": [
    {
     "data": {
      "text/plain": [
       "1004"
      ]
     },
     "execution_count": 16,
     "metadata": {},
     "output_type": "execute_result"
    }
   ],
   "source": [
    "(df[\"komunikacja\"].str.contains('intel wireless display (widi)', regex=False)*1).sum()"
   ]
  },
  {
   "cell_type": "code",
   "execution_count": 17,
   "metadata": {},
   "outputs": [
    {
     "data": {
      "text/plain": [
       "267"
      ]
     },
     "execution_count": 17,
     "metadata": {},
     "output_type": "execute_result"
    }
   ],
   "source": [
    "(df[\"komunikacja\"].str.contains('modem 4g (lte)', regex=False)*1).sum()"
   ]
  },
  {
   "cell_type": "code",
   "execution_count": 18,
   "metadata": {},
   "outputs": [
    {
     "data": {
      "text/plain": [
       "73"
      ]
     },
     "execution_count": 18,
     "metadata": {},
     "output_type": "execute_result"
    }
   ],
   "source": [
    "(df[\"komunikacja\"].str.contains('wi-fi 802.11 b/g/n', regex=False)*1).sum()"
   ]
  },
  {
   "cell_type": "code",
   "execution_count": 19,
   "metadata": {},
   "outputs": [
    {
     "data": {
      "text/plain": [
       "166"
      ]
     },
     "execution_count": 19,
     "metadata": {},
     "output_type": "execute_result"
    }
   ],
   "source": [
    "(df[\"komunikacja\"].str.contains('wi-fi 802.11 b/g/n/ac', regex=False)*1).sum()"
   ]
  },
  {
   "cell_type": "code",
   "execution_count": 20,
   "metadata": {},
   "outputs": [
    {
     "data": {
      "text/plain": [
       "143"
      ]
     },
     "execution_count": 20,
     "metadata": {},
     "output_type": "execute_result"
    }
   ],
   "source": [
    "(df[\"komunikacja\"].str.contains('wi-fi 802.11 a/b/g/n/ac', regex=False)*1).sum()"
   ]
  },
  {
   "cell_type": "code",
   "execution_count": 21,
   "metadata": {},
   "outputs": [
    {
     "data": {
      "text/plain": [
       "17"
      ]
     },
     "execution_count": 21,
     "metadata": {},
     "output_type": "execute_result"
    }
   ],
   "source": [
    "(df[\"komunikacja\"].str.contains('wi-fi 802.11 a/b/g/n', regex=False)*1).sum()"
   ]
  },
  {
   "cell_type": "code",
   "execution_count": 22,
   "metadata": {},
   "outputs": [
    {
     "data": {
      "text/plain": [
       "(7853, 20)"
      ]
     },
     "execution_count": 22,
     "metadata": {},
     "output_type": "execute_result"
    }
   ],
   "source": [
    "df.shape"
   ]
  },
  {
   "cell_type": "code",
   "execution_count": 23,
   "metadata": {},
   "outputs": [
    {
     "data": {
      "text/plain": [
       "0.020374379218133197"
      ]
     },
     "execution_count": 23,
     "metadata": {},
     "output_type": "execute_result"
    }
   ],
   "source": [
    "160/7853"
   ]
  },
  {
   "cell_type": "code",
   "execution_count": 24,
   "metadata": {},
   "outputs": [
    {
     "data": {
      "text/plain": [
       "Index(['buynow_price', 'rodzaj karty graficznej', 'komunikacja',\n",
       "       'rozdzielczość (piksele)', 'liczba rdzeni procesora',\n",
       "       'wielkość pamięci ram', 'system operacyjny', 'typ dysku twardego',\n",
       "       'sterowanie', 'multimedia', 'typ pamięci ram',\n",
       "       'taktowanie bazowe procesora (ghz)', 'seria procesora',\n",
       "       'pojemność dysku (gb)', 'gwarancja', 'wielkość matrycy ', 'bluetooth',\n",
       "       'wi-fi', 'lan 10/100 mbps', 'lan 10/100/1000 mbps'],\n",
       "      dtype='object')"
      ]
     },
     "execution_count": 24,
     "metadata": {},
     "output_type": "execute_result"
    }
   ],
   "source": [
    "df.columns"
   ]
  },
  {
   "cell_type": "code",
   "execution_count": 25,
   "metadata": {},
   "outputs": [
    {
     "data": {
      "text/plain": [
       "Int64Index([   70,  1489,   407,  1359, 10567,  3203,  7831,  4586,  7524,\n",
       "            10973,\n",
       "            ...\n",
       "             6423,  7596, 11321, 11695,  6406, 10541,  8281,  8053,  8727,\n",
       "             5978],\n",
       "           dtype='int64', length=7853)"
      ]
     },
     "execution_count": 25,
     "metadata": {},
     "output_type": "execute_result"
    }
   ],
   "source": [
    "df.index"
   ]
  },
  {
   "cell_type": "code",
   "execution_count": 26,
   "metadata": {},
   "outputs": [],
   "source": [
    "assert all(df.columns == ['buynow_price', 'rodzaj karty graficznej', 'komunikacja','rozdzielczość (piksele)', 'liczba rdzeni procesora',\n",
    "        'wielkość pamięci ram', 'system operacyjny', 'typ dysku twardego',\n",
    "        'sterowanie', 'multimedia', 'typ pamięci ram',\n",
    "        'taktowanie bazowe procesora (ghz)', 'seria procesora',\n",
    "        'pojemność dysku (gb)', 'gwarancja', 'wielkość matrycy ', 'bluetooth',\n",
    "        'wi-fi', 'lan 10/100 mbps', 'lan 10/100/1000 mbps'])"
   ]
  }
 ],
 "metadata": {
  "kernelspec": {
   "display_name": "Python 3",
   "language": "python",
   "name": "python3"
  },
  "language_info": {
   "codemirror_mode": {
    "name": "ipython",
    "version": 3
   },
   "file_extension": ".py",
   "mimetype": "text/x-python",
   "name": "python",
   "nbconvert_exporter": "python",
   "pygments_lexer": "ipython3",
   "version": "3.7.4"
  }
 },
 "nbformat": 4,
 "nbformat_minor": 2
}
