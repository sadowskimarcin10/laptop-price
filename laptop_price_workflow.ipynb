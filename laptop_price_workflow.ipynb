{
 "cells": [
  {
   "cell_type": "markdown",
   "metadata": {},
   "source": [
    "## Inicjalizacja\n"
   ]
  },
  {
   "cell_type": "code",
   "execution_count": 2,
   "metadata": {},
   "outputs": [],
   "source": [
    "from laptoppriceworkflow.data import get_json_data \n",
    "from laptoppriceworkflow.functions import clean_col_meta\n",
    "from laptoppriceworkflow.functions import simplify_gwarancja\n",
    "from laptoppriceworkflow.functions import simplify_komunikacja\n",
    "\n",
    "import pandas as pd\n",
    "\n",
    "import numpy as np\n",
    "\n",
    "import seaborn as sns \n",
    "\n",
    "import matplotlib.pyplot as plt\n",
    "\n",
    "from sklearn.impute import SimpleImputer \n",
    "\n",
    "from sklearn.preprocessing import LabelEncoder\n",
    "from sklearn.preprocessing import OneHotEncoder\n",
    "from sklearn.preprocessing import LabelBinarizer\n",
    "\n",
    "from sklearn.base import BaseEstimator, TransformerMixin\n",
    "\n",
    "from sklearn.pipeline import Pipeline\n",
    "from sklearn.pipeline import FeatureUnion\n",
    "\n",
    "from sklearn.preprocessing import StandardScaler\n",
    "\n",
    "from sklearn.linear_model import LinearRegression\n",
    "\n",
    "from sklearn.metrics import mean_squared_error"
   ]
  },
  {
   "cell_type": "code",
   "execution_count": 3,
   "metadata": {},
   "outputs": [],
   "source": [
    "df = get_json_data()"
   ]
  },
  {
   "cell_type": "markdown",
   "metadata": {},
   "source": [
    "# Partycjonowanie\n",
    "Preprocessing przygotowania modelu bedzie przeprowadzany tylko na czesci treningowej \n",
    "Pozniej przepuszcze przez niego czesc testowa, ktora swtorzylem oraz dodtkowy plik bez zmiennej celu"
   ]
  },
  {
   "cell_type": "code",
   "execution_count": 4,
   "metadata": {},
   "outputs": [],
   "source": [
    "msk = np.random.rand(len(df)) < 0.75\n",
    "train = df[msk]\n",
    "test = df[~msk]"
   ]
  },
  {
   "cell_type": "code",
   "execution_count": 5,
   "metadata": {},
   "outputs": [
    {
     "data": {
      "text/html": [
       "<div>\n",
       "<style scoped>\n",
       "    .dataframe tbody tr th:only-of-type {\n",
       "        vertical-align: middle;\n",
       "    }\n",
       "\n",
       "    .dataframe tbody tr th {\n",
       "        vertical-align: top;\n",
       "    }\n",
       "\n",
       "    .dataframe thead th {\n",
       "        text-align: right;\n",
       "    }\n",
       "</style>\n",
       "<table border=\"1\" class=\"dataframe\">\n",
       "  <thead>\n",
       "    <tr style=\"text-align: right;\">\n",
       "      <th></th>\n",
       "      <th>buynow_price</th>\n",
       "      <th>rodzaj karty graficznej</th>\n",
       "      <th>komunikacja</th>\n",
       "      <th>rozdzielczość (piksele)</th>\n",
       "      <th>liczba rdzeni procesora</th>\n",
       "      <th>wielkość pamięci ram</th>\n",
       "      <th>system operacyjny</th>\n",
       "      <th>typ dysku twardego</th>\n",
       "      <th>sterowanie</th>\n",
       "      <th>multimedia</th>\n",
       "      <th>typ pamięci ram</th>\n",
       "      <th>taktowanie bazowe procesora (ghz)</th>\n",
       "      <th>seria procesora</th>\n",
       "      <th>stan</th>\n",
       "      <th>pojemność dysku (gb)</th>\n",
       "      <th>gwarancja</th>\n",
       "      <th>wielkość matrycy</th>\n",
       "    </tr>\n",
       "  </thead>\n",
       "  <tbody>\n",
       "    <tr>\n",
       "      <th>70</th>\n",
       "      <td>1599.00</td>\n",
       "      <td>grafika zintegrowana</td>\n",
       "      <td>[wi-fi, bluetooth, lan 10/100/1000 mbps]</td>\n",
       "      <td>1366 x 768</td>\n",
       "      <td>2</td>\n",
       "      <td>8 gb</td>\n",
       "      <td>[windows 10 home]</td>\n",
       "      <td>hdd</td>\n",
       "      <td>[klawiatura, touchpad]</td>\n",
       "      <td>[czytnik kart pamięci, kamera, głośniki, mikro...</td>\n",
       "      <td>ddr3</td>\n",
       "      <td>1.9</td>\n",
       "      <td>intel core i3</td>\n",
       "      <td>nowy</td>\n",
       "      <td>500.0</td>\n",
       "      <td>sprzedawcy</td>\n",
       "      <td>13\" - 13.9\"</td>\n",
       "    </tr>\n",
       "    <tr>\n",
       "      <th>407</th>\n",
       "      <td>2999.00</td>\n",
       "      <td>grafika zintegrowana</td>\n",
       "      <td>[wi-fi, bluetooth, lan 10/100/1000 mbps]</td>\n",
       "      <td>1366 x 768</td>\n",
       "      <td>2</td>\n",
       "      <td>16 gb</td>\n",
       "      <td>[windows 7 professional 64-bit]</td>\n",
       "      <td>ssd</td>\n",
       "      <td>[klawiatura, touchpad, klawiatura numeryczna]</td>\n",
       "      <td>[czytnik kart pamięci, kamera, głośniki, mikro...</td>\n",
       "      <td>ddr3l</td>\n",
       "      <td>2.1</td>\n",
       "      <td>intel pentium dual-core</td>\n",
       "      <td>nowy</td>\n",
       "      <td>480.0</td>\n",
       "      <td>producenta</td>\n",
       "      <td>15\" - 15.9\"</td>\n",
       "    </tr>\n",
       "    <tr>\n",
       "      <th>1359</th>\n",
       "      <td>2849.00</td>\n",
       "      <td>grafika zintegrowana</td>\n",
       "      <td>[wi-fi, bluetooth, lan 10/100/1000 mbps]</td>\n",
       "      <td>1920 x 1080</td>\n",
       "      <td>2</td>\n",
       "      <td>8 gb</td>\n",
       "      <td>[windows 10 professional]</td>\n",
       "      <td>ssd</td>\n",
       "      <td>[klawiatura, touchpad, klawiatura numeryczna]</td>\n",
       "      <td>[czytnik kart pamięci, kamera, głośniki, mikro...</td>\n",
       "      <td>ddr4</td>\n",
       "      <td>2.0</td>\n",
       "      <td>intel core i3</td>\n",
       "      <td>nowy</td>\n",
       "      <td>480.0</td>\n",
       "      <td>producenta</td>\n",
       "      <td>15\" - 15.9\"</td>\n",
       "    </tr>\n",
       "    <tr>\n",
       "      <th>10567</th>\n",
       "      <td>2319.00</td>\n",
       "      <td>None</td>\n",
       "      <td>None</td>\n",
       "      <td>None</td>\n",
       "      <td>2</td>\n",
       "      <td>None</td>\n",
       "      <td>None</td>\n",
       "      <td>None</td>\n",
       "      <td>None</td>\n",
       "      <td>None</td>\n",
       "      <td>None</td>\n",
       "      <td>NaN</td>\n",
       "      <td>None</td>\n",
       "      <td>nowy</td>\n",
       "      <td>NaN</td>\n",
       "      <td>producenta</td>\n",
       "      <td>None</td>\n",
       "    </tr>\n",
       "    <tr>\n",
       "      <th>3203</th>\n",
       "      <td>1302.91</td>\n",
       "      <td>grafika zintegrowana</td>\n",
       "      <td>[bluetooth, lan 10/100 mbps]</td>\n",
       "      <td>1366 x 768</td>\n",
       "      <td>2</td>\n",
       "      <td>8 gb</td>\n",
       "      <td>[windows 10 home]</td>\n",
       "      <td>ssd</td>\n",
       "      <td>[klawiatura, touchpad, klawiatura numeryczna]</td>\n",
       "      <td>[czytnik kart pamięci, kamera, głośniki, mikro...</td>\n",
       "      <td>ddr3</td>\n",
       "      <td>1.5</td>\n",
       "      <td>intel celeron dual-core</td>\n",
       "      <td>nowy</td>\n",
       "      <td>128.0</td>\n",
       "      <td>sprzedawcy</td>\n",
       "      <td>15\" - 15.9\"</td>\n",
       "    </tr>\n",
       "    <tr>\n",
       "      <th>7831</th>\n",
       "      <td>1699.00</td>\n",
       "      <td>grafika zintegrowana</td>\n",
       "      <td>[wi-fi, bluetooth, lan 10/100 mbps]</td>\n",
       "      <td>1366 x 768</td>\n",
       "      <td>4</td>\n",
       "      <td>4 gb</td>\n",
       "      <td>[windows 10 home]</td>\n",
       "      <td>ssd</td>\n",
       "      <td>[klawiatura, touchpad, klawiatura numeryczna]</td>\n",
       "      <td>[czytnik kart pamięci, kamera, głośniki, mikro...</td>\n",
       "      <td>ddr3l</td>\n",
       "      <td>1.6</td>\n",
       "      <td>intel pentium quad-core</td>\n",
       "      <td>nowy</td>\n",
       "      <td>120.0</td>\n",
       "      <td>producenta</td>\n",
       "      <td>15\" - 15.9\"</td>\n",
       "    </tr>\n",
       "    <tr>\n",
       "      <th>4586</th>\n",
       "      <td>1769.00</td>\n",
       "      <td>grafika zintegrowana</td>\n",
       "      <td>[wi-fi, bluetooth, lan 10/100/1000 mbps]</td>\n",
       "      <td>1366 x 768</td>\n",
       "      <td>2</td>\n",
       "      <td>8 gb</td>\n",
       "      <td>[windows 10 home]</td>\n",
       "      <td>ssd</td>\n",
       "      <td>[klawiatura, touchpad, klawiatura numeryczna]</td>\n",
       "      <td>[czytnik kart pamięci, kamera, głośniki, mikro...</td>\n",
       "      <td>ddr3</td>\n",
       "      <td>1.7</td>\n",
       "      <td>intel core i3</td>\n",
       "      <td>nowy</td>\n",
       "      <td>256.0</td>\n",
       "      <td>sprzedawcy</td>\n",
       "      <td>15\" - 15.9\"</td>\n",
       "    </tr>\n",
       "    <tr>\n",
       "      <th>7524</th>\n",
       "      <td>5043.00</td>\n",
       "      <td>grafika dedykowana</td>\n",
       "      <td>[bluetooth, lan 10/100 mbps]</td>\n",
       "      <td>1366 x 768</td>\n",
       "      <td>2</td>\n",
       "      <td>8 gb</td>\n",
       "      <td>[windows 10 home]</td>\n",
       "      <td>ssd</td>\n",
       "      <td>[klawiatura, touchpad]</td>\n",
       "      <td>[czytnik kart pamięci, kamera, głośniki]</td>\n",
       "      <td>ddr3</td>\n",
       "      <td>2.6</td>\n",
       "      <td>intel core i5</td>\n",
       "      <td>nowy</td>\n",
       "      <td>1000.0</td>\n",
       "      <td>producenta</td>\n",
       "      <td>15\" - 15.9\"</td>\n",
       "    </tr>\n",
       "    <tr>\n",
       "      <th>10973</th>\n",
       "      <td>6519.00</td>\n",
       "      <td>grafika dedykowana</td>\n",
       "      <td>[bluetooth, lan 10/100/1000 mbps, lan 10/100 m...</td>\n",
       "      <td>3840 x 2160</td>\n",
       "      <td>4</td>\n",
       "      <td>16 gb</td>\n",
       "      <td>[windows 10 home]</td>\n",
       "      <td>hdd</td>\n",
       "      <td>[klawiatura, touchpad, klawiatura podświetlana]</td>\n",
       "      <td>[kamera, głośniki, mikrofon]</td>\n",
       "      <td>ddr4</td>\n",
       "      <td>2.8</td>\n",
       "      <td>intel core i7</td>\n",
       "      <td>nowy</td>\n",
       "      <td>240.0</td>\n",
       "      <td>producenta</td>\n",
       "      <td>15\" - 15.9\"</td>\n",
       "    </tr>\n",
       "    <tr>\n",
       "      <th>8158</th>\n",
       "      <td>2669.00</td>\n",
       "      <td>grafika dedykowana</td>\n",
       "      <td>[bluetooth, lan 10/100 mbps]</td>\n",
       "      <td>1366 x 768</td>\n",
       "      <td>2</td>\n",
       "      <td>8 gb</td>\n",
       "      <td>[brak systemu]</td>\n",
       "      <td>ssd</td>\n",
       "      <td>[klawiatura, touchpad]</td>\n",
       "      <td>[czytnik kart pamięci, kamera, głośniki]</td>\n",
       "      <td>ddr3</td>\n",
       "      <td>2.6</td>\n",
       "      <td>intel core i5</td>\n",
       "      <td>nowy</td>\n",
       "      <td>480.0</td>\n",
       "      <td>producenta</td>\n",
       "      <td>15\" - 15.9\"</td>\n",
       "    </tr>\n",
       "    <tr>\n",
       "      <th>11252</th>\n",
       "      <td>2799.00</td>\n",
       "      <td>grafika dedykowana</td>\n",
       "      <td>[wi-fi, bluetooth, lan 10/100/1000 mbps]</td>\n",
       "      <td>1920 x 1080</td>\n",
       "      <td>2</td>\n",
       "      <td>8 gb</td>\n",
       "      <td>[brak systemu]</td>\n",
       "      <td>ssd</td>\n",
       "      <td>[klawiatura, touchpad]</td>\n",
       "      <td>[czytnik kart pamięci, kamera, głośniki, mikro...</td>\n",
       "      <td>ddr4</td>\n",
       "      <td>2.5</td>\n",
       "      <td>intel core i5</td>\n",
       "      <td>nowy</td>\n",
       "      <td>256.0</td>\n",
       "      <td>producenta</td>\n",
       "      <td>14\" - 14.9\"</td>\n",
       "    </tr>\n",
       "    <tr>\n",
       "      <th>1864</th>\n",
       "      <td>5485.00</td>\n",
       "      <td>grafika dedykowana</td>\n",
       "      <td>[bluetooth, lan 10/100 mbps]</td>\n",
       "      <td>1920 x 1080</td>\n",
       "      <td>4</td>\n",
       "      <td>16 gb</td>\n",
       "      <td>[brak systemu]</td>\n",
       "      <td>ssd + hdd</td>\n",
       "      <td>[klawiatura, touchpad, klawiatura podświetlana...</td>\n",
       "      <td>[czytnik kart pamięci, kamera, głośniki, mikro...</td>\n",
       "      <td>ddr4</td>\n",
       "      <td>2.8</td>\n",
       "      <td>intel core i7</td>\n",
       "      <td>nowy</td>\n",
       "      <td>1256.0</td>\n",
       "      <td>producenta</td>\n",
       "      <td>15\" - 15.9\"</td>\n",
       "    </tr>\n",
       "    <tr>\n",
       "      <th>5561</th>\n",
       "      <td>899.00</td>\n",
       "      <td>None</td>\n",
       "      <td>None</td>\n",
       "      <td>None</td>\n",
       "      <td>2</td>\n",
       "      <td>None</td>\n",
       "      <td>None</td>\n",
       "      <td>None</td>\n",
       "      <td>None</td>\n",
       "      <td>None</td>\n",
       "      <td>None</td>\n",
       "      <td>NaN</td>\n",
       "      <td>None</td>\n",
       "      <td>nowy</td>\n",
       "      <td>NaN</td>\n",
       "      <td>producenta</td>\n",
       "      <td>None</td>\n",
       "    </tr>\n",
       "    <tr>\n",
       "      <th>5801</th>\n",
       "      <td>1877.00</td>\n",
       "      <td>grafika zintegrowana</td>\n",
       "      <td>[bluetooth, nfc (near field communication), mo...</td>\n",
       "      <td>1600 x 900</td>\n",
       "      <td>4</td>\n",
       "      <td>8 gb</td>\n",
       "      <td>[windows 10 home]</td>\n",
       "      <td>ssd</td>\n",
       "      <td>[klawiatura, touchpad, klawiatura numeryczna]</td>\n",
       "      <td>[czytnik kart pamięci, kamera, głośniki, mikro...</td>\n",
       "      <td>ddr3l</td>\n",
       "      <td>2.0</td>\n",
       "      <td>amd a6</td>\n",
       "      <td>nowy</td>\n",
       "      <td>128.0</td>\n",
       "      <td>producenta</td>\n",
       "      <td>17\" - 17.9\"</td>\n",
       "    </tr>\n",
       "    <tr>\n",
       "      <th>4717</th>\n",
       "      <td>4349.00</td>\n",
       "      <td>grafika dedykowana</td>\n",
       "      <td>[wi-fi, bluetooth, lan 10/100/1000 mbps]</td>\n",
       "      <td>1920 x 1080</td>\n",
       "      <td>4</td>\n",
       "      <td>16 gb</td>\n",
       "      <td>[windows 10 home]</td>\n",
       "      <td>hdd</td>\n",
       "      <td>[klawiatura, touchpad, klawiatura podświetlana...</td>\n",
       "      <td>[czytnik kart pamięci, kamera, głośniki, mikro...</td>\n",
       "      <td>ddr4</td>\n",
       "      <td>NaN</td>\n",
       "      <td>intel core i7</td>\n",
       "      <td>nowy</td>\n",
       "      <td>1000.0</td>\n",
       "      <td>producenta</td>\n",
       "      <td>15\" - 15.9\"</td>\n",
       "    </tr>\n",
       "  </tbody>\n",
       "</table>\n",
       "</div>"
      ],
      "text/plain": [
       "       buynow_price rodzaj karty graficznej  \\\n",
       "70          1599.00    grafika zintegrowana   \n",
       "407         2999.00    grafika zintegrowana   \n",
       "1359        2849.00    grafika zintegrowana   \n",
       "10567       2319.00                    None   \n",
       "3203        1302.91    grafika zintegrowana   \n",
       "7831        1699.00    grafika zintegrowana   \n",
       "4586        1769.00    grafika zintegrowana   \n",
       "7524        5043.00      grafika dedykowana   \n",
       "10973       6519.00      grafika dedykowana   \n",
       "8158        2669.00      grafika dedykowana   \n",
       "11252       2799.00      grafika dedykowana   \n",
       "1864        5485.00      grafika dedykowana   \n",
       "5561         899.00                    None   \n",
       "5801        1877.00    grafika zintegrowana   \n",
       "4717        4349.00      grafika dedykowana   \n",
       "\n",
       "                                             komunikacja  \\\n",
       "70              [wi-fi, bluetooth, lan 10/100/1000 mbps]   \n",
       "407             [wi-fi, bluetooth, lan 10/100/1000 mbps]   \n",
       "1359            [wi-fi, bluetooth, lan 10/100/1000 mbps]   \n",
       "10567                                               None   \n",
       "3203                        [bluetooth, lan 10/100 mbps]   \n",
       "7831                 [wi-fi, bluetooth, lan 10/100 mbps]   \n",
       "4586            [wi-fi, bluetooth, lan 10/100/1000 mbps]   \n",
       "7524                        [bluetooth, lan 10/100 mbps]   \n",
       "10973  [bluetooth, lan 10/100/1000 mbps, lan 10/100 m...   \n",
       "8158                        [bluetooth, lan 10/100 mbps]   \n",
       "11252           [wi-fi, bluetooth, lan 10/100/1000 mbps]   \n",
       "1864                        [bluetooth, lan 10/100 mbps]   \n",
       "5561                                                None   \n",
       "5801   [bluetooth, nfc (near field communication), mo...   \n",
       "4717            [wi-fi, bluetooth, lan 10/100/1000 mbps]   \n",
       "\n",
       "      rozdzielczość (piksele) liczba rdzeni procesora wielkość pamięci ram  \\\n",
       "70                 1366 x 768                       2                 8 gb   \n",
       "407                1366 x 768                       2                16 gb   \n",
       "1359              1920 x 1080                       2                 8 gb   \n",
       "10567                    None                       2                 None   \n",
       "3203               1366 x 768                       2                 8 gb   \n",
       "7831               1366 x 768                       4                 4 gb   \n",
       "4586               1366 x 768                       2                 8 gb   \n",
       "7524               1366 x 768                       2                 8 gb   \n",
       "10973             3840 x 2160                       4                16 gb   \n",
       "8158               1366 x 768                       2                 8 gb   \n",
       "11252             1920 x 1080                       2                 8 gb   \n",
       "1864              1920 x 1080                       4                16 gb   \n",
       "5561                     None                       2                 None   \n",
       "5801               1600 x 900                       4                 8 gb   \n",
       "4717              1920 x 1080                       4                16 gb   \n",
       "\n",
       "                     system operacyjny typ dysku twardego  \\\n",
       "70                   [windows 10 home]                hdd   \n",
       "407    [windows 7 professional 64-bit]                ssd   \n",
       "1359         [windows 10 professional]                ssd   \n",
       "10567                             None               None   \n",
       "3203                 [windows 10 home]                ssd   \n",
       "7831                 [windows 10 home]                ssd   \n",
       "4586                 [windows 10 home]                ssd   \n",
       "7524                 [windows 10 home]                ssd   \n",
       "10973                [windows 10 home]                hdd   \n",
       "8158                    [brak systemu]                ssd   \n",
       "11252                   [brak systemu]                ssd   \n",
       "1864                    [brak systemu]          ssd + hdd   \n",
       "5561                              None               None   \n",
       "5801                 [windows 10 home]                ssd   \n",
       "4717                 [windows 10 home]                hdd   \n",
       "\n",
       "                                              sterowanie  \\\n",
       "70                                [klawiatura, touchpad]   \n",
       "407        [klawiatura, touchpad, klawiatura numeryczna]   \n",
       "1359       [klawiatura, touchpad, klawiatura numeryczna]   \n",
       "10567                                               None   \n",
       "3203       [klawiatura, touchpad, klawiatura numeryczna]   \n",
       "7831       [klawiatura, touchpad, klawiatura numeryczna]   \n",
       "4586       [klawiatura, touchpad, klawiatura numeryczna]   \n",
       "7524                              [klawiatura, touchpad]   \n",
       "10973    [klawiatura, touchpad, klawiatura podświetlana]   \n",
       "8158                              [klawiatura, touchpad]   \n",
       "11252                             [klawiatura, touchpad]   \n",
       "1864   [klawiatura, touchpad, klawiatura podświetlana...   \n",
       "5561                                                None   \n",
       "5801       [klawiatura, touchpad, klawiatura numeryczna]   \n",
       "4717   [klawiatura, touchpad, klawiatura podświetlana...   \n",
       "\n",
       "                                              multimedia typ pamięci ram  \\\n",
       "70     [czytnik kart pamięci, kamera, głośniki, mikro...            ddr3   \n",
       "407    [czytnik kart pamięci, kamera, głośniki, mikro...           ddr3l   \n",
       "1359   [czytnik kart pamięci, kamera, głośniki, mikro...            ddr4   \n",
       "10567                                               None            None   \n",
       "3203   [czytnik kart pamięci, kamera, głośniki, mikro...            ddr3   \n",
       "7831   [czytnik kart pamięci, kamera, głośniki, mikro...           ddr3l   \n",
       "4586   [czytnik kart pamięci, kamera, głośniki, mikro...            ddr3   \n",
       "7524            [czytnik kart pamięci, kamera, głośniki]            ddr3   \n",
       "10973                       [kamera, głośniki, mikrofon]            ddr4   \n",
       "8158            [czytnik kart pamięci, kamera, głośniki]            ddr3   \n",
       "11252  [czytnik kart pamięci, kamera, głośniki, mikro...            ddr4   \n",
       "1864   [czytnik kart pamięci, kamera, głośniki, mikro...            ddr4   \n",
       "5561                                                None            None   \n",
       "5801   [czytnik kart pamięci, kamera, głośniki, mikro...           ddr3l   \n",
       "4717   [czytnik kart pamięci, kamera, głośniki, mikro...            ddr4   \n",
       "\n",
       "       taktowanie bazowe procesora (ghz)           seria procesora  stan  \\\n",
       "70                                   1.9             intel core i3  nowy   \n",
       "407                                  2.1   intel pentium dual-core  nowy   \n",
       "1359                                 2.0             intel core i3  nowy   \n",
       "10567                                NaN                      None  nowy   \n",
       "3203                                 1.5   intel celeron dual-core  nowy   \n",
       "7831                                 1.6  intel pentium quad-core   nowy   \n",
       "4586                                 1.7             intel core i3  nowy   \n",
       "7524                                 2.6             intel core i5  nowy   \n",
       "10973                                2.8             intel core i7  nowy   \n",
       "8158                                 2.6             intel core i5  nowy   \n",
       "11252                                2.5             intel core i5  nowy   \n",
       "1864                                 2.8             intel core i7  nowy   \n",
       "5561                                 NaN                      None  nowy   \n",
       "5801                                 2.0                    amd a6  nowy   \n",
       "4717                                 NaN             intel core i7  nowy   \n",
       "\n",
       "       pojemność dysku (gb)   gwarancja wielkość matrycy   \n",
       "70                    500.0  sprzedawcy       13\" - 13.9\"  \n",
       "407                   480.0  producenta       15\" - 15.9\"  \n",
       "1359                  480.0  producenta       15\" - 15.9\"  \n",
       "10567                   NaN  producenta              None  \n",
       "3203                  128.0  sprzedawcy       15\" - 15.9\"  \n",
       "7831                  120.0  producenta       15\" - 15.9\"  \n",
       "4586                  256.0  sprzedawcy       15\" - 15.9\"  \n",
       "7524                 1000.0  producenta       15\" - 15.9\"  \n",
       "10973                 240.0  producenta       15\" - 15.9\"  \n",
       "8158                  480.0  producenta       15\" - 15.9\"  \n",
       "11252                 256.0  producenta       14\" - 14.9\"  \n",
       "1864                 1256.0  producenta       15\" - 15.9\"  \n",
       "5561                    NaN  producenta              None  \n",
       "5801                  128.0  producenta       17\" - 17.9\"  \n",
       "4717                 1000.0  producenta       15\" - 15.9\"  "
      ]
     },
     "execution_count": 5,
     "metadata": {},
     "output_type": "execute_result"
    }
   ],
   "source": [
    "train.head(15)"
   ]
  },
  {
   "cell_type": "code",
   "execution_count": 350,
   "metadata": {},
   "outputs": [
    {
     "data": {
      "text/plain": [
       "70       zintegrowana\n",
       "407      zintegrowana\n",
       "1359     zintegrowana\n",
       "10567               0\n",
       "3203     zintegrowana\n",
       "             ...     \n",
       "6406       dedykowana\n",
       "10541    zintegrowana\n",
       "8281                0\n",
       "8053       dedykowana\n",
       "5978       dedykowana\n",
       "Name: rodzaj karty graficznej, Length: 5924, dtype: object"
      ]
     },
     "execution_count": 350,
     "metadata": {},
     "output_type": "execute_result"
    }
   ],
   "source": [
    "train[\"rodzaj karty graficznej\"].fillna('0').map(lambda x: x.split(\"grafika\")[-1].strip())"
   ]
  },
  {
   "cell_type": "markdown",
   "metadata": {},
   "source": [
    "# Wstępna Analiza"
   ]
  },
  {
   "cell_type": "code",
   "execution_count": 6,
   "metadata": {},
   "outputs": [
    {
     "name": "stdout",
     "output_type": "stream",
     "text": [
      "<class 'pandas.core.frame.DataFrame'>\n",
      "Int64Index: 5924 entries, 70 to 5978\n",
      "Data columns (total 17 columns):\n",
      "buynow_price                         5924 non-null float64\n",
      "rodzaj karty graficznej              5540 non-null object\n",
      "komunikacja                          5322 non-null object\n",
      "rozdzielczość (piksele)              5465 non-null object\n",
      "liczba rdzeni procesora              5924 non-null object\n",
      "wielkość pamięci ram                 5572 non-null object\n",
      "system operacyjny                    5420 non-null object\n",
      "typ dysku twardego                   5589 non-null object\n",
      "sterowanie                           5402 non-null object\n",
      "multimedia                           5375 non-null object\n",
      "typ pamięci ram                      5253 non-null object\n",
      "taktowanie bazowe procesora (ghz)    5212 non-null float64\n",
      "seria procesora                      5520 non-null object\n",
      "stan                                 5924 non-null object\n",
      "pojemność dysku (gb)                 5557 non-null float64\n",
      "gwarancja                            5924 non-null object\n",
      "wielkość matrycy                     5659 non-null object\n",
      "dtypes: float64(3), object(14)\n",
      "memory usage: 833.1+ KB\n"
     ]
    }
   ],
   "source": [
    "train.info()"
   ]
  },
  {
   "cell_type": "code",
   "execution_count": 7,
   "metadata": {
    "scrolled": true
   },
   "outputs": [
    {
     "data": {
      "text/plain": [
       "buynow_price                         0.000000\n",
       "rodzaj karty graficznej              0.064821\n",
       "komunikacja                          0.101621\n",
       "rozdzielczość (piksele)              0.077481\n",
       "liczba rdzeni procesora              0.000000\n",
       "wielkość pamięci ram                 0.059419\n",
       "system operacyjny                    0.085078\n",
       "typ dysku twardego                   0.056550\n",
       "sterowanie                           0.088116\n",
       "multimedia                           0.092674\n",
       "typ pamięci ram                      0.113268\n",
       "taktowanie bazowe procesora (ghz)    0.120189\n",
       "seria procesora                      0.068197\n",
       "stan                                 0.000000\n",
       "pojemność dysku (gb)                 0.061951\n",
       "gwarancja                            0.000000\n",
       "wielkość matrycy                     0.044733\n",
       "dtype: float64"
      ]
     },
     "execution_count": 7,
     "metadata": {},
     "output_type": "execute_result"
    }
   ],
   "source": [
    "train.isnull().sum()/train.shape[0]"
   ]
  },
  {
   "cell_type": "code",
   "execution_count": 28,
   "metadata": {
    "collapsed": true
   },
   "outputs": [
    {
     "name": "stdout",
     "output_type": "stream",
     "text": [
      "Feature 'rodzaj karty graficznej' has 3 unique categories\n"
     ]
    },
    {
     "ename": "TypeError",
     "evalue": "unhashable type: 'list'",
     "output_type": "error",
     "traceback": [
      "\u001b[1;31m---------------------------------------------------------------------------\u001b[0m",
      "\u001b[1;31mTypeError\u001b[0m                                 Traceback (most recent call last)",
      "\u001b[1;32m<ipython-input-28-55471cecd996>\u001b[0m in \u001b[0;36m<module>\u001b[1;34m\u001b[0m\n\u001b[0;32m      1\u001b[0m \u001b[1;32mfor\u001b[0m \u001b[0mcol_name\u001b[0m \u001b[1;32min\u001b[0m \u001b[0mtrain\u001b[0m\u001b[1;33m.\u001b[0m\u001b[0mcolumns\u001b[0m\u001b[1;33m:\u001b[0m\u001b[1;33m\u001b[0m\u001b[1;33m\u001b[0m\u001b[0m\n\u001b[0;32m      2\u001b[0m     \u001b[1;32mif\u001b[0m \u001b[0mtrain\u001b[0m\u001b[1;33m[\u001b[0m\u001b[0mcol_name\u001b[0m\u001b[1;33m]\u001b[0m\u001b[1;33m.\u001b[0m\u001b[0mdtypes\u001b[0m \u001b[1;33m==\u001b[0m \u001b[1;34m'object'\u001b[0m\u001b[1;33m:\u001b[0m\u001b[1;33m\u001b[0m\u001b[1;33m\u001b[0m\u001b[0m\n\u001b[1;32m----> 3\u001b[1;33m         \u001b[0munique_cat\u001b[0m \u001b[1;33m=\u001b[0m \u001b[0mlen\u001b[0m\u001b[1;33m(\u001b[0m\u001b[0mtrain\u001b[0m\u001b[1;33m[\u001b[0m\u001b[0mcol_name\u001b[0m\u001b[1;33m]\u001b[0m\u001b[1;33m.\u001b[0m\u001b[0munique\u001b[0m\u001b[1;33m(\u001b[0m\u001b[1;33m)\u001b[0m\u001b[1;33m)\u001b[0m\u001b[1;33m\u001b[0m\u001b[1;33m\u001b[0m\u001b[0m\n\u001b[0m\u001b[0;32m      4\u001b[0m         print(\"Feature '{col_name}' has {unique_cat} unique categories\" .format(\n\u001b[0;32m      5\u001b[0m             col_name =col_name, unique_cat = unique_cat))\n",
      "\u001b[1;32m~\\Miniconda3\\lib\\site-packages\\pandas\\core\\series.py\u001b[0m in \u001b[0;36munique\u001b[1;34m(self)\u001b[0m\n\u001b[0;32m   1989\u001b[0m         \u001b[0mCategories\u001b[0m \u001b[1;33m(\u001b[0m\u001b[1;36m3\u001b[0m\u001b[1;33m,\u001b[0m \u001b[0mobject\u001b[0m\u001b[1;33m)\u001b[0m\u001b[1;33m:\u001b[0m \u001b[1;33m[\u001b[0m\u001b[0ma\u001b[0m \u001b[1;33m<\u001b[0m \u001b[0mb\u001b[0m \u001b[1;33m<\u001b[0m \u001b[0mc\u001b[0m\u001b[1;33m]\u001b[0m\u001b[1;33m\u001b[0m\u001b[1;33m\u001b[0m\u001b[0m\n\u001b[0;32m   1990\u001b[0m         \"\"\"\n\u001b[1;32m-> 1991\u001b[1;33m         \u001b[0mresult\u001b[0m \u001b[1;33m=\u001b[0m \u001b[0msuper\u001b[0m\u001b[1;33m(\u001b[0m\u001b[1;33m)\u001b[0m\u001b[1;33m.\u001b[0m\u001b[0munique\u001b[0m\u001b[1;33m(\u001b[0m\u001b[1;33m)\u001b[0m\u001b[1;33m\u001b[0m\u001b[1;33m\u001b[0m\u001b[0m\n\u001b[0m\u001b[0;32m   1992\u001b[0m         \u001b[1;32mreturn\u001b[0m \u001b[0mresult\u001b[0m\u001b[1;33m\u001b[0m\u001b[1;33m\u001b[0m\u001b[0m\n\u001b[0;32m   1993\u001b[0m \u001b[1;33m\u001b[0m\u001b[0m\n",
      "\u001b[1;32m~\\Miniconda3\\lib\\site-packages\\pandas\\core\\base.py\u001b[0m in \u001b[0;36munique\u001b[1;34m(self)\u001b[0m\n\u001b[0;32m   1403\u001b[0m             \u001b[1;32mfrom\u001b[0m \u001b[0mpandas\u001b[0m\u001b[1;33m.\u001b[0m\u001b[0mcore\u001b[0m\u001b[1;33m.\u001b[0m\u001b[0malgorithms\u001b[0m \u001b[1;32mimport\u001b[0m \u001b[0munique1d\u001b[0m\u001b[1;33m\u001b[0m\u001b[1;33m\u001b[0m\u001b[0m\n\u001b[0;32m   1404\u001b[0m \u001b[1;33m\u001b[0m\u001b[0m\n\u001b[1;32m-> 1405\u001b[1;33m             \u001b[0mresult\u001b[0m \u001b[1;33m=\u001b[0m \u001b[0munique1d\u001b[0m\u001b[1;33m(\u001b[0m\u001b[0mvalues\u001b[0m\u001b[1;33m)\u001b[0m\u001b[1;33m\u001b[0m\u001b[1;33m\u001b[0m\u001b[0m\n\u001b[0m\u001b[0;32m   1406\u001b[0m \u001b[1;33m\u001b[0m\u001b[0m\n\u001b[0;32m   1407\u001b[0m         \u001b[1;32mreturn\u001b[0m \u001b[0mresult\u001b[0m\u001b[1;33m\u001b[0m\u001b[1;33m\u001b[0m\u001b[0m\n",
      "\u001b[1;32m~\\Miniconda3\\lib\\site-packages\\pandas\\core\\algorithms.py\u001b[0m in \u001b[0;36munique\u001b[1;34m(values)\u001b[0m\n\u001b[0;32m    403\u001b[0m \u001b[1;33m\u001b[0m\u001b[0m\n\u001b[0;32m    404\u001b[0m     \u001b[0mtable\u001b[0m \u001b[1;33m=\u001b[0m \u001b[0mhtable\u001b[0m\u001b[1;33m(\u001b[0m\u001b[0mlen\u001b[0m\u001b[1;33m(\u001b[0m\u001b[0mvalues\u001b[0m\u001b[1;33m)\u001b[0m\u001b[1;33m)\u001b[0m\u001b[1;33m\u001b[0m\u001b[1;33m\u001b[0m\u001b[0m\n\u001b[1;32m--> 405\u001b[1;33m     \u001b[0muniques\u001b[0m \u001b[1;33m=\u001b[0m \u001b[0mtable\u001b[0m\u001b[1;33m.\u001b[0m\u001b[0munique\u001b[0m\u001b[1;33m(\u001b[0m\u001b[0mvalues\u001b[0m\u001b[1;33m)\u001b[0m\u001b[1;33m\u001b[0m\u001b[1;33m\u001b[0m\u001b[0m\n\u001b[0m\u001b[0;32m    406\u001b[0m     \u001b[0muniques\u001b[0m \u001b[1;33m=\u001b[0m \u001b[0m_reconstruct_data\u001b[0m\u001b[1;33m(\u001b[0m\u001b[0muniques\u001b[0m\u001b[1;33m,\u001b[0m \u001b[0mdtype\u001b[0m\u001b[1;33m,\u001b[0m \u001b[0moriginal\u001b[0m\u001b[1;33m)\u001b[0m\u001b[1;33m\u001b[0m\u001b[1;33m\u001b[0m\u001b[0m\n\u001b[0;32m    407\u001b[0m     \u001b[1;32mreturn\u001b[0m \u001b[0muniques\u001b[0m\u001b[1;33m\u001b[0m\u001b[1;33m\u001b[0m\u001b[0m\n",
      "\u001b[1;32mpandas/_libs/hashtable_class_helper.pxi\u001b[0m in \u001b[0;36mpandas._libs.hashtable.PyObjectHashTable.unique\u001b[1;34m()\u001b[0m\n",
      "\u001b[1;32mpandas/_libs/hashtable_class_helper.pxi\u001b[0m in \u001b[0;36mpandas._libs.hashtable.PyObjectHashTable._unique\u001b[1;34m()\u001b[0m\n",
      "\u001b[1;31mTypeError\u001b[0m: unhashable type: 'list'"
     ]
    }
   ],
   "source": [
    "# Funkcja sprawdzajaca liczbe kategorii w kolumnie\n",
    "\n",
    "for col_name in train.columns:\n",
    "    if train[col_name].dtypes == 'object':\n",
    "        unique_cat = len(train[col_name].unique())\n",
    "        print(\"Feature '{col_name}' has {unique_cat} unique categories\" .format(\n",
    "            col_name =col_name, unique_cat = unique_cat))"
   ]
  },
  {
   "cell_type": "code",
   "execution_count": 7,
   "metadata": {},
   "outputs": [
    {
     "data": {
      "text/plain": [
       "<matplotlib.axes._subplots.AxesSubplot at 0x1a5c55ec308>"
      ]
     },
     "execution_count": 7,
     "metadata": {},
     "output_type": "execute_result"
    },
    {
     "data": {
      "image/png": "[encoded data removed]",
      "text/plain": [
       "<Figure size 432x288 with 1 Axes>"
      ]
     },
     "metadata": {
      "needs_background": "light"
     },
     "output_type": "display_data"
    }
   ],
   "source": [
    "train.boxplot(\"buynow_price\")"
   ]
  },
  {
   "cell_type": "code",
   "execution_count": 8,
   "metadata": {},
   "outputs": [
    {
     "data": {
      "image/png": "[encoded data removed]",
      "text/plain": [
       "<Figure size 432x288 with 1 Axes>"
      ]
     },
     "metadata": {
      "needs_background": "light"
     },
     "output_type": "display_data"
    }
   ],
   "source": [
    "sns.distplot(train[\"buynow_price\"])\n",
    "plt.show()"
   ]
  },
  {
   "cell_type": "markdown",
   "metadata": {},
   "source": [
    "# Budowa Preprocesingu"
   ]
  },
  {
   "cell_type": "code",
   "execution_count": 8,
   "metadata": {},
   "outputs": [],
   "source": [
    "train_num = train[['taktowanie bazowe procesora (ghz)', 'pojemność dysku (gb)', 'wielkość pamięci ram']]"
   ]
  },
  {
   "cell_type": "code",
   "execution_count": 9,
   "metadata": {},
   "outputs": [
    {
     "data": {
      "text/html": [
       "<div>\n",
       "<style scoped>\n",
       "    .dataframe tbody tr th:only-of-type {\n",
       "        vertical-align: middle;\n",
       "    }\n",
       "\n",
       "    .dataframe tbody tr th {\n",
       "        vertical-align: top;\n",
       "    }\n",
       "\n",
       "    .dataframe thead th {\n",
       "        text-align: right;\n",
       "    }\n",
       "</style>\n",
       "<table border=\"1\" class=\"dataframe\">\n",
       "  <thead>\n",
       "    <tr style=\"text-align: right;\">\n",
       "      <th></th>\n",
       "      <th>taktowanie bazowe procesora (ghz)</th>\n",
       "      <th>pojemność dysku (gb)</th>\n",
       "      <th>wielkość pamięci ram</th>\n",
       "    </tr>\n",
       "  </thead>\n",
       "  <tbody>\n",
       "    <tr>\n",
       "      <th>70</th>\n",
       "      <td>1.9</td>\n",
       "      <td>500.0</td>\n",
       "      <td>8 gb</td>\n",
       "    </tr>\n",
       "    <tr>\n",
       "      <th>407</th>\n",
       "      <td>2.1</td>\n",
       "      <td>480.0</td>\n",
       "      <td>16 gb</td>\n",
       "    </tr>\n",
       "    <tr>\n",
       "      <th>1359</th>\n",
       "      <td>2.0</td>\n",
       "      <td>480.0</td>\n",
       "      <td>8 gb</td>\n",
       "    </tr>\n",
       "    <tr>\n",
       "      <th>10567</th>\n",
       "      <td>NaN</td>\n",
       "      <td>NaN</td>\n",
       "      <td>None</td>\n",
       "    </tr>\n",
       "    <tr>\n",
       "      <th>3203</th>\n",
       "      <td>1.5</td>\n",
       "      <td>128.0</td>\n",
       "      <td>8 gb</td>\n",
       "    </tr>\n",
       "    <tr>\n",
       "      <th>7831</th>\n",
       "      <td>1.6</td>\n",
       "      <td>120.0</td>\n",
       "      <td>4 gb</td>\n",
       "    </tr>\n",
       "    <tr>\n",
       "      <th>4586</th>\n",
       "      <td>1.7</td>\n",
       "      <td>256.0</td>\n",
       "      <td>8 gb</td>\n",
       "    </tr>\n",
       "    <tr>\n",
       "      <th>7524</th>\n",
       "      <td>2.6</td>\n",
       "      <td>1000.0</td>\n",
       "      <td>8 gb</td>\n",
       "    </tr>\n",
       "    <tr>\n",
       "      <th>10973</th>\n",
       "      <td>2.8</td>\n",
       "      <td>240.0</td>\n",
       "      <td>16 gb</td>\n",
       "    </tr>\n",
       "    <tr>\n",
       "      <th>8158</th>\n",
       "      <td>2.6</td>\n",
       "      <td>480.0</td>\n",
       "      <td>8 gb</td>\n",
       "    </tr>\n",
       "    <tr>\n",
       "      <th>11252</th>\n",
       "      <td>2.5</td>\n",
       "      <td>256.0</td>\n",
       "      <td>8 gb</td>\n",
       "    </tr>\n",
       "    <tr>\n",
       "      <th>1864</th>\n",
       "      <td>2.8</td>\n",
       "      <td>1256.0</td>\n",
       "      <td>16 gb</td>\n",
       "    </tr>\n",
       "    <tr>\n",
       "      <th>5561</th>\n",
       "      <td>NaN</td>\n",
       "      <td>NaN</td>\n",
       "      <td>None</td>\n",
       "    </tr>\n",
       "    <tr>\n",
       "      <th>5801</th>\n",
       "      <td>2.0</td>\n",
       "      <td>128.0</td>\n",
       "      <td>8 gb</td>\n",
       "    </tr>\n",
       "    <tr>\n",
       "      <th>4717</th>\n",
       "      <td>NaN</td>\n",
       "      <td>1000.0</td>\n",
       "      <td>16 gb</td>\n",
       "    </tr>\n",
       "  </tbody>\n",
       "</table>\n",
       "</div>"
      ],
      "text/plain": [
       "       taktowanie bazowe procesora (ghz)  pojemność dysku (gb)  \\\n",
       "70                                   1.9                 500.0   \n",
       "407                                  2.1                 480.0   \n",
       "1359                                 2.0                 480.0   \n",
       "10567                                NaN                   NaN   \n",
       "3203                                 1.5                 128.0   \n",
       "7831                                 1.6                 120.0   \n",
       "4586                                 1.7                 256.0   \n",
       "7524                                 2.6                1000.0   \n",
       "10973                                2.8                 240.0   \n",
       "8158                                 2.6                 480.0   \n",
       "11252                                2.5                 256.0   \n",
       "1864                                 2.8                1256.0   \n",
       "5561                                 NaN                   NaN   \n",
       "5801                                 2.0                 128.0   \n",
       "4717                                 NaN                1000.0   \n",
       "\n",
       "      wielkość pamięci ram  \n",
       "70                    8 gb  \n",
       "407                  16 gb  \n",
       "1359                  8 gb  \n",
       "10567                 None  \n",
       "3203                  8 gb  \n",
       "7831                  4 gb  \n",
       "4586                  8 gb  \n",
       "7524                  8 gb  \n",
       "10973                16 gb  \n",
       "8158                  8 gb  \n",
       "11252                 8 gb  \n",
       "1864                 16 gb  \n",
       "5561                  None  \n",
       "5801                  8 gb  \n",
       "4717                 16 gb  "
      ]
     },
     "execution_count": 9,
     "metadata": {},
     "output_type": "execute_result"
    }
   ],
   "source": [
    "train[['taktowanie bazowe procesora (ghz)', 'pojemność dysku (gb)', 'wielkość pamięci ram']].head(15)"
   ]
  },
  {
   "cell_type": "markdown",
   "metadata": {},
   "source": [
    "imputer = SimpleImputer(strategy = 'median')\n",
    "imputer.fit(df_num)\n",
    "imputer.statistics_"
   ]
  },
  {
   "cell_type": "markdown",
   "metadata": {},
   "source": [
    "X = imputer.transform(df_num)\n",
    "df_num_imp = pd.DataFrame(X, columns=df_num.columns)\n"
   ]
  },
  {
   "cell_type": "markdown",
   "metadata": {
    "scrolled": true
   },
   "source": [
    "encoder = LabelEncoder()\n",
    "#df_cat = df[[\"rodzaj karty graficznej\", \"komunikacja\",\"rozdzielczość (piksele)\"]]\n",
    "df_cat = df[\"liczba rdzeni procesora\"]\n",
    "df_cat_encoded = encoder.fit_transform(df_cat)\n",
    "df_cat_encoded"
   ]
  },
  {
   "cell_type": "markdown",
   "metadata": {},
   "source": [
    "Lepsze gdy w kolumnie masz bardzo dużo kategorii i powstaje macierz rzadka (sparse matrix)\n",
    "W innym przypadku lepiej LabelBinarizer() :)"
   ]
  },
  {
   "cell_type": "code",
   "execution_count": 351,
   "metadata": {},
   "outputs": [],
   "source": [
    "class FeatureEng(BaseEstimator, TransformerMixin):\n",
    "    def __init__(self):\n",
    "        pass\n",
    "\n",
    "    def fit(self, X, y=None):\n",
    "        return self\n",
    "\n",
    "    def transform(self, X):\n",
    "        #imm = joblib.load(PATH_TO_IMM)\n",
    "        #metadata_dense = reduce_mem_usage(pd.read_csv(METADATA_DENSE).fillna(0))\n",
    "        X[\"country\"] = X[\"city\"].map(lambda x: x.split(\",\")[-1].strip())\n",
    "        X[\"komunikacja\"]\n",
    "        \n",
    "        for genre in set.union(*df.genre.apply(set)):\n",
    "    df[genre] = df.apply(lambda _: int(_.genre.count(genre)), axis=1)\n",
    "        \n",
    "        return X"
   ]
  },
  {
   "cell_type": "code",
   "execution_count": 353,
   "metadata": {},
   "outputs": [],
   "source": [
    "from sklearn.preprocessing import MultiLabelBinarizer"
   ]
  },
  {
   "cell_type": "code",
   "execution_count": 373,
   "metadata": {},
   "outputs": [
    {
     "data": {
      "text/plain": [
       "70       [wi-fi, bluetooth, lan 10/100/1000 mbps]\n",
       "407      [wi-fi, bluetooth, lan 10/100/1000 mbps]\n",
       "1359     [wi-fi, bluetooth, lan 10/100/1000 mbps]\n",
       "10567                                        None\n",
       "3203                 [bluetooth, lan 10/100 mbps]\n",
       "Name: komunikacja, dtype: object"
      ]
     },
     "execution_count": 373,
     "metadata": {},
     "output_type": "execute_result"
    }
   ],
   "source": [
    "train[\"komunikacja\"].head()"
   ]
  },
  {
   "cell_type": "code",
   "execution_count": 374,
   "metadata": {},
   "outputs": [
    {
     "ename": "TypeError",
     "evalue": "'NoneType' object is not iterable",
     "output_type": "error",
     "traceback": [
      "\u001b[1;31m---------------------------------------------------------------------------\u001b[0m",
      "\u001b[1;31mTypeError\u001b[0m                                 Traceback (most recent call last)",
      "\u001b[1;32m<ipython-input-374-64a56db87559>\u001b[0m in \u001b[0;36m<module>\u001b[1;34m\u001b[0m\n\u001b[0;32m      1\u001b[0m \u001b[0mmlb\u001b[0m \u001b[1;33m=\u001b[0m \u001b[0mMultiLabelBinarizer\u001b[0m\u001b[1;33m(\u001b[0m\u001b[1;33m)\u001b[0m\u001b[1;33m\u001b[0m\u001b[1;33m\u001b[0m\u001b[0m\n\u001b[1;32m----> 2\u001b[1;33m \u001b[0mexpandedLabelData\u001b[0m \u001b[1;33m=\u001b[0m \u001b[0mmlb\u001b[0m\u001b[1;33m.\u001b[0m\u001b[0mfit_transform\u001b[0m\u001b[1;33m(\u001b[0m\u001b[0mtrain\u001b[0m\u001b[1;33m[\u001b[0m\u001b[1;34m\"komunikacja\"\u001b[0m\u001b[1;33m]\u001b[0m\u001b[1;33m[\u001b[0m\u001b[1;36m0\u001b[0m\u001b[1;33m:\u001b[0m\u001b[1;36m4\u001b[0m\u001b[1;33m]\u001b[0m\u001b[1;33m)\u001b[0m\u001b[1;33m\u001b[0m\u001b[1;33m\u001b[0m\u001b[0m\n\u001b[0m\u001b[0;32m      3\u001b[0m \u001b[0mlabelClasses\u001b[0m \u001b[1;33m=\u001b[0m \u001b[0mmlb\u001b[0m\u001b[1;33m.\u001b[0m\u001b[0mclasses_\u001b[0m\u001b[1;33m\u001b[0m\u001b[1;33m\u001b[0m\u001b[0m\n\u001b[0;32m      4\u001b[0m \u001b[1;31m#labelClasses\u001b[0m\u001b[1;33m\u001b[0m\u001b[1;33m\u001b[0m\u001b[1;33m\u001b[0m\u001b[0m\n\u001b[0;32m      5\u001b[0m \u001b[1;33m\u001b[0m\u001b[0m\n",
      "\u001b[1;32m~\\Miniconda3\\lib\\site-packages\\sklearn\\preprocessing\\_label.py\u001b[0m in \u001b[0;36mfit_transform\u001b[1;34m(self, y)\u001b[0m\n\u001b[0;32m    905\u001b[0m         \u001b[0mclass_mapping\u001b[0m \u001b[1;33m=\u001b[0m \u001b[0mdefaultdict\u001b[0m\u001b[1;33m(\u001b[0m\u001b[0mint\u001b[0m\u001b[1;33m)\u001b[0m\u001b[1;33m\u001b[0m\u001b[1;33m\u001b[0m\u001b[0m\n\u001b[0;32m    906\u001b[0m         \u001b[0mclass_mapping\u001b[0m\u001b[1;33m.\u001b[0m\u001b[0mdefault_factory\u001b[0m \u001b[1;33m=\u001b[0m \u001b[0mclass_mapping\u001b[0m\u001b[1;33m.\u001b[0m\u001b[0m__len__\u001b[0m\u001b[1;33m\u001b[0m\u001b[1;33m\u001b[0m\u001b[0m\n\u001b[1;32m--> 907\u001b[1;33m         \u001b[0myt\u001b[0m \u001b[1;33m=\u001b[0m \u001b[0mself\u001b[0m\u001b[1;33m.\u001b[0m\u001b[0m_transform\u001b[0m\u001b[1;33m(\u001b[0m\u001b[0my\u001b[0m\u001b[1;33m,\u001b[0m \u001b[0mclass_mapping\u001b[0m\u001b[1;33m)\u001b[0m\u001b[1;33m\u001b[0m\u001b[1;33m\u001b[0m\u001b[0m\n\u001b[0m\u001b[0;32m    908\u001b[0m \u001b[1;33m\u001b[0m\u001b[0m\n\u001b[0;32m    909\u001b[0m         \u001b[1;31m# sort classes and reorder columns\u001b[0m\u001b[1;33m\u001b[0m\u001b[1;33m\u001b[0m\u001b[1;33m\u001b[0m\u001b[0m\n",
      "\u001b[1;32m~\\Miniconda3\\lib\\site-packages\\sklearn\\preprocessing\\_label.py\u001b[0m in \u001b[0;36m_transform\u001b[1;34m(self, y, class_mapping)\u001b[0m\n\u001b[0;32m    976\u001b[0m         \u001b[1;32mfor\u001b[0m \u001b[0mlabels\u001b[0m \u001b[1;32min\u001b[0m \u001b[0my\u001b[0m\u001b[1;33m:\u001b[0m\u001b[1;33m\u001b[0m\u001b[1;33m\u001b[0m\u001b[0m\n\u001b[0;32m    977\u001b[0m             \u001b[0mindex\u001b[0m \u001b[1;33m=\u001b[0m \u001b[0mset\u001b[0m\u001b[1;33m(\u001b[0m\u001b[1;33m)\u001b[0m\u001b[1;33m\u001b[0m\u001b[1;33m\u001b[0m\u001b[0m\n\u001b[1;32m--> 978\u001b[1;33m             \u001b[1;32mfor\u001b[0m \u001b[0mlabel\u001b[0m \u001b[1;32min\u001b[0m \u001b[0mlabels\u001b[0m\u001b[1;33m:\u001b[0m\u001b[1;33m\u001b[0m\u001b[1;33m\u001b[0m\u001b[0m\n\u001b[0m\u001b[0;32m    979\u001b[0m                 \u001b[1;32mtry\u001b[0m\u001b[1;33m:\u001b[0m\u001b[1;33m\u001b[0m\u001b[1;33m\u001b[0m\u001b[0m\n\u001b[0;32m    980\u001b[0m                     \u001b[0mindex\u001b[0m\u001b[1;33m.\u001b[0m\u001b[0madd\u001b[0m\u001b[1;33m(\u001b[0m\u001b[0mclass_mapping\u001b[0m\u001b[1;33m[\u001b[0m\u001b[0mlabel\u001b[0m\u001b[1;33m]\u001b[0m\u001b[1;33m)\u001b[0m\u001b[1;33m\u001b[0m\u001b[1;33m\u001b[0m\u001b[0m\n",
      "\u001b[1;31mTypeError\u001b[0m: 'NoneType' object is not iterable"
     ]
    }
   ],
   "source": [
    "mlb = MultiLabelBinarizer()\n",
    "expandedLabelData = mlb.fit_transform(train[\"komunikacja\"][0:4])\n",
    "labelClasses = mlb.classes_\n",
    "#labelClasses\n",
    "\n",
    "# Create a pandas.DataFrame from our output\n",
    "expandedLabels = pd.DataFrame(expandedLabelData, columns=labelClasses)"
   ]
  },
  {
   "cell_type": "code",
   "execution_count": 372,
   "metadata": {},
   "outputs": [
    {
     "data": {
      "text/html": [
       "<div>\n",
       "<style scoped>\n",
       "    .dataframe tbody tr th:only-of-type {\n",
       "        vertical-align: middle;\n",
       "    }\n",
       "\n",
       "    .dataframe tbody tr th {\n",
       "        vertical-align: top;\n",
       "    }\n",
       "\n",
       "    .dataframe thead th {\n",
       "        text-align: right;\n",
       "    }\n",
       "</style>\n",
       "<table border=\"1\" class=\"dataframe\">\n",
       "  <thead>\n",
       "    <tr style=\"text-align: right;\">\n",
       "      <th></th>\n",
       "      <th>bluetooth</th>\n",
       "      <th>lan 10/100/1000 mbps</th>\n",
       "      <th>wi-fi</th>\n",
       "    </tr>\n",
       "  </thead>\n",
       "  <tbody>\n",
       "    <tr>\n",
       "      <th>0</th>\n",
       "      <td>1</td>\n",
       "      <td>1</td>\n",
       "      <td>1</td>\n",
       "    </tr>\n",
       "    <tr>\n",
       "      <th>1</th>\n",
       "      <td>1</td>\n",
       "      <td>1</td>\n",
       "      <td>1</td>\n",
       "    </tr>\n",
       "    <tr>\n",
       "      <th>2</th>\n",
       "      <td>1</td>\n",
       "      <td>1</td>\n",
       "      <td>1</td>\n",
       "    </tr>\n",
       "  </tbody>\n",
       "</table>\n",
       "</div>"
      ],
      "text/plain": [
       "   bluetooth  lan 10/100/1000 mbps  wi-fi\n",
       "0          1                     1      1\n",
       "1          1                     1      1\n",
       "2          1                     1      1"
      ]
     },
     "execution_count": 372,
     "metadata": {},
     "output_type": "execute_result"
    }
   ],
   "source": [
    "expandedLabels"
   ]
  },
  {
   "cell_type": "code",
   "execution_count": 352,
   "metadata": {},
   "outputs": [
    {
     "data": {
      "text/plain": [
       "['wi-fi',\n",
       " 'bluetooth',\n",
       " 'lan 10/100/1000 mbps',\n",
       " 'lan 10/100 mbps',\n",
       " 'intel wireless display (widi)',\n",
       " 'nfc (near field communication)',\n",
       " 'modem 3g (wwan)',\n",
       " 'gps',\n",
       " 'wi-fi 802.11 b/g/n/ac',\n",
       " 'modem 4g (lte)',\n",
       " 'wi-fi 802.11 b/g/n',\n",
       " 'wi-fi 802.11 a/b/g/n/ac',\n",
       " 'wi-fi 802.11 a/b/g/n']"
      ]
     },
     "execution_count": 352,
     "metadata": {},
     "output_type": "execute_result"
    }
   ],
   "source": [
    "train[\"komunikacja\"].apply(pd.Series).stack().unique().tolist()"
   ]
  },
  {
   "cell_type": "code",
   "execution_count": null,
   "metadata": {},
   "outputs": [],
   "source": [
    "count_komunikacja_item = {}\n",
    "    #for i in train[\"komunikacja\"].apply(pd.Series).stack().unique().tolist():\n",
    "    #    temp_ = (df[\"komunikacja_t\"].str.contains(i, regex=False)*1).sum()\n",
    "    #    count_komunikacja_item[i]= temp_\n",
    "for i in train[\"komunikacja\"].apply(pd.Series).stack().unique().tolist():\n",
    "    df[i] = (df[\"komunikacja_t\"].str.contains(i, regex=False)*1).fillna(0)   "
   ]
  },
  {
   "cell_type": "code",
   "execution_count": 300,
   "metadata": {
    "scrolled": true
   },
   "outputs": [],
   "source": [
    "class DataFrameImputer(BaseEstimator, TransformerMixin):\n",
    "\n",
    "    def __init__(self, attribute_names):\n",
    "        self.attribute_names = attribute_names\n",
    "        \"\"\"Impute missing values.\n",
    "\n",
    "        Columns of dtype object are imputed with the most frequent value \n",
    "        in column.\n",
    "\n",
    "        Columns of other types are imputed with mean of column.\n",
    "\n",
    "        \"\"\"\n",
    "        \n",
    "    def fit(self, X, y=None):\n",
    "\n",
    "        self.fill = pd.Series([X[c].value_counts().index[0]\n",
    "            if X[c].dtype == np.dtype('O') else np.NaN for c in X],\n",
    "            index=X.columns)\n",
    "\n",
    "        return self\n",
    "\n",
    "    def transform(self, X, y=None):\n",
    "        return X[self.attribute_names].fillna(self.fill).values"
   ]
  },
  {
   "cell_type": "code",
   "execution_count": 309,
   "metadata": {},
   "outputs": [],
   "source": [
    "#rooms_ix, bedrooms_ix, population_ix, household_ix = 3, 4, 5, 6\n",
    "\n",
    "#buynow_price_ix, taktowanie_bazowe_procesora_ghz_ix, pojemność_dysku_gb_ix = 0, 1, 2\n",
    "wielkosc_pamieci_ram_ix = 2\n",
    "\n",
    "class CombinedAttributesAdder_num(BaseEstimator, TransformerMixin):\n",
    "    \n",
    "    def __init__(self, wielkosc_pamiec_ram = True): # żadnych zmiennych *args ani **kargs\n",
    "        self._wielkosc_pamiec_ram = wielkosc_pamiec_ram\n",
    "    \n",
    "    def fit(self, X, y=None):\n",
    "        return self # nie robi nic innego\n",
    "    \n",
    "    def transform(self, X, y=None):\n",
    "        if self._wielkosc_pamiec_ram:\n",
    "            \n",
    "            #create new column\n",
    "            wielkosc_pamieci_ram_trans = [0 if \"mb\" in x else int(x.strip('gb')) for x in X[:, wielkosc_pamieci_ram_ix]]\n",
    "            \n",
    "            #drop redundant column\n",
    "            X = np.delete(X, np.s_[wielkosc_pamieci_ram_ix], 1)\n",
    "            \n",
    "            \n",
    "            return np.c_[wielkosc_pamieci_ram_trans, X]\n",
    "        else:\n",
    "            return X"
   ]
  },
  {
   "cell_type": "code",
   "execution_count": 171,
   "metadata": {},
   "outputs": [],
   "source": [
    "attr_adder = CombinedAttributesAdder(add_price_per_gb=True)\n",
    "df_extra_attribs = attr_adder.transform(df.values)"
   ]
  },
  {
   "cell_type": "code",
   "execution_count": 62,
   "metadata": {},
   "outputs": [],
   "source": [
    "gwarancja_ix = 0\n",
    "rozdzielczosc_ix = 3\n",
    "liczba_rdzeni_proc_ix = 4\n",
    "seria_procesora_ix = 5\n",
    "\n",
    "class CombinedAttributesAdder_cat(BaseEstimator, TransformerMixin):\n",
    "                 \n",
    "    def __init__(self, gwarancja_trans = True):\n",
    "        self._gwarancja_trans = gwarancja_trans\n",
    "        self._trans_gwrancja = trans_gwarancja\n",
    "        self._trans_gwrancja = trans_gwarancja\n",
    "        self._trans_gwrancja = trans_gwarancja\n",
    "    \n",
    "    def fit(self, X, y = None):\n",
    "        return self # nie robi nic innego\n",
    "    \n",
    "    def transform(self, X, y = None):\n",
    "        if self._gwarancja_trans:\n",
    "            gwarancja_trans = ['producenta' if x == 'producenta' else 'other' for x in X[:, gwarancja_ix]]\n",
    "            X = np.delete(X, np.s_[gwarancja_ix, rozdzielczosc_ix, liczba_rdzeni_proc_ix, seria_procesora_ix], 1)\n",
    "            \n",
    "            rozdzielczosc_trans = ['1920 x 1080' if x == '1920 x 1080' else '1366 x 768' if x == '1366 x 768' else 'other' for x in X[:, rozdzielczosc_ix]]\n",
    "            X = np.delete(X, np.s_[gwarancja_ix, rozdzielczosc_ix, liczba_rdzeni_proc_ix, seria_procesora_ix], 1)\n",
    "            \n",
    "            liczba_rdzeni_proc_trans = ['2' if x == '2' else 'other' for x in X[:, liczba_rdzeni_proc_ix]]\n",
    "            X = np.delete(X, np.s_[gwarancja_ix, rozdzielczosc_ix, liczba_rdzeni_proc_ix, seria_procesora_ix], 1)\n",
    "            \n",
    "            seria_procesora_trans = ['intel core i7' if x == 'intel core i7 ' else 'intel core i5' if x == 'intel core i5' else 'intel core i3' if x == 'intel core i3' else 'other' for x in X[:,seria_procesora_ix]]\n",
    "            X = np.delete(X, np.s_[gwarancja_ix, rozdzielczosc_ix, liczba_rdzeni_proc_ix, seria_procesora_ix], 1)\n",
    "                               \n",
    "         #   return np.c_[np.asarray(gwarancja_trans).reshape(-1,1), rozdzielczosc_trans, liczba_rdzeni_proc_trans, seria_procesora_trans, X]\n",
    "        #else:\n",
    "            return X"
   ]
  },
  {
   "cell_type": "code",
   "execution_count": 284,
   "metadata": {},
   "outputs": [],
   "source": [
    "class DataFrameSelector(BaseEstimator, TransformerMixin):\n",
    "    def __init__(self, attribute_names):\n",
    "        self.attribute_names = attribute_names\n",
    "    def fit(self, X, y=None):\n",
    "        return self\n",
    "    def transform(self, X):\n",
    "        return X[self.attribute_names].values"
   ]
  },
  {
   "cell_type": "code",
   "execution_count": 330,
   "metadata": {},
   "outputs": [],
   "source": [
    "cat_attribs = list([\"gwarancja\", \"typ dysku twardego\",\"rodzaj karty graficznej\", \"rozdzielczość (piksele)\", \"liczba rdzeni procesora\", 'seria procesora'])\n",
    "num_attribs = list(train_num)\n",
    "#dd = list(['pojemność dysku (gb)', 'gwarancja'])\n",
    "\n",
    "cat_pipeline = Pipeline([\n",
    "    ('selector', DataFrameSelector(cat_attribs)),\n",
    "    ('imputerr', SimpleImputer(missing_values=None, strategy=\"most_frequent\")),\n",
    "    #('attribs_adder_cat',CombinedAttributesAdder_cat()),\n",
    "    #('cat_encoder', OneHotEncoder(sparse=False)),\n",
    "    ])\n",
    "\n",
    "num_pipeline = Pipeline([\n",
    "    ('Imputer_cat', DataFrameImputer(num_attribs)),\n",
    "    #('selector', DataFrameSelector(num_attribs)),\n",
    "    #('imputer', SimpleImputer(strategy=\"constant\", fill_value=None)),\n",
    "    ('attribs_adder_num', CombinedAttributesAdder_num()),\n",
    "    ('imputer', SimpleImputer(strategy=\"mean\")),\n",
    "    ('std_scaler', StandardScaler()),\n",
    "    ])"
   ]
  },
  {
   "cell_type": "code",
   "execution_count": 346,
   "metadata": {},
   "outputs": [
    {
     "data": {
      "text/plain": [
       "70        500.0\n",
       "407       480.0\n",
       "1359      480.0\n",
       "10567      32.0\n",
       "3203      128.0\n",
       "          ...  \n",
       "6406     1000.0\n",
       "10541     128.0\n",
       "8281       32.0\n",
       "8053      128.0\n",
       "5978      128.0\n",
       "Name: pojemność dysku (gb), Length: 5924, dtype: object"
      ]
     },
     "execution_count": 346,
     "metadata": {},
     "output_type": "execute_result"
    }
   ],
   "source": [
    "test_data[\"pojemność dysku (gb)\"].map(str)"
   ]
  },
  {
   "cell_type": "code",
   "execution_count": 331,
   "metadata": {
    "scrolled": true
   },
   "outputs": [],
   "source": [
    "#tt = num_pipeline.fit_transform(train[0:2])\n",
    "#tt = num_pipeline.fit_transform(train[['pojemność dysku (gb)', 'gwarancja']])\n",
    "#tt = num_pipeline.fit_transform(train)\n",
    "\n",
    "\n",
    "#.fit_transform\n",
    "ttt = cat_pipeline.fit_transform(train)"
   ]
  },
  {
   "cell_type": "code",
   "execution_count": 332,
   "metadata": {},
   "outputs": [
    {
     "data": {
      "text/plain": [
       "array([['sprzedawcy', 'hdd', 'grafika zintegrowana', '1366 x 768', '2',\n",
       "        'intel core i3'],\n",
       "       ['producenta', 'ssd', 'grafika zintegrowana', '1366 x 768', '2',\n",
       "        'intel pentium dual-core'],\n",
       "       ['producenta', 'ssd', 'grafika zintegrowana', '1920 x 1080', '2',\n",
       "        'intel core i3'],\n",
       "       ...,\n",
       "       ['producenta', 'ssd', 'grafika dedykowana', '1920 x 1080', '2',\n",
       "        'intel core i5'],\n",
       "       ['sprzedawcy', 'ssd', 'grafika dedykowana', '1920 x 1080', '2',\n",
       "        'intel core i5'],\n",
       "       ['producenta', 'ssd', 'grafika dedykowana', '1920 x 1080', '2',\n",
       "        'intel core i3']], dtype=object)"
      ]
     },
     "execution_count": 332,
     "metadata": {},
     "output_type": "execute_result"
    }
   ],
   "source": [
    "ttt"
   ]
  },
  {
   "cell_type": "code",
   "execution_count": 316,
   "metadata": {
    "scrolled": true
   },
   "outputs": [],
   "source": [
    "full_pipeline = FeatureUnion(transformer_list=[\n",
    "    (\"cat_pipeline\", cat_pipeline),\n",
    "    (\"num_pipeline\", num_pipeline),\n",
    "])"
   ]
  },
  {
   "cell_type": "code",
   "execution_count": 317,
   "metadata": {
    "scrolled": true
   },
   "outputs": [
    {
     "data": {
      "text/plain": [
       "array([[ 1.        ,  0.        ,  1.        ,  0.        ,  0.        ,\n",
       "         1.        ,  0.        ,  1.        ,  0.        ,  0.        ,\n",
       "         0.        ,  1.        ,  0.        ,  0.        ,  0.        ,\n",
       "         0.        ,  1.        , -0.2607585 , -1.18450975, -0.33657005],\n",
       "       [ 0.        ,  1.        ,  1.        ,  0.        ,  0.        ,\n",
       "         1.        ,  0.        ,  0.        ,  0.        ,  1.        ,\n",
       "         0.        ,  0.        ,  0.        ,  1.        ,  0.        ,\n",
       "         0.        ,  1.        ,  0.99003772, -0.64048825, -0.38094826],\n",
       "       [ 0.        ,  1.        ,  0.        ,  1.        ,  0.        ,\n",
       "         1.        ,  0.        ,  1.        ,  0.        ,  0.        ,\n",
       "         0.        ,  0.        ,  0.        ,  1.        ,  0.        ,\n",
       "         0.        ,  1.        , -0.2607585 , -0.912499  , -0.38094826],\n",
       "       [ 0.        ,  1.        ,  0.        ,  1.        ,  0.        ,\n",
       "         1.        ,  0.        ,  0.        ,  1.        ,  0.        ,\n",
       "         0.        ,  0.        ,  0.        ,  1.        ,  0.        ,\n",
       "         1.        ,  0.        , -0.2607585 ,  0.        ,  0.        ],\n",
       "       [ 1.        ,  0.        ,  1.        ,  0.        ,  0.        ,\n",
       "         1.        ,  0.        ,  0.        ,  0.        ,  1.        ,\n",
       "         0.        ,  0.        ,  0.        ,  1.        ,  0.        ,\n",
       "         0.        ,  1.        , -0.2607585 , -2.27255275, -1.16200479],\n",
       "       [ 0.        ,  1.        ,  1.        ,  0.        ,  0.        ,\n",
       "         0.        ,  1.        ,  0.        ,  0.        ,  1.        ,\n",
       "         0.        ,  0.        ,  0.        ,  1.        ,  0.        ,\n",
       "         0.        ,  1.        , -0.88615661, -2.000542  , -1.17975607]])"
      ]
     },
     "execution_count": 317,
     "metadata": {},
     "output_type": "execute_result"
    }
   ],
   "source": [
    "housing_prepared = full_pipeline.fit_transform(train)\n",
    "housing_prepared[0:6]"
   ]
  },
  {
   "cell_type": "code",
   "execution_count": 55,
   "metadata": {
    "collapsed": true
   },
   "outputs": [
    {
     "data": {
      "text/html": [
       "<div>\n",
       "<style scoped>\n",
       "    .dataframe tbody tr th:only-of-type {\n",
       "        vertical-align: middle;\n",
       "    }\n",
       "\n",
       "    .dataframe tbody tr th {\n",
       "        vertical-align: top;\n",
       "    }\n",
       "\n",
       "    .dataframe thead th {\n",
       "        text-align: right;\n",
       "    }\n",
       "</style>\n",
       "<table border=\"1\" class=\"dataframe\">\n",
       "  <thead>\n",
       "    <tr style=\"text-align: right;\">\n",
       "      <th></th>\n",
       "      <th>buynow_price</th>\n",
       "      <th>taktowanie bazowe procesora (ghz)</th>\n",
       "      <th>pojemność dysku (gb)</th>\n",
       "      <th>price_per_ghz</th>\n",
       "      <th>4242</th>\n",
       "    </tr>\n",
       "  </thead>\n",
       "  <tbody>\n",
       "    <tr>\n",
       "      <th>0</th>\n",
       "      <td>1599.0</td>\n",
       "      <td>1.9</td>\n",
       "      <td>500.0</td>\n",
       "      <td>0.001188</td>\n",
       "      <td>0.312695</td>\n",
       "    </tr>\n",
       "    <tr>\n",
       "      <th>1</th>\n",
       "      <td>2999.0</td>\n",
       "      <td>2.0</td>\n",
       "      <td>480.0</td>\n",
       "      <td>0.000667</td>\n",
       "      <td>0.160053</td>\n",
       "    </tr>\n",
       "    <tr>\n",
       "      <th>2</th>\n",
       "      <td>2999.0</td>\n",
       "      <td>2.1</td>\n",
       "      <td>480.0</td>\n",
       "      <td>0.000700</td>\n",
       "      <td>0.160053</td>\n",
       "    </tr>\n",
       "    <tr>\n",
       "      <th>3</th>\n",
       "      <td>2849.0</td>\n",
       "      <td>2.0</td>\n",
       "      <td>480.0</td>\n",
       "      <td>0.000702</td>\n",
       "      <td>0.168480</td>\n",
       "    </tr>\n",
       "    <tr>\n",
       "      <th>4</th>\n",
       "      <td>2319.0</td>\n",
       "      <td>NaN</td>\n",
       "      <td>NaN</td>\n",
       "      <td>NaN</td>\n",
       "      <td>NaN</td>\n",
       "    </tr>\n",
       "    <tr>\n",
       "      <th>...</th>\n",
       "      <td>...</td>\n",
       "      <td>...</td>\n",
       "      <td>...</td>\n",
       "      <td>...</td>\n",
       "      <td>...</td>\n",
       "    </tr>\n",
       "    <tr>\n",
       "      <th>7848</th>\n",
       "      <td>1329.0</td>\n",
       "      <td>1.6</td>\n",
       "      <td>128.0</td>\n",
       "      <td>0.001204</td>\n",
       "      <td>0.096313</td>\n",
       "    </tr>\n",
       "    <tr>\n",
       "      <th>7849</th>\n",
       "      <td>979.0</td>\n",
       "      <td>NaN</td>\n",
       "      <td>32.0</td>\n",
       "      <td>NaN</td>\n",
       "      <td>0.032686</td>\n",
       "    </tr>\n",
       "    <tr>\n",
       "      <th>7850</th>\n",
       "      <td>2565.0</td>\n",
       "      <td>2.3</td>\n",
       "      <td>128.0</td>\n",
       "      <td>0.000897</td>\n",
       "      <td>0.049903</td>\n",
       "    </tr>\n",
       "    <tr>\n",
       "      <th>7851</th>\n",
       "      <td>4079.0</td>\n",
       "      <td>2.5</td>\n",
       "      <td>1128.0</td>\n",
       "      <td>0.000613</td>\n",
       "      <td>0.276538</td>\n",
       "    </tr>\n",
       "    <tr>\n",
       "      <th>7852</th>\n",
       "      <td>2949.0</td>\n",
       "      <td>2.4</td>\n",
       "      <td>128.0</td>\n",
       "      <td>0.000814</td>\n",
       "      <td>0.043405</td>\n",
       "    </tr>\n",
       "  </tbody>\n",
       "</table>\n",
       "<p>7853 rows × 5 columns</p>\n",
       "</div>"
      ],
      "text/plain": [
       "      buynow_price  taktowanie bazowe procesora (ghz)  pojemność dysku (gb)  \\\n",
       "0           1599.0                                1.9                 500.0   \n",
       "1           2999.0                                2.0                 480.0   \n",
       "2           2999.0                                2.1                 480.0   \n",
       "3           2849.0                                2.0                 480.0   \n",
       "4           2319.0                                NaN                   NaN   \n",
       "...            ...                                ...                   ...   \n",
       "7848        1329.0                                1.6                 128.0   \n",
       "7849         979.0                                NaN                  32.0   \n",
       "7850        2565.0                                2.3                 128.0   \n",
       "7851        4079.0                                2.5                1128.0   \n",
       "7852        2949.0                                2.4                 128.0   \n",
       "\n",
       "      price_per_ghz      4242  \n",
       "0          0.001188  0.312695  \n",
       "1          0.000667  0.160053  \n",
       "2          0.000700  0.160053  \n",
       "3          0.000702  0.168480  \n",
       "4               NaN       NaN  \n",
       "...             ...       ...  \n",
       "7848       0.001204  0.096313  \n",
       "7849            NaN  0.032686  \n",
       "7850       0.000897  0.049903  \n",
       "7851       0.000613  0.276538  \n",
       "7852       0.000814  0.043405  \n",
       "\n",
       "[7853 rows x 5 columns]"
      ]
     },
     "execution_count": 55,
     "metadata": {},
     "output_type": "execute_result"
    }
   ],
   "source": [
    "#pd.DataFrame(df_extra_attribs, columns=df_num.columns)\n",
    "#train_labels = pd.DataFrame(housing_prepared, columns = df_num.columns.append(pd.Index(['price_per_ghz','4242'])))\n"
   ]
  },
  {
   "cell_type": "code",
   "execution_count": 318,
   "metadata": {},
   "outputs": [],
   "source": [
    "train_labels = train['buynow_price'].copy()\n",
    "test_labels = test['buynow_price'].copy()\n"
   ]
  },
  {
   "cell_type": "code",
   "execution_count": 319,
   "metadata": {},
   "outputs": [
    {
     "data": {
      "text/plain": [
       "LinearRegression(copy_X=True, fit_intercept=True, n_jobs=None, normalize=False)"
      ]
     },
     "execution_count": 319,
     "metadata": {},
     "output_type": "execute_result"
    }
   ],
   "source": [
    "lin_reg = LinearRegression()\n",
    "lin_reg.fit(housing_prepared, train_labels)"
   ]
  },
  {
   "cell_type": "code",
   "execution_count": 320,
   "metadata": {
    "scrolled": true
   },
   "outputs": [
    {
     "name": "stdout",
     "output_type": "stream",
     "text": [
      "Prognozy: [3174. 3468. 3826. ... 4310. 4454. 4850.]\n",
      "Etykiety: [2999.0, 2677.0, 4299.0, 6738.0, 1749.0, 3099.0, 4419.0, 1599.0, 3499.0, 4649.0, 3769.0, 1346.0, 4949.0, 2619.0, 3299.0, 3069.0, 2289.0, 4499.0, 5309.0, 1419.0, 1479.0, 4209.0, 3849.0, 5519.0, 3099.0, 4989.0, 4065.24, 3659.0, 1599.0, 3999.0, 3418.0, 2349.0, 3799.0, 3399.0, 2699.0, 3368.0, 2399.0, 3099.0, 3499.0, 2799.0, 1449.0, 5820.0, 5799.0, 3749.0, 9315.0, 3599.0, 2299.0, 5299.0, 2461.0, 1404.0, 1779.0, 2083.67, 3498.0, 2749.0, 1489.0, 2299.0, 4032.25, 2529.0, 1799.0, 2919.0, 2299.0, 1899.0, 3199.0, 1179.9, 1742.0, 4333.0, 2729.0, 2099.0, 6304.0, 3799.0, 1099.0, 4399.0, 2259.0, 1599.0, 6858.9, 2199.0, 2099.0, 4529.0, 1319.0, 2429.0, 2570.0, 4879.0, 4009.0, 2099.0, 4787.53, 2817.0, 3849.0, 5699.0, 1649.0, 4649.0, 4927.0, 2349.0, 4399.0, 8186.0, 3999.0, 5771.0, 1442.0, 2199.01, 4373.0, 11072.71, 2599.01, 2449.0, 3049.0, 1249.0, 2449.0, 2239.0, 2099.0, 5732.0, 1949.0, 1269.0, 4989.0, 1709.0, 1589.0, 4454.56, 8299.0, 2289.0, 1982.0, 2349.0, 2899.0, 3099.0, 7749.0, 4999.0, 3129.0, 6421.0, 2449.0, 2619.0, 2536.47, 2589.0, 1949.0, 3999.0, 4559.0, 3899.0, 6109.0, 2599.0, 2239.0, 2383.0, 3589.0, 1749.0, 6600.0, 9350.0, 5249.0, 2799.0, 1709.0, 5699.0, 3099.0, 8649.0, 1699.0, 1649.0, 4649.0, 6399.0, 1732.28, 5342.0, 5229.0, 4709.0, 2259.0, 6900.0, 1605.32, 3699.0, 5289.0, 4999.0, 3829.0, 3899.0, 8499.0, 3449.0, 1552.21, 2799.0, 3015.42, 3249.0, 4899.0, 2650.0, 3599.0, 3561.0, 2880.0, 2499.0, 4619.0, 2049.9, 4399.0, 4429.0, 4889.0, 6599.0, 1305.77, 4599.0, 2899.0, 1369.0, 959.0, 1777.0, 2899.0, 1539.0, 4435.58, 1797.0, 1289.0, 2329.0, 3179.0, 2139.0, 4597.0, 3990.0, 2250.0, 3089.18, 1199.0, 4590.0, 1577.0, 4199.0, 3549.0, 3449.0, 2444.0, 2499.0, 4049.0, 1729.0, 1699.0, 1199.0, 1899.0, 2449.0, 2359.0, 3849.0, 3519.0, 2899.0, 4849.0, 2029.0, 2369.0, 2799.0, 4229.0, 5469.0, 4049.0, 3899.0, 3599.0, 1499.0, 6473.0, 5394.0, 6613.0, 2949.0, 6199.0, 1849.0, 5407.0, 2349.0, 4099.0, 3499.0, 3778.9, 3699.0, 3489.0, 3749.0, 3979.0, 4699.0, 1850.0, 2249.0, 2469.0, 5757.0, 3299.0, 5914.0, 4749.0, 1499.0, 6611.0, 4939.73, 1077.0, 3119.0, 2799.0, 2699.0, 3699.0, 3199.0, 3399.0, 4369.0, 2456.0, 4199.0, 4749.0, 6169.0, 4999.0, 3050.0, 2625.0, 2199.0, 3899.0, 5799.0, 2400.0, 4099.0, 6661.0, 4199.0, 1849.0, 2769.0, 6047.52, 2499.0, 1199.0, 5899.0, 2579.0, 3340.0, 1785.0, 3847.0, 5799.0, 6779.0, 3299.0, 2449.0, 1719.0, 3199.0, 1789.0, 1129.0, 4459.0, 4137.68, 7099.0, 1519.0, 2899.0, 6449.0, 4309.0, 1949.0, 2378.99, 3899.0, 1245.27, 3119.0, 4874.0, 3319.0, 3649.0, 5699.0, 1769.0, 1249.0, 3599.0, 2399.0, 4199.0, 5849.0, 4649.0, 1049.0, 4178.02, 1299.0, 2909.0, 1419.0, 8286.0, 2279.0, 6613.22, 1967.0, 3099.0, 1298.0, 6613.0, 4159.0, 5999.0, 5179.0, 2970.0, 2599.0, 5899.0, 4099.0, 2799.0, 1797.0, 4137.0, 3419.0, 5039.0, 1979.0, 6419.0, 2469.0, 4999.0, 6179.0, 6395.0, 649.0, 2149.0, 3659.0, 4299.0, 1999.0, 8399.0, 1879.0, 949.0, 1399.0, 5169.0, 6399.0, 6299.0, 5799.0, 3449.0, 2659.0, 1999.0, 2499.0, 4869.0, 6226.0, 2789.0, 5499.0, 2449.0, 1399.0, 3509.0, 2999.01, 4249.0, 1419.0, 1799.0, 3569.0, 1149.0, 5099.0, 3549.0, 3389.0, 4899.0, 4199.0, 1150.0, 3299.0, 5969.0, 4409.0, 5069.0, 4229.0, 3449.0, 2695.0, 2049.0, 2499.0, 3699.0, 1299.0, 6148.0, 3449.0, 1999.0, 4409.0, 1789.0, 2088.0, 4339.0, 5849.0, 5699.0, 1949.0, 4549.01, 3295.0, 5919.0, 2999.0, 1899.0, 2288.39, 1469.0, 4679.0, 5233.0, 4059.0, 6949.0, 3329.0, 1359.0, 5249.0, 2299.0, 4299.0, 3469.0, 1399.0, 2399.0, 6299.0, 4599.0, 3499.0, 4016.0, 5849.0, 3399.0, 3938.27, 3181.14, 7449.0, 7874.0, 3449.0, 2721.0, 999.0, 3749.0, 3719.0, 7791.07, 1199.0, 2299.0, 3149.0, 4500.0, 2509.0, 2248.0, 2496.0, 1529.0, 6906.57, 7374.0, 2499.0, 2299.0, 3229.0, 7786.0, 1999.0, 5899.0, 3100.0, 2559.0, 4999.0, 4249.0, 3349.0, 2789.0, 5385.0, 3625.0, 2823.84, 649.0, 1499.0, 3699.0, 1999.0, 4199.0, 2359.0, 3629.0, 7113.0, 2629.0, 6252.0, 2499.0, 3459.0, 2851.62, 3299.0, 4059.01, 4529.0, 4799.0, 5169.0, 2019.0, 1998.0, 5999.0, 2275.0, 3019.0, 6299.0, 5719.0, 7936.0, 2599.0, 2399.0, 3399.0, 4399.0, 860.0, 1649.0, 2959.0, 4399.0, 3499.0, 2419.0, 2699.0, 5399.0, 1529.0, 4048.99, 2879.0, 1849.0, 1699.0, 6779.0, 5019.0, 1750.0, 7286.0, 4129.0, 3999.0, 4999.0, 5732.0, 4019.0, 4849.0, 2999.0, 3629.0, 1550.0, 2199.0, 2849.0, 2849.01, 3779.0, 5199.0, 2844.88, 6122.45, 3483.0, 3100.0, 1249.0, 3009.0, 3099.0, 3569.0, 1769.0, 2999.0, 1939.0, 4759.0, 4453.0, 5970.0, 1797.0, 2539.0, 6243.49, 2219.0, 3649.0, 999.0, 2449.0, 4339.0, 3149.0, 8461.0, 5149.0, 3689.0, 2199.0, 4796.0, 7109.0, 5029.0, 2549.0, 1919.0, 5108.0, 2800.0, 3469.01, 3399.0, 2499.0, 2199.0, 7336.0, 3704.0, 1539.0, 3349.0, 2719.0, 1999.0, 3649.0, 4969.0, 3069.0, 1913.83, 2279.0, 3849.0, 2319.0, 4799.0, 3078.9, 1749.0, 2046.47, 4799.0, 1547.0, 4529.0, 4349.0, 2259.0, 3599.0, 2049.0, 3499.0, 3250.0, 2699.0, 3060.0, 5083.0, 3849.0, 2299.0, 5914.0, 4868.58, 3251.0, 1859.35, 2439.0, 1919.0, 1999.0, 7199.0, 2059.0, 4389.0, 2089.0, 2200.0, 3399.0, 4199.0, 1451.05, 6674.0, 4199.0, 4759.0, 2679.0, 2699.0, 4129.0, 2579.0, 2529.0, 1999.0, 3849.0, 849.0, 4333.0, 2999.0, 4309.0, 3129.0, 1849.0, 4650.0, 2999.0, 1649.0, 2629.0, 7374.0, 1919.0, 3499.0, 6421.0, 2781.0, 2079.0, 1509.0, 2651.0, 4519.0, 2949.0, 3299.0, 1802.0, 4249.0, 3099.0, 2994.9, 4599.0, 3999.0, 2899.0, 6161.0, 7374.0, 3699.0, 2329.0, 1699.0, 2449.0, 2149.0, 2899.0, 3399.0, 4199.0, 2619.0, 2969.0, 3577.0, 5183.0, 1829.0, 2399.0, 3429.0, 4949.0, 749.0, 4049.0, 2428.99, 2799.0, 2399.0, 1959.0, 2369.0, 3599.0, 4349.0, 3899.0, 4399.0, 1743.38, 2919.0, 4099.0, 7286.0, 1849.0, 3990.0, 4999.0, 4419.0, 2299.0, 4599.0, 3549.0, 1969.0, 1349.0, 1599.0, 4099.0, 5369.0, 3949.01, 4179.0, 3190.0, 4399.0, 2399.0, 4399.0, 5229.0, 3834.0, 3099.0, 4299.0, 2049.0, 2399.0, 4649.0, 3169.0, 5290.0, 2899.01, 5519.0, 1799.0, 7488.0, 2520.0, 4639.0, 3899.0, 4499.0, 2421.0, 499.0, 3949.0, 3639.0, 2500.0, 1999.0, 3599.0, 3149.0, 5056.0, 3379.0, 6274.0, 2949.0, 1222.0, 1286.67, 3777.0, 2589.0, 3979.0, 4709.0, 8724.0, 3799.0, 2239.0, 1785.0, 1149.0, 1529.0, 2749.0, 599.0, 5429.0, 2799.0, 2799.0, 5499.0, 4499.0, 3949.0, 6799.0, 2199.0, 1389.0, 2999.0, 1199.0, 7174.0, 999.0, 3339.0, 3574.0, 7800.0, 7699.0, 2149.0, 9770.0, 2789.0, 1996.22, 2369.0, 5706.0, 4949.0, 3599.0, 6449.0, 2442.0, 1479.0, 3028.0, 2369.0, 2879.0, 5899.0, 2824.0, 6674.0, 2999.0, 2999.0, 1249.0, 1899.0, 4399.0, 1445.0, 3096.84, 4709.0, 1449.0, 3199.0, 7199.0, 4399.0, 999.0, 4599.0, 1649.0, 2549.0, 4309.0, 5329.0, 2099.0, 2359.0, 2149.0, 3799.0, 3750.0, 649.0, 2035.0, 3449.0, 3369.0, 3799.0, 2389.0, 849.0, 4523.0, 8167.7, 1889.0, 3299.0, 1839.0, 4539.0, 2649.0, 6424.0, 4199.0, 5498.0, 3919.0, 3259.0, 2299.0, 1149.0, 2739.0, 3600.0, 1699.0, 2709.0, 2999.0, 1499.0, 4199.0, 2049.0, 1549.0, 4299.0, 2099.0, 2699.0, 3599.0, 4334.74, 2719.0, 3444.0, 2829.0, 4299.0, 5559.0, 3699.0, 1999.0, 4337.0, 3179.0, 4614.0, 3140.0, 5399.0, 4299.0, 1552.0, 1557.0, 2199.0, 2739.0, 2999.0, 2319.0, 3699.0, 2199.0, 1519.0, 3049.0, 3099.0, 2819.0, 2399.0, 4149.0, 3599.0, 4399.0, 4939.0, 4249.0, 3777.0, 1139.0, 1989.0, 3549.0, 2651.0, 4799.0, 6252.0, 6779.0, 2999.0, 6057.0, 4017.87, 2589.0, 2949.0, 3799.0, 3789.0, 1199.0, 3599.0, 1431.0, 7599.0, 2699.0, 6447.0, 3339.0, 1549.0, 5579.0, 4855.0, 2449.01, 2339.0, 2127.0, 2998.18, 7261.0, 3509.0, 1619.0, 5499.0, 4469.0, 4449.0, 8499.0, 5289.0, 4049.0, 2969.0, 1749.0, 3849.0, 2149.0, 2797.9, 1549.0, 5559.0, 1455.0, 2999.0, 2726.23, 6486.0, 4897.0, 6324.0, 2784.74, 4399.0, 3283.0, 2699.0, 3579.0, 1999.0, 749.0, 1561.88, 8036.0, 1369.0, 1749.0, 2599.0, 1814.45, 5399.0, 3299.0, 1799.0, 2489.0, 4381.56, 7974.24, 15450.0, 2999.0, 3199.99, 4139.0, 4399.0, 5499.0, 4055.0, 4459.0, 4499.0, 4249.0, 3099.0, 3299.0, 4419.0, 999.0, 1399.0, 1675.0, 2955.0, 4455.14, 6599.0, 5459.0, 2299.0, 2078.99, 2299.0, 2429.0, 3007.0, 2669.72, 2125.0, 4359.0, 3017.0, 2799.0, 3849.0, 6863.0, 1969.0, 2999.01, 3999.0, 3449.0, 4869.0, 1249.0, 2049.0, 6611.0, 4019.0, 3879.0, 4099.0, 1399.0, 6499.0, 3099.0, 3769.0, 3999.0, 3469.0, 2849.0, 5429.0, 2999.0, 5999.0, 2099.99, 3099.0, 6200.0, 3349.0, 4299.0, 4499.0, 3977.0, 1782.0, 1200.0, 2149.0, 4489.0, 3499.0, 2099.0, 2799.0, 1809.0, 2849.0, 4744.0, 1399.0, 2911.0, 6579.0, 3469.0, 2949.0, 1769.0, 1999.99, 2199.0, 1749.0, 2079.0, 6300.0, 1999.99, 4179.0, 3199.0, 1639.0, 2499.0, 2456.0, 2679.0, 2369.0, 3283.0, 2999.0, 2299.0, 2090.0, 4019.51, 4199.0, 6344.0, 7061.0, 4189.0, 2439.0, 4059.0, 1839.0, 3099.0, 3599.0, 2299.0, 3399.0, 3218.99, 5699.0, 9610.0, 5059.0, 3099.0, 4692.0, 6083.0, 3879.0, 2549.0, 4839.0, 4209.0, 3599.0, 3100.0, 2899.0, 5029.0, 4929.0, 1999.0, 12090.0, 2425.0, 4929.0, 6567.15, 2739.0, 2799.0, 3099.0, 6099.0, 1977.0, 2499.0, 6699.0, 2219.0, 2803.25, 2649.0, 2149.0, 3049.0, 9999.0, 2009.0, 1799.0, 5099.0, 4129.0, 1799.0, 3197.0, 3999.0, 6718.9, 2699.0, 14490.0, 8600.0, 5598.9, 2499.0, 5899.0, 3799.0, 2549.01, 3779.0, 949.0, 2409.0, 4999.0, 675.0, 2679.0, 1299.0, 729.0, 4250.0, 4599.0, 5559.0, 3887.0, 1939.0, 3299.0, 2379.0, 1199.0, 4939.0, 6299.0, 2419.0, 4649.0, 1519.0, 2799.0, 5099.0, 4499.0, 4019.0, 6599.0, 5429.0, 1589.0, 759.0, 2299.0, 3519.0, 2449.0, 3589.0, 7524.0, 1876.96, 3845.0, 4109.0, 3299.0, 2609.0, 3819.0, 4519.0, 2225.15, 2757.0, 2499.01, 5299.0, 2399.0, 1695.36, 2099.0, 6624.0, 2849.0, 3849.0, 2781.0, 1367.0, 4339.0, 1959.0, 2392.78, 1819.0, 6400.0, 2299.0, 4999.0, 3349.0, 8824.0, 1439.0, 2189.0, 1964.0, 3099.0, 5249.0, 3849.01, 2530.71, 4899.0, 4269.0, 3099.0, 3099.0, 7986.0, 999.0, 3600.0, 3999.0, 2349.0, 4479.0, 4279.0, 2982.0, 949.0, 3950.0, 4499.0, 6613.0, 2949.0, 2759.0, 2099.0, 3449.0, 7109.0, 1149.0, 3727.0, 3299.0, 3449.0, 1749.99, 8258.9, 1499.0, 1999.0, 4939.0, 2019.0, 2049.0, 2149.0, 3469.0, 1659.0, 2139.0, 1529.0, 2436.0, 2639.0, 1999.0, 7399.0, 6488.0, 4850.0, 1490.97, 1799.0, 2990.0, 3509.0, 1339.0, 1549.0, 3239.0, 3849.0, 3927.0, 2659.0, 4822.0, 2979.0, 3699.0, 2799.99, 3299.0, 1799.0, 2838.0, 3080.0, 4209.0, 3199.0, 1399.0, 2136.5, 3519.0, 2799.0, 7099.0, 1790.0, 2567.0, 4129.0, 2149.0, 2100.0, 1829.0, 1319.0, 5326.0, 4053.9, 3099.0, 3049.0, 3199.0, 3749.0, 2439.0, 1549.0, 7374.0, 3588.24, 2289.0, 2599.0, 2499.0, 2200.25, 5800.0, 1999.0, 4099.0, 2849.0, 4629.0, 3999.0, 2361.36, 5249.0, 7061.0, 1899.0, 1999.0, 2500.0, 4437.0, 2825.0, 3899.0, 2769.0, 3299.0, 2349.0, 2487.0, 4989.0, 3171.0, 5499.0, 2549.0, 3449.0, 3335.0, 4299.0, 1919.0, 2649.0, 2649.0, 5599.0, 4229.0, 7199.0, 3699.0, 2428.99, 6299.0, 3999.0, 1449.0, 2555.0, 2599.0, 3449.0, 2590.0, 2919.0, 1219.0, 2077.0, 2499.0, 6892.77, 5339.0, 2999.0, 3369.0, 3200.0, 3187.0, 1629.0, 2999.0, 2308.99, 2990.0, 1975.0, 1769.0, 2428.99, 2299.0, 1499.0, 2549.0, 3449.0, 600.0, 1369.0, 3887.0, 1099.0, 3799.0, 769.0, 3550.0, 4379.0, 1699.0, 3699.0, 2799.0, 2499.0, 6579.0, 3219.0, 9460.94, 999.0, 1375.0, 2249.0, 4049.0, 5108.0, 3912.0, 3039.0, 2496.0, 3949.0, 3479.0, 1459.0, 2659.0, 4199.0, 2899.0, 4599.0, 2879.0, 1779.0, 6070.0, 2810.0, 4486.36, 3999.0, 2279.0, 4614.0, 6759.0, 2699.0, 1419.0, 6774.0, 6949.0, 649.0, 2669.0, 1499.0, 2199.0, 3949.0, 6169.0, 7111.0, 3779.0, 2429.0, 2879.0, 3189.0, 5849.0, 5399.0, 1699.0, 1659.0, 1819.0, 5004.0, 8149.0, 2049.0, 4199.0, 1464.0, 2645.0, 2939.0, 3197.0, 1349.0, 4149.0, 3149.0, 4099.0, 3990.0, 2879.0, 4099.0, 2099.0, 2439.0, 5589.0, 6599.0, 2179.0, 1699.0, 2899.0, 7761.0, 5979.0, 2096.36, 4289.0, 2999.0, 6899.0, 6499.0, 5099.0, 3449.0, 2949.0, 4299.0, 2299.0, 6299.0, 2650.0, 6488.0, 3999.0, 4799.0, 3999.0, 3899.0, 3699.0, 1149.0, 1149.0, 1754.38, 3749.0, 2699.0, 1537.0, 4614.0, 5307.0, 5683.89, 4859.0, 1809.0, 1349.0, 2619.0, 3929.0, 1999.0, 3659.0, 2299.0, 3649.0, 1747.0, 2999.0, 5199.0, 2797.67, 4127.0, 1049.0, 1299.0, 4329.0, 4385.0, 4650.0, 1899.0, 1249.0, 4539.0, 1999.0, 5799.0, 1299.0, 2499.0, 1465.0, 3269.0, 1599.0, 1699.0, 2989.0, 3899.0, 2599.0, 3599.0, 8124.0, 1449.0, 3709.0, 3799.0, 2543.36, 7999.0, 5299.0, 2549.0, 2649.0, 5290.0, 2499.0, 2599.01, 4899.0, 2609.0, 1859.94, 2989.0, 3405.23, 5399.0, 3899.0, 2199.0, 2299.0, 4849.0, 5399.0, 3499.0, 3197.0, 2868.9, 4756.19, 1668.0, 1667.0, 2589.0, 4399.0, 6611.0, 2219.0, 2849.0, 3890.0, 1359.0, 3499.0, 10850.0, 2749.0, 1499.0, 3399.0, 2099.0, 3187.0, 4299.0, 3509.0, 6863.0, 1899.0, 5240.0, 2485.0, 3600.0, 2599.0, 2699.0, 1655.0, 4399.0, 1549.0, 2289.0, 4299.0, 4199.0, 3211.78, 8874.0, 4259.0, 2199.0, 4129.0, 1999.0, 3009.0, 4199.0, 1839.0, 6723.4, 2116.0, 2703.0, 4899.0, 1850.0, 3979.0, 2989.0, 8499.0, 3669.0, 5099.0, 1899.0, 1699.0, 9299.0, 3199.0, 4799.0, 3699.0, 4799.0, 1098.0, 1829.0, 4049.0, 2539.0, 2539.0, 1579.0, 5099.0, 3099.0, 2969.0, 2359.0, 1599.0, 1699.0, 7374.0, 6899.0, 7399.0, 2499.0, 1409.0, 5099.0, 1699.0, 2199.99, 825.0, 4749.0, 5827.0, 7499.0, 3229.0, 3500.0, 2721.0, 9699.0, 1299.99, 1549.0, 2579.0, 5103.19, 3900.0, 4099.0, 5290.0, 2179.37, 2789.0, 1725.22, 1299.0, 2699.0, 1799.0, 3699.0, 4939.0, 4899.0, 4237.0, 1879.0, 4909.0, 3749.0, 4399.0, 9490.0, 3122.0, 2999.0, 3699.0, 1879.0, 3629.0, 3249.0, 4666.0, 3699.0, 3522.0, 2549.0, 1249.0, 2099.0, 2036.0, 2989.0, 4549.0, 1400.0, 1747.0, 5899.0, 4730.9, 1399.0, 3195.0, 1947.0, 2749.0, 4099.0, 4799.0, 2149.0, 3550.0, 4049.0, 1879.0, 4199.0, 3199.0, 5349.0, 1749.0, 2649.0, 4109.0, 4369.0, 6382.0, 1885.0, 4739.0, 2799.0, 2569.43, 4599.0, 2199.0, 2359.0, 2999.0, 6044.0, 3799.0, 2229.0, 2781.19, 5589.0, 5099.0, 2589.0, 6150.0, 4239.0, 8286.0, 2349.0, 1629.0, 2899.0, 5827.0, 2969.0, 4299.0, 4287.0, 1764.0, 2279.0, 2619.0, 3499.0, 2549.0, 4599.0, 2569.0, 1689.0, 1349.0, 2599.01, 2649.0, 2699.0, 1179.0, 2050.0, 3199.0, 5179.0, 7738.0, 5999.0, 1499.0, 4199.0, 2050.0, 6299.0, 3299.0, 1969.0, 1810.64, 3527.0, 2719.0, 3199.0, 4649.0, 1869.0, 1819.0, 3279.0, 1899.0, 3988.0, 1490.0, 6949.0, 2149.0, 3499.0, 1963.0, 1999.0, 2389.0, 6299.0, 2899.0, 2399.0, 1049.0, 2160.97, 4859.0, 1639.75, 3979.0, 4120.0, 3400.0, 599.0, 1699.0, 3678.0, 3309.0, 1999.0, 1798.0, 4019.0, 2100.0, 3199.0, 2319.0, 2851.62, 3825.0, 4337.0, 1999.0, 2789.0, 3199.0, 999.0, 6199.0, 2739.0, 5690.0, 4690.0, 2625.0, 949.0, 2999.0, 1549.0, 1049.0, 3997.0, 3509.0, 8149.0, 1719.0, 2899.0, 3399.0, 1649.0, 2289.0, 2469.0, 1204.94, 2399.0, 5589.0, 5225.0, 4249.0, 2089.0, 4822.0, 8750.0, 3049.0, 2749.0, 5699.0, 4119.0, 1729.0, 6599.0, 2249.0, 3399.0, 3309.0, 2489.0, 1799.0, 5589.0, 11013.87, 3132.0, 4499.0, 3809.0, 4337.0, 7420.0, 1579.0, 4187.0, 4637.24, 2749.0, 3639.0, 3749.0, 4129.0, 1369.0, 3519.0, 1902.0, 2649.0, 3198.99, 2198.99, 6200.0, 3199.0, 1199.0, 5524.0, 3749.0, 1520.0, 2769.24, 2687.81, 2049.0, 8299.0, 3479.0, 6299.0, 7749.0, 2219.0, 1899.0, 2903.0, 3886.0, 1545.0, 2829.0, 2199.0, 3649.0, 5849.0, 2799.0, 4309.0, 7399.0, 1949.0, 1828.74, 2309.0, 4299.0, 4129.0, 1369.0, 4744.0, 4519.0, 1889.0, 2199.0, 2469.0, 3269.0, 2024.67, 3449.0, 2899.0, 4949.0, 2749.0, 4599.0, 4399.0, 3679.0, 1299.0, 4959.0, 2500.0, 1179.0, 2309.0, 2739.0, 5199.0, 3149.0, 1399.0, 2899.0, 5342.0, 2149.0, 6083.0, 1649.0, 1879.0, 3699.0, 5299.0, 6369.0, 4589.0, 2099.0, 3299.0, 2699.0, 7299.0, 3239.0, 2529.0, 2469.0, 3569.0, 3887.0, 2049.0, 7511.0, 2229.0, 1899.0, 2889.0, 1789.0, 2149.0, 3314.0, 3949.0, 2500.0, 4479.0, 3709.0, 4159.0, 2990.0, 1599.0, 7511.0, 1499.0, 4969.0, 2949.0, 4799.0, 8924.0, 1299.0, 2899.0, 1909.0, 2400.0, 2716.0, 2249.0, 4549.0, 4399.0, 2349.0, 1961.73, 3483.0, 2897.0, 2099.0, 4599.0, 1150.0, 2175.0, 7498.52, 2208.99, 4437.0, 2380.91, 4499.0, 2319.0, 3795.0, 2337.0, 2549.0, 3587.0, 6199.0, 1490.97, 6400.0, 2899.0, 2499.0, 1454.0, 2793.0, 3199.0, 1749.0, 2209.0, 2208.99, 4379.0, 4409.0, 2349.0, 2589.0, 6499.0, 2605.0, 8392.02, 3999.0, 949.0, 4449.0, 6499.0, 1519.0, 3699.0, 3199.0, 2999.0, 3680.0, 2189.0, 749.0, 2799.0, 2159.7, 5649.0, 1799.0, 4296.55, 3739.0, 6324.0, 4079.0]\n"
     ]
    }
   ],
   "source": [
    "some_data = test\n",
    "some_labels = test_labels\n",
    "\n",
    "some_data_prepared = full_pipeline.transform(some_data)\n",
    "print(\"Prognozy:\", lin_reg.predict(some_data_prepared))\n",
    "print(\"Etykiety:\", list(some_labels))"
   ]
  },
  {
   "cell_type": "code",
   "execution_count": 322,
   "metadata": {},
   "outputs": [
    {
     "data": {
      "text/plain": [
       "1119.175415472309"
      ]
     },
     "execution_count": 322,
     "metadata": {},
     "output_type": "execute_result"
    }
   ],
   "source": [
    "price_predictions = lin_reg.predict(some_data_prepared)\n",
    "lin_mse = mean_squared_error(test_labels, price_predictions)\n",
    "lin_rmse = np.sqrt(lin_mse)\n",
    "lin_rmse"
   ]
  },
  {
   "cell_type": "code",
   "execution_count": 5,
   "metadata": {},
   "outputs": [],
   "source": [
    "train = clean_col_meta(train)"
   ]
  },
  {
   "cell_type": "code",
   "execution_count": null,
   "metadata": {},
   "outputs": [],
   "source": []
  },
  {
   "cell_type": "code",
   "execution_count": null,
   "metadata": {},
   "outputs": [],
   "source": []
  },
  {
   "cell_type": "code",
   "execution_count": null,
   "metadata": {},
   "outputs": [],
   "source": []
  },
  {
   "cell_type": "code",
   "execution_count": null,
   "metadata": {},
   "outputs": [],
   "source": []
  },
  {
   "cell_type": "code",
   "execution_count": 11,
   "metadata": {},
   "outputs": [],
   "source": [
    "df[\"lan 10/100 mbps\"] = (df[\"komunikacja\"].str.contains('lan 10/100 mbps', regex=False)*1).sum()"
   ]
  },
  {
   "cell_type": "code",
   "execution_count": 12,
   "metadata": {},
   "outputs": [],
   "source": [
    "df[\"lan 10/100/1000 mbps\"] = (df[\"komunikacja\"].str.contains('lan 10/100/1000 mbps', regex=False)*1).sum()"
   ]
  },
  {
   "cell_type": "code",
   "execution_count": 13,
   "metadata": {},
   "outputs": [
    {
     "data": {
      "text/plain": [
       "1454"
      ]
     },
     "execution_count": 13,
     "metadata": {},
     "output_type": "execute_result"
    }
   ],
   "source": [
    "(df[\"komunikacja\"].str.contains('nfc (near field communication)', regex=False)*1).sum()"
   ]
  },
  {
   "cell_type": "code",
   "execution_count": 14,
   "metadata": {},
   "outputs": [
    {
     "data": {
      "text/plain": [
       "1009"
      ]
     },
     "execution_count": 14,
     "metadata": {},
     "output_type": "execute_result"
    }
   ],
   "source": [
    "(df[\"komunikacja\"].str.contains('modem 3g (wwan)', regex=False)*1).sum()"
   ]
  },
  {
   "cell_type": "code",
   "execution_count": 15,
   "metadata": {},
   "outputs": [
    {
     "data": {
      "text/plain": [
       "269"
      ]
     },
     "execution_count": 15,
     "metadata": {},
     "output_type": "execute_result"
    }
   ],
   "source": [
    "(df[\"komunikacja\"].str.contains('gps', regex=False)*1).sum()"
   ]
  },
  {
   "cell_type": "code",
   "execution_count": 16,
   "metadata": {},
   "outputs": [
    {
     "data": {
      "text/plain": [
       "1004"
      ]
     },
     "execution_count": 16,
     "metadata": {},
     "output_type": "execute_result"
    }
   ],
   "source": [
    "(df[\"komunikacja\"].str.contains('intel wireless display (widi)', regex=False)*1).sum()"
   ]
  },
  {
   "cell_type": "code",
   "execution_count": 17,
   "metadata": {},
   "outputs": [
    {
     "data": {
      "text/plain": [
       "267"
      ]
     },
     "execution_count": 17,
     "metadata": {},
     "output_type": "execute_result"
    }
   ],
   "source": [
    "(df[\"komunikacja\"].str.contains('modem 4g (lte)', regex=False)*1).sum()"
   ]
  },
  {
   "cell_type": "code",
   "execution_count": 18,
   "metadata": {},
   "outputs": [
    {
     "data": {
      "text/plain": [
       "73"
      ]
     },
     "execution_count": 18,
     "metadata": {},
     "output_type": "execute_result"
    }
   ],
   "source": [
    "(df[\"komunikacja\"].str.contains('wi-fi 802.11 b/g/n', regex=False)*1).sum()"
   ]
  },
  {
   "cell_type": "code",
   "execution_count": 19,
   "metadata": {},
   "outputs": [
    {
     "data": {
      "text/plain": [
       "166"
      ]
     },
     "execution_count": 19,
     "metadata": {},
     "output_type": "execute_result"
    }
   ],
   "source": [
    "(df[\"komunikacja\"].str.contains('wi-fi 802.11 b/g/n/ac', regex=False)*1).sum()"
   ]
  },
  {
   "cell_type": "code",
   "execution_count": 20,
   "metadata": {},
   "outputs": [
    {
     "data": {
      "text/plain": [
       "143"
      ]
     },
     "execution_count": 20,
     "metadata": {},
     "output_type": "execute_result"
    }
   ],
   "source": [
    "(df[\"komunikacja\"].str.contains('wi-fi 802.11 a/b/g/n/ac', regex=False)*1).sum()"
   ]
  },
  {
   "cell_type": "code",
   "execution_count": 21,
   "metadata": {},
   "outputs": [
    {
     "data": {
      "text/plain": [
       "17"
      ]
     },
     "execution_count": 21,
     "metadata": {},
     "output_type": "execute_result"
    }
   ],
   "source": [
    "(df[\"komunikacja\"].str.contains('wi-fi 802.11 a/b/g/n', regex=False)*1).sum()"
   ]
  },
  {
   "cell_type": "code",
   "execution_count": 22,
   "metadata": {},
   "outputs": [
    {
     "data": {
      "text/plain": [
       "(7853, 20)"
      ]
     },
     "execution_count": 22,
     "metadata": {},
     "output_type": "execute_result"
    }
   ],
   "source": [
    "df.shape"
   ]
  },
  {
   "cell_type": "code",
   "execution_count": 23,
   "metadata": {},
   "outputs": [
    {
     "data": {
      "text/plain": [
       "0.020374379218133197"
      ]
     },
     "execution_count": 23,
     "metadata": {},
     "output_type": "execute_result"
    }
   ],
   "source": [
    "160/7853"
   ]
  },
  {
   "cell_type": "code",
   "execution_count": 24,
   "metadata": {},
   "outputs": [
    {
     "data": {
      "text/plain": [
       "Index(['buynow_price', 'rodzaj karty graficznej', 'komunikacja',\n",
       "       'rozdzielczość (piksele)', 'liczba rdzeni procesora',\n",
       "       'wielkość pamięci ram', 'system operacyjny', 'typ dysku twardego',\n",
       "       'sterowanie', 'multimedia', 'typ pamięci ram',\n",
       "       'taktowanie bazowe procesora (ghz)', 'seria procesora',\n",
       "       'pojemność dysku (gb)', 'gwarancja', 'wielkość matrycy ', 'bluetooth',\n",
       "       'wi-fi', 'lan 10/100 mbps', 'lan 10/100/1000 mbps'],\n",
       "      dtype='object')"
      ]
     },
     "execution_count": 24,
     "metadata": {},
     "output_type": "execute_result"
    }
   ],
   "source": [
    "df.columns"
   ]
  },
  {
   "cell_type": "code",
   "execution_count": 25,
   "metadata": {},
   "outputs": [
    {
     "data": {
      "text/plain": [
       "Int64Index([   70,  1489,   407,  1359, 10567,  3203,  7831,  4586,  7524,\n",
       "            10973,\n",
       "            ...\n",
       "             6423,  7596, 11321, 11695,  6406, 10541,  8281,  8053,  8727,\n",
       "             5978],\n",
       "           dtype='int64', length=7853)"
      ]
     },
     "execution_count": 25,
     "metadata": {},
     "output_type": "execute_result"
    }
   ],
   "source": [
    "df.index"
   ]
  },
  {
   "cell_type": "code",
   "execution_count": 26,
   "metadata": {},
   "outputs": [],
   "source": [
    "assert all(df.columns == ['buynow_price', 'rodzaj karty graficznej', 'komunikacja','rozdzielczość (piksele)', 'liczba rdzeni procesora',\n",
    "        'wielkość pamięci ram', 'system operacyjny', 'typ dysku twardego',\n",
    "        'sterowanie', 'multimedia', 'typ pamięci ram',\n",
    "        'taktowanie bazowe procesora (ghz)', 'seria procesora',\n",
    "        'pojemność dysku (gb)', 'gwarancja', 'wielkość matrycy ', 'bluetooth',\n",
    "        'wi-fi', 'lan 10/100 mbps', 'lan 10/100/1000 mbps'])"
   ]
  }
 ],
 "metadata": {
  "kernelspec": {
   "display_name": "Python 3",
   "language": "python",
   "name": "python3"
  },
  "language_info": {
   "codemirror_mode": {
    "name": "ipython",
    "version": 3
   },
   "file_extension": ".py",
   "mimetype": "text/x-python",
   "name": "python",
   "nbconvert_exporter": "python",
   "pygments_lexer": "ipython3",
   "version": "3.7.4"
  }
 },
 "nbformat": 4,
 "nbformat_minor": 2
}
