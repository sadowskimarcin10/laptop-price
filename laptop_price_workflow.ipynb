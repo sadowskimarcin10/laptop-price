{
 "cells": [
  {
   "cell_type": "code",
   "execution_count": 1,
   "metadata": {},
   "outputs": [],
   "source": [
    "import pandas as pd"
   ]
  },
  {
   "cell_type": "code",
   "execution_count": 2,
   "metadata": {},
   "outputs": [],
   "source": [
    "dataset = pd.read_json(\"public-dataset.json\")"
   ]
  },
  {
   "cell_type": "code",
   "execution_count": 3,
   "metadata": {},
   "outputs": [],
   "source": [
    "df = pd.DataFrame(dataset)"
   ]
  },
  {
   "cell_type": "code",
   "execution_count": 4,
   "metadata": {},
   "outputs": [
    {
     "name": "stdout",
     "output_type": "stream",
     "text": [
      "       buynow_price rodzaj karty graficznej  \\\n",
      "70           1599.0    grafika zintegrowana   \n",
      "1489         2999.0      grafika dedykowana   \n",
      "407          2999.0    grafika zintegrowana   \n",
      "1359         2849.0    grafika zintegrowana   \n",
      "10567        2319.0                    None   \n",
      "...             ...                     ...   \n",
      "10541        1329.0    grafika zintegrowana   \n",
      "8281          979.0                    None   \n",
      "8053         2565.0      grafika dedykowana   \n",
      "8727         4079.0      grafika dedykowana   \n",
      "5978         2949.0      grafika dedykowana   \n",
      "\n",
      "                                             komunikacja  \\\n",
      "70              [wi-fi, bluetooth, lan 10/100/1000 mbps]   \n",
      "1489               [nfc (near field communication), gps]   \n",
      "407             [wi-fi, bluetooth, lan 10/100/1000 mbps]   \n",
      "1359            [wi-fi, bluetooth, lan 10/100/1000 mbps]   \n",
      "10567                                               None   \n",
      "...                                                  ...   \n",
      "10541           [wi-fi, bluetooth, lan 10/100/1000 mbps]   \n",
      "8281                                                None   \n",
      "8053            [wi-fi, bluetooth, lan 10/100/1000 mbps]   \n",
      "8727   [bluetooth, lan 10/100/1000 mbps, lan 10/100 m...   \n",
      "5978   [bluetooth, lan 10/100/1000 mbps, lan 10/100 m...   \n",
      "\n",
      "      rozdzielczość (piksele) liczba rdzeni procesora wielkość pamięci ram  \\\n",
      "70                 1366 x 768                       2                 8 gb   \n",
      "1489              1920 x 1080                       2                12 gb   \n",
      "407                1366 x 768                       2                16 gb   \n",
      "1359              1920 x 1080                       2                 8 gb   \n",
      "10567                    None                       2                 None   \n",
      "...                       ...                     ...                  ...   \n",
      "10541              1366 x 768                       2                 4 gb   \n",
      "8281                     None                       2                 None   \n",
      "8053              1920 x 1080                       2                 4 gb   \n",
      "8727              1920 x 1080                       4                16 gb   \n",
      "5978              1920 x 1080                       2                 8 gb   \n",
      "\n",
      "                     system operacyjny typ dysku twardego  \\\n",
      "70                   [windows 10 home]                hdd   \n",
      "1489                 [windows 10 home]               None   \n",
      "407    [windows 7 professional 64-bit]                ssd   \n",
      "1359         [windows 10 professional]                ssd   \n",
      "10567                             None               None   \n",
      "...                                ...                ...   \n",
      "10541                [windows 10 home]                ssd   \n",
      "8281                              None               None   \n",
      "8053                 [windows 10 home]                ssd   \n",
      "8727                 [windows 10 home]          ssd + hdd   \n",
      "5978         [windows 10 professional]                ssd   \n",
      "\n",
      "                                            sterowanie  \\\n",
      "70                              [klawiatura, touchpad]   \n",
      "1489                                        [touchpad]   \n",
      "407      [klawiatura, touchpad, klawiatura numeryczna]   \n",
      "1359     [klawiatura, touchpad, klawiatura numeryczna]   \n",
      "10567                                             None   \n",
      "...                                                ...   \n",
      "10541    [klawiatura, touchpad, klawiatura numeryczna]   \n",
      "8281                                              None   \n",
      "8053     [klawiatura, touchpad, klawiatura numeryczna]   \n",
      "8727   [klawiatura, touchpad, klawiatura podświetlana]   \n",
      "5978                            [klawiatura, touchpad]   \n",
      "\n",
      "                                              multimedia typ pamięci ram  \\\n",
      "70     [czytnik kart pamięci, kamera, głośniki, mikro...            ddr3   \n",
      "1489   [czytnik kart pamięci, kamera, głośniki, mikro...            ddr4   \n",
      "407    [czytnik kart pamięci, kamera, głośniki, mikro...           ddr3l   \n",
      "1359   [czytnik kart pamięci, kamera, głośniki, mikro...            ddr4   \n",
      "10567                                               None            None   \n",
      "...                                                  ...             ...   \n",
      "10541  [czytnik kart pamięci, kamera, głośniki, mikro...            ddr3   \n",
      "8281                                                None            None   \n",
      "8053   [czytnik kart pamięci, kamera, głośniki, mikro...            ddr4   \n",
      "8727   [czytnik kart pamięci, kamera, głośniki, mikro...            ddr4   \n",
      "5978            [czytnik kart pamięci, kamera, mikrofon]            ddr4   \n",
      "\n",
      "       taktowanie bazowe procesora (ghz)          seria procesora  stan  \\\n",
      "70                                   1.9            intel core i3  nowy   \n",
      "1489                                 2.0            intel core i3  nowy   \n",
      "407                                  2.1  intel pentium dual-core  nowy   \n",
      "1359                                 2.0            intel core i3  nowy   \n",
      "10567                                NaN                     None  nowy   \n",
      "...                                  ...                      ...   ...   \n",
      "10541                                1.6  intel celeron dual-core  nowy   \n",
      "8281                                 NaN                     None  nowy   \n",
      "8053                                 2.3            intel core i5  nowy   \n",
      "8727                                 2.5            intel core i5  nowy   \n",
      "5978                                 2.4            intel core i3  nowy   \n",
      "\n",
      "       pojemność dysku (gb)   gwarancja wielkość matrycy   \n",
      "70                    500.0  sprzedawcy       13\" - 13.9\"  \n",
      "1489                  480.0  producenta       15\" - 15.9\"  \n",
      "407                   480.0  producenta       15\" - 15.9\"  \n",
      "1359                  480.0  producenta       15\" - 15.9\"  \n",
      "10567                   NaN  producenta              None  \n",
      "...                     ...         ...               ...  \n",
      "10541                 128.0  sprzedawcy       15\" - 15.9\"  \n",
      "8281                   32.0  producenta              None  \n",
      "8053                  128.0  sprzedawcy       15\" - 15.9\"  \n",
      "8727                 1128.0  producenta       15\" - 15.9\"  \n",
      "5978                  128.0  producenta       15\" - 15.9\"  \n",
      "\n",
      "[7853 rows x 17 columns]\n"
     ]
    }
   ],
   "source": [
    "print(dataset)"
   ]
  },
  {
   "cell_type": "code",
   "execution_count": 5,
   "metadata": {},
   "outputs": [],
   "source": [
    "df = df.drop(\"stan\", axis = 1) #druga opcja bez zapisu nowego df df.drop(\"stan\", inplace = True)"
   ]
  },
  {
   "cell_type": "code",
   "execution_count": 6,
   "metadata": {},
   "outputs": [
    {
     "data": {
      "text/plain": [
       "buynow_price                         float64\n",
       "rodzaj karty graficznej               object\n",
       "komunikacja                           object\n",
       "rozdzielczość (piksele)               object\n",
       "liczba rdzeni procesora               object\n",
       "wielkość pamięci ram                  object\n",
       "system operacyjny                     object\n",
       "typ dysku twardego                    object\n",
       "sterowanie                            object\n",
       "multimedia                            object\n",
       "typ pamięci ram                       object\n",
       "taktowanie bazowe procesora (ghz)    float64\n",
       "seria procesora                       object\n",
       "pojemność dysku (gb)                 float64\n",
       "gwarancja                             object\n",
       "wielkość matrycy                      object\n",
       "dtype: object"
      ]
     },
     "execution_count": 6,
     "metadata": {},
     "output_type": "execute_result"
    }
   ],
   "source": [
    "df.dtypes"
   ]
  },
  {
   "cell_type": "code",
   "execution_count": 7,
   "metadata": {},
   "outputs": [
    {
     "data": {
      "text/plain": [
       "['wi-fi',\n",
       " 'bluetooth',\n",
       " 'lan 10/100/1000 mbps',\n",
       " 'nfc (near field communication)',\n",
       " 'gps',\n",
       " 'lan 10/100 mbps',\n",
       " 'intel wireless display (widi)',\n",
       " 'modem 3g (wwan)',\n",
       " 'wi-fi 802.11 a/b/g/n/ac',\n",
       " 'wi-fi 802.11 b/g/n/ac',\n",
       " 'modem 4g (lte)',\n",
       " 'wi-fi 802.11 b/g/n',\n",
       " 'wi-fi 802.11 a/b/g/n']"
      ]
     },
     "execution_count": 7,
     "metadata": {},
     "output_type": "execute_result"
    }
   ],
   "source": [
    "df[\"komunikacja\"].apply(pd.Series).stack().unique().tolist()"
   ]
  },
  {
   "cell_type": "code",
   "execution_count": 8,
   "metadata": {},
   "outputs": [],
   "source": [
    "df[\"bluetooth\"] = (df[\"komunikacja\"].str.contains('bluetooth', regex=False)*1)"
   ]
  },
  {
   "cell_type": "code",
   "execution_count": 9,
   "metadata": {},
   "outputs": [
    {
     "data": {
      "text/plain": [
       "6524"
      ]
     },
     "execution_count": 9,
     "metadata": {},
     "output_type": "execute_result"
    }
   ],
   "source": [
    "(df[\"komunikacja\"].str.contains('bluetooth', regex=False)*1).sum()"
   ]
  },
  {
   "cell_type": "code",
   "execution_count": 10,
   "metadata": {},
   "outputs": [],
   "source": [
    "df[\"wi-fi\"] = (df[\"komunikacja\"].str.contains('wi-fi', regex=False)*1)"
   ]
  },
  {
   "cell_type": "code",
   "execution_count": 11,
   "metadata": {},
   "outputs": [],
   "source": [
    "df[\"lan 10/100 mbps\"] = (df[\"komunikacja\"].str.contains('lan 10/100 mbps', regex=False)*1).sum()"
   ]
  },
  {
   "cell_type": "code",
   "execution_count": 12,
   "metadata": {},
   "outputs": [],
   "source": [
    "df[\"lan 10/100/1000 mbps\"] = (df[\"komunikacja\"].str.contains('lan 10/100/1000 mbps', regex=False)*1).sum()"
   ]
  },
  {
   "cell_type": "code",
   "execution_count": 13,
   "metadata": {},
   "outputs": [
    {
     "data": {
      "text/plain": [
       "1454"
      ]
     },
     "execution_count": 13,
     "metadata": {},
     "output_type": "execute_result"
    }
   ],
   "source": [
    "(df[\"komunikacja\"].str.contains('nfc (near field communication)', regex=False)*1).sum()"
   ]
  },
  {
   "cell_type": "code",
   "execution_count": 14,
   "metadata": {},
   "outputs": [
    {
     "data": {
      "text/plain": [
       "1009"
      ]
     },
     "execution_count": 14,
     "metadata": {},
     "output_type": "execute_result"
    }
   ],
   "source": [
    "(df[\"komunikacja\"].str.contains('modem 3g (wwan)', regex=False)*1).sum()"
   ]
  },
  {
   "cell_type": "code",
   "execution_count": 15,
   "metadata": {},
   "outputs": [
    {
     "data": {
      "text/plain": [
       "269"
      ]
     },
     "execution_count": 15,
     "metadata": {},
     "output_type": "execute_result"
    }
   ],
   "source": [
    "(df[\"komunikacja\"].str.contains('gps', regex=False)*1).sum()"
   ]
  },
  {
   "cell_type": "code",
   "execution_count": 16,
   "metadata": {},
   "outputs": [
    {
     "data": {
      "text/plain": [
       "1004"
      ]
     },
     "execution_count": 16,
     "metadata": {},
     "output_type": "execute_result"
    }
   ],
   "source": [
    "(df[\"komunikacja\"].str.contains('intel wireless display (widi)', regex=False)*1).sum()"
   ]
  },
  {
   "cell_type": "code",
   "execution_count": 17,
   "metadata": {},
   "outputs": [
    {
     "data": {
      "text/plain": [
       "267"
      ]
     },
     "execution_count": 17,
     "metadata": {},
     "output_type": "execute_result"
    }
   ],
   "source": [
    "(df[\"komunikacja\"].str.contains('modem 4g (lte)', regex=False)*1).sum()"
   ]
  },
  {
   "cell_type": "code",
   "execution_count": 18,
   "metadata": {},
   "outputs": [
    {
     "data": {
      "text/plain": [
       "73"
      ]
     },
     "execution_count": 18,
     "metadata": {},
     "output_type": "execute_result"
    }
   ],
   "source": [
    "(df[\"komunikacja\"].str.contains('wi-fi 802.11 b/g/n', regex=False)*1).sum()"
   ]
  },
  {
   "cell_type": "code",
   "execution_count": 19,
   "metadata": {},
   "outputs": [
    {
     "data": {
      "text/plain": [
       "166"
      ]
     },
     "execution_count": 19,
     "metadata": {},
     "output_type": "execute_result"
    }
   ],
   "source": [
    "(df[\"komunikacja\"].str.contains('wi-fi 802.11 b/g/n/ac', regex=False)*1).sum()"
   ]
  },
  {
   "cell_type": "code",
   "execution_count": 20,
   "metadata": {},
   "outputs": [
    {
     "data": {
      "text/plain": [
       "143"
      ]
     },
     "execution_count": 20,
     "metadata": {},
     "output_type": "execute_result"
    }
   ],
   "source": [
    "(df[\"komunikacja\"].str.contains('wi-fi 802.11 a/b/g/n/ac', regex=False)*1).sum()"
   ]
  },
  {
   "cell_type": "code",
   "execution_count": 21,
   "metadata": {},
   "outputs": [
    {
     "data": {
      "text/plain": [
       "17"
      ]
     },
     "execution_count": 21,
     "metadata": {},
     "output_type": "execute_result"
    }
   ],
   "source": [
    "(df[\"komunikacja\"].str.contains('wi-fi 802.11 a/b/g/n', regex=False)*1).sum()"
   ]
  },
  {
   "cell_type": "code",
   "execution_count": 22,
   "metadata": {},
   "outputs": [
    {
     "data": {
      "text/plain": [
       "(7853, 20)"
      ]
     },
     "execution_count": 22,
     "metadata": {},
     "output_type": "execute_result"
    }
   ],
   "source": [
    "df.shape"
   ]
  },
  {
   "cell_type": "code",
   "execution_count": 23,
   "metadata": {},
   "outputs": [
    {
     "data": {
      "text/plain": [
       "0.020374379218133197"
      ]
     },
     "execution_count": 23,
     "metadata": {},
     "output_type": "execute_result"
    }
   ],
   "source": [
    "160/7853"
   ]
  },
  {
   "cell_type": "code",
   "execution_count": null,
   "metadata": {},
   "outputs": [],
   "source": []
  }
 ],
 "metadata": {
  "kernelspec": {
   "display_name": "Python 3",
   "language": "python",
   "name": "python3"
  },
  "language_info": {
   "codemirror_mode": {
    "name": "ipython",
    "version": 3
   },
   "file_extension": ".py",
   "mimetype": "text/x-python",
   "name": "python",
   "nbconvert_exporter": "python",
   "pygments_lexer": "ipython3",
   "version": "3.7.4"
  }
 },
 "nbformat": 4,
 "nbformat_minor": 2
}
