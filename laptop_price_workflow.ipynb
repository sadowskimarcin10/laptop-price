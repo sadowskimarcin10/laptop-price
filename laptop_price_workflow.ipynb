{
 "cells": [
  {
   "cell_type": "markdown",
   "metadata": {},
   "source": [
    "## Inicjalizacja\n"
   ]
  },
  {
   "cell_type": "code",
   "execution_count": 74,
   "metadata": {},
   "outputs": [],
   "source": [
    "from laptoppriceworkflow.data import get_json_data \n",
    "from laptoppriceworkflow.functions import clean_col_meta\n",
    "from laptoppriceworkflow.functions import simplify_gwarancja\n",
    "from laptoppriceworkflow.functions import simplify_komunikacja\n",
    "\n",
    "import pandas as pd\n",
    "\n",
    "import numpy as np\n",
    "\n",
    "import seaborn as sns \n",
    "\n",
    "import matplotlib.pyplot as plt\n",
    "\n",
    "from sklearn.impute import SimpleImputer \n",
    "\n",
    "from sklearn.preprocessing import LabelEncoder\n",
    "from sklearn.preprocessing import OneHotEncoder\n",
    "from sklearn.preprocessing import LabelBinarizer\n",
    "\n",
    "from sklearn.base import BaseEstimator, TransformerMixin\n",
    "\n",
    "from sklearn.pipeline import Pipeline\n",
    "from sklearn.preprocessing import StandardScaler\n"
   ]
  },
  {
   "cell_type": "code",
   "execution_count": 25,
   "metadata": {},
   "outputs": [],
   "source": [
    "df = get_json_data()"
   ]
  },
  {
   "cell_type": "markdown",
   "metadata": {},
   "source": [
    "# Partycjonowanie\n",
    "Preprocessing przygotowania modelu bedzie przeprowadzany tylko na czesci treningowej \n",
    "Pozniej przepuszcze przez niego czesc testowa, ktora swtorzylem oraz dodtkowy plik bez zmiennej celu"
   ]
  },
  {
   "cell_type": "code",
   "execution_count": 26,
   "metadata": {},
   "outputs": [],
   "source": [
    "msk = np.random.rand(len(df)) < 0.75\n",
    "train = df[msk]\n",
    "test = df[~msk]"
   ]
  },
  {
   "cell_type": "markdown",
   "metadata": {},
   "source": [
    "# Wstępna Analiza"
   ]
  },
  {
   "cell_type": "code",
   "execution_count": 4,
   "metadata": {},
   "outputs": [
    {
     "name": "stdout",
     "output_type": "stream",
     "text": [
      "<class 'pandas.core.frame.DataFrame'>\n",
      "Int64Index: 5863 entries, 70 to 5978\n",
      "Data columns (total 17 columns):\n",
      "buynow_price                         5863 non-null float64\n",
      "rodzaj karty graficznej              5493 non-null object\n",
      "komunikacja                          5270 non-null object\n",
      "rozdzielczość (piksele)              5422 non-null object\n",
      "liczba rdzeni procesora              5863 non-null object\n",
      "wielkość pamięci ram                 5517 non-null object\n",
      "system operacyjny                    5370 non-null object\n",
      "typ dysku twardego                   5542 non-null object\n",
      "sterowanie                           5350 non-null object\n",
      "multimedia                           5327 non-null object\n",
      "typ pamięci ram                      5223 non-null object\n",
      "taktowanie bazowe procesora (ghz)    5170 non-null float64\n",
      "seria procesora                      5464 non-null object\n",
      "stan                                 5863 non-null object\n",
      "pojemność dysku (gb)                 5499 non-null float64\n",
      "gwarancja                            5863 non-null object\n",
      "wielkość matrycy                     5607 non-null object\n",
      "dtypes: float64(3), object(14)\n",
      "memory usage: 824.5+ KB\n"
     ]
    }
   ],
   "source": [
    "train.info()"
   ]
  },
  {
   "cell_type": "code",
   "execution_count": 5,
   "metadata": {
    "scrolled": false
   },
   "outputs": [
    {
     "data": {
      "text/plain": [
       "buynow_price                         0.000000\n",
       "rodzaj karty graficznej              0.063108\n",
       "komunikacja                          0.101143\n",
       "rozdzielczość (piksele)              0.075217\n",
       "liczba rdzeni procesora              0.000000\n",
       "wielkość pamięci ram                 0.059014\n",
       "system operacyjny                    0.084087\n",
       "typ dysku twardego                   0.054750\n",
       "sterowanie                           0.087498\n",
       "multimedia                           0.091421\n",
       "typ pamięci ram                      0.109159\n",
       "taktowanie bazowe procesora (ghz)    0.118199\n",
       "seria procesora                      0.068054\n",
       "stan                                 0.000000\n",
       "pojemność dysku (gb)                 0.062084\n",
       "gwarancja                            0.000000\n",
       "wielkość matrycy                     0.043664\n",
       "dtype: float64"
      ]
     },
     "execution_count": 5,
     "metadata": {},
     "output_type": "execute_result"
    }
   ],
   "source": [
    "train.isnull().sum()/train.shape[0]"
   ]
  },
  {
   "cell_type": "code",
   "execution_count": 6,
   "metadata": {},
   "outputs": [
    {
     "data": {
      "text/plain": [
       "<matplotlib.axes._subplots.AxesSubplot at 0x21c67997488>"
      ]
     },
     "execution_count": 6,
     "metadata": {},
     "output_type": "execute_result"
    },
    {
     "data": {
      "image/png": "[encoded data removed]",
      "text/plain": [
       "<Figure size 432x288 with 1 Axes>"
      ]
     },
     "metadata": {
      "needs_background": "light"
     },
     "output_type": "display_data"
    }
   ],
   "source": [
    "train.boxplot(\"buynow_price\")"
   ]
  },
  {
   "cell_type": "code",
   "execution_count": 7,
   "metadata": {},
   "outputs": [
    {
     "data": {
      "image/png": "[encoded data removed]",
      "text/plain": [
       "<Figure size 432x288 with 1 Axes>"
      ]
     },
     "metadata": {
      "needs_background": "light"
     },
     "output_type": "display_data"
    }
   ],
   "source": [
    "sns.distplot(train[\"buynow_price\"])\n",
    "plt.show()"
   ]
  },
  {
   "cell_type": "markdown",
   "metadata": {},
   "source": [
    "# Budowa Preprocesingu"
   ]
  },
  {
   "cell_type": "code",
   "execution_count": 95,
   "metadata": {},
   "outputs": [
    {
     "data": {
      "text/plain": [
       "array([3.149e+03, 2.500e+00, 5.000e+02])"
      ]
     },
     "execution_count": 95,
     "metadata": {},
     "output_type": "execute_result"
    }
   ],
   "source": [
    "imputer = SimpleImputer(strategy = 'median')\n",
    "df_num = df[['buynow_price', 'taktowanie bazowe procesora (ghz)', 'pojemność dysku (gb)']]\n",
    "imputer.fit(df_num)\n",
    "imputer.statistics_"
   ]
  },
  {
   "cell_type": "code",
   "execution_count": 80,
   "metadata": {},
   "outputs": [],
   "source": [
    "X = imputer.transform(df_num)\n",
    "df_num_imp = pd.DataFrame(X, columns=df_num.columns)\n"
   ]
  },
  {
   "cell_type": "code",
   "execution_count": 29,
   "metadata": {
    "scrolled": true
   },
   "outputs": [
    {
     "name": "stdout",
     "output_type": "stream",
     "text": [
      "<class 'pandas.core.frame.DataFrame'>\n",
      "RangeIndex: 7853 entries, 0 to 7852\n",
      "Data columns (total 2 columns):\n",
      "taktowanie bazowe procesora (ghz)    7853 non-null float64\n",
      "pojemność dysku (gb)                 7853 non-null float64\n",
      "dtypes: float64(2)\n",
      "memory usage: 122.8 KB\n"
     ]
    }
   ],
   "source": [
    "df_num_imp.info()"
   ]
  },
  {
   "cell_type": "code",
   "execution_count": 30,
   "metadata": {
    "scrolled": true
   },
   "outputs": [
    {
     "data": {
      "text/plain": [
       "array([1, 1, 1, ..., 1, 3, 1])"
      ]
     },
     "execution_count": 30,
     "metadata": {},
     "output_type": "execute_result"
    }
   ],
   "source": [
    "encoder = LabelEncoder()\n",
    "#df_cat = df[[\"rodzaj karty graficznej\", \"komunikacja\",\"rozdzielczość (piksele)\"]]\n",
    "df_cat = df[\"liczba rdzeni procesora\"]\n",
    "df_cat_encoded = encoder.fit_transform(df_cat)\n",
    "df_cat_encoded"
   ]
  },
  {
   "cell_type": "code",
   "execution_count": 31,
   "metadata": {},
   "outputs": [
    {
     "name": "stdout",
     "output_type": "stream",
     "text": [
      "['1' '2' '3' '4' '6' '8' 'nie dotyczy']\n"
     ]
    }
   ],
   "source": [
    "print(encoder.classes_)"
   ]
  },
  {
   "cell_type": "code",
   "execution_count": 32,
   "metadata": {},
   "outputs": [
    {
     "data": {
      "text/plain": [
       "<7853x7 sparse matrix of type '<class 'numpy.float64'>'\n",
       "\twith 7853 stored elements in Compressed Sparse Row format>"
      ]
     },
     "execution_count": 32,
     "metadata": {},
     "output_type": "execute_result"
    }
   ],
   "source": [
    "encoder = OneHotEncoder()\n",
    "df_cat_1hot = encoder.fit_transform(df_cat_encoded.reshape(-1,1))\n",
    "df_cat_1hot"
   ]
  },
  {
   "cell_type": "markdown",
   "metadata": {},
   "source": [
    "Lepsze gdy w kolumnie masz bardzo dużo kategorii i powstaje macierz rzadka (sparse matrix)\n",
    "W innym przypadku lepiej LabelBinarizer() :)"
   ]
  },
  {
   "cell_type": "code",
   "execution_count": 33,
   "metadata": {},
   "outputs": [
    {
     "data": {
      "text/plain": [
       "array([[0., 1., 0., ..., 0., 0., 0.],\n",
       "       [0., 1., 0., ..., 0., 0., 0.],\n",
       "       [0., 1., 0., ..., 0., 0., 0.],\n",
       "       ...,\n",
       "       [0., 1., 0., ..., 0., 0., 0.],\n",
       "       [0., 0., 0., ..., 0., 0., 0.],\n",
       "       [0., 1., 0., ..., 0., 0., 0.]])"
      ]
     },
     "execution_count": 33,
     "metadata": {},
     "output_type": "execute_result"
    }
   ],
   "source": [
    "df_cat_1hot.toarray()"
   ]
  },
  {
   "cell_type": "code",
   "execution_count": 34,
   "metadata": {
    "scrolled": true
   },
   "outputs": [
    {
     "data": {
      "text/plain": [
       "array([[0, 1, 0, ..., 0, 0, 0],\n",
       "       [0, 1, 0, ..., 0, 0, 0],\n",
       "       [0, 1, 0, ..., 0, 0, 0],\n",
       "       ...,\n",
       "       [0, 1, 0, ..., 0, 0, 0],\n",
       "       [0, 0, 0, ..., 0, 0, 0],\n",
       "       [0, 1, 0, ..., 0, 0, 0]])"
      ]
     },
     "execution_count": 34,
     "metadata": {},
     "output_type": "execute_result"
    }
   ],
   "source": [
    "encoder = LabelBinarizer()\n",
    "df_cat_1hot = encoder.fit_transform(df_cat)\n",
    "df_cat_1hot"
   ]
  },
  {
   "cell_type": "code",
   "execution_count": 86,
   "metadata": {},
   "outputs": [
    {
     "ename": "IndentationError",
     "evalue": "expected an indented block (<ipython-input-86-01487d25b82e>, line 17)",
     "output_type": "error",
     "traceback": [
      "\u001b[1;36m  File \u001b[1;32m\"<ipython-input-86-01487d25b82e>\"\u001b[1;36m, line \u001b[1;32m17\u001b[0m\n\u001b[1;33m    Pokoje_na_rodzinę = X[:, rooms_ix] / X[:, household_ix]\u001b[0m\n\u001b[1;37m                    ^\u001b[0m\n\u001b[1;31mIndentationError\u001b[0m\u001b[1;31m:\u001b[0m expected an indented block\n"
     ]
    }
   ],
   "source": [
    "#rooms_ix, bedrooms_ix, population_ix, household_ix = 3, 4, 5, 6\n",
    "\n",
    "rooms_ix = 3\n",
    "bedrooms_ix = 4\n",
    "population_ix = 5\n",
    "household_ix = 6\n",
    "\n",
    "class CombinedAttributesAdder(BaseEstimator, TransformerMixin):\n",
    "    \n",
    "    def __init__(self, add_bedrooms_per_room = True): # żadnych zmiennych *args ani **kargs\n",
    "        self.add_bedrooms_per_room = add_bedrooms_per_room\n",
    "    \n",
    "    def fit(self, X, y=None):\n",
    "        return self # nie robi nic innego\n",
    "    \n",
    "    def transform(self, X, y=None):\n",
    "    Pokoje_na_rodzinę = X[:, rooms_ix] / X[:, household_ix]\n",
    "    Populacja_na_rodzinę = X[:, population_ix] / X[:, household_ix]\n",
    "    if self.add_bedrooms_per_room:\n",
    "        Sypialnie_na_pokoje = X[:, bedrooms_ix] / X[:, rooms_ix]\n",
    "        return np.c_[X, Pokoje_na_rodzinę, Populacja_na_rodzinę,\n",
    "            Sypialnie_na_pokoje]\n",
    "    else:\n",
    "        return np.c_[X, Pokoje_na_rodzinę, Populacja_na_rodzinę]\n",
    "    \n",
    "attr_adder = CombinedAttributesAdder(add_bedrooms_per_room=False)\n",
    "housing_extra_attribs = attr_adder.transform(housing.values)"
   ]
  },
  {
   "cell_type": "code",
   "execution_count": 96,
   "metadata": {},
   "outputs": [],
   "source": [
    "#rooms_ix, bedrooms_ix, population_ix, household_ix = 3, 4, 5, 6\n",
    "\n",
    "buynow_price_ix = 0\n",
    "taktowanie_bazowe_procesora_ghz_ix = 1\n",
    "pojemność_dysku_gb_ix = 2\n",
    "#household_ix = 6\n",
    "\n",
    "class CombinedAttributesAdder(BaseEstimator, TransformerMixin):\n",
    "    \n",
    "    def __init__(self, add_price_per_gb = True): # żadnych zmiennych *args ani **kargs\n",
    "        self.add_price_per_gb = add_price_per_gb\n",
    "    \n",
    "    def fit(self, X, y=None):\n",
    "        return self # nie robi nic innego\n",
    "    \n",
    "    def transform(self, X, y=None):\n",
    "        price_per_ghz = X[:, taktowanie_bazowe_procesora_ghz_ix] / X[:, buynow_price_ix]\n",
    "        #Populacja_na_rodzinę = X[:, population_ix] / X[:, household_ix]\n",
    "        if self.add_price_per_gb:\n",
    "            price_per_gb = X[:, pojemność_dysku_gb_ix] / X[:, buynow_price_ix]\n",
    "            return np.c_[X, price_per_ghz, price_per_gb]\n",
    "        else:\n",
    "            return np.c_[X, price_per_ghz]"
   ]
  },
  {
   "cell_type": "code",
   "execution_count": null,
   "metadata": {},
   "outputs": [],
   "source": [
    "attr_adder = CombinedAttributesAdder(add_price_per_gb=True)\n",
    "df_extra_attribs = attr_adder.transform(df.values)"
   ]
  },
  {
   "cell_type": "code",
   "execution_count": 73,
   "metadata": {
    "scrolled": true
   },
   "outputs": [
    {
     "data": {
      "text/html": [
       "<div>\n",
       "<style scoped>\n",
       "    .dataframe tbody tr th:only-of-type {\n",
       "        vertical-align: middle;\n",
       "    }\n",
       "\n",
       "    .dataframe tbody tr th {\n",
       "        vertical-align: top;\n",
       "    }\n",
       "\n",
       "    .dataframe thead th {\n",
       "        text-align: right;\n",
       "    }\n",
       "</style>\n",
       "<table border=\"1\" class=\"dataframe\">\n",
       "  <thead>\n",
       "    <tr style=\"text-align: right;\">\n",
       "      <th></th>\n",
       "      <th>buynow_price</th>\n",
       "      <th>rodzaj karty graficznej</th>\n",
       "      <th>komunikacja</th>\n",
       "      <th>rozdzielczość (piksele)</th>\n",
       "      <th>liczba rdzeni procesora</th>\n",
       "      <th>wielkość pamięci ram</th>\n",
       "      <th>system operacyjny</th>\n",
       "      <th>typ dysku twardego</th>\n",
       "      <th>sterowanie</th>\n",
       "      <th>multimedia</th>\n",
       "      <th>typ pamięci ram</th>\n",
       "      <th>taktowanie bazowe procesora (ghz)</th>\n",
       "      <th>seria procesora</th>\n",
       "      <th>stan</th>\n",
       "      <th>pojemność dysku (gb)</th>\n",
       "      <th>gwarancja</th>\n",
       "      <th>wielkość matrycy</th>\n",
       "      <th>price_per_ghz</th>\n",
       "      <th>4242</th>\n",
       "    </tr>\n",
       "  </thead>\n",
       "  <tbody>\n",
       "    <tr>\n",
       "      <th>0</th>\n",
       "      <td>1599</td>\n",
       "      <td>grafika zintegrowana</td>\n",
       "      <td>[wi-fi, bluetooth, lan 10/100/1000 mbps]</td>\n",
       "      <td>1366 x 768</td>\n",
       "      <td>2</td>\n",
       "      <td>8 gb</td>\n",
       "      <td>[windows 10 home]</td>\n",
       "      <td>hdd</td>\n",
       "      <td>[klawiatura, touchpad]</td>\n",
       "      <td>[czytnik kart pamięci, kamera, głośniki, mikro...</td>\n",
       "      <td>ddr3</td>\n",
       "      <td>1.9</td>\n",
       "      <td>intel core i3</td>\n",
       "      <td>nowy</td>\n",
       "      <td>500</td>\n",
       "      <td>sprzedawcy</td>\n",
       "      <td>13\" - 13.9\"</td>\n",
       "      <td>0.00118824</td>\n",
       "      <td>0.312695</td>\n",
       "    </tr>\n",
       "    <tr>\n",
       "      <th>1</th>\n",
       "      <td>2999</td>\n",
       "      <td>grafika dedykowana</td>\n",
       "      <td>[nfc (near field communication), gps]</td>\n",
       "      <td>1920 x 1080</td>\n",
       "      <td>2</td>\n",
       "      <td>12 gb</td>\n",
       "      <td>[windows 10 home]</td>\n",
       "      <td>None</td>\n",
       "      <td>[touchpad]</td>\n",
       "      <td>[czytnik kart pamięci, kamera, głośniki, mikro...</td>\n",
       "      <td>ddr4</td>\n",
       "      <td>2</td>\n",
       "      <td>intel core i3</td>\n",
       "      <td>nowy</td>\n",
       "      <td>480</td>\n",
       "      <td>producenta</td>\n",
       "      <td>15\" - 15.9\"</td>\n",
       "      <td>0.000666889</td>\n",
       "      <td>0.160053</td>\n",
       "    </tr>\n",
       "    <tr>\n",
       "      <th>2</th>\n",
       "      <td>2999</td>\n",
       "      <td>grafika zintegrowana</td>\n",
       "      <td>[wi-fi, bluetooth, lan 10/100/1000 mbps]</td>\n",
       "      <td>1366 x 768</td>\n",
       "      <td>2</td>\n",
       "      <td>16 gb</td>\n",
       "      <td>[windows 7 professional 64-bit]</td>\n",
       "      <td>ssd</td>\n",
       "      <td>[klawiatura, touchpad, klawiatura numeryczna]</td>\n",
       "      <td>[czytnik kart pamięci, kamera, głośniki, mikro...</td>\n",
       "      <td>ddr3l</td>\n",
       "      <td>2.1</td>\n",
       "      <td>intel pentium dual-core</td>\n",
       "      <td>nowy</td>\n",
       "      <td>480</td>\n",
       "      <td>producenta</td>\n",
       "      <td>15\" - 15.9\"</td>\n",
       "      <td>0.000700233</td>\n",
       "      <td>0.160053</td>\n",
       "    </tr>\n",
       "    <tr>\n",
       "      <th>3</th>\n",
       "      <td>2849</td>\n",
       "      <td>grafika zintegrowana</td>\n",
       "      <td>[wi-fi, bluetooth, lan 10/100/1000 mbps]</td>\n",
       "      <td>1920 x 1080</td>\n",
       "      <td>2</td>\n",
       "      <td>8 gb</td>\n",
       "      <td>[windows 10 professional]</td>\n",
       "      <td>ssd</td>\n",
       "      <td>[klawiatura, touchpad, klawiatura numeryczna]</td>\n",
       "      <td>[czytnik kart pamięci, kamera, głośniki, mikro...</td>\n",
       "      <td>ddr4</td>\n",
       "      <td>2</td>\n",
       "      <td>intel core i3</td>\n",
       "      <td>nowy</td>\n",
       "      <td>480</td>\n",
       "      <td>producenta</td>\n",
       "      <td>15\" - 15.9\"</td>\n",
       "      <td>0.000702001</td>\n",
       "      <td>0.16848</td>\n",
       "    </tr>\n",
       "    <tr>\n",
       "      <th>4</th>\n",
       "      <td>2319</td>\n",
       "      <td>None</td>\n",
       "      <td>None</td>\n",
       "      <td>None</td>\n",
       "      <td>2</td>\n",
       "      <td>None</td>\n",
       "      <td>None</td>\n",
       "      <td>None</td>\n",
       "      <td>None</td>\n",
       "      <td>None</td>\n",
       "      <td>None</td>\n",
       "      <td>NaN</td>\n",
       "      <td>None</td>\n",
       "      <td>nowy</td>\n",
       "      <td>NaN</td>\n",
       "      <td>producenta</td>\n",
       "      <td>None</td>\n",
       "      <td>NaN</td>\n",
       "      <td>NaN</td>\n",
       "    </tr>\n",
       "    <tr>\n",
       "      <th>...</th>\n",
       "      <td>...</td>\n",
       "      <td>...</td>\n",
       "      <td>...</td>\n",
       "      <td>...</td>\n",
       "      <td>...</td>\n",
       "      <td>...</td>\n",
       "      <td>...</td>\n",
       "      <td>...</td>\n",
       "      <td>...</td>\n",
       "      <td>...</td>\n",
       "      <td>...</td>\n",
       "      <td>...</td>\n",
       "      <td>...</td>\n",
       "      <td>...</td>\n",
       "      <td>...</td>\n",
       "      <td>...</td>\n",
       "      <td>...</td>\n",
       "      <td>...</td>\n",
       "      <td>...</td>\n",
       "    </tr>\n",
       "    <tr>\n",
       "      <th>7848</th>\n",
       "      <td>1329</td>\n",
       "      <td>grafika zintegrowana</td>\n",
       "      <td>[wi-fi, bluetooth, lan 10/100/1000 mbps]</td>\n",
       "      <td>1366 x 768</td>\n",
       "      <td>2</td>\n",
       "      <td>4 gb</td>\n",
       "      <td>[windows 10 home]</td>\n",
       "      <td>ssd</td>\n",
       "      <td>[klawiatura, touchpad, klawiatura numeryczna]</td>\n",
       "      <td>[czytnik kart pamięci, kamera, głośniki, mikro...</td>\n",
       "      <td>ddr3</td>\n",
       "      <td>1.6</td>\n",
       "      <td>intel celeron dual-core</td>\n",
       "      <td>nowy</td>\n",
       "      <td>128</td>\n",
       "      <td>sprzedawcy</td>\n",
       "      <td>15\" - 15.9\"</td>\n",
       "      <td>0.00120391</td>\n",
       "      <td>0.096313</td>\n",
       "    </tr>\n",
       "    <tr>\n",
       "      <th>7849</th>\n",
       "      <td>979</td>\n",
       "      <td>None</td>\n",
       "      <td>None</td>\n",
       "      <td>None</td>\n",
       "      <td>2</td>\n",
       "      <td>None</td>\n",
       "      <td>None</td>\n",
       "      <td>None</td>\n",
       "      <td>None</td>\n",
       "      <td>None</td>\n",
       "      <td>None</td>\n",
       "      <td>NaN</td>\n",
       "      <td>None</td>\n",
       "      <td>nowy</td>\n",
       "      <td>32</td>\n",
       "      <td>producenta</td>\n",
       "      <td>None</td>\n",
       "      <td>NaN</td>\n",
       "      <td>0.0326864</td>\n",
       "    </tr>\n",
       "    <tr>\n",
       "      <th>7850</th>\n",
       "      <td>2565</td>\n",
       "      <td>grafika dedykowana</td>\n",
       "      <td>[wi-fi, bluetooth, lan 10/100/1000 mbps]</td>\n",
       "      <td>1920 x 1080</td>\n",
       "      <td>2</td>\n",
       "      <td>4 gb</td>\n",
       "      <td>[windows 10 home]</td>\n",
       "      <td>ssd</td>\n",
       "      <td>[klawiatura, touchpad, klawiatura numeryczna]</td>\n",
       "      <td>[czytnik kart pamięci, kamera, głośniki, mikro...</td>\n",
       "      <td>ddr4</td>\n",
       "      <td>2.3</td>\n",
       "      <td>intel core i5</td>\n",
       "      <td>nowy</td>\n",
       "      <td>128</td>\n",
       "      <td>sprzedawcy</td>\n",
       "      <td>15\" - 15.9\"</td>\n",
       "      <td>0.000896686</td>\n",
       "      <td>0.0499025</td>\n",
       "    </tr>\n",
       "    <tr>\n",
       "      <th>7851</th>\n",
       "      <td>4079</td>\n",
       "      <td>grafika dedykowana</td>\n",
       "      <td>[bluetooth, lan 10/100/1000 mbps, lan 10/100 m...</td>\n",
       "      <td>1920 x 1080</td>\n",
       "      <td>4</td>\n",
       "      <td>16 gb</td>\n",
       "      <td>[windows 10 home]</td>\n",
       "      <td>ssd + hdd</td>\n",
       "      <td>[klawiatura, touchpad, klawiatura podświetlana]</td>\n",
       "      <td>[czytnik kart pamięci, kamera, głośniki, mikro...</td>\n",
       "      <td>ddr4</td>\n",
       "      <td>2.5</td>\n",
       "      <td>intel core i5</td>\n",
       "      <td>nowy</td>\n",
       "      <td>1128</td>\n",
       "      <td>producenta</td>\n",
       "      <td>15\" - 15.9\"</td>\n",
       "      <td>0.000612895</td>\n",
       "      <td>0.276538</td>\n",
       "    </tr>\n",
       "    <tr>\n",
       "      <th>7852</th>\n",
       "      <td>2949</td>\n",
       "      <td>grafika dedykowana</td>\n",
       "      <td>[bluetooth, lan 10/100/1000 mbps, lan 10/100 m...</td>\n",
       "      <td>1920 x 1080</td>\n",
       "      <td>2</td>\n",
       "      <td>8 gb</td>\n",
       "      <td>[windows 10 professional]</td>\n",
       "      <td>ssd</td>\n",
       "      <td>[klawiatura, touchpad]</td>\n",
       "      <td>[czytnik kart pamięci, kamera, mikrofon]</td>\n",
       "      <td>ddr4</td>\n",
       "      <td>2.4</td>\n",
       "      <td>intel core i3</td>\n",
       "      <td>nowy</td>\n",
       "      <td>128</td>\n",
       "      <td>producenta</td>\n",
       "      <td>15\" - 15.9\"</td>\n",
       "      <td>0.000813835</td>\n",
       "      <td>0.0434045</td>\n",
       "    </tr>\n",
       "  </tbody>\n",
       "</table>\n",
       "<p>7853 rows × 19 columns</p>\n",
       "</div>"
      ],
      "text/plain": [
       "     buynow_price rodzaj karty graficznej  \\\n",
       "0            1599    grafika zintegrowana   \n",
       "1            2999      grafika dedykowana   \n",
       "2            2999    grafika zintegrowana   \n",
       "3            2849    grafika zintegrowana   \n",
       "4            2319                    None   \n",
       "...           ...                     ...   \n",
       "7848         1329    grafika zintegrowana   \n",
       "7849          979                    None   \n",
       "7850         2565      grafika dedykowana   \n",
       "7851         4079      grafika dedykowana   \n",
       "7852         2949      grafika dedykowana   \n",
       "\n",
       "                                            komunikacja  \\\n",
       "0              [wi-fi, bluetooth, lan 10/100/1000 mbps]   \n",
       "1                 [nfc (near field communication), gps]   \n",
       "2              [wi-fi, bluetooth, lan 10/100/1000 mbps]   \n",
       "3              [wi-fi, bluetooth, lan 10/100/1000 mbps]   \n",
       "4                                                  None   \n",
       "...                                                 ...   \n",
       "7848           [wi-fi, bluetooth, lan 10/100/1000 mbps]   \n",
       "7849                                               None   \n",
       "7850           [wi-fi, bluetooth, lan 10/100/1000 mbps]   \n",
       "7851  [bluetooth, lan 10/100/1000 mbps, lan 10/100 m...   \n",
       "7852  [bluetooth, lan 10/100/1000 mbps, lan 10/100 m...   \n",
       "\n",
       "     rozdzielczość (piksele) liczba rdzeni procesora wielkość pamięci ram  \\\n",
       "0                 1366 x 768                       2                 8 gb   \n",
       "1                1920 x 1080                       2                12 gb   \n",
       "2                 1366 x 768                       2                16 gb   \n",
       "3                1920 x 1080                       2                 8 gb   \n",
       "4                       None                       2                 None   \n",
       "...                      ...                     ...                  ...   \n",
       "7848              1366 x 768                       2                 4 gb   \n",
       "7849                    None                       2                 None   \n",
       "7850             1920 x 1080                       2                 4 gb   \n",
       "7851             1920 x 1080                       4                16 gb   \n",
       "7852             1920 x 1080                       2                 8 gb   \n",
       "\n",
       "                    system operacyjny typ dysku twardego  \\\n",
       "0                   [windows 10 home]                hdd   \n",
       "1                   [windows 10 home]               None   \n",
       "2     [windows 7 professional 64-bit]                ssd   \n",
       "3           [windows 10 professional]                ssd   \n",
       "4                                None               None   \n",
       "...                               ...                ...   \n",
       "7848                [windows 10 home]                ssd   \n",
       "7849                             None               None   \n",
       "7850                [windows 10 home]                ssd   \n",
       "7851                [windows 10 home]          ssd + hdd   \n",
       "7852        [windows 10 professional]                ssd   \n",
       "\n",
       "                                           sterowanie  \\\n",
       "0                              [klawiatura, touchpad]   \n",
       "1                                          [touchpad]   \n",
       "2       [klawiatura, touchpad, klawiatura numeryczna]   \n",
       "3       [klawiatura, touchpad, klawiatura numeryczna]   \n",
       "4                                                None   \n",
       "...                                               ...   \n",
       "7848    [klawiatura, touchpad, klawiatura numeryczna]   \n",
       "7849                                             None   \n",
       "7850    [klawiatura, touchpad, klawiatura numeryczna]   \n",
       "7851  [klawiatura, touchpad, klawiatura podświetlana]   \n",
       "7852                           [klawiatura, touchpad]   \n",
       "\n",
       "                                             multimedia typ pamięci ram  \\\n",
       "0     [czytnik kart pamięci, kamera, głośniki, mikro...            ddr3   \n",
       "1     [czytnik kart pamięci, kamera, głośniki, mikro...            ddr4   \n",
       "2     [czytnik kart pamięci, kamera, głośniki, mikro...           ddr3l   \n",
       "3     [czytnik kart pamięci, kamera, głośniki, mikro...            ddr4   \n",
       "4                                                  None            None   \n",
       "...                                                 ...             ...   \n",
       "7848  [czytnik kart pamięci, kamera, głośniki, mikro...            ddr3   \n",
       "7849                                               None            None   \n",
       "7850  [czytnik kart pamięci, kamera, głośniki, mikro...            ddr4   \n",
       "7851  [czytnik kart pamięci, kamera, głośniki, mikro...            ddr4   \n",
       "7852           [czytnik kart pamięci, kamera, mikrofon]            ddr4   \n",
       "\n",
       "     taktowanie bazowe procesora (ghz)          seria procesora  stan  \\\n",
       "0                                  1.9            intel core i3  nowy   \n",
       "1                                    2            intel core i3  nowy   \n",
       "2                                  2.1  intel pentium dual-core  nowy   \n",
       "3                                    2            intel core i3  nowy   \n",
       "4                                  NaN                     None  nowy   \n",
       "...                                ...                      ...   ...   \n",
       "7848                               1.6  intel celeron dual-core  nowy   \n",
       "7849                               NaN                     None  nowy   \n",
       "7850                               2.3            intel core i5  nowy   \n",
       "7851                               2.5            intel core i5  nowy   \n",
       "7852                               2.4            intel core i3  nowy   \n",
       "\n",
       "     pojemność dysku (gb)   gwarancja wielkość matrycy  price_per_ghz  \\\n",
       "0                     500  sprzedawcy       13\" - 13.9\"    0.00118824   \n",
       "1                     480  producenta       15\" - 15.9\"   0.000666889   \n",
       "2                     480  producenta       15\" - 15.9\"   0.000700233   \n",
       "3                     480  producenta       15\" - 15.9\"   0.000702001   \n",
       "4                     NaN  producenta              None           NaN   \n",
       "...                   ...         ...               ...           ...   \n",
       "7848                  128  sprzedawcy       15\" - 15.9\"    0.00120391   \n",
       "7849                   32  producenta              None           NaN   \n",
       "7850                  128  sprzedawcy       15\" - 15.9\"   0.000896686   \n",
       "7851                 1128  producenta       15\" - 15.9\"   0.000612895   \n",
       "7852                  128  producenta       15\" - 15.9\"   0.000813835   \n",
       "\n",
       "           4242  \n",
       "0      0.312695  \n",
       "1      0.160053  \n",
       "2      0.160053  \n",
       "3       0.16848  \n",
       "4           NaN  \n",
       "...         ...  \n",
       "7848   0.096313  \n",
       "7849  0.0326864  \n",
       "7850  0.0499025  \n",
       "7851   0.276538  \n",
       "7852  0.0434045  \n",
       "\n",
       "[7853 rows x 19 columns]"
      ]
     },
     "execution_count": 73,
     "metadata": {},
     "output_type": "execute_result"
    }
   ],
   "source": [
    "#pd.DataFrame(df_extra_attribs, columns=df_num.columns)\n",
    "pd.DataFrame(df_extra_attribs, columns = df.columns.append(pd.Index(['price_per_ghz','4242'])))\n"
   ]
  },
  {
   "cell_type": "code",
   "execution_count": 97,
   "metadata": {},
   "outputs": [],
   "source": [
    "num_pipeline = Pipeline([\n",
    "    ('imputer', SimpleImputer(strategy=\"median\")),\n",
    "    ('attribs_adder', CombinedAttributesAdder()),\n",
    "    ('std_scaler', StandardScaler()),\n",
    "    ])\n",
    "\n",
    "df_num_tr = num_pipeline.fit_transform(df_num)"
   ]
  },
  {
   "cell_type": "code",
   "execution_count": 98,
   "metadata": {},
   "outputs": [
    {
     "data": {
      "text/plain": [
       "array([[-1.08420014, -1.23202159, -0.30990748,  0.91407591,  0.59095055],\n",
       "       [-0.27532281, -0.96231832, -0.35299393, -0.40850094, -0.31755378],\n",
       "       [-0.27532281, -0.69261504, -0.35299393, -0.32391231, -0.31755378],\n",
       "       ...,\n",
       "       [-0.52607478, -0.15320849, -1.11131539,  0.17445159, -0.97315604],\n",
       "       [ 0.34866828,  0.38619805,  1.04300694, -0.54547273,  0.37574874],\n",
       "       [-0.30421128,  0.11649478, -1.11131539, -0.03572581, -1.01183117]])"
      ]
     },
     "execution_count": 98,
     "metadata": {},
     "output_type": "execute_result"
    }
   ],
   "source": [
    "df_num_tr"
   ]
  },
  {
   "cell_type": "code",
   "execution_count": null,
   "metadata": {},
   "outputs": [],
   "source": []
  },
  {
   "cell_type": "code",
   "execution_count": null,
   "metadata": {},
   "outputs": [],
   "source": []
  },
  {
   "cell_type": "code",
   "execution_count": 43,
   "metadata": {},
   "outputs": [
    {
     "data": {
      "text/plain": [
       "70       1599.0\n",
       "1489     2999.0\n",
       "407      2999.0\n",
       "1359     2849.0\n",
       "10567    2319.0\n",
       "          ...  \n",
       "10541    1329.0\n",
       "8281      979.0\n",
       "8053     2565.0\n",
       "8727     4079.0\n",
       "5978     2949.0\n",
       "Name: buynow_price, Length: 7853, dtype: float64"
      ]
     },
     "execution_count": 43,
     "metadata": {},
     "output_type": "execute_result"
    }
   ],
   "source": [
    "df.iloc[:,0]"
   ]
  },
  {
   "cell_type": "code",
   "execution_count": 37,
   "metadata": {},
   "outputs": [
    {
     "data": {
      "text/plain": [
       "array([[1599.0, 'grafika zintegrowana',\n",
       "        list(['wi-fi', 'bluetooth', 'lan 10/100/1000 mbps']), ..., 500.0,\n",
       "        'sprzedawcy', '13\" - 13.9\"'],\n",
       "       [2999.0, 'grafika dedykowana',\n",
       "        list(['nfc (near field communication)', 'gps']), ..., 480.0,\n",
       "        'producenta', '15\" - 15.9\"'],\n",
       "       [2999.0, 'grafika zintegrowana',\n",
       "        list(['wi-fi', 'bluetooth', 'lan 10/100/1000 mbps']), ..., 480.0,\n",
       "        'producenta', '15\" - 15.9\"'],\n",
       "       ...,\n",
       "       [2565.0, 'grafika dedykowana',\n",
       "        list(['wi-fi', 'bluetooth', 'lan 10/100/1000 mbps']), ..., 128.0,\n",
       "        'sprzedawcy', '15\" - 15.9\"'],\n",
       "       [4079.0, 'grafika dedykowana',\n",
       "        list(['bluetooth', 'lan 10/100/1000 mbps', 'lan 10/100 mbps', 'intel wireless display (widi)', 'nfc (near field communication)', 'modem 3g (wwan)']),\n",
       "        ..., 1128.0, 'producenta', '15\" - 15.9\"'],\n",
       "       [2949.0, 'grafika dedykowana',\n",
       "        list(['bluetooth', 'lan 10/100/1000 mbps', 'lan 10/100 mbps', 'intel wireless display (widi)', 'nfc (near field communication)', 'modem 3g (wwan)']),\n",
       "        ..., 128.0, 'producenta', '15\" - 15.9\"']], dtype=object)"
      ]
     },
     "execution_count": 37,
     "metadata": {},
     "output_type": "execute_result"
    }
   ],
   "source": [
    "df.values\n"
   ]
  },
  {
   "cell_type": "code",
   "execution_count": null,
   "metadata": {},
   "outputs": [],
   "source": []
  },
  {
   "cell_type": "code",
   "execution_count": 5,
   "metadata": {},
   "outputs": [],
   "source": [
    "train = clean_col_meta(train)"
   ]
  },
  {
   "cell_type": "code",
   "execution_count": 6,
   "metadata": {},
   "outputs": [
    {
     "data": {
      "text/html": [
       "<div>\n",
       "<style scoped>\n",
       "    .dataframe tbody tr th:only-of-type {\n",
       "        vertical-align: middle;\n",
       "    }\n",
       "\n",
       "    .dataframe tbody tr th {\n",
       "        vertical-align: top;\n",
       "    }\n",
       "\n",
       "    .dataframe thead th {\n",
       "        text-align: right;\n",
       "    }\n",
       "</style>\n",
       "<table border=\"1\" class=\"dataframe\">\n",
       "  <thead>\n",
       "    <tr style=\"text-align: right;\">\n",
       "      <th></th>\n",
       "      <th>buynow_price</th>\n",
       "      <th>rodzaj_karty_graficznej</th>\n",
       "      <th>komunikacja</th>\n",
       "      <th>rozdzielczość_piksele</th>\n",
       "      <th>liczba_rdzeni_procesora</th>\n",
       "      <th>wielkość_pamięci_ram</th>\n",
       "      <th>system_operacyjny</th>\n",
       "      <th>typ_dysku_twardego</th>\n",
       "      <th>sterowanie</th>\n",
       "      <th>multimedia</th>\n",
       "      <th>typ_pamięci_ram</th>\n",
       "      <th>taktowanie_bazowe_procesora_ghz</th>\n",
       "      <th>seria_procesora</th>\n",
       "      <th>stan</th>\n",
       "      <th>pojemność_dysku_gb</th>\n",
       "      <th>gwarancja</th>\n",
       "      <th>wielkość_matrycy</th>\n",
       "    </tr>\n",
       "  </thead>\n",
       "  <tbody>\n",
       "    <tr>\n",
       "      <th>1489</th>\n",
       "      <td>2999.00</td>\n",
       "      <td>grafika dedykowana</td>\n",
       "      <td>[nfc (near field communication), gps]</td>\n",
       "      <td>1920 x 1080</td>\n",
       "      <td>2</td>\n",
       "      <td>12 gb</td>\n",
       "      <td>[windows 10 home]</td>\n",
       "      <td>None</td>\n",
       "      <td>[touchpad]</td>\n",
       "      <td>[czytnik kart pamięci, kamera, głośniki, mikro...</td>\n",
       "      <td>ddr4</td>\n",
       "      <td>2.0</td>\n",
       "      <td>intel core i3</td>\n",
       "      <td>nowy</td>\n",
       "      <td>480.0</td>\n",
       "      <td>producenta</td>\n",
       "      <td>15\" - 15.9\"</td>\n",
       "    </tr>\n",
       "    <tr>\n",
       "      <th>407</th>\n",
       "      <td>2999.00</td>\n",
       "      <td>grafika zintegrowana</td>\n",
       "      <td>[wi-fi, bluetooth, lan 10/100/1000 mbps]</td>\n",
       "      <td>1366 x 768</td>\n",
       "      <td>2</td>\n",
       "      <td>16 gb</td>\n",
       "      <td>[windows 7 professional 64-bit]</td>\n",
       "      <td>ssd</td>\n",
       "      <td>[klawiatura, touchpad, klawiatura numeryczna]</td>\n",
       "      <td>[czytnik kart pamięci, kamera, głośniki, mikro...</td>\n",
       "      <td>ddr3l</td>\n",
       "      <td>2.1</td>\n",
       "      <td>intel pentium dual-core</td>\n",
       "      <td>nowy</td>\n",
       "      <td>480.0</td>\n",
       "      <td>producenta</td>\n",
       "      <td>15\" - 15.9\"</td>\n",
       "    </tr>\n",
       "    <tr>\n",
       "      <th>1359</th>\n",
       "      <td>2849.00</td>\n",
       "      <td>grafika zintegrowana</td>\n",
       "      <td>[wi-fi, bluetooth, lan 10/100/1000 mbps]</td>\n",
       "      <td>1920 x 1080</td>\n",
       "      <td>2</td>\n",
       "      <td>8 gb</td>\n",
       "      <td>[windows 10 professional]</td>\n",
       "      <td>ssd</td>\n",
       "      <td>[klawiatura, touchpad, klawiatura numeryczna]</td>\n",
       "      <td>[czytnik kart pamięci, kamera, głośniki, mikro...</td>\n",
       "      <td>ddr4</td>\n",
       "      <td>2.0</td>\n",
       "      <td>intel core i3</td>\n",
       "      <td>nowy</td>\n",
       "      <td>480.0</td>\n",
       "      <td>producenta</td>\n",
       "      <td>15\" - 15.9\"</td>\n",
       "    </tr>\n",
       "    <tr>\n",
       "      <th>3203</th>\n",
       "      <td>1302.91</td>\n",
       "      <td>grafika zintegrowana</td>\n",
       "      <td>[bluetooth, lan 10/100 mbps]</td>\n",
       "      <td>1366 x 768</td>\n",
       "      <td>2</td>\n",
       "      <td>8 gb</td>\n",
       "      <td>[windows 10 home]</td>\n",
       "      <td>ssd</td>\n",
       "      <td>[klawiatura, touchpad, klawiatura numeryczna]</td>\n",
       "      <td>[czytnik kart pamięci, kamera, głośniki, mikro...</td>\n",
       "      <td>ddr3</td>\n",
       "      <td>1.5</td>\n",
       "      <td>intel celeron dual-core</td>\n",
       "      <td>nowy</td>\n",
       "      <td>128.0</td>\n",
       "      <td>sprzedawcy</td>\n",
       "      <td>15\" - 15.9\"</td>\n",
       "    </tr>\n",
       "    <tr>\n",
       "      <th>7831</th>\n",
       "      <td>1699.00</td>\n",
       "      <td>grafika zintegrowana</td>\n",
       "      <td>[wi-fi, bluetooth, lan 10/100 mbps]</td>\n",
       "      <td>1366 x 768</td>\n",
       "      <td>4</td>\n",
       "      <td>4 gb</td>\n",
       "      <td>[windows 10 home]</td>\n",
       "      <td>ssd</td>\n",
       "      <td>[klawiatura, touchpad, klawiatura numeryczna]</td>\n",
       "      <td>[czytnik kart pamięci, kamera, głośniki, mikro...</td>\n",
       "      <td>ddr3l</td>\n",
       "      <td>1.6</td>\n",
       "      <td>intel pentium quad-core</td>\n",
       "      <td>nowy</td>\n",
       "      <td>120.0</td>\n",
       "      <td>producenta</td>\n",
       "      <td>15\" - 15.9\"</td>\n",
       "    </tr>\n",
       "  </tbody>\n",
       "</table>\n",
       "</div>"
      ],
      "text/plain": [
       "      buynow_price rodzaj_karty_graficznej  \\\n",
       "1489       2999.00      grafika dedykowana   \n",
       "407        2999.00    grafika zintegrowana   \n",
       "1359       2849.00    grafika zintegrowana   \n",
       "3203       1302.91    grafika zintegrowana   \n",
       "7831       1699.00    grafika zintegrowana   \n",
       "\n",
       "                                   komunikacja rozdzielczość_piksele  \\\n",
       "1489     [nfc (near field communication), gps]           1920 x 1080   \n",
       "407   [wi-fi, bluetooth, lan 10/100/1000 mbps]            1366 x 768   \n",
       "1359  [wi-fi, bluetooth, lan 10/100/1000 mbps]           1920 x 1080   \n",
       "3203              [bluetooth, lan 10/100 mbps]            1366 x 768   \n",
       "7831       [wi-fi, bluetooth, lan 10/100 mbps]            1366 x 768   \n",
       "\n",
       "     liczba_rdzeni_procesora wielkość_pamięci_ram  \\\n",
       "1489                       2                12 gb   \n",
       "407                        2                16 gb   \n",
       "1359                       2                 8 gb   \n",
       "3203                       2                 8 gb   \n",
       "7831                       4                 4 gb   \n",
       "\n",
       "                    system_operacyjny typ_dysku_twardego  \\\n",
       "1489                [windows 10 home]               None   \n",
       "407   [windows 7 professional 64-bit]                ssd   \n",
       "1359        [windows 10 professional]                ssd   \n",
       "3203                [windows 10 home]                ssd   \n",
       "7831                [windows 10 home]                ssd   \n",
       "\n",
       "                                         sterowanie  \\\n",
       "1489                                     [touchpad]   \n",
       "407   [klawiatura, touchpad, klawiatura numeryczna]   \n",
       "1359  [klawiatura, touchpad, klawiatura numeryczna]   \n",
       "3203  [klawiatura, touchpad, klawiatura numeryczna]   \n",
       "7831  [klawiatura, touchpad, klawiatura numeryczna]   \n",
       "\n",
       "                                             multimedia typ_pamięci_ram  \\\n",
       "1489  [czytnik kart pamięci, kamera, głośniki, mikro...            ddr4   \n",
       "407   [czytnik kart pamięci, kamera, głośniki, mikro...           ddr3l   \n",
       "1359  [czytnik kart pamięci, kamera, głośniki, mikro...            ddr4   \n",
       "3203  [czytnik kart pamięci, kamera, głośniki, mikro...            ddr3   \n",
       "7831  [czytnik kart pamięci, kamera, głośniki, mikro...           ddr3l   \n",
       "\n",
       "      taktowanie_bazowe_procesora_ghz           seria_procesora  stan  \\\n",
       "1489                              2.0             intel core i3  nowy   \n",
       "407                               2.1   intel pentium dual-core  nowy   \n",
       "1359                              2.0             intel core i3  nowy   \n",
       "3203                              1.5   intel celeron dual-core  nowy   \n",
       "7831                              1.6  intel pentium quad-core   nowy   \n",
       "\n",
       "      pojemność_dysku_gb   gwarancja wielkość_matrycy  \n",
       "1489               480.0  producenta      15\" - 15.9\"  \n",
       "407                480.0  producenta      15\" - 15.9\"  \n",
       "1359               480.0  producenta      15\" - 15.9\"  \n",
       "3203               128.0  sprzedawcy      15\" - 15.9\"  \n",
       "7831               120.0  producenta      15\" - 15.9\"  "
      ]
     },
     "execution_count": 6,
     "metadata": {},
     "output_type": "execute_result"
    }
   ],
   "source": [
    "train.head()"
   ]
  },
  {
   "cell_type": "code",
   "execution_count": 7,
   "metadata": {
    "scrolled": false
   },
   "outputs": [
    {
     "data": {
      "text/plain": [
       "gwarancja\n",
       "brak          2281.876667\n",
       "producenta    3683.052892\n",
       "sprzedawcy    2176.102213\n",
       "Name: buynow_price, dtype: float64"
      ]
     },
     "execution_count": 7,
     "metadata": {},
     "output_type": "execute_result"
    }
   ],
   "source": [
    "train[\"gwarancja\"].value_counts()\n",
    "grouped_gwarancja = train['buynow_price'].groupby(train[\"gwarancja\"])\n",
    "grouped_gwarancja.mean()"
   ]
  },
  {
   "cell_type": "code",
   "execution_count": 26,
   "metadata": {},
   "outputs": [],
   "source": [
    "df.loc[df.gwarancja == 'brak', 'gwarancja'] = 'sprzedawcy'"
   ]
  },
  {
   "cell_type": "code",
   "execution_count": 19,
   "metadata": {
    "scrolled": true
   },
   "outputs": [
    {
     "data": {
      "text/plain": [
       "Series([], Name: gwarancja, dtype: object)"
      ]
     },
     "execution_count": 19,
     "metadata": {},
     "output_type": "execute_result"
    }
   ],
   "source": [
    "df[df.gwarancja == 'brak']['gwarancja']"
   ]
  },
  {
   "cell_type": "code",
   "execution_count": 14,
   "metadata": {
    "scrolled": true
   },
   "outputs": [],
   "source": [
    "train =  simplify_gwarancja(train)"
   ]
  },
  {
   "cell_type": "code",
   "execution_count": 18,
   "metadata": {
    "scrolled": true
   },
   "outputs": [
    {
     "data": {
      "text/html": [
       "<div>\n",
       "<style scoped>\n",
       "    .dataframe tbody tr th:only-of-type {\n",
       "        vertical-align: middle;\n",
       "    }\n",
       "\n",
       "    .dataframe tbody tr th {\n",
       "        vertical-align: top;\n",
       "    }\n",
       "\n",
       "    .dataframe thead th {\n",
       "        text-align: right;\n",
       "    }\n",
       "</style>\n",
       "<table border=\"1\" class=\"dataframe\">\n",
       "  <thead>\n",
       "    <tr style=\"text-align: right;\">\n",
       "      <th></th>\n",
       "      <th>buynow_price</th>\n",
       "      <th>rodzaj_karty_graficznej</th>\n",
       "      <th>komunikacja</th>\n",
       "      <th>rozdzielczość_piksele</th>\n",
       "      <th>liczba_rdzeni_procesora</th>\n",
       "      <th>wielkość_pamięci_ram</th>\n",
       "      <th>system_operacyjny</th>\n",
       "      <th>typ_dysku_twardego</th>\n",
       "      <th>sterowanie</th>\n",
       "      <th>multimedia</th>\n",
       "      <th>typ_pamięci_ram</th>\n",
       "      <th>taktowanie_bazowe_procesora_ghz</th>\n",
       "      <th>seria_procesora</th>\n",
       "      <th>stan</th>\n",
       "      <th>pojemność_dysku_gb</th>\n",
       "      <th>gwarancja</th>\n",
       "      <th>wielkość_matrycy</th>\n",
       "    </tr>\n",
       "  </thead>\n",
       "  <tbody>\n",
       "    <tr>\n",
       "      <th>70</th>\n",
       "      <td>1599.00</td>\n",
       "      <td>grafika zintegrowana</td>\n",
       "      <td>[wi-fi, bluetooth, lan 10/100/1000 mbps]</td>\n",
       "      <td>1366 x 768</td>\n",
       "      <td>2</td>\n",
       "      <td>8 gb</td>\n",
       "      <td>[windows 10 home]</td>\n",
       "      <td>hdd</td>\n",
       "      <td>[klawiatura, touchpad]</td>\n",
       "      <td>[czytnik kart pamięci, kamera, głośniki, mikro...</td>\n",
       "      <td>ddr3</td>\n",
       "      <td>1.9</td>\n",
       "      <td>intel core i3</td>\n",
       "      <td>nowy</td>\n",
       "      <td>500.0</td>\n",
       "      <td>sprzedawcy</td>\n",
       "      <td>13\" - 13.9\"</td>\n",
       "    </tr>\n",
       "    <tr>\n",
       "      <th>1359</th>\n",
       "      <td>2849.00</td>\n",
       "      <td>grafika zintegrowana</td>\n",
       "      <td>[wi-fi, bluetooth, lan 10/100/1000 mbps]</td>\n",
       "      <td>1920 x 1080</td>\n",
       "      <td>2</td>\n",
       "      <td>8 gb</td>\n",
       "      <td>[windows 10 professional]</td>\n",
       "      <td>ssd</td>\n",
       "      <td>[klawiatura, touchpad, klawiatura numeryczna]</td>\n",
       "      <td>[czytnik kart pamięci, kamera, głośniki, mikro...</td>\n",
       "      <td>ddr4</td>\n",
       "      <td>2.0</td>\n",
       "      <td>intel core i3</td>\n",
       "      <td>nowy</td>\n",
       "      <td>480.0</td>\n",
       "      <td>producenta</td>\n",
       "      <td>15\" - 15.9\"</td>\n",
       "    </tr>\n",
       "    <tr>\n",
       "      <th>10567</th>\n",
       "      <td>2319.00</td>\n",
       "      <td>None</td>\n",
       "      <td>None</td>\n",
       "      <td>None</td>\n",
       "      <td>2</td>\n",
       "      <td>None</td>\n",
       "      <td>None</td>\n",
       "      <td>None</td>\n",
       "      <td>None</td>\n",
       "      <td>None</td>\n",
       "      <td>None</td>\n",
       "      <td>NaN</td>\n",
       "      <td>None</td>\n",
       "      <td>nowy</td>\n",
       "      <td>NaN</td>\n",
       "      <td>producenta</td>\n",
       "      <td>None</td>\n",
       "    </tr>\n",
       "    <tr>\n",
       "      <th>3203</th>\n",
       "      <td>1302.91</td>\n",
       "      <td>grafika zintegrowana</td>\n",
       "      <td>[bluetooth, lan 10/100 mbps]</td>\n",
       "      <td>1366 x 768</td>\n",
       "      <td>2</td>\n",
       "      <td>8 gb</td>\n",
       "      <td>[windows 10 home]</td>\n",
       "      <td>ssd</td>\n",
       "      <td>[klawiatura, touchpad, klawiatura numeryczna]</td>\n",
       "      <td>[czytnik kart pamięci, kamera, głośniki, mikro...</td>\n",
       "      <td>ddr3</td>\n",
       "      <td>1.5</td>\n",
       "      <td>intel celeron dual-core</td>\n",
       "      <td>nowy</td>\n",
       "      <td>128.0</td>\n",
       "      <td>sprzedawcy</td>\n",
       "      <td>15\" - 15.9\"</td>\n",
       "    </tr>\n",
       "    <tr>\n",
       "      <th>7831</th>\n",
       "      <td>1699.00</td>\n",
       "      <td>grafika zintegrowana</td>\n",
       "      <td>[wi-fi, bluetooth, lan 10/100 mbps]</td>\n",
       "      <td>1366 x 768</td>\n",
       "      <td>4</td>\n",
       "      <td>4 gb</td>\n",
       "      <td>[windows 10 home]</td>\n",
       "      <td>ssd</td>\n",
       "      <td>[klawiatura, touchpad, klawiatura numeryczna]</td>\n",
       "      <td>[czytnik kart pamięci, kamera, głośniki, mikro...</td>\n",
       "      <td>ddr3l</td>\n",
       "      <td>1.6</td>\n",
       "      <td>intel pentium quad-core</td>\n",
       "      <td>nowy</td>\n",
       "      <td>120.0</td>\n",
       "      <td>producenta</td>\n",
       "      <td>15\" - 15.9\"</td>\n",
       "    </tr>\n",
       "    <tr>\n",
       "      <th>7524</th>\n",
       "      <td>5043.00</td>\n",
       "      <td>grafika dedykowana</td>\n",
       "      <td>[bluetooth, lan 10/100 mbps]</td>\n",
       "      <td>1366 x 768</td>\n",
       "      <td>2</td>\n",
       "      <td>8 gb</td>\n",
       "      <td>[windows 10 home]</td>\n",
       "      <td>ssd</td>\n",
       "      <td>[klawiatura, touchpad]</td>\n",
       "      <td>[czytnik kart pamięci, kamera, głośniki]</td>\n",
       "      <td>ddr3</td>\n",
       "      <td>2.6</td>\n",
       "      <td>intel core i5</td>\n",
       "      <td>nowy</td>\n",
       "      <td>1000.0</td>\n",
       "      <td>producenta</td>\n",
       "      <td>15\" - 15.9\"</td>\n",
       "    </tr>\n",
       "    <tr>\n",
       "      <th>10973</th>\n",
       "      <td>6519.00</td>\n",
       "      <td>grafika dedykowana</td>\n",
       "      <td>[bluetooth, lan 10/100/1000 mbps, lan 10/100 m...</td>\n",
       "      <td>3840 x 2160</td>\n",
       "      <td>4</td>\n",
       "      <td>16 gb</td>\n",
       "      <td>[windows 10 home]</td>\n",
       "      <td>hdd</td>\n",
       "      <td>[klawiatura, touchpad, klawiatura podświetlana]</td>\n",
       "      <td>[kamera, głośniki, mikrofon]</td>\n",
       "      <td>ddr4</td>\n",
       "      <td>2.8</td>\n",
       "      <td>intel core i7</td>\n",
       "      <td>nowy</td>\n",
       "      <td>240.0</td>\n",
       "      <td>producenta</td>\n",
       "      <td>15\" - 15.9\"</td>\n",
       "    </tr>\n",
       "    <tr>\n",
       "      <th>1510</th>\n",
       "      <td>2677.00</td>\n",
       "      <td>grafika dedykowana</td>\n",
       "      <td>[wi-fi 802.11 a/b/g/n/ac, bluetooth, lan 10/10...</td>\n",
       "      <td>1920 x 1080</td>\n",
       "      <td>2</td>\n",
       "      <td>12 gb</td>\n",
       "      <td>[brak systemu]</td>\n",
       "      <td>ssd</td>\n",
       "      <td>[klawiatura, touchpad, klawiatura podświetlana...</td>\n",
       "      <td>[czytnik kart pamięci, kamera, głośniki, mikro...</td>\n",
       "      <td>ddr4</td>\n",
       "      <td>2.4</td>\n",
       "      <td>intel core i3</td>\n",
       "      <td>nowy</td>\n",
       "      <td>240.0</td>\n",
       "      <td>producenta</td>\n",
       "      <td>15\" - 15.9\"</td>\n",
       "    </tr>\n",
       "    <tr>\n",
       "      <th>8158</th>\n",
       "      <td>2669.00</td>\n",
       "      <td>grafika dedykowana</td>\n",
       "      <td>[bluetooth, lan 10/100 mbps]</td>\n",
       "      <td>1366 x 768</td>\n",
       "      <td>2</td>\n",
       "      <td>8 gb</td>\n",
       "      <td>[brak systemu]</td>\n",
       "      <td>ssd</td>\n",
       "      <td>[klawiatura, touchpad]</td>\n",
       "      <td>[czytnik kart pamięci, kamera, głośniki]</td>\n",
       "      <td>ddr3</td>\n",
       "      <td>2.6</td>\n",
       "      <td>intel core i5</td>\n",
       "      <td>nowy</td>\n",
       "      <td>480.0</td>\n",
       "      <td>producenta</td>\n",
       "      <td>15\" - 15.9\"</td>\n",
       "    </tr>\n",
       "    <tr>\n",
       "      <th>11252</th>\n",
       "      <td>2799.00</td>\n",
       "      <td>grafika dedykowana</td>\n",
       "      <td>[wi-fi, bluetooth, lan 10/100/1000 mbps]</td>\n",
       "      <td>1920 x 1080</td>\n",
       "      <td>2</td>\n",
       "      <td>8 gb</td>\n",
       "      <td>[brak systemu]</td>\n",
       "      <td>ssd</td>\n",
       "      <td>[klawiatura, touchpad]</td>\n",
       "      <td>[czytnik kart pamięci, kamera, głośniki, mikro...</td>\n",
       "      <td>ddr4</td>\n",
       "      <td>2.5</td>\n",
       "      <td>intel core i5</td>\n",
       "      <td>nowy</td>\n",
       "      <td>256.0</td>\n",
       "      <td>producenta</td>\n",
       "      <td>14\" - 14.9\"</td>\n",
       "    </tr>\n",
       "  </tbody>\n",
       "</table>\n",
       "</div>"
      ],
      "text/plain": [
       "       buynow_price rodzaj_karty_graficznej  \\\n",
       "70          1599.00    grafika zintegrowana   \n",
       "1359        2849.00    grafika zintegrowana   \n",
       "10567       2319.00                    None   \n",
       "3203        1302.91    grafika zintegrowana   \n",
       "7831        1699.00    grafika zintegrowana   \n",
       "7524        5043.00      grafika dedykowana   \n",
       "10973       6519.00      grafika dedykowana   \n",
       "1510        2677.00      grafika dedykowana   \n",
       "8158        2669.00      grafika dedykowana   \n",
       "11252       2799.00      grafika dedykowana   \n",
       "\n",
       "                                             komunikacja  \\\n",
       "70              [wi-fi, bluetooth, lan 10/100/1000 mbps]   \n",
       "1359            [wi-fi, bluetooth, lan 10/100/1000 mbps]   \n",
       "10567                                               None   \n",
       "3203                        [bluetooth, lan 10/100 mbps]   \n",
       "7831                 [wi-fi, bluetooth, lan 10/100 mbps]   \n",
       "7524                        [bluetooth, lan 10/100 mbps]   \n",
       "10973  [bluetooth, lan 10/100/1000 mbps, lan 10/100 m...   \n",
       "1510   [wi-fi 802.11 a/b/g/n/ac, bluetooth, lan 10/10...   \n",
       "8158                        [bluetooth, lan 10/100 mbps]   \n",
       "11252           [wi-fi, bluetooth, lan 10/100/1000 mbps]   \n",
       "\n",
       "      rozdzielczość_piksele liczba_rdzeni_procesora wielkość_pamięci_ram  \\\n",
       "70               1366 x 768                       2                 8 gb   \n",
       "1359            1920 x 1080                       2                 8 gb   \n",
       "10567                  None                       2                 None   \n",
       "3203             1366 x 768                       2                 8 gb   \n",
       "7831             1366 x 768                       4                 4 gb   \n",
       "7524             1366 x 768                       2                 8 gb   \n",
       "10973           3840 x 2160                       4                16 gb   \n",
       "1510            1920 x 1080                       2                12 gb   \n",
       "8158             1366 x 768                       2                 8 gb   \n",
       "11252           1920 x 1080                       2                 8 gb   \n",
       "\n",
       "               system_operacyjny typ_dysku_twardego  \\\n",
       "70             [windows 10 home]                hdd   \n",
       "1359   [windows 10 professional]                ssd   \n",
       "10567                       None               None   \n",
       "3203           [windows 10 home]                ssd   \n",
       "7831           [windows 10 home]                ssd   \n",
       "7524           [windows 10 home]                ssd   \n",
       "10973          [windows 10 home]                hdd   \n",
       "1510              [brak systemu]                ssd   \n",
       "8158              [brak systemu]                ssd   \n",
       "11252             [brak systemu]                ssd   \n",
       "\n",
       "                                              sterowanie  \\\n",
       "70                                [klawiatura, touchpad]   \n",
       "1359       [klawiatura, touchpad, klawiatura numeryczna]   \n",
       "10567                                               None   \n",
       "3203       [klawiatura, touchpad, klawiatura numeryczna]   \n",
       "7831       [klawiatura, touchpad, klawiatura numeryczna]   \n",
       "7524                              [klawiatura, touchpad]   \n",
       "10973    [klawiatura, touchpad, klawiatura podświetlana]   \n",
       "1510   [klawiatura, touchpad, klawiatura podświetlana...   \n",
       "8158                              [klawiatura, touchpad]   \n",
       "11252                             [klawiatura, touchpad]   \n",
       "\n",
       "                                              multimedia typ_pamięci_ram  \\\n",
       "70     [czytnik kart pamięci, kamera, głośniki, mikro...            ddr3   \n",
       "1359   [czytnik kart pamięci, kamera, głośniki, mikro...            ddr4   \n",
       "10567                                               None            None   \n",
       "3203   [czytnik kart pamięci, kamera, głośniki, mikro...            ddr3   \n",
       "7831   [czytnik kart pamięci, kamera, głośniki, mikro...           ddr3l   \n",
       "7524            [czytnik kart pamięci, kamera, głośniki]            ddr3   \n",
       "10973                       [kamera, głośniki, mikrofon]            ddr4   \n",
       "1510   [czytnik kart pamięci, kamera, głośniki, mikro...            ddr4   \n",
       "8158            [czytnik kart pamięci, kamera, głośniki]            ddr3   \n",
       "11252  [czytnik kart pamięci, kamera, głośniki, mikro...            ddr4   \n",
       "\n",
       "       taktowanie_bazowe_procesora_ghz           seria_procesora  stan  \\\n",
       "70                                 1.9             intel core i3  nowy   \n",
       "1359                               2.0             intel core i3  nowy   \n",
       "10567                              NaN                      None  nowy   \n",
       "3203                               1.5   intel celeron dual-core  nowy   \n",
       "7831                               1.6  intel pentium quad-core   nowy   \n",
       "7524                               2.6             intel core i5  nowy   \n",
       "10973                              2.8             intel core i7  nowy   \n",
       "1510                               2.4             intel core i3  nowy   \n",
       "8158                               2.6             intel core i5  nowy   \n",
       "11252                              2.5             intel core i5  nowy   \n",
       "\n",
       "       pojemność_dysku_gb   gwarancja wielkość_matrycy  \n",
       "70                  500.0  sprzedawcy      13\" - 13.9\"  \n",
       "1359                480.0  producenta      15\" - 15.9\"  \n",
       "10567                 NaN  producenta             None  \n",
       "3203                128.0  sprzedawcy      15\" - 15.9\"  \n",
       "7831                120.0  producenta      15\" - 15.9\"  \n",
       "7524               1000.0  producenta      15\" - 15.9\"  \n",
       "10973               240.0  producenta      15\" - 15.9\"  \n",
       "1510                240.0  producenta      15\" - 15.9\"  \n",
       "8158                480.0  producenta      15\" - 15.9\"  \n",
       "11252               256.0  producenta      14\" - 14.9\"  "
      ]
     },
     "execution_count": 18,
     "metadata": {},
     "output_type": "execute_result"
    }
   ],
   "source": [
    "df.head(10)"
   ]
  },
  {
   "cell_type": "code",
   "execution_count": null,
   "metadata": {},
   "outputs": [],
   "source": [
    "g = sns.FacetGrid(train, col=\"gwarancja_t\", height=6)\n",
    "g.map(sns.kdeplot, \"buynow_price\", shade=True)\n",
    "sns.despine(left = True, bottom =True )\n",
    "plt.show()"
   ]
  },
  {
   "cell_type": "code",
   "execution_count": null,
   "metadata": {},
   "outputs": [],
   "source": [
    "##############################################################################\n",
    "#### Komunikacja\n",
    "\n",
    "train[\"komunikacja\"].astype(str).value_counts()"
   ]
  },
  {
   "cell_type": "code",
   "execution_count": null,
   "metadata": {},
   "outputs": [],
   "source": [
    "train[\"komunikacja\"].isna().sum()"
   ]
  },
  {
   "cell_type": "code",
   "execution_count": null,
   "metadata": {},
   "outputs": [],
   "source": [
    "train = simplify_komunikacja(train)"
   ]
  },
  {
   "cell_type": "code",
   "execution_count": 11,
   "metadata": {},
   "outputs": [],
   "source": [
    "df[\"lan 10/100 mbps\"] = (df[\"komunikacja\"].str.contains('lan 10/100 mbps', regex=False)*1).sum()"
   ]
  },
  {
   "cell_type": "code",
   "execution_count": 12,
   "metadata": {},
   "outputs": [],
   "source": [
    "df[\"lan 10/100/1000 mbps\"] = (df[\"komunikacja\"].str.contains('lan 10/100/1000 mbps', regex=False)*1).sum()"
   ]
  },
  {
   "cell_type": "code",
   "execution_count": 13,
   "metadata": {},
   "outputs": [
    {
     "data": {
      "text/plain": [
       "1454"
      ]
     },
     "execution_count": 13,
     "metadata": {},
     "output_type": "execute_result"
    }
   ],
   "source": [
    "(df[\"komunikacja\"].str.contains('nfc (near field communication)', regex=False)*1).sum()"
   ]
  },
  {
   "cell_type": "code",
   "execution_count": 14,
   "metadata": {},
   "outputs": [
    {
     "data": {
      "text/plain": [
       "1009"
      ]
     },
     "execution_count": 14,
     "metadata": {},
     "output_type": "execute_result"
    }
   ],
   "source": [
    "(df[\"komunikacja\"].str.contains('modem 3g (wwan)', regex=False)*1).sum()"
   ]
  },
  {
   "cell_type": "code",
   "execution_count": 15,
   "metadata": {},
   "outputs": [
    {
     "data": {
      "text/plain": [
       "269"
      ]
     },
     "execution_count": 15,
     "metadata": {},
     "output_type": "execute_result"
    }
   ],
   "source": [
    "(df[\"komunikacja\"].str.contains('gps', regex=False)*1).sum()"
   ]
  },
  {
   "cell_type": "code",
   "execution_count": 16,
   "metadata": {},
   "outputs": [
    {
     "data": {
      "text/plain": [
       "1004"
      ]
     },
     "execution_count": 16,
     "metadata": {},
     "output_type": "execute_result"
    }
   ],
   "source": [
    "(df[\"komunikacja\"].str.contains('intel wireless display (widi)', regex=False)*1).sum()"
   ]
  },
  {
   "cell_type": "code",
   "execution_count": 17,
   "metadata": {},
   "outputs": [
    {
     "data": {
      "text/plain": [
       "267"
      ]
     },
     "execution_count": 17,
     "metadata": {},
     "output_type": "execute_result"
    }
   ],
   "source": [
    "(df[\"komunikacja\"].str.contains('modem 4g (lte)', regex=False)*1).sum()"
   ]
  },
  {
   "cell_type": "code",
   "execution_count": 18,
   "metadata": {},
   "outputs": [
    {
     "data": {
      "text/plain": [
       "73"
      ]
     },
     "execution_count": 18,
     "metadata": {},
     "output_type": "execute_result"
    }
   ],
   "source": [
    "(df[\"komunikacja\"].str.contains('wi-fi 802.11 b/g/n', regex=False)*1).sum()"
   ]
  },
  {
   "cell_type": "code",
   "execution_count": 19,
   "metadata": {},
   "outputs": [
    {
     "data": {
      "text/plain": [
       "166"
      ]
     },
     "execution_count": 19,
     "metadata": {},
     "output_type": "execute_result"
    }
   ],
   "source": [
    "(df[\"komunikacja\"].str.contains('wi-fi 802.11 b/g/n/ac', regex=False)*1).sum()"
   ]
  },
  {
   "cell_type": "code",
   "execution_count": 20,
   "metadata": {},
   "outputs": [
    {
     "data": {
      "text/plain": [
       "143"
      ]
     },
     "execution_count": 20,
     "metadata": {},
     "output_type": "execute_result"
    }
   ],
   "source": [
    "(df[\"komunikacja\"].str.contains('wi-fi 802.11 a/b/g/n/ac', regex=False)*1).sum()"
   ]
  },
  {
   "cell_type": "code",
   "execution_count": 21,
   "metadata": {},
   "outputs": [
    {
     "data": {
      "text/plain": [
       "17"
      ]
     },
     "execution_count": 21,
     "metadata": {},
     "output_type": "execute_result"
    }
   ],
   "source": [
    "(df[\"komunikacja\"].str.contains('wi-fi 802.11 a/b/g/n', regex=False)*1).sum()"
   ]
  },
  {
   "cell_type": "code",
   "execution_count": 22,
   "metadata": {},
   "outputs": [
    {
     "data": {
      "text/plain": [
       "(7853, 20)"
      ]
     },
     "execution_count": 22,
     "metadata": {},
     "output_type": "execute_result"
    }
   ],
   "source": [
    "df.shape"
   ]
  },
  {
   "cell_type": "code",
   "execution_count": 23,
   "metadata": {},
   "outputs": [
    {
     "data": {
      "text/plain": [
       "0.020374379218133197"
      ]
     },
     "execution_count": 23,
     "metadata": {},
     "output_type": "execute_result"
    }
   ],
   "source": [
    "160/7853"
   ]
  },
  {
   "cell_type": "code",
   "execution_count": 24,
   "metadata": {},
   "outputs": [
    {
     "data": {
      "text/plain": [
       "Index(['buynow_price', 'rodzaj karty graficznej', 'komunikacja',\n",
       "       'rozdzielczość (piksele)', 'liczba rdzeni procesora',\n",
       "       'wielkość pamięci ram', 'system operacyjny', 'typ dysku twardego',\n",
       "       'sterowanie', 'multimedia', 'typ pamięci ram',\n",
       "       'taktowanie bazowe procesora (ghz)', 'seria procesora',\n",
       "       'pojemność dysku (gb)', 'gwarancja', 'wielkość matrycy ', 'bluetooth',\n",
       "       'wi-fi', 'lan 10/100 mbps', 'lan 10/100/1000 mbps'],\n",
       "      dtype='object')"
      ]
     },
     "execution_count": 24,
     "metadata": {},
     "output_type": "execute_result"
    }
   ],
   "source": [
    "df.columns"
   ]
  },
  {
   "cell_type": "code",
   "execution_count": 25,
   "metadata": {},
   "outputs": [
    {
     "data": {
      "text/plain": [
       "Int64Index([   70,  1489,   407,  1359, 10567,  3203,  7831,  4586,  7524,\n",
       "            10973,\n",
       "            ...\n",
       "             6423,  7596, 11321, 11695,  6406, 10541,  8281,  8053,  8727,\n",
       "             5978],\n",
       "           dtype='int64', length=7853)"
      ]
     },
     "execution_count": 25,
     "metadata": {},
     "output_type": "execute_result"
    }
   ],
   "source": [
    "df.index"
   ]
  },
  {
   "cell_type": "code",
   "execution_count": 26,
   "metadata": {},
   "outputs": [],
   "source": [
    "assert all(df.columns == ['buynow_price', 'rodzaj karty graficznej', 'komunikacja','rozdzielczość (piksele)', 'liczba rdzeni procesora',\n",
    "        'wielkość pamięci ram', 'system operacyjny', 'typ dysku twardego',\n",
    "        'sterowanie', 'multimedia', 'typ pamięci ram',\n",
    "        'taktowanie bazowe procesora (ghz)', 'seria procesora',\n",
    "        'pojemność dysku (gb)', 'gwarancja', 'wielkość matrycy ', 'bluetooth',\n",
    "        'wi-fi', 'lan 10/100 mbps', 'lan 10/100/1000 mbps'])"
   ]
  }
 ],
 "metadata": {
  "kernelspec": {
   "display_name": "Python 3",
   "language": "python",
   "name": "python3"
  },
  "language_info": {
   "codemirror_mode": {
    "name": "ipython",
    "version": 3
   },
   "file_extension": ".py",
   "mimetype": "text/x-python",
   "name": "python",
   "nbconvert_exporter": "python",
   "pygments_lexer": "ipython3",
   "version": "3.7.4"
  }
 },
 "nbformat": 4,
 "nbformat_minor": 2
}
